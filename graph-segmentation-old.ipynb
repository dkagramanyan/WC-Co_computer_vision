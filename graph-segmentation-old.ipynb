{
 "cells": [
  {
   "cell_type": "code",
   "execution_count": 24,
   "metadata": {},
   "outputs": [],
   "source": [
    "import numpy as np\n",
    "import cv2\n",
    "from matplotlib import pyplot as plt\n",
    "from IPython.display import display\n",
    "import skimage.segmentation as seg\n",
    "import skimage.color as color\n",
    "from scipy import ndimage as ndi\n",
    "from skimage.feature import peak_local_max\n",
    "from skimage.util import img_as_float\n",
    "\n",
    "import skimage\n",
    "from skimage import io\n",
    "from skimage.color import rgb2gray\n",
    "import skimage.segmentation as seg\n",
    "from scipy import ndimage\n",
    "import skimage.morphology as morph\n",
    "from skimage.feature import peak_local_max\n",
    "from skimage import filters\n",
    "from skimage.morphology import disk, ball\n",
    "from skimage.util import img_as_ubyte\n",
    "from skimage import exposure\n",
    "from skimage.segmentation import flood, flood_fill\n",
    "from PIL import Image, ImageDraw, ImageFilter\n",
    "import copy\n",
    "import cv2\n"
   ]
  },
  {
   "cell_type": "code",
   "execution_count": 25,
   "metadata": {},
   "outputs": [],
   "source": [
    "def img_show(image,N=20,cmap=plt.cm.nipy_spectral):\n",
    "    \n",
    "    plt.figure(figsize=(N,N))\n",
    "    plt.axis('off')\n",
    "    plt.imshow(image,cmap=cmap)\n",
    "    plt.show()\n",
    "\n",
    "def imdivide(image,side):\n",
    "    \n",
    "    width,height = image.size\n",
    "    sides={'left':0,'right':1}\n",
    "    shape=[(0,0,width//2,height),(width//2,0,width,height)]\n",
    "    return image.crop(shape[sides[side]])\n",
    " \n",
    "def combine(image,k=0.5,N=20): \n",
    "    left_img=imdivide(image,'left')\n",
    "    right_img=imdivide(image,'right')\n",
    "\n",
    "    l=k\n",
    "    r=1-l\n",
    "    gray=np.array(left_img)*l\n",
    "    gray+=np.array(right_img)*r\n",
    "    gray=gray.astype('uint8')\n",
    "    return gray\n",
    "\n",
    "def do_otsu(img,N=20):\n",
    "    image=rgb2gray(img)\n",
    "    \n",
    "    global_thresh=skimage.filters.threshold_otsu(image)\n",
    "    binary_global = image > global_thresh\n",
    "    \n",
    "    return binary_global\n",
    "    "
   ]
  },
  {
   "cell_type": "code",
   "execution_count": 26,
   "metadata": {},
   "outputs": [],
   "source": [
    "grain1_name='Ultra_Co6_2-040.jpg'\n",
    "grain2_name='Ultra_Co11-2.jpg'\n",
    "grain3_name='Ultra_Co25-1.jpg'\n",
    "\n",
    "path='images'\n",
    "\n",
    "grain1=io.imread(path+'/'+grain1_name).astype('uint8')\n",
    "grain2=io.imread(path+'/'+grain2_name).astype('uint8')\n",
    "grain3=io.imread(path+'/'+grain3_name).astype('uint8')\n",
    "\n",
    "grain1_pil=Image.open(path+'/'+grain1_name)\n",
    "grain2_pil=Image.open(path+'/'+grain2_name)\n",
    "grain3_pil=Image.open(path+'/'+grain3_name)"
   ]
  },
  {
   "cell_type": "markdown",
   "metadata": {},
   "source": [
    "## Выделение пустот"
   ]
  },
  {
   "cell_type": "markdown",
   "metadata": {},
   "source": [
    "denoised=mean_filter(image)\n",
    "\n",
    "binary=otsu(denoised)\n",
    "\n",
    "grad=gradient(binary)\n",
    "\n",
    "bin_grad=-binary+grad"
   ]
  },
  {
   "cell_type": "code",
   "execution_count": 35,
   "metadata": {},
   "outputs": [
    {
     "name": "stderr",
     "output_type": "stream",
     "text": [
      "C:\\Users\\Администратор\\AppData\\Roaming\\Python\\Python36\\site-packages\\ipykernel_launcher.py:27: FutureWarning: The behavior of rgb2gray will change in scikit-image 0.19. Currently, rgb2gray allows 2D grayscale image to be passed as inputs and leaves them unmodified as outputs. Starting from version 0.19, 2D arrays will be treated as 1D images with 3 channels.\n"
     ]
    }
   ],
   "source": [
    "combined1=combine(grain1_pil,0.5,10)\n",
    "combined2=combine(grain2_pil,0.5,10)\n",
    "combined3=combine(grain3_pil,0.5,10)\n",
    "\n",
    "denoised1 = filters.rank.median(combined1, disk(3))\n",
    "denoised2 = filters.rank.median(combined2, disk(3))\n",
    "denoised3 = filters.rank.median(combined3, disk(3))\n",
    "\n",
    "binary1=do_otsu(denoised1).astype('uint8')\n",
    "binary2=do_otsu(denoised2).astype('uint8')\n",
    "binary3=do_otsu(denoised3).astype('uint8')\n",
    "\n",
    "grad1 = filters.rank.gradient(binary1, disk(1))\n",
    "grad2 = filters.rank.gradient(binary2, disk(1))\n",
    "grad3 = filters.rank.gradient(binary3, disk(1))\n",
    "\n",
    "bin_grad1=1-binary1+grad1\n",
    "bin_grad2=1-binary2+grad2\n",
    "bin_grad3=1-binary3+grad3"
   ]
  },
  {
   "cell_type": "markdown",
   "metadata": {},
   "source": [
    "## Маркировка углов"
   ]
  },
  {
   "cell_type": "code",
   "execution_count": 36,
   "metadata": {},
   "outputs": [],
   "source": [
    "def mark_corners(image):\n",
    "    image=copy.copy(image)\n",
    "    corners = cv2.goodFeaturesToTrack(image, 1000000, 0.1, 12)\n",
    "\n",
    "    corners = np.int0(corners)\n",
    "    print('number of corners: ',len(corners))\n",
    "    for i in corners:\n",
    "        x, y = i.ravel()\n",
    "        cv2.circle(image, (x, y), 3, 255, -1)\n",
    "    x=copy.copy(corners[:,0,1])\n",
    "    y=copy.copy(corners[:,0,0])\n",
    "    corners[:,0,0],corners[:,0,1]=x,y\n",
    "    del x\n",
    "    del y\n",
    "    return image,corners\n",
    "\n",
    "def mark_classes(image):\n",
    "    classes = filters.rank.gradient(image, disk(1)) < 250\n",
    "    classes,num = ndi.label(classes)\n",
    "    print('number of classes:',num)\n",
    "    return classes,num\n"
   ]
  },
  {
   "cell_type": "code",
   "execution_count": 37,
   "metadata": {},
   "outputs": [
    {
     "name": "stdout",
     "output_type": "stream",
     "text": [
      "number of corners:  244\n",
      "number of corners:  1244\n",
      "number of corners:  3619\n",
      "number of classes: 184\n",
      "number of classes: 337\n",
      "number of classes: 1218\n"
     ]
    }
   ],
   "source": [
    "grain1_marked,grain1_corners=mark_corners(bin_grad1*127)\n",
    "grain2_marked,grain2_corners=mark_corners(bin_grad2*127)\n",
    "grain3_marked,grain3_corners=mark_corners(bin_grad3*127)\n",
    "\n",
    "grain1_classes,class1_num=mark_classes(bin_grad1*127)\n",
    "grain2_classes,class2_num=mark_classes(bin_grad2*127)\n",
    "grain3_classes,class3_num=mark_classes(bin_grad3*127)"
   ]
  },
  {
   "cell_type": "markdown",
   "metadata": {},
   "source": [
    "## Отметим наличие углов для каждого класса пустоты"
   ]
  },
  {
   "cell_type": "code",
   "execution_count": 38,
   "metadata": {},
   "outputs": [
    {
     "name": "stdout",
     "output_type": "stream",
     "text": [
      "class 0 number 0\n",
      "class 1 number 0\n"
     ]
    }
   ],
   "source": [
    "\n",
    "shape=(class2_num+1,200)\n",
    "classes=grain2_classes\n",
    "corners=grain2_corners\n",
    "nodes=np.zeros(shape)\n",
    "\n",
    "num1=0\n",
    "num0=0\n",
    "r=2\n",
    "for i,corner in enumerate(corners):\n",
    "    x=corner[0][0]\n",
    "    y=corner[0][1]\n",
    "    cls=classes[x,y]\n",
    "    real_cls=0\n",
    "    flag=True\n",
    "    while flag:\n",
    "        for xi in range(x-r,x+r):\n",
    "            for yi in range(y-r,y+r):\n",
    "                if classes[xi,yi]!=0 and classes[xi,yi]!=1:\n",
    "                    real_cls=classes[xi,yi]\n",
    "                    flag=False\n",
    "    if real_cls==1:\n",
    "        num1+=1\n",
    "    elif real_cls==0:\n",
    "        num0+=1\n",
    "    else:\n",
    "        index=np.where(nodes[real_cls]==0)[0][0]\n",
    "        nodes[real_cls,index]=i\n",
    "\n",
    "\n",
    "print('class 0 number',num0)\n",
    "print('class 1 number',num1)"
   ]
  },
  {
   "cell_type": "markdown",
   "metadata": {},
   "source": [
    "## Подсчитаем количество пустот, в которое входит угол"
   ]
  },
  {
   "cell_type": "code",
   "execution_count": 39,
   "metadata": {},
   "outputs": [],
   "source": [
    "corner_distr=np.zeros((corners.shape[0]))\n",
    "for i in range(corners.shape[0]):\n",
    "    for node in nodes:\n",
    "        if i in node:\n",
    "            corner_distr[i]+=1"
   ]
  },
  {
   "cell_type": "code",
   "execution_count": 40,
   "metadata": {},
   "outputs": [
    {
     "data": {
      "text/plain": [
       "[<matplotlib.lines.Line2D at 0x12bb0f63eb8>]"
      ]
     },
     "execution_count": 40,
     "metadata": {},
     "output_type": "execute_result"
    },
    {
     "data": {
      "image/png": "[encoded data removed]",
      "text/plain": [
       "<Figure size 720x720 with 1 Axes>"
      ]
     },
     "metadata": {
      "needs_background": "light"
     },
     "output_type": "display_data"
    }
   ],
   "source": [
    "plt.figure(figsize=(10,10))\n",
    "plt.plot(corner_distr[1:])"
   ]
  }
 ],
 "metadata": {
  "kernelspec": {
   "display_name": "env_neuro",
   "language": "python",
   "name": "env_neuro"
  },
  "language_info": {
   "codemirror_mode": {
    "name": "ipython",
    "version": 3
   },
   "file_extension": ".py",
   "mimetype": "text/x-python",
   "name": "python",
   "nbconvert_exporter": "python",
   "pygments_lexer": "ipython3",
   "version": "3.6.10"
  }
 },
 "nbformat": 4,
 "nbformat_minor": 4
}
