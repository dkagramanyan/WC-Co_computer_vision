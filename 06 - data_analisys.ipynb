{
 "cells": [
  {
   "cell_type": "code",
   "execution_count": null,
   "metadata": {
    "collapsed": true
   },
   "outputs": [],
   "source": [
    "import numpy as np\n",
    "from src.cfg import CfgDataset,CfgAnglesNames,CfgBeamsNames\n",
    "from tabulate import tabulate"
   ]
  },
  {
   "cell_type": "code",
   "execution_count": null,
   "outputs": [],
   "source": [
    "step=5\n",
    "folder = 'data/saved np'\n",
    "\n",
    "xy_gauss_data=np.load(f'{folder}/'+CfgAnglesNames.approx_data+f'{step}.npy', allow_pickle=True)\n",
    "xy_linear_data=np.load(f'{folder}/'+CfgBeamsNames.approx_data+f'{step}.npy', allow_pickle=True)"
   ],
   "metadata": {
    "collapsed": false,
    "pycharm": {
     "name": "#%%\n"
    }
   }
  },
  {
   "cell_type": "code",
   "execution_count": null,
   "outputs": [],
   "source": [
    "texts_angles=np.load(f'{folder}/'+CfgAnglesNames.legend+f'{step}.npy', allow_pickle=True)\n",
    "texts_beams=np.load(f'{folder}/'+CfgBeamsNames.legend+f'{step}.npy', allow_pickle=True)"
   ],
   "metadata": {
    "collapsed": false,
    "pycharm": {
     "name": "#%%\n"
    }
   }
  },
  {
   "cell_type": "code",
   "execution_count": null,
   "outputs": [],
   "source": [
    "print(texts_angles)"
   ],
   "metadata": {
    "collapsed": false,
    "pycharm": {
     "name": "#%%\n"
    }
   }
  },
  {
   "cell_type": "code",
   "execution_count": null,
   "outputs": [],
   "source": [
    "print(texts_beams)"
   ],
   "metadata": {
    "collapsed": false,
    "pycharm": {
     "name": "#%%\n"
    }
   }
  },
  {
   "cell_type": "code",
   "execution_count": null,
   "outputs": [],
   "source": [
    "print(CfgDataset.images_names)\n",
    "print(CfgDataset.types)"
   ],
   "metadata": {
    "collapsed": false,
    "pycharm": {
     "name": "#%%\n"
    }
   }
  },
  {
   "cell_type": "code",
   "execution_count": null,
   "outputs": [],
   "source": [
    "list_of_dict = [{'IP': '15.0.15.1',\n",
    "                 'Interface': 'FastEthernet0/0',\n",
    "                 'Protocol': 'up',\n",
    "                 'Status': 'up'},\n",
    "                {'IP': '10.0.12.1',\n",
    "                 'Interface': 'FastEthernet0/1',\n",
    "                 'Protocol': 'up',\n",
    "                 'Status': 'up'},\n",
    "                {'IP': '10.0.13.1',\n",
    "                 'Interface': 'FastEthernet0/2',\n",
    "                 'Protocol': 'up',\n",
    "                 'Status': 'up'},\n",
    "                {'IP': '10.1.1.1',\n",
    "                 'Interface': 'Loopback0',\n",
    "                 'Protocol': 'up',\n",
    "                 'Status': 'up'},\n",
    "                {'IP': '100.0.0.1',\n",
    "                 'Interface': 'Loopback100',\n",
    "                 'Protocol': 'up',\n",
    "                 'Status': 'up'}]\n",
    "\n",
    "\n",
    "print(tabulate(list_of_dict, headers='keys', tablefmt=\"grid\"))\n"
   ],
   "metadata": {
    "collapsed": false,
    "pycharm": {
     "name": "#%%\n"
    }
   }
  }
 ],
 "metadata": {
  "kernelspec": {
   "display_name": "Python 3",
   "language": "python",
   "name": "python3"
  },
  "language_info": {
   "codemirror_mode": {
    "name": "ipython",
    "version": 2
   },
   "file_extension": ".py",
   "mimetype": "text/x-python",
   "name": "python",
   "nbconvert_exporter": "python",
   "pygments_lexer": "ipython2",
   "version": "2.7.6"
  }
 },
 "nbformat": 4,
 "nbformat_minor": 0
}