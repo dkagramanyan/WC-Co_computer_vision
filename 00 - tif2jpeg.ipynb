{
 "cells": [
  {
   "cell_type": "code",
   "execution_count": 42,
   "metadata": {},
   "outputs": [],
   "source": [
    "import os\n",
    "import numpy as np\n",
    "from matplotlib import cm\n",
    "from PIL import Image\n",
    "from skimage import io\n",
    "from skimage.morphology import disk\n",
    "from skimage import filters\n",
    "from skimage.color import rgb2gray\n",
    "\n",
    "from grain_utils import grainPreprocess,grainShow,grainMark,grainDraw,grainApprox,grainStats\n"
   ]
  },
  {
   "cell_type": "code",
   "execution_count": 73,
   "metadata": {},
   "outputs": [],
   "source": [
    "def conv(path):\n",
    "    if 'hdr' not in path:\n",
    "        num=int(path[11:-4])\n",
    "        if num<10:\n",
    "            num='00'+str(num)\n",
    "        elif num<100:\n",
    "            num='0'+str(num)\n",
    "        return path[:11]+str(num)+path[-4:]\n",
    "    return path"
   ]
  },
  {
   "cell_type": "code",
   "execution_count": 74,
   "metadata": {},
   "outputs": [],
   "source": [
    "home_path = os.getcwd()\n",
    "images_folders_path=os.path.join(home_path,'data')\n",
    "\n",
    "folders_names=os.listdir(images_folders_path)\n",
    "folders_paths=[os.path.join(images_folders_path,folder) for folder in folders_names]\n",
    "images_paths_raw=[os.listdir(folder_path) for folder_path in folders_paths]\n",
    "\n"
   ]
  },
  {
   "cell_type": "code",
   "execution_count": 78,
   "metadata": {},
   "outputs": [],
   "source": [
    "for j in range(1,5): \n",
    "    for i,path in enumerate(images_paths_raw[j]):\n",
    "        if 'hdr' not in path: \n",
    "            img=io.imread(os.path.join(folders_paths[j], path))\n",
    "            img=(img/256).astype('uint8')\n",
    "          #  new_name=conv(path)\n",
    "            io.imsave(path[:-4]+'.jpeg', img)\n",
    "\n"
   ]
  },
  {
   "cell_type": "code",
   "execution_count": 77,
   "metadata": {},
   "outputs": [],
   "source": [
    "for i,path in enumerate(images_paths_raw[0]):\n",
    "        if 'hdr' not in path: \n",
    "            img=io.imread(os.path.join(folders_paths[0], path))\n",
    "            img=(img/256).astype('uint8')\n",
    "            new_name=conv(path)\n",
    "            io.imsave(new_name[:-4]+'.jpeg', img)"
   ]
  },
  {
   "cell_type": "code",
   "execution_count": null,
   "metadata": {},
   "outputs": [],
   "source": []
  }
 ],
 "metadata": {
  "kernelspec": {
   "display_name": "env_neuro",
   "language": "python",
   "name": "env_neuro"
  },
  "language_info": {
   "codemirror_mode": {
    "name": "ipython",
    "version": 3
   },
   "file_extension": ".py",
   "mimetype": "text/x-python",
   "name": "python",
   "nbconvert_exporter": "python",
   "pygments_lexer": "ipython3",
   "version": "3.6.10"
  }
 },
 "nbformat": 4,
 "nbformat_minor": 4
}
