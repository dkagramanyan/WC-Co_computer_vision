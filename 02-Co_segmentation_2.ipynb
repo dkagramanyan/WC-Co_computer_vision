{
 "cells": [
  {
   "cell_type": "code",
   "execution_count": 1,
   "metadata": {},
   "outputs": [],
   "source": [
    "import numpy as np\n",
    "\n",
    "from numpy import loadtxt\n",
    "from lmfit.models import GaussianModel,Model\n",
    "from sklearn.linear_model import LinearRegression\n",
    "from sklearn import mixture\n",
    "\n",
    "from shapely.geometry import Polygon\n",
    "\n",
    "from scipy.stats.distributions import norm\n",
    "from sklearn.neighbors import KernelDensity\n",
    "from scipy.stats import gaussian_kde\n",
    "\n",
    "    \n",
    "from matplotlib import pyplot as plt\n",
    "from matplotlib import cm\n",
    "\n",
    "from skimage.measure import EllipseModel\n",
    "from matplotlib.patches import Ellipse\n",
    "\n",
    "from scipy import ndimage as ndi\n",
    "from scipy.spatial import ConvexHull\n",
    "from scipy.spatial import distance\n",
    "from numpy import linalg \n",
    "\n",
    "from skimage import io\n",
    "from skimage.draw import ellipse\n",
    "from skimage.color import rgb2gray\n",
    "\n",
    "from PIL import Image, ImageDraw, ImageFilter,ImageOps\n",
    "import copy\n",
    "import cv2\n",
    "\n",
    "import matplotlib.pyplot as plt\n",
    "import matplotlib.gridspec as gridspec\n",
    "from scipy.ndimage import distance_transform_edt as edt\n",
    "\n",
    "from skimage.draw import ellipse\n",
    "from skimage.measure import find_contours, approximate_polygon,subdivide_polygon\n",
    "\n",
    "from radio_beam.commonbeam import getMinVolEllipse\n",
    "\n",
    "\n",
    "from grain_utils import grainPreprocess,grainShow,grainMark,grainDraw\n"
   ]
  },
  {
   "cell_type": "code",
   "execution_count": 2,
   "metadata": {},
   "outputs": [
    {
     "name": "stderr",
     "output_type": "stream",
     "text": [
      "D:\\PROJECTS\\python\\grain_segmentation\\grain_utils.py:43: FutureWarning: The behavior of rgb2gray will change in scikit-image 0.19. Currently, rgb2gray allows 2D grayscale image to be passed as inputs and leaves them unmodified as outputs. Starting from version 0.19, 2D arrays will be treated as 1D images with 3 channels.\n",
      "  img=rgb2gray(gray)\n",
      "C:\\Users\\Администратор\\AppData\\Roaming\\Python\\Python36\\site-packages\\ipykernel_launcher.py:30: UserWarning: Possible precision loss converting image of type float64 to uint8 as required by rank filters. Convert manually using skimage.util.img_as_ubyte to silence this warning.\n"
     ]
    }
   ],
   "source": [
    "grain1_name='Ultra_Co6_2'\n",
    "grain2_name='Ultra_Co8'\n",
    "grain3_name='Ultra_Co11'\n",
    "grain4_name='Ultra_Co15'\n",
    "grain5_name='Ultra_Co25'\n",
    "arc_name='arc'\n",
    "\n",
    "grain1_file_name=grain1_name+'.jpg'\n",
    "grain2_file_name=grain2_name+'.jpg'\n",
    "grain3_file_name=grain3_name+'.jpg'\n",
    "grain4_file_name=grain4_name+'.jpg'\n",
    "grain5_file_name=grain5_name+'.jpg'\n",
    "arc_file_name=arc_name+'.jpg'\n",
    "path='images'\n",
    "\n",
    "grain1_pil=Image.open(path+'/'+grain1_file_name)\n",
    "grain2_pil=Image.open(path+'/'+grain2_file_name)\n",
    "grain3_pil=Image.open(path+'/'+grain3_file_name)\n",
    "grain4_pil=Image.open(path+'/'+grain4_file_name)\n",
    "grain5_pil=Image.open(path+'/'+grain5_file_name)\n",
    "arc_pil=Image.open(path+'/'+arc_file_name)\n",
    "\n",
    "\n",
    "h=150\n",
    "image1=grainPreprocess.image_preprocess(grain1_pil,h=h,k=1)\n",
    "image2=grainPreprocess.image_preprocess(grain2_pil,h=h,k=1)\n",
    "image3=grainPreprocess.image_preprocess(grain3_pil,h=h,k=1)\n",
    "image4=grainPreprocess.image_preprocess(grain4_pil,h=h,k=1)\n",
    "image5=grainPreprocess.image_preprocess(grain5_pil,h=h,k=1)\n",
    "arc=grainPreprocess.image_preprocess(arc_pil,h=0,k=1)"
   ]
  },
  {
   "cell_type": "code",
   "execution_count": 10,
   "metadata": {},
   "outputs": [],
   "source": [
    "cnt=grainMark.get_contours(image1)\n",
    "img=grainDraw.draw_edges(image1,cnt,color=(50,50,50))\n",
    "#grainShow.img_show(img,15)"
   ]
  },
  {
   "cell_type": "code",
   "execution_count": null,
   "metadata": {},
   "outputs": [],
   "source": [
    "def gaussian(x, mu, sigma,amp=1):\n",
    "    \"\"\"1-d gaussian: gaussian(x, amp, cen, wid)\"\"\"\n",
    "    return (amp/(np.sqrt(2*np.pi)*sigma))*np.exp(-(x-mu)**2 / (2*sigma**2))\n",
    "\n",
    "def bimodal(x,mu1,sigma1,amp1,mu2,sigma2,amp2):\n",
    "    return gaussian(x,mu1,sigma1,amp1)+gaussian(x,mu2,sigma2,amp2)\n",
    "\n",
    "def gaussian_fit(y , x):\n",
    "    gmodel = Model(gaussian)\n",
    "    res = gmodel.fit(y, x=x, mu=1,sigma=25,amp=1)\n",
    "\n",
    "    return res\n",
    "\n",
    "\n",
    "def gaussian_fit_bimodal(y , x):\n",
    "    gmodel = Model(bimodal)\n",
    "    res = gmodel.fit(y, x=x, mu1=100,sigma1=30,amp1=1,mu2=240,sigma2=30,amp2=1)\n",
    "\n",
    "    return res"
   ]
  },
  {
   "cell_type": "code",
   "execution_count": null,
   "metadata": {},
   "outputs": [],
   "source": [
    "def angles_approx(images,names,step,N):\n",
    "    text=[]\n",
    "    plt.figure(figsize=(N,N))\n",
    "    for j,image in enumerate(images):\n",
    "        angles,angles_set,dens_curve=angle_estimate(image,step)\n",
    "        \n",
    "        x = np.array(angles_set)\n",
    "        y = np.array(dens_curve)\n",
    "\n",
    "        norm=np.sum(y)\n",
    "        gmm = mixture.GaussianMixture(n_components=2, max_iter=10000, covariance_type='full').fit(angles.reshape(-1,1))\n",
    "\n",
    "        mus=gmm.means_\n",
    "        sigmas=gmm.covariances_\n",
    "        print('new angles')      \n",
    "        print('mus',mus)\n",
    "        print('sigmas',sigmas)\n",
    "        \n",
    "        gauss=np.array(bimodal(x,mus[0],sigmas[0],1,mus[1],sigmas[1],1))[0]\n",
    "        \n",
    "      #  plt.plot(x, pdf, color='blue', alpha=0.5, lw=3)\n",
    "   #     plt.plot(x,y/norm)\n",
    "        plt.plot(x,gauss)\n",
    "       # plt.fill(x,y)\n",
    "\n",
    "    legend=[]\n",
    " #   for k,name in enumerate(names):\n",
    " #       legend.append(name+' '+text[k])\n",
    "        \n",
    " #   plt.legend(legend,fontsize=15)\n",
    "    plt.ylabel('количество углов/количество пустот, шт', fontsize=20)\n",
    "    plt.xlabel('угол связующего вещества, градусы', fontsize=20)\n",
    "    plt.savefig('крупные_средние_мелкие.png')\n",
    "    plt.show() #крупные"
   ]
  },
  {
   "cell_type": "code",
   "execution_count": null,
   "metadata": {},
   "outputs": [],
   "source": [
    "def angles_approx(origs,images,names,step,N,font_size=20):\n",
    "    #\n",
    "    # хорошая аппроксимация \n",
    "    #\n",
    "    for j,image in enumerate(images):\n",
    "        \n",
    "        original_angles=grainMark.get_angles(image)\n",
    "        angles,angles_set,dens_curve=grainMark.get_statistics(original_angles,step)\n",
    "        \n",
    "        x = np.array(angles_set)\n",
    "        y = np.array(dens_curve)\n",
    "\n",
    "        norm=np.sum(y)\n",
    "        bandwidth=0.5\n",
    "        kde = gaussian_kde(angles, bw_method=bandwidth / x.std(ddof=1))\n",
    "        pdf=kde.evaluate(x)\n",
    "        \n",
    "        res=gaussian_fit_bimodal(y,x)\n",
    "        \n",
    "        mus=[res.params['mu1'].value,res.params['mu2'].value]\n",
    "        sigmas=[res.params['sigma1'].value,res.params['sigma2'].value]\n",
    "        amps=[res.params['amp1'].value,res.params['amp2'].value]\n",
    "\n",
    "        x_gauss=range(0,361)\n",
    "        \n",
    "        gauss=np.array(bimodal(x_gauss,mus[0],sigmas[0],amps[0],mus[1],sigmas[1],amps[1]))\n",
    "        \n",
    "\n",
    "     #   plt.legend(text,fontsize=15)\n",
    "     #   plt.plot(x,y/norm)\n",
    "     #   plt.hist(angles,bins=100)\n",
    "\n",
    "        mu1=round(mus[0],2)\n",
    "        sigma1=round(sigmas[0],2)\n",
    "        amp1=round(amps[0]/norm,2)\n",
    "        \n",
    "        mu2=round(mus[1],2)\n",
    "        sigma2=round(sigmas[1],2)\n",
    "        amp2=round(amps[1]/norm,2)\n",
    "\n",
    "        moda1='\\n mu1 = '+str(mu1)+' sigma1 = '+str(sigma1)+' amp1 = '+str(amp1)\n",
    "        moda2='\\n mu2 = '+str(mu2)+' sigma2 = '+str(sigma2)+' amp2 = '+str(amp2)\n",
    "        val=round(np.log(norm),4)\n",
    "        total_number='\\n количество углов  $e^{'+str(val)+'}$'\n",
    "        text_angle='\\n шаг угла '+str(step)+' градусов'\n",
    "        text=names[j]+moda1+moda2+total_number+text_angle\n",
    "        \n",
    "        \n",
    "        gs = gridspec.GridSpec(2, 2)\n",
    "        plt.figure(figsize=(N,N))\n",
    "        \n",
    "        ax1 = plt.subplot(gs[0, 0]) # row 0, col 0\n",
    "        ax1.imshow(grainPreprocess.combine(origs[j],135,1),cmap='gray')\n",
    "        ax1.set_title('Исходное изображение')\n",
    "\n",
    "        ax2 = plt.subplot(gs[0, 1]) # row 0, col 1\n",
    "        ax2.imshow(image,cmap='gray')\n",
    "        ax2.set_title('Обработанное изображение')\n",
    "\n",
    "        ax3 = plt.subplot(gs[1, :]) # row 1, span all columns\n",
    "        ax3.plot(gauss/norm)\n",
    "        ax3.scatter(x,y/norm)\n",
    "        ax3.legend([text],fontsize=font_size)\n",
    "        ax3.set_title('распределение углов связующего вещества', fontsize=font_size)\n",
    "        ax3.set_ylabel('p(x)', fontsize=font_size)\n",
    "        ax3.set_xlabel('угол связующего вещества, градусы', fontsize=font_size)\n",
    "\n",
    "        \n",
    "       # f,ax=plt.subplots(nrows=2,ncols=2,figsize=(N,N))\n",
    "\n",
    "       # ax[0,0].imshow(origs[j],cmap='gray')\n",
    "        \n",
    "      #  ax[0,1].imshow(image,cmap='gray')\n",
    "        \n",
    "      #  ax[1,0].plot(gauss/norm)\n",
    "      #  ax[1,0].scatter(x,y/norm)\n",
    "      #  ax[1,0].legend([text],fontsize=font_size)\n",
    "      #  ax[1,0].set_title('распределение углов связующего вещества', fontsize=font_size)\n",
    "      #  ax[1,0].set_ylabel('p(x)', fontsize=font_size)\n",
    "      #  ax[1,0].set_xlabel('угол связующего вещества, градусы', fontsize=font_size)\n",
    "\n",
    "      #  plt.savefig('крупные_средние_мелкие.png')\n",
    "      #  plt.savefig('углы_'+names[j])\n",
    "        plt.show() #крупные"
   ]
  },
  {
   "cell_type": "code",
   "execution_count": null,
   "metadata": {},
   "outputs": [],
   "source": [
    "N=20\n",
    "\n",
    "images=[image1,image2,image3,image4,image5]\n",
    "origs=[grain1_pil,grain2_pil,grain3_pil,grain4_pil,grain5_pil]\n",
    "#images=[image2]\n",
    "step=5\n",
    "names=[grain1_name,grain2_name,grain3_name,grain4_name,grain5_name]\n",
    "#names=['сплав с крупными зернами']\n",
    "angles_approx(origs,images,names,step,N)"
   ]
  },
  {
   "cell_type": "markdown",
   "metadata": {},
   "source": [
    "## Распределение диаметров"
   ]
  },
  {
   "cell_type": "code",
   "execution_count": null,
   "metadata": {},
   "outputs": [],
   "source": [
    "def diametr_approx(origins,images,names,step,pixel,N):\n",
    "    text=[]\n",
    "    bins=150\n",
    "    \n",
    "    for j,image in enumerate(images):\n",
    "        original_diametrs=grainMark.get_diametrs(image)\n",
    "        distances,dist_set,dens_curve=grainMark.get_statistics(original_diametrs,step)\n",
    "        \n",
    "        \n",
    "        x = np.array([dist_set]).reshape(-1, 1)\n",
    "        y = np.log([dens_curve]).reshape(-1, 1)\n",
    "        norm=round(np.sum(y),6)\n",
    "        y=y/norm\n",
    "\n",
    "        bandwidth=0.5\n",
    "\n",
    "        x_linear=np.arange(1,x.max(axis=0)).reshape(-1, 1)\n",
    "\n",
    "        reg = LinearRegression().fit(x,y)\n",
    "\n",
    "        lin_predict=reg.predict(x_linear)\n",
    "        \n",
    "        k=round(reg.coef_[0][0]*1000,3)\n",
    "        score=round(reg.score(x, y),2)\n",
    "\n",
    "        gs = gridspec.GridSpec(2, 2)\n",
    "        plt.figure(figsize=(N,N))\n",
    "        \n",
    "        ax1 = plt.subplot(gs[0, 0]) # row 0, col 0\n",
    "        ax1.imshow(grainPreprocess.combine(origs[j],135,1),cmap='gray')\n",
    "        ax1.set_title('Исходное изображение')\n",
    "\n",
    "        ax2 = plt.subplot(gs[0, 1]) # row 0, col 1\n",
    "        ax2.imshow(image,cmap='gray')\n",
    "        ax2.set_title('Обработанное изображение')\n",
    "\n",
    "        ax3 = plt.subplot(gs[1, :]) # row 1, span all columns\n",
    "        ax3.plot(x_linear*pixel,lin_predict)\n",
    "        ax3.scatter(x*pixel,y)\n",
    "        val=pixel*step\n",
    "        ax3.legend([names[j]+'\\n k = '+str(k)+'$*10^{-3}$ \\n точность = '+str(score)+'\\n количество диаметров  $e^{'+str(norm)+'}$'+'\\n шаг длины диаметра '+str(val)+'$ мкм$'],fontsize=20)\n",
    "        ax3.set_title('распределение диаметров связующего вещества', fontsize=20)\n",
    "        ax3.set_ylabel('ln(p(x))', fontsize=20)\n",
    "        ax3.set_xlabel('диаметр региона связуюзего вещества, мкм', fontsize=20)\n",
    "\n",
    "        \n",
    "     #   f,ax=plt.subplots(nrows=2,ncols=1,figsize=(N,N))\n",
    "\n",
    "    #    plt.hist(distances,bins=bins)\n",
    "    #    plt.plot(x,np.log(y))\n",
    "     #   ax[0].imshow(image,cmap='gray')\n",
    "     #   ax[1].plot(x_linear*pixel,lin_predict)\n",
    "    \n",
    "    #    ax[1].scatter(x*pixel,y)\n",
    "    #    val=pixel*step\n",
    "    #    ax[1].legend([names[j]+'\\n k = '+str(k)+'$*10^{-3}$ \\n точность = '+str(score)+'\\n количество диаметров  $e^{'+str(norm)+'}$'+'\\n шаг длины диаметра '+str(val)+'$ мкм$'],fontsize=20)\n",
    "    #    ax[1].set_title('распределение диаметров связующего вещества', fontsize=20)\n",
    "    #    ax[1].set_ylabel('ln(p(x))', fontsize=20)\n",
    "    #    ax[1].set_xlabel('диаметр региона связуюзего вещества, мкм', fontsize=20)\n",
    "     #   plt.savefig('крупные_средние_мелкие.png')\n",
    "     #   plt.savefig('диаметр_'+names[j])\n",
    "        plt.show()\n",
    "\n",
    "        \n",
    "    \n"
   ]
  },
  {
   "cell_type": "code",
   "execution_count": null,
   "metadata": {},
   "outputs": [],
   "source": [
    "N=15\n",
    "pixel=49.7/1000\n",
    "images=[image1,image2,image3,image4,image5]\n",
    "images=[image2]\n",
    "step=10\n",
    "names=[grain1_name,grain2_name,grain3_name,grain4_name,grain5_name]\n",
    "#names=['сплав с крупными зернами']\n",
    "diametr_approx(origs,images,names,step,pixel,N)"
   ]
  },
  {
   "cell_type": "code",
   "execution_count": 6,
   "metadata": {},
   "outputs": [],
   "source": [
    "image=image1\n",
    "approx=grainMark.get_row_contours(image)"
   ]
  },
  {
   "cell_type": "code",
   "execution_count": 7,
   "metadata": {},
   "outputs": [
    {
     "name": "stdout",
     "output_type": "stream",
     "text": [
      "x_norm  269\n",
      "y_norm  1487\n",
      "[-85.53523465706238, -59.79440595022594, 41.382268113685484, 73.06996661379868, 2.088377835261248]\n",
      "center =  (-85.53523465706238, -59.79440595022594)\n",
      "angle of rotation =  2.088377835261248\n",
      "axes =  (41.382268113685484, 73.06996661379868)\n"
     ]
    },
    {
     "data": {
      "image/png": "[encoded data removed]",
      "text/plain": [
       "<Figure size 720x720 with 1 Axes>"
      ]
     },
     "metadata": {
      "needs_background": "light"
     },
     "output_type": "display_data"
    }
   ],
   "source": [
    "\n",
    "N=10\n",
    "# плохо - 15,19\n",
    "# не работает - 18\n",
    "# беды с логикой - 82\n",
    "i=18\n",
    "\n",
    "points=approx[i]\n",
    "#points[0]=points[-1]\n",
    "points=np.array(points[:-1])\n",
    "#print(points)\n",
    "\n",
    "hull=ConvexHull(points)\n",
    "#print(hull.simplices)\n",
    "hull_indeces=hull.simplices.reshape((1,-1))[0]\n",
    "#hull_indeces=np.array(list(set(hull_indeces)))\n",
    "#hull_indeces=np.array(list(set(hull_indeces)))\n",
    "\n",
    "#hull_points=points[hull_indeces]\n",
    "hull_points=points\n",
    "\n",
    "#print(hull_points)\n",
    "\n",
    "x_norm,y_norm=hull_points.max(axis=0).astype('int64')\n",
    "a_points = hull_points-(x_norm,y_norm)\n",
    "print('x_norm ',x_norm)\n",
    "print('y_norm ',y_norm)\n",
    "#print(a_points)\n",
    "x = points[:, 0]-x_norm\n",
    "y = points[:, 1]-y_norm\n",
    "\n",
    "ell = EllipseModel()\n",
    "ell.estimate(a_points)\n",
    "\n",
    "print(ell.params)\n",
    "xc, yc, a, b, theta = ell.params\n",
    "\n",
    "print(\"center = \",  (xc, yc))\n",
    "print(\"angle of rotation = \",  theta)\n",
    "print(\"axes = \", (a,b))\n",
    "\n",
    "xy = ell.predict_xy(np.linspace(0, 2 * np.pi, 50))\n",
    "plt.figure(figsize=(N,N))\n",
    "plt.plot(xy[:,0],xy[:,1])\n",
    "plt.scatter(hull_points[:,0]-x_norm,hull_points[:,1]-y_norm)\n",
    "plt.plot(x, y)\n",
    "#axs[1].set_xlim(x.min(), x.max())\n",
    "#axs[1].set_ylim(y.min(), y.max())\n",
    "\n",
    "#xy = Ellipse((xc, yc), 2*a, 2*b, theta*180/np.pi)\n",
    "\n",
    "plt.show()"
   ]
  },
  {
   "cell_type": "code",
   "execution_count": null,
   "metadata": {},
   "outputs": [],
   "source": [
    "image=image1\n",
    "approx=grainMark.get_contours(image)"
   ]
  },
  {
   "cell_type": "code",
   "execution_count": 8,
   "metadata": {},
   "outputs": [
    {
     "name": "stdout",
     "output_type": "stream",
     "text": [
      "(908.131327358088, 641.1550149381136)\n",
      "центр  [[8.556113e-14 4.607133e-14]]\n",
      "полуоси  [39.57253131 67.47296036]\n",
      "матрица поворота \n",
      " [[-0.27138504  0.96247086]\n",
      " [ 0.96247086  0.27138504]]\n",
      "угол поворота \n",
      " -74.25329846050059\n"
     ]
    },
    {
     "name": "stderr",
     "output_type": "stream",
     "text": [
      "C:\\Users\\Администратор\\AppData\\Roaming\\Python\\Python36\\site-packages\\ipykernel_launcher.py:25: VisibleDeprecationWarning: Creating an ndarray from ragged nested sequences (which is a list-or-tuple of lists-or-tuples-or ndarrays with different lengths or shapes) is deprecated. If you meant to do this, you must specify 'dtype=object' when creating the ndarray\n"
     ]
    },
    {
     "data": {
      "image/png": "[encoded data removed]",
      "text/plain": [
       "<Figure size 432x432 with 1 Axes>"
      ]
     },
     "metadata": {
      "needs_background": "light"
     },
     "output_type": "display_data"
    }
   ],
   "source": [
    "a_beams=[]\n",
    "b_beams=[]\n",
    "angles=[]\n",
    "\n",
    "#for i in range (len(approx)):\n",
    "i=87\n",
    "N=6\n",
    "points=approx[i].reshape((-1,2))\n",
    "\n",
    "data=approx[i].reshape((-1,2))\n",
    "data[-1]=data[0]\n",
    "polygon=Polygon(data)\n",
    "\n",
    "print(polygon.centroid.coords[0])\n",
    "x_centroid,y_centroid=polygon.centroid.coords[0]\n",
    "points=points-(x_centroid,y_centroid)\n",
    "\n",
    "x_norm,y_norm=points.mean(axis=0)\n",
    "x_std,y_std=points.std(axis=0)\n",
    "#x_std,y_std=1,1\n",
    "a_points = (points-(x_norm,y_norm))\n",
    "\n",
    "data=getMinVolEllipse(a_points,0.3)\n",
    "\n",
    "data=np.array(data)\n",
    "xc,yc=data[0][0]\n",
    "a,b=data[1]\n",
    "sin=data[2][0,1]\n",
    "angle=-np.arcsin(sin)\n",
    "a_beams.append(a)\n",
    "b_beams.append(b)\n",
    "angles.append(np.rad2deg(angle))\n",
    "    \n",
    "print('центр ',data[0])\n",
    "print('полуоси ',data[1])\n",
    "print('матрица поворота \\n',data[2])\n",
    "print('угол поворота \\n',np.rad2deg(angle))\n",
    "\n",
    "\n",
    "xy = EllipseModel().predict_xy(np.linspace(0, 2 * np.pi, 50),\n",
    "                               params=(xc, yc, a, b, angle))\n",
    "#print(xy)\n",
    "\n",
    "plt.figure(figsize=(N,N))\n",
    "plt.plot(a_points[:,0],a_points[:,1])\n",
    "plt.scatter(a_points[:,0],a_points[:,1])\n",
    "plt.scatter(0,0)\n",
    "\n",
    "plt.plot(xy[:,0],xy[:,1])\n",
    "plt.show()"
   ]
  },
  {
   "cell_type": "code",
   "execution_count": null,
   "metadata": {},
   "outputs": [],
   "source": [
    "angles"
   ]
  },
  {
   "cell_type": "code",
   "execution_count": null,
   "metadata": {},
   "outputs": [],
   "source": [
    "N=10\n",
    "plt.figure(figsize=(N,N))\n",
    "plt.hist(angles,bins=15)\n",
    "plt.show()"
   ]
  },
  {
   "cell_type": "code",
   "execution_count": null,
   "metadata": {},
   "outputs": [],
   "source": [
    "a_beams"
   ]
  },
  {
   "cell_type": "code",
   "execution_count": null,
   "metadata": {},
   "outputs": [],
   "source": [
    "N=10\n",
    "plt.figure(figsize=(N,N))\n",
    "plt.hist(a_beams,bins=20)\n",
    "#plt.hist(b_beams,bins=20)\n",
    "plt.show()"
   ]
  },
  {
   "cell_type": "code",
   "execution_count": null,
   "metadata": {},
   "outputs": [],
   "source": [
    "N=10\n",
    "plt.figure(figsize=(N,N))\n",
    "plt.hist(b_beams,bins=20)\n",
    "plt.show()"
   ]
  },
  {
   "cell_type": "code",
   "execution_count": null,
   "metadata": {},
   "outputs": [],
   "source": [
    "hull=ConvexHull(approx[i])\n",
    "points=np.array(approx[i])\n",
    "hull_points=[]\n",
    "for simplex in hull.simplices:\n",
    "    (x1,x2)=points[simplex, 0]\n",
    "    (y1,y2)=points[simplex, 1]\n",
    "    hull_points.append([x1,y1])\n",
    "    hull_points.append([x2,y2])\n",
    "hull_points=np.array(hull_points)\n",
    "hull_points"
   ]
  },
  {
   "cell_type": "code",
   "execution_count": null,
   "metadata": {},
   "outputs": [],
   "source": [
    "plt.figure(figsize=(N,N))\n",
    "plt.plot(hull_points[:,0],hull_points[:,1])\n",
    "plt.plot(points[:,0],points[:,1])\n",
    "plt.show()"
   ]
  },
  {
   "cell_type": "markdown",
   "metadata": {},
   "source": [
    "## Распределение дуг"
   ]
  },
  {
   "cell_type": "code",
   "execution_count": null,
   "metadata": {},
   "outputs": [],
   "source": [
    "cnts=grainMark.get_contours(arc)\n",
    "img=grainDraw.draw_edges(skeleton*255,cnts)\n",
    "#io.imsave('edges_skeleton.png',img)\n",
    "#grainShow.img_show(img)"
   ]
  },
  {
   "cell_type": "code",
   "execution_count": null,
   "metadata": {},
   "outputs": [],
   "source": [
    "from shapely.ops import triangulate # для установки shapely надо использовать conda install -c conda-forge shapely\n",
    "from shapely.geometry import MultiPoint,Point,Polygon"
   ]
  },
  {
   "cell_type": "code",
   "execution_count": null,
   "metadata": {},
   "outputs": [],
   "source": [
    "def get_inner_side(polygon,triangles):\n",
    "    l_polygon=polygon.shape[0]\n",
    "\n",
    "    sides=[]\n",
    "    for triangle in triangles:\n",
    "        l_triangle=triangle.shape[0]\n",
    "        for i,t_point1 in enumerate(triangle[:l_triangle-1]):\n",
    "            t_point2=triangle[i+1]\n",
    "            for j,p_point1 in enumerate(polygon):\n",
    "                if j==0 or j==l_polygon-1:\n",
    "                    p_point2=polygon[-2]\n",
    "                    p_point3=polygon[1]\n",
    "                else:\n",
    "                    p_point2=polygon[j-1]\n",
    "                    p_point3=polygon[j+1]\n",
    "\n",
    "                cond11= all([t_point1[0]==p_point1[0],\n",
    "                           t_point1[1]==p_point1[1]])\n",
    "\n",
    "                cond22= all([t_point2[0]==p_point2[0],\n",
    "                           t_point2[1]==p_point2[1]])\n",
    "\n",
    "                cond23= all([t_point2[0]==p_point3[0],\n",
    "                           t_point2[1]==p_point3[1]])\n",
    "\n",
    "                if cond11 and not (cond22 or cond23):\n",
    "                    sides.append([t_point1,t_point2])\n",
    " \n",
    "\n",
    "    for i,side1 in enumerate(sides):\n",
    "        for j,side2 in enumerate(sides):\n",
    "            cond1=all([side1[0][0]==side2[0][0],\n",
    "                      side1[0][1]==side2[0][1]])\n",
    "            \n",
    "            cond2=all([side1[1][0]==side2[1][0],\n",
    "                      side1[1][1]==side2[1][1]])\n",
    "            if cond1 and cond2:\n",
    "                sides.pop(j)\n",
    "    \n",
    "    return np.array(sides)\n"
   ]
  },
  {
   "cell_type": "code",
   "execution_count": null,
   "metadata": {},
   "outputs": [],
   "source": [
    "def get_median_points(polygon,sides):\n",
    "    points=[]\n",
    "    for i,side in enumerate(sides):\n",
    "        x=(side[0][0]+side[1][0])/2\n",
    "        y=(side[0][1]+side[1][1])/2\n",
    "        point=Point(x,y)\n",
    "        if point.within(polygon) and x and y:\n",
    "            points.append((x,y))\n",
    "    return np.array(points)"
   ]
  },
  {
   "cell_type": "code",
   "execution_count": null,
   "metadata": {},
   "outputs": [],
   "source": [
    "i=18\n",
    "#27 супер кривой\n",
    "M=10\n",
    "data=cnts[i]\n",
    "data[-1]=data[0]\n",
    "polygon=np.array(data)\n",
    "\n",
    "points = MultiPoint(data)\n",
    "triangles = triangulate(points)\n",
    "triang=[]\n",
    "for triangle in triangles:\n",
    "    triang.append(list(triangle.exterior.coords))\n",
    "triang=np.array(triang)\n",
    "\n",
    "sides=get_inner_side(polygon,triang)\n",
    "poly=Polygon(data)\n",
    "points=get_median_points(poly,sides)\n",
    "plt.figure(figsize=(M,M))\n",
    "\n",
    "#plt.scatter(points[:,0],points[:,1])\n",
    "\n",
    "\n",
    "plt.plot(polygon[:,0],polygon[:,1])\n",
    "plt.show()"
   ]
  },
  {
   "cell_type": "code",
   "execution_count": null,
   "metadata": {},
   "outputs": [],
   "source": [
    "\n",
    "plt.plot(triang[0,:,0],triang[0,:,1])\n",
    "plt.plot(triang[1,:,0],triang[1,:,1])\n",
    "plt.plot(triang[2,:,0],triang[2,:,1])\n",
    "#plt.plot(triang[3,:,0],triang[3,:,1])\n",
    "#plt.plot(triang[4,:,0],triang[4,:,1])\n",
    "plt.show()"
   ]
  },
  {
   "cell_type": "code",
   "execution_count": null,
   "metadata": {},
   "outputs": [],
   "source": [
    "plt.plot()"
   ]
  },
  {
   "cell_type": "code",
   "execution_count": null,
   "metadata": {},
   "outputs": [],
   "source": [
    "def triangulate_within(polygon):\n",
    "    return [triangle for triangle in triangulate(polygon) if triangle.within(polygon)]"
   ]
  },
  {
   "cell_type": "code",
   "execution_count": null,
   "metadata": {},
   "outputs": [],
   "source": [
    "new_triang=triangulate_within(points)"
   ]
  },
  {
   "cell_type": "code",
   "execution_count": null,
   "metadata": {},
   "outputs": [],
   "source": [
    "from skimage.morphology import skeletonize\n",
    "from skimage import data\n",
    "import matplotlib.pyplot as plt\n",
    "from skimage.util import invert"
   ]
  },
  {
   "cell_type": "code",
   "execution_count": null,
   "metadata": {},
   "outputs": [],
   "source": [
    "\n",
    "# Invert the horse image\n",
    "#image = rgb2gray(io.imread('images/good_polygon1.jpg'))\n",
    "image = rgb2gray(io.imread('images/good_polygon2.jpg'))==True\n",
    "#image = rgb2gray(io.imread('images/bad_polygon.jpg'))==True\n",
    "#image = rgb2gray(io.imread('images/a11.png'))\n",
    "image=arc/255\n",
    "#image=invert(image)\n",
    "# perform skeletonization\n",
    "skeleton = skeletonize(image)\n",
    "\n",
    "# display results\n",
    "fig, axes = plt.subplots(nrows=1, ncols=2, figsize=(15, 15),\n",
    "                         sharex=True, sharey=True)\n",
    "\n",
    "ax = axes.ravel()\n",
    "\n",
    "ax[0].imshow(image, cmap=plt.cm.gray)\n",
    "ax[0].axis('off')\n",
    "ax[0].set_title('original', fontsize=20)\n",
    "\n",
    "ax[1].imshow(skeleton, cmap=plt.cm.gray)\n",
    "ax[1].axis('off')\n",
    "ax[1].set_title('skeleton', fontsize=20)\n",
    "\n",
    "fig.tight_layout()\n",
    "plt.show()"
   ]
  }
 ],
 "metadata": {
  "kernelspec": {
   "display_name": "env_neuro",
   "language": "python",
   "name": "env_neuro"
  },
  "language_info": {
   "codemirror_mode": {
    "name": "ipython",
    "version": 3
   },
   "file_extension": ".py",
   "mimetype": "text/x-python",
   "name": "python",
   "nbconvert_exporter": "python",
   "pygments_lexer": "ipython3",
   "version": "3.6.10"
  }
 },
 "nbformat": 4,
 "nbformat_minor": 4
}
