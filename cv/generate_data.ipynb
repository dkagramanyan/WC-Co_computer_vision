{
 "cells": [
  {
   "cell_type": "code",
   "execution_count": null,
   "metadata": {
    "tags": []
   },
   "outputs": [],
   "source": [
    "import numpy as np\n",
    "\n",
    "import json\n",
    "from tqdm.notebook import tqdm\n",
    "\n",
    "from utils import grainPreprocess, grainShow, grainMark, grainDraw, grainApprox, grainStats, grainMorphology,grainGenerate"
   ]
  },
  {
   "cell_type": "markdown",
   "metadata": {},
   "source": [
    "## Углы"
   ]
  },
  {
   "cell_type": "code",
   "execution_count": null,
   "metadata": {
    "collapsed": false
   },
   "outputs": [],
   "source": [
    "\n",
    "images = np.load('images_7_classes_mixer_preprocess.npy')\n",
    "names = np.load('metadata_7_classes_mixer_preprocess.npy')\n",
    "names = [name.split('\\\\')[-1] for name in names]\n",
    "\n",
    "folder = 'data/'\n",
    "\n",
    "types_dict = {'2550-51': '2550 призм, кадр 51\\n доля карбина 54.51%',\n",
    "              '2550-52': '2550 призм, кадр 52\\n доля карбина 50.75%',\n",
    "              '2550-53': '2550 призм, кадр 53\\n доля карбина 45.81%',\n",
    "              '3400-51': '3400 призм, кадр 51\\n доля карбина 53.53%',\n",
    "              '3400-52': '3400 призм, кадр 52\\n доля карбина 50.47%',\n",
    "              '3400-53': '3400 призм, кадр 53\\n доля карбина 45.88%',\n",
    "              '3400-54': '3400 призм, кадр 54\\n доля карбина 40.88%'}\n",
    "\n",
    "dens_dict={'2550-51': 0.5451066158234127,\n",
    "           '2550-52': 0.5075556821469908,\n",
    "           '2550-53': 0.4580166661499669,\n",
    "           '3400-51': 0.535331783234127,\n",
    "           '3400-52': 0.504782962859623,\n",
    "           '3400-53': 0.45885131190062833,\n",
    "           '3400-54': 0.40882115988756607}\n",
    "\n"
   ]
  },
  {
   "cell_type": "code",
   "execution_count": null,
   "metadata": {
    "collapsed": false
   },
   "outputs": [],
   "source": [
    "images = np.load('data/generated_data/bc_left_(1536,1536,1)_preprocess_images.npy')\n",
    "data = open('data/generated_data/bc_left_(1536,1536,1)_preprocess_metadata.json','r',encoding='utf-8')\n",
    "paths=list(json.load(data).values())\n",
    "\n",
    "name = 'bc_left_(1536,1536,1)_preprocess'\n",
    "\n",
    "\n",
    "types_dict = {'Ultra_Co11': 'средние зерна',\n",
    "              'Ultra_Co25': 'мелкие зерна',\n",
    "              'Ultra_Co8': 'средне-мелкие зерна',\n",
    "              'Ultra_Co6_2': 'крупные зерна',\n",
    "              'Ultra_Co15': 'средне-мелкие зерна'}\n",
    "\n",
    "for step in tqdm(range(1, 6)):\n",
    "    grainGenerate.angles_approx_save(save_path=name, images=images,paths=paths, types_dict=types_dict,\n",
    "                                 step=step, max_images_num_per_class=90)"
   ]
  },
  {
   "cell_type": "markdown",
   "metadata": {},
   "source": [
    "## Полуоси"
   ]
  },
  {
   "cell_type": "code",
   "execution_count": null,
   "metadata": {
    "collapsed": false
   },
   "outputs": [],
   "source": [
    "pixel = 50 / 1000\n",
    "# pixel_1500_1500 = 50 / 983\n",
    "\n",
    "\n",
    "# images = np.load('data/saved_metadata/images_4x_preprocess.npy')\n",
    "images = np.load('data/generated_data/bc_left_(1536,1536,1)_preprocess_images.npy')\n",
    "# images = np.load('artif.npy')\n",
    "# images = np.load('images_left_(1500,1500,1)_preprocessed.npy')\n",
    "# images = np.load('data/saved_np/images_10_mixer_preprocess.npy')\n",
    "\n",
    "data = open('data/generated_data/bc_left_(1536,1536,1)_preprocess_metadata.json','r',encoding='utf-8')\n",
    "paths=list(json.load(data).values())\n",
    "\n",
    "\n",
    "\n",
    "# name = 'artif'\n",
    "# name = 'left_(1500,1500,1)'\n",
    "# name = 'bc_left_(1536,1536,1)_preprocess'\n",
    "# name = '10_mixer_preprocess'\n",
    "# name = '4x_left_(1500,1500,1)'\n",
    "\n",
    "name='test'\n",
    "\n",
    "types_dict = {'Ultra_Co11': 'средние зерна',\n",
    "              'Ultra_Co25': 'мелкие зерна',\n",
    "              'Ultra_Co8': 'средне-мелкие зерна',\n",
    "              'Ultra_Co6_2': 'крупные зерна',\n",
    "              'Ultra_Co15': 'средне-мелкие зерна'}\n",
    "\n",
    "# types_dict = {'class_1': 'Type None'}\n",
    "\n",
    "for step in range(1, 6):\n",
    "    # print('step: ',step)\n",
    "\n",
    "    grainGenerate.diametr_approx_save(save_path=name, images=images,paths=paths, types_dict=types_dict, step=step, pixel=pixel,max_images_num_per_class=1)"
   ]
  }
 ],
 "metadata": {
  "kernelspec": {
   "display_name": "torch",
   "language": "python",
   "name": "torch"
  },
  "language_info": {
   "codemirror_mode": {
    "name": "ipython",
    "version": 3
   },
   "file_extension": ".py",
   "mimetype": "text/x-python",
   "name": "python",
   "nbconvert_exporter": "python",
   "pygments_lexer": "ipython3",
   "version": "3.10.9"
  }
 },
 "nbformat": 4,
 "nbformat_minor": 4
}
