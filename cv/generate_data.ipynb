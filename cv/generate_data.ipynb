{
 "cells": [
  {
   "cell_type": "code",
   "execution_count": null,
   "metadata": {
    "collapsed": true
   },
   "outputs": [],
   "source": [
    "import numpy as np\n",
    "import os\n",
    "import time\n",
    "\n",
    "from lmfit.models import GaussianModel, Model\n",
    "from sklearn.linear_model import LinearRegression\n",
    "from sklearn import mixture, metrics\n",
    "\n",
    "from shapely.geometry import Polygon\n",
    "\n",
    "from scipy.stats.distributions import norm\n",
    "from sklearn.neighbors import KernelDensity\n",
    "from scipy.stats import gaussian_kde\n",
    "\n",
    "from matplotlib import pyplot as plt\n",
    "from matplotlib import cm\n",
    "\n",
    "from skimage.measure import EllipseModel\n",
    "from matplotlib.patches import Ellipse\n",
    "\n",
    "from scipy import ndimage as ndi\n",
    "from scipy.spatial import distance\n",
    "from numpy import linalg\n",
    "\n",
    "import skimage\n",
    "from skimage import io, transform\n",
    "from skimage.draw import ellipse\n",
    "from skimage.color import rgb2gray\n",
    "from skimage import filters\n",
    "from skimage.morphology import disk\n",
    "from skimage import color\n",
    "from skimage import filters, util\n",
    "from skimage.morphology import disk, skeletonize, ball\n",
    "\n",
    "from PIL import Image, ImageDraw, ImageFilter, ImageOps\n",
    "import copy\n",
    "import cv2\n",
    "import os\n",
    "import sys\n",
    "\n",
    "import matplotlib.pyplot as plt\n",
    "import matplotlib.gridspec as gridspec\n",
    "from scipy.ndimage import distance_transform_edt as edt\n",
    "from skimage.draw import ellipse\n",
    "from skimage.measure import find_contours, approximate_polygon, subdivide_polygon\n",
    "import logging\n",
    "import glob\n",
    "from radio_beam.commonbeam import getMinVolEllipse\n",
    "\n",
    "from src.utils import grainPreprocess, grainShow, grainMark, grainDraw, grainApprox, grainStats, grainMorphology,grainGenerate\n",
    "from src.cfg import CfgAnglesNames, CfgBeamsNames, CfgDataset\n",
    "\n",
    "\n"
   ]
  },
  {
   "cell_type": "markdown",
   "source": [
    "## Углы"
   ],
   "metadata": {
    "collapsed": false
   }
  },
  {
   "cell_type": "code",
   "execution_count": null,
   "outputs": [],
   "source": [
    "\n",
    "# images = np.load('../data/saved np/images_4x_preprocess.npy')\n",
    "# images = np.load('artif.npy')\n",
    "\n",
    "# images = np.load('images_left_(1500,1500,1)_preprocessed.npy')\n",
    "# images = np.load('data/saved_np/images_10_mixer_preprocess.npy')\n",
    "images = np.load('images_7_classes_mixer_preprocess.npy')\n",
    "# names = np.load('metadata_left_(1500,1500,1)_preprocessed.npy')\n",
    "# names = np.load('data/saved_np/metadata_10_mixer_preprocess.npy')\n",
    "names = np.load('metadata_7_classes_mixer_preprocess.npy')\n",
    "names = [name.split('\\\\')[-1] for name in names]\n",
    "\n",
    "folder = 'data/'\n",
    "\n",
    "# types_dict = {'Ultra_Co11': 'средние зерна',\n",
    "#               'Ultra_Co25': 'мелкие зерна',\n",
    "#               'Ultra_Co8': 'средне-мелкие зерна',\n",
    "#               'Ultra_Co6_2': 'крупные зерна',\n",
    "#               'Ultra_Co15': 'средне-мелкие зерна'}\n",
    "\n",
    "# types_dict = {'class_1': 'Type None'}\n",
    "\n",
    "types_dict = {'2550-51': '2550 призм, кадр 51\\n доля карбина 54.51%',\n",
    "              '2550-52': '2550 призм, кадр 52\\n доля карбина 50.75%',\n",
    "              '2550-53': '2550 призм, кадр 53\\n доля карбина 45.81%',\n",
    "              '3400-51': '3400 призм, кадр 51\\n доля карбина 53.53%',\n",
    "              '3400-52': '3400 призм, кадр 52\\n доля карбина 50.47%',\n",
    "              '3400-53': '3400 призм, кадр 53\\n доля карбина 45.88%',\n",
    "              '3400-54': '3400 призм, кадр 54\\n доля карбина 40.88%'}\n",
    "\n",
    "dens_dict={'2550-51': 0.5451066158234127,\n",
    "           '2550-52': 0.5075556821469908,\n",
    "           '2550-53': 0.4580166661499669,\n",
    "           '3400-51': 0.535331783234127,\n",
    "           '3400-52': 0.504782962859623,\n",
    "           '3400-53': 0.45885131190062833,\n",
    "           '3400-54': 0.40882115988756607}\n",
    "\n",
    "# path = 'data/saved np'\n",
    "# path = 'data/saved np'\n",
    "path = 'data/artif_31.01'\n",
    "# name = 'artif'\n",
    "# name = 'left_(1500,1500,1)'\n",
    "name = '7_classes_mixer_preprocess'\n",
    "\n",
    "\n",
    "# grain_names =['cube compress', 'magnet']\n",
    "# types = ['-', '-', ]\n",
    "\n",
    "for step in range(1, 6):\n",
    "    grainGenerate.angles_approx_save(path, images, name, names, types_dict, step, save=True)\n"
   ],
   "metadata": {
    "collapsed": false
   }
  },
  {
   "cell_type": "markdown",
   "source": [
    "## Полуоси"
   ],
   "metadata": {
    "collapsed": false
   }
  },
  {
   "cell_type": "code",
   "execution_count": null,
   "outputs": [],
   "source": [
    "pixel = 50 / 1000\n",
    "# pixel_1500_1500 = 50 / 983\n",
    "\n",
    "\n",
    "# images = np.load('data/saved_metadata/images_4x_preprocess.npy')\n",
    "images = np.load('data/generated_data/bc_left_(1536,1536,1)_preprocess_images.npy')\n",
    "# images = np.load('artif.npy')\n",
    "# images = np.load('images_left_(1500,1500,1)_preprocessed.npy')\n",
    "# images = np.load('data/saved_np/images_10_mixer_preprocess.npy')\n",
    "\n",
    "data = open('data/generated_data/bc_left_(1536,1536,1)_preprocess_metadata.json','r',encoding='utf-8')\n",
    "paths=list(json.load(data).values())\n",
    "\n",
    "\n",
    "\n",
    "# name = 'artif'\n",
    "# name = 'left_(1500,1500,1)'\n",
    "name = 'bc_left_(1536,1536,1)_preprocess'\n",
    "# name = '10_mixer_preprocess'\n",
    "# name = '4x_left_(1500,1500,1)'\n",
    "\n",
    "types_dict = {'Ultra_Co11': 'средние зерна',\n",
    "              'Ultra_Co25': 'мелкие зерна',\n",
    "              'Ultra_Co8': 'средне-мелкие зерна',\n",
    "              'Ultra_Co6_2': 'крупные зерна',\n",
    "              'Ultra_Co15': 'средне-мелкие зерна'}\n",
    "\n",
    "# types_dict = {'class_1': 'Type None'}\n",
    "\n",
    "for step in range(1, 6):\n",
    "    # print('step: ',step)\n",
    "\n",
    "    grainGenerate.diametr_approx_save(save_path=name, images=images,paths=paths, types_dict=types_dict, step=step, pixel=pixel,max_images_num_per_class=100)"
   ],
   "metadata": {
    "collapsed": false
   }
  }
 ],
 "metadata": {
  "kernelspec": {
   "display_name": "Python 3",
   "language": "python",
   "name": "python3"
  },
  "language_info": {
   "codemirror_mode": {
    "name": "ipython",
    "version": 2
   },
   "file_extension": ".py",
   "mimetype": "text/x-python",
   "name": "python",
   "nbconvert_exporter": "python",
   "pygments_lexer": "ipython2",
   "version": "2.7.6"
  }
 },
 "nbformat": 4,
 "nbformat_minor": 0
}
