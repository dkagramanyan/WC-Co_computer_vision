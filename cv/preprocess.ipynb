{
 "cells": [
  {
   "cell_type": "code",
   "execution_count": null,
   "metadata": {
    "collapsed": true
   },
   "outputs": [],
   "source": [
    "import numpy as np\n",
    "import os\n",
    "import time\n",
    "\n",
    "from lmfit.models import GaussianModel, Model\n",
    "from sklearn.linear_model import LinearRegression\n",
    "from sklearn import mixture, metrics\n",
    "\n",
    "from shapely.geometry import Polygon\n",
    "\n",
    "from scipy.stats.distributions import norm\n",
    "from sklearn.neighbors import KernelDensity\n",
    "from scipy.stats import gaussian_kde\n",
    "\n",
    "from matplotlib import pyplot as plt\n",
    "from matplotlib import cm\n",
    "\n",
    "from skimage.measure import EllipseModel\n",
    "from matplotlib.patches import Ellipse\n",
    "\n",
    "from scipy import ndimage as ndi\n",
    "from scipy.spatial import distance\n",
    "from numpy import linalg\n",
    "\n",
    "import skimage\n",
    "from skimage import io, transform\n",
    "from skimage.draw import ellipse\n",
    "from skimage.color import rgb2gray\n",
    "from skimage import filters\n",
    "from skimage.morphology import disk\n",
    "from skimage import filters, util\n",
    "from skimage.morphology import disk, skeletonize, ball\n",
    "from skimage import color\n",
    "\n",
    "from sklearn import preprocessing\n",
    "\n",
    "from PIL import Image, ImageDraw, ImageFilter, ImageOps\n",
    "import copy\n",
    "import cv2\n",
    "import os\n",
    "import sys\n",
    "\n",
    "import matplotlib.pyplot as plt\n",
    "import matplotlib.gridspec as gridspec\n",
    "from scipy.ndimage import distance_transform_edt as edt\n",
    "from skimage.draw import ellipse\n",
    "from skimage.measure import find_contours, approximate_polygon, subdivide_polygon\n",
    "import logging\n",
    "import glob\n",
    "from radio_beam.commonbeam import getMinVolEllipse\n",
    "\n",
    "from src.utils import grainPreprocess, grainShow, grainMark, grainDraw, grainApprox, grainStats, grainMorphology,grainGenerate\n",
    "from src.cfg import CfgAnglesNames, CfgBeamsNames, CfgDataset\n"
   ]
  },
  {
   "cell_type": "code",
   "execution_count": null,
   "outputs": [],
   "source": [
    "path='data/artif_31.01/'\n",
    "folders_paths=glob.glob(path+'*')\n",
    "deep_folders_paths=[glob.glob(path+'/*') for path in folders_paths]\n",
    "for folders_0 in deep_folders_paths:\n",
    "    folder_class_name=folders_0[0].split('\\\\')[1]\n",
    "    for folder in folders_0:\n",
    "        images_paths=glob.glob(folder+'/*')\n",
    "        for image_path in images_paths:\n",
    "            img=io.imread(image_path)\n",
    "            name=image_path.split('\\\\')[-1][:-4]\n",
    "            # io.imsave(path+'/'+folder_class_name+'/'+name+'_'+str(time.time())+'.png',img)\n"
   ],
   "metadata": {
    "collapsed": false
   }
  },
  {
   "cell_type": "code",
   "execution_count": null,
   "outputs": [],
   "source": [
    "path='data/artif_31.01/'\n",
    "folders_paths=glob.glob(path+'*')\n",
    "deep_folders_paths=[glob.glob(path+'/*') for path in folders_paths]\n",
    "for folders_0 in deep_folders_paths:\n",
    "    folder_class_name=folders_0[0].split('\\\\')[1]\n",
    "    for folder in folders_0:\n",
    "        images_paths=glob.glob(folder+'/*')\n",
    "        for image_path in images_paths:\n",
    "            img=io.imread(image_path)\n",
    "            name=image_path.split('\\\\')[-1][:-4]\n",
    "            dst=path+'/'+folder_class_name+'/'+name+'_'+str(time.time())+'.jpg'\n",
    "            os.rename(image_path, dst)\n",
    "            # io.imsave(dst,img)\n"
   ],
   "metadata": {
    "collapsed": false
   }
  },
  {
   "cell_type": "code",
   "execution_count": null,
   "outputs": [],
   "source": [
    "\n",
    "def imdivide(image: np.ndarray, h: int, side: str) -> np.ndarray:\n",
    "    \"\"\"\n",
    "    :param image: ndarray (height,width,channels)\n",
    "    :param h: int scalar\n",
    "    :param side: str 'left'\n",
    "    :return: ndarray (height,width/2,channels)\n",
    "    \"\"\"\n",
    "    #\n",
    "    # возвращает левую или правую часть полученного изображения\n",
    "    #\n",
    "    height, width = image.shape\n",
    "    sides = {'left': 0, 'right': 1}\n",
    "    shapes = [(0, height - h, 0, width // 2), (0, height - h, width // 2, width)]\n",
    "    shape = shapes[sides[side]]\n",
    "\n",
    "    return image[shape[0]:shape[1], shape[2]:shape[3]]"
   ],
   "metadata": {
    "collapsed": false
   }
  },
  {
   "cell_type": "code",
   "execution_count": null,
   "outputs": [],
   "source": [
    "# old_folder_path='../datasets/original_balanced_classes'\n",
    "# old_folder_path='../datasets/bc_right_sub_left_minmax_4x'\n",
    "old_folder_path='../datasets/bc_left_sub_right_minmax_4x'\n",
    "\n",
    "folders=os.listdir(old_folder_path)\n",
    "# images_paths=[glob.glob(f'../data/dataset_cleaned/{folder}/*') for folder in folders]\n",
    "images_paths=[glob.glob(f'{old_folder_path}/{folder}/*') for folder in folders]\n",
    "\n",
    "new_folder_path='../datasets/bc_left_sub_right_minmax_4x_360'\n",
    "# new_folder_path='../datasets/bc_right_sub_left_minmax_4x_360'\n",
    "\n",
    "if not os.path.exists(new_folder_path):\n",
    "    os.mkdir(new_folder_path)\n",
    "\n",
    "for folder in folders:\n",
    "    if not os.path.exists(new_folder_path+'/'+folder):\n",
    "        os.mkdir(new_folder_path+'/'+folder)\n",
    "\n",
    "for folder_images_path in images_paths:\n",
    "\n",
    "    folder=folder_images_path[0].split('\\\\')[0].split('/')[-1]\n",
    "    for image_path in folder_images_path:\n",
    "        image_name=image_path.split('\\\\')[-1]\n",
    "        image=io.imread(image_path)\n",
    "\n",
    "        left_img = imdivide(image, h=145, side='left')\n",
    "        right_img = imdivide(image, h=145, side='right')\n",
    "        #\n",
    "        # l = 0.5\n",
    "        # r = 1 - l\n",
    "        # gray = np.array(left_img) * l\n",
    "        #\n",
    "        # gray_left = np.array(left_img)*l - np.array(right_img) * r\n",
    "        # gray_right = np.array(right_img)*r-np.array(left_img) * l\n",
    "        # gray_left = np.array(left_img) - np.array(right_img)\n",
    "        # gray_right = np.array(right_img)-np.array(left_img)\n",
    "\n",
    "        # img=gray_right\n",
    "        # img=gray_left\n",
    "        img=image\n",
    "\n",
    "        # scaler=preprocessing.MinMaxScaler(feature_range=(0,255))\n",
    "        # img=scaler.fit_transform(img).astype(np.uint8)\n",
    "\n",
    "        width, height=image.shape\n",
    "        # img1=img[0:width//2, 0:height//2]\n",
    "        # img2=img[0:width//2, height//2:]\n",
    "        # img3=img[width//2:, 0:height//2]\n",
    "        # img4=img[width//2:, height//2:]\n",
    "\n",
    "        img1=transform.rotate(image,90)*255\n",
    "        img2=transform.rotate(image,180)*255\n",
    "        img3=transform.rotate(image,270)*255\n",
    "\n",
    "        # io.imsave(new_folder_path+'/'+folder+'/'+image_name,img)\n",
    "\n",
    "        name=image_name.split('.')[0]\n",
    "\n",
    "        # io.imsave(new_folder_path+'/'+folder+'/'+name+'_part_1.png',img1)\n",
    "        # io.imsave(new_folder_path+'/'+folder+'/'+name+'_part_2.png',img2)\n",
    "        # io.imsave(new_folder_path+'/'+folder+'/'+name+'_part_3.png',img3)\n",
    "        # io.imsave(new_folder_path+'/'+folder+'/'+name+'_part_4.png',img4)\n",
    "\n",
    "\n",
    "        io.imsave(new_folder_path+'/'+folder+'/'+name+'_angle_0.png',image)\n",
    "        io.imsave(new_folder_path+'/'+folder+'/'+name+'_angle_90.png',img1)\n",
    "        io.imsave(new_folder_path+'/'+folder+'/'+name+'_angle_180.png',img2)\n",
    "        io.imsave(new_folder_path+'/'+folder+'/'+name+'_angle_270.png',img3)\n",
    "\n",
    "\n",
    "\n"
   ],
   "metadata": {
    "collapsed": false
   }
  },
  {
   "cell_type": "code",
   "execution_count": null,
   "outputs": [],
   "source": [
    "images=glob.glob('data/artif/mixer/*')\n",
    "images=[io.imread(name) for name in images]\n",
    "step=2\n",
    "\n",
    "all_original_angles = []\n",
    "for image in images:\n",
    "\n",
    "    img = rgb2gray(image)*255\n",
    "    # global_thresh = filters.threshold_otsu(img)\n",
    "    global_thresh = 67\n",
    "    bin_image = img > global_thresh\n",
    "    bin_image=bin_image.astype(np.uint8)*255\n",
    "\n",
    "    preproc_image=grainPreprocess.image_preprocess(bin_image)\n",
    "\n",
    "    original_angles = grainMark.get_angles(preproc_image)\n",
    "\n",
    "    for angle in original_angles:\n",
    "        all_original_angles.append(angle)\n",
    "\n",
    "angles, angles_set, dens_curve = grainStats.stats_preprocess(all_original_angles, step)\n",
    "\n",
    "x = angles_set.astype(np.float64)\n",
    "y = dens_curve\n",
    "\n",
    "norm = np.sum(y)\n",
    "y = y / norm\n",
    "\n",
    "(x_gauss, y_gauss), mus, sigmas, amps = grainApprox.bimodal_gauss_approx(x, y)\n",
    "\n",
    "# text = grainGenerate.angles_legend(len(images_list), names[i], types_dict[names[i]], step, mus, sigmas,\n",
    "#                                    amps, norm)\n",
    "#\n",
    "# xy_gauss.append((x_gauss, y_gauss))\n",
    "# xy_scatter.append((x, y))\n",
    "# xy_gauss_data.append((\n",
    "#     (mus[0], sigmas[0], amps[0]),\n",
    "#     (mus[1], sigmas[1], amps[1])\n",
    "# ))\n",
    "#\n",
    "# texts.append(text)"
   ],
   "metadata": {
    "collapsed": false
   }
  },
  {
   "cell_type": "code",
   "execution_count": null,
   "outputs": [],
   "source": [
    "cnts=grainMark.get_contours(preproc_image)\n",
    "cnt_image=grainDraw.draw_edges(preproc_image[:,:,0].astype(np.float32),cnts,r=6,e_width=7,l_width=5)\n",
    "\n",
    "fig, (ax1,ax2,ax3)=plt.subplots(1,3,figsize=(15, 15))\n",
    "# fig(figsize=(10, 10))\n",
    "ax1.imshow(image, cmap='gray')\n",
    "ax2.imshow(preproc_image, cmap='gray')\n",
    "ax3.imshow(cnt_image, cmap='gray')\n",
    "# plt.savefig('mixer_preproc.png')\n",
    "plt.show()"
   ],
   "metadata": {
    "collapsed": false
   }
  },
  {
   "cell_type": "code",
   "execution_count": null,
   "outputs": [],
   "source": [
    "plt.figure(figsize=(15, 15))\n",
    "plt.imshow(cnt_image,cmap='gray')\n",
    "plt.savefig('cnt_preproc.png')\n",
    "plt.show()"
   ],
   "metadata": {
    "collapsed": false
   }
  },
  {
   "cell_type": "code",
   "execution_count": null,
   "outputs": [],
   "source": [
    "plt.hist(angles,bins=18)\n",
    "# plt.savefig('распределение углов исскуственное грубое_mixer.png')"
   ],
   "metadata": {
    "collapsed": false
   }
  },
  {
   "cell_type": "code",
   "execution_count": null,
   "outputs": [],
   "source": [
    "dens=np.array(dens_curve)/sum(dens_curve)\n",
    "plt.figure(figsize=(10,10))\n",
    "plt.plot(angles_set,dens)\n",
    "plt.xlabel('angles')\n",
    "plt.ylabel('probability')\n",
    "plt.legend([f'Искусственные картинки mixer, шаг={step}\\n Количество изображений={len(images)}'])\n",
    "plt.savefig('углы_искусственные_mixer.png')\n",
    "plt.show()"
   ],
   "metadata": {
    "collapsed": false
   }
  },
  {
   "cell_type": "code",
   "execution_count": null,
   "outputs": [],
   "source": [
    "io.imsave('atfir_preprocess.png',i)"
   ],
   "metadata": {
    "collapsed": false
   }
  },
  {
   "cell_type": "code",
   "execution_count": null,
   "outputs": [],
   "source": [
    "images=glob.glob('data/artif/mixer/*')\n",
    "images=[io.imread(name) for name in images]\n",
    "step=2\n",
    "\n",
    "preproc_images=[]\n",
    "\n",
    "all_original_angles = []\n",
    "for image in images:\n",
    "\n",
    "    img = rgb2gray(image)*255\n",
    "    # global_thresh = filters.threshold_otsu(img)\n",
    "    global_thresh = 67\n",
    "    bin_image = img > global_thresh\n",
    "    bin_image=bin_image.astype(np.uint8)*255\n",
    "\n",
    "    preproc_image=grainPreprocess.image_preprocess(bin_image)\n",
    "    preproc_images.append(preproc_image)\n",
    "\n",
    "preproc_images=np.array(preproc_images)\n"
   ],
   "metadata": {
    "collapsed": false
   }
  },
  {
   "cell_type": "code",
   "execution_count": null,
   "outputs": [],
   "source": [
    "np.save('preproc_mixer.npy',preproc_images)"
   ],
   "metadata": {
    "collapsed": false
   }
  },
  {
   "cell_type": "code",
   "execution_count": null,
   "outputs": [],
   "source": [
    "pixel = 49.7 / 1000\n",
    "all_a_beams = []\n",
    "all_b_beams = []\n",
    "\n",
    "for j, image in enumerate(preproc_images):\n",
    "    a_beams, b_beams, angles, cetroids = grainMark.get_mvee_params(image, 0.2, debug=False)\n",
    "\n",
    "    for k in range(len(a_beams)):\n",
    "        all_a_beams.append(a_beams[k])\n",
    "        all_b_beams.append(b_beams[k])\n",
    "\n",
    "distances1, dist1_set, dens1_curve = grainStats.stats_preprocess(all_a_beams, step)\n",
    "distances2, dist2_set, dens2_curve = grainStats.stats_preprocess(all_b_beams, step)\n",
    "\n",
    "angles, angles_set, angles_dens_curve = grainStats.stats_preprocess(np.rad2deg(angles).astype('int32'),\n",
    "                                                                    step=step)\n",
    "\n",
    "norm1 = round(np.sum(dens1_curve), 6)\n",
    "norm2 = round(np.sum(dens2_curve), 6)\n",
    "\n",
    "x1 = np.array([dist1_set]).reshape(-1, 1) * pixel\n",
    "\n",
    "y1 = np.log([dens1_curve / norm1]).reshape(-1, 1)\n",
    "\n",
    "x2 = np.array([dist2_set]).reshape(-1, 1) * pixel\n",
    "y2 = np.log([dens2_curve / norm2]).reshape(-1, 1)\n",
    "\n",
    "# x1 = x1[start:end]\n",
    "# y1 = y1[start:end]\n",
    "#\n",
    "# x2 = x2[start:end]\n",
    "# y2 = y2[start:end]\n",
    "\n",
    "(x_pred1, y_pred1), k1, b1, angle1, score1 = grainApprox.lin_regr_approx(x1, y1)\n",
    "(x_pred2, y_pred2), k2, b2, angle2, score2 = grainApprox.lin_regr_approx(x2, y2)\n",
    "\n",
    "dist_step = pixel * step\n",
    "\n"
   ],
   "metadata": {
    "collapsed": false
   }
  },
  {
   "cell_type": "code",
   "execution_count": null,
   "outputs": [],
   "source": [
    "# dens=np.array(dens_curve)/sum(dens_curve)\n",
    "plt.figure(figsize=(7,7))\n",
    "plt.plot(x_pred1, y_pred1)\n",
    "plt.plot(x_pred2, y_pred2)\n",
    "\n",
    "plt.scatter(x_pred1, y_pred1)\n",
    "plt.scatter(x_pred2, y_pred2)\n",
    "\n",
    "plt.xlabel('Length')\n",
    "plt.ylabel('probability')\n",
    "# plt.legend([f'Искусственные картинки mixer, шаг={step}\\n Количество изображений={len(images)}'])\n",
    "plt.legend(['Полуось А','Полуось B'])\n",
    "plt.savefig('Полуоси_искусственные_mixer.png')\n",
    "plt.show()"
   ],
   "metadata": {
    "collapsed": false
   }
  }
 ],
 "metadata": {
  "kernelspec": {
   "name": "tf2",
   "language": "python",
   "display_name": "tf2"
  },
  "language_info": {
   "codemirror_mode": {
    "name": "ipython",
    "version": 2
   },
   "file_extension": ".py",
   "mimetype": "text/x-python",
   "name": "python",
   "nbconvert_exporter": "python",
   "pygments_lexer": "ipython2",
   "version": "2.7.6"
  }
 },
 "nbformat": 4,
 "nbformat_minor": 0
}
