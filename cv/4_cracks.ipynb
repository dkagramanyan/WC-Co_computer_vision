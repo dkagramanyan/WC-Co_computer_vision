{
 "cells": [
  {
   "cell_type": "code",
   "execution_count": null,
   "id": "2f0500a4-1a81-40b0-a685-237c797206ed",
   "metadata": {
    "tags": []
   },
   "outputs": [],
   "source": [
    "import numpy as np\n",
    "from skimage import io\n",
    "from utils import grainPreprocess, grainMark\n",
    "from numpy.lib.stride_tricks import sliding_window_view\n",
    "\n",
    "from matplotlib import pyplot as plt\n",
    "\n",
    "from skimage import io, color, filters, morphology, util\n",
    "from skimage.measure import EllipseModel\n",
    "from skimage.color import rgb2gray\n",
    "from skimage import filters, util\n",
    "from skimage.morphology import disk, skeletonize, ball\n",
    "from skimage.measure import approximate_polygon\n",
    "from skimage import transform\n",
    "import copy\n",
    "from PIL import Image, ImageDraw, ImageFilter, ImageOps\n",
    "\n",
    "from matplotlib import cm\n",
    "import networkx as nx\n",
    "from tqdm.notebook import tqdm\n",
    "\n",
    "from bresenham import bresenham\n",
    "import pandas as pd\n",
    "\n",
    "from shapely.geometry import Polygon\n",
    "import rasterio.features\n",
    "import matplotlib.pyplot as plt\n",
    "\n",
    "from networkx.drawing import draw_networkx"
   ]
  },
  {
   "cell_type": "code",
   "execution_count": null,
   "id": "91e4c5d0-e5e2-45e1-8d89-d3e838202515",
   "metadata": {
    "tags": []
   },
   "outputs": [],
   "source": [
    "def draw_contours(image, cnts, color=(0, 139, 139), r=4, e_width=5, l_width=4):\n",
    "\n",
    "    img = copy.copy(image)\n",
    "    draw = ImageDraw.Draw(img)\n",
    "\n",
    "    for j, cnt in enumerate(cnts):\n",
    "        if len(cnt) > 1:\n",
    "            point = cnt[0]\n",
    "            x1, y1 = point[1], point[0]\n",
    "\n",
    "            for i, point2 in enumerate(cnt):\n",
    "                p2 = point2\n",
    "\n",
    "                x2, y2 = p2[1], p2[0]\n",
    "\n",
    "                draw.ellipse((y2 - r, x2 - r, y2 + r, x2 + r), fill=color, width=e_width)\n",
    "                draw.line((y1, x1, y2, x2), fill=(255, 140, 0), width=l_width)\n",
    "                x1, y1 = x2, y2\n",
    "\n",
    "    return img\n",
    "\n",
    "\n",
    "def draw_edges(image, cnts, color=255, r=4, e_width=5, l_width=4):\n",
    "    \n",
    "    img = copy.copy(Image.fromarray(image))\n",
    "    draw = ImageDraw.Draw(img)\n",
    "\n",
    "    for j, cnt in enumerate(cnts):\n",
    "        if len(cnt) > 1:\n",
    "            point = cnt[0]\n",
    "            x1, y1 = point[1], point[0]\n",
    "            for i, point2 in enumerate(cnt):\n",
    "                p2 = point2\n",
    "                x2, y2 = p2[1], p2[0]\n",
    "\n",
    "                draw.line((y1, x1, y2, x2), fill=color, width=l_width)\n",
    "                x1, y1 = x2, y2\n",
    "\n",
    "    return img\n",
    "\n",
    "\n",
    "def preprocess_image_1(image):\n",
    "    if len(image.shape)==3:\n",
    "        image = color.rgb2gray(image)\n",
    "\n",
    "    image = filters.rank.median(image, morphology.disk(3))\n",
    "\n",
    "    global_thresh = filters.threshold_otsu(image)\n",
    "    image = image > global_thresh\n",
    "    binary = image*255\n",
    "    binary = binary.astype(np.uint8)\n",
    "\n",
    "    grad = abs(filters.rank.gradient(binary, morphology.disk(1)))\n",
    "    bin_grad = (1 - binary + grad) * 127\n",
    "    bin_grad = np.clip(bin_grad, 0, 255).astype(np.uint8)\n",
    "\n",
    "    return bin_grad\n",
    "\n",
    "def align_figures(img_viz):\n",
    "    cnts=grainMark.get_contours(img_viz,tol=tol)\n",
    "\n",
    "    cnts = [cnt for cnt in cnts if len(cnt)>2]\n",
    "    polies=[ Polygon(cnt) for cnt in cnts]\n",
    "\n",
    "    img_viz_raster = 1 - rasterio.features.rasterize(polies, out_shape=img_viz.shape)\n",
    "    img_viz_raster = img_viz_raster*127\n",
    "    img_viz = img_viz_raster.astype(np.uint8)+127\n",
    "    # grad = abs(filters.rank.gradient(img_viz, morphology.disk(1)))\n",
    "    \n",
    "    img_viz_raster = rasterio.features.rasterize(polies, out_shape=img_viz.shape).astype(np.uint8)*255\n",
    "    # img_viz_raster = img_viz_raster*127\n",
    "    grad = abs(filters.rank.gradient(img_viz_raster, morphology.disk(1)))\n",
    "    \n",
    "    img_viz = np.clip(img_viz-grad,0,255).astype(np.uint8)\n",
    "    return img_viz,cnts, grad\n",
    "\n",
    "def pad_with(vector, pad_width, iaxis, kwargs):\n",
    "    pad_value = kwargs.get('padder', 255)\n",
    "    vector[:pad_width[0]] = pad_value\n",
    "    vector[-pad_width[1]:] = pad_value"
   ]
  },
  {
   "cell_type": "markdown",
   "id": "eefdf5af-76aa-4ed3-b94d-b84c2b3bb407",
   "metadata": {},
   "source": [
    "# Plot all points"
   ]
  },
  {
   "cell_type": "code",
   "execution_count": null,
   "id": "a847fb3b-c673-46f0-bf29-974dabc9cee6",
   "metadata": {
    "tags": []
   },
   "outputs": [],
   "source": [
    "orig_img = io.imread('../datasets/original/o_bc_left/Ultra_Co6_2/Ultra_Co6_2-001.jpeg')[:200,:200]\n",
    "\n",
    "r=2\n",
    "eps = 15\n",
    "border = 10\n",
    "tol = 3\n",
    "    \n",
    "tmp_img = preprocess_image_1(orig_img)\n",
    "orig_img_padded = np.pad(tmp_img, border, pad_with)\n",
    "img_viz,cnts, grad_viz = align_figures(orig_img_padded)\n",
    "\n",
    "img_shape=np.array(img_viz.shape)\n",
    "\n",
    "# coord2index\n",
    "image_nodes_coord2nodes_index={}\n",
    "nodes_index2global_nodes_coord={}\n",
    "num_of_nodes=0\n",
    "\n",
    "for points in cnts:\n",
    "    for point in points:\n",
    "        x,y = point[0],point[1]\n",
    "        image_nodes_coord2nodes_index[(x,y)]=num_of_nodes\n",
    "        nodes_index2global_nodes_coord[num_of_nodes]=(x,y)\n",
    "        num_of_nodes+=1\n",
    "\n",
    "# entry points\n",
    "entry_nodes=[]\n",
    "\n",
    "entry_dict={}\n",
    "\n",
    "y_entry_max=0\n",
    "\n",
    "for points in cnts:\n",
    "    for point in points:\n",
    "        if point[1]<eps:\n",
    "            x,y = point[0],point[1]\n",
    "            # condition to make end exit poits below start points \n",
    "            if y_entry_max<y:\n",
    "                y_entry_max=y\n",
    "            \n",
    "            index=image_nodes_coord2nodes_index[(x,y)]\n",
    "            entry_dict[index]=1\n",
    "            entry_nodes.append(index)\n",
    "\n",
    "# exit points\n",
    "exit_nodes=[]\n",
    "exit_dict={}\n",
    "\n",
    "for points in cnts:\n",
    "    for point in points:\n",
    "        if (point[0] < eps or img_shape[0] - point[0] < eps or img_shape[1] - point[1] < eps) and point[1]>y_entry_max:\n",
    "            x,y = point[0],point[1]\n",
    "            index=image_nodes_coord2nodes_index[(x,y)]\n",
    "            exit_nodes.append(index)\n",
    "            exit_dict[index]=1\n",
    "\n",
    "img_drawings = copy.copy(Image.fromarray(img_viz)).convert('RGB')\n",
    "img_drawings=draw_contours(img_drawings, cnts=cnts, r=2, l_width=1)\n",
    "draw = ImageDraw.Draw(img_drawings)\n",
    "\n",
    "# entry blue\n",
    "for key in entry_nodes:\n",
    "    x,y=nodes_index2global_nodes_coord[key]\n",
    "    draw.ellipse((x - r, y - r, x + r, y + r), fill=(0,0,200), width=1)\n",
    "    \n",
    "# exit red\n",
    "for key in exit_nodes:\n",
    "    x,y=nodes_index2global_nodes_coord[key]\n",
    "    draw.ellipse((x - r, y - r, x + r, y + r), fill=(150,0,0), width=1)\n",
    "    \n",
    "    \n",
    "img_contours = draw_edges(np.zeros_like(img_viz), cnts=cnts, r=2, l_width=1)\n",
    "\n",
    "\n",
    "fig,axes = plt.subplots(1,2,figsize=(14,7))\n",
    "\n",
    "axes[0].imshow(img_drawings,cmap='gray')\n",
    "axes[1].imshow(img_contours,cmap='gray')\n",
    "# plt.savefig('miniature_figures_aligned.png', bbox_inches='tight')\n",
    "plt.show()"
   ]
  },
  {
   "cell_type": "markdown",
   "id": "eba933b1-49c2-4e1a-b928-67f93c3b201c",
   "metadata": {},
   "source": [
    "tmp_img1) image_nodes_coord2nodes_index\n",
    "2) nodes_index2global_nodes_coord\n",
    "3) image_node_coord2node_index\n",
    "\n",
    "1) grid_cell_coord2grid_cell_index\n",
    "2) grid_cell_index2grid_cell_coord\n",
    "3) image_coord2grid_cell_index"
   ]
  },
  {
   "cell_type": "code",
   "execution_count": null,
   "id": "bdd86268-4538-48a5-8f3c-78e5d6b41660",
   "metadata": {
    "tags": []
   },
   "outputs": [],
   "source": [
    "eps=100\n",
    "line_eps = 2\n",
    "border_eps = 0\n",
    "border_number_min = 1\n",
    "border_pixel=255\n",
    "    \n",
    "g = nx.DiGraph()\n",
    "image_node_coord2node_index = np.zeros(img_shape,dtype=np.int32)\n",
    "for key in range(num_of_nodes):\n",
    "    x,y=nodes_index2global_nodes_coord[key]\n",
    "    image_node_coord2node_index[x,y]=key\n",
    "    g.add_node(key, pos=(x,y)) \n",
    "\n",
    "m=[]\n",
    "\n",
    "img_contours_np = np.array(img_contours)\n",
    "\n",
    "for start_node_index in tqdm(range(num_of_nodes)):\n",
    "    \n",
    "    # choose cell\n",
    "    start_node_x,start_node_y=nodes_index2global_nodes_coord[start_node_index]\n",
    "    \n",
    "    # left x slice border\n",
    "    if start_node_x-eps<0:\n",
    "        left_border_x=0\n",
    "    else:\n",
    "        left_border_x=start_node_x-eps-2\n",
    "\n",
    "    # right x slice border\n",
    "    if start_node_x+eps>image_node_coord2node_index.shape[0]:\n",
    "        right_border_x=image_node_coord2node_index.shape[0]\n",
    "    else:\n",
    "        right_border_x=start_node_x+eps+2\n",
    "\n",
    "    # upper_border\n",
    "    if start_node_y+eps>image_node_coord2node_index.shape[1]-1:\n",
    "        upper_border=image_node_coord2node_index.shape[1]-1\n",
    "    else:\n",
    "        upper_border=start_node_y+eps\n",
    "        \n",
    "    map_slice = image_node_coord2node_index[left_border_x:right_border_x,start_node_y:upper_border]\n",
    "    \n",
    "    nodes_indices_indices = np.where(map_slice.flatten()!=0)\n",
    "    nodes_indices = map_slice.flatten()[nodes_indices_indices]\n",
    "    \n",
    "    # next node search\n",
    "    for node_index in nodes_indices:\n",
    "        end_node_x,end_node_y=nodes_index2global_nodes_coord[node_index]\n",
    "        \n",
    "        mean_border_pixels=0\n",
    "        for p in range(0 - line_eps, 1 + line_eps):\n",
    "            line_coords=np.array(list(bresenham(start_node_x+p, start_node_y,end_node_x+p, end_node_y)))\n",
    "            line_coords_pixels=img_contours_np[line_coords[:,1],line_coords[:,0]].flatten()\n",
    "            border_pixels_num = np.where(line_coords_pixels==border_pixel)[0].shape[0]\n",
    "            if border_pixels_num<=border_eps:\n",
    "                mean_border_pixels+=1\n",
    "            \n",
    "        # m.extend(mean_border_pixels)\n",
    "        # line_border_pixels_mean=np.mean(mean_border_pixels)\n",
    "        if mean_border_pixels>=border_number_min and start_node_index!=node_index:\n",
    "            g.add_edge(start_node_index,node_index)\n",
    "        # m.append(np.mean(mean_pixels))\n",
    "\n",
    "\n",
    "img_tmp = img_contours.convert('RGB')\n",
    "img_tmp = 255 - np.array(img_tmp)\n",
    "dark_pixels = img_tmp[:,:,0]==0\n",
    "img_tmp[dark_pixels]=[255,0,0]\n",
    "        \n",
    "pos = nx.get_node_attributes(g, 'pos')\n",
    "fig,axes = plt.subplots(1,1,figsize=(15,15))\n",
    "\n",
    "nx.draw(g, pos,ax =axes,  with_labels=True, node_color='lightblue', node_size=500, font_size=15)\n",
    "axes.imshow(img_tmp, cmap='gray')\n",
    "\n",
    "# axes[0].invert_yaxis()\n",
    "# axes[1].invert_yaxis()\n",
    "plt.show()"
   ]
  },
  {
   "cell_type": "code",
   "execution_count": null,
   "id": "8da7e0da-ab86-4ff1-b051-44b40bc69ec0",
   "metadata": {
    "tags": []
   },
   "outputs": [],
   "source": [
    "img_contours_np"
   ]
  },
  {
   "cell_type": "code",
   "execution_count": null,
   "id": "1354c681-771d-4a31-8bf7-0175671ff696",
   "metadata": {
    "tags": []
   },
   "outputs": [],
   "source": [
    "g.has_edge(55,40)"
   ]
  },
  {
   "cell_type": "code",
   "execution_count": null,
   "id": "ea5b6df5-4424-4769-a51c-808bdc61425f",
   "metadata": {
    "tags": []
   },
   "outputs": [],
   "source": [
    "# import pickle\n",
    "\n",
    "# # save graph object to file\n",
    "# pickle.dump(g, open('g.pickle', 'wb'))"
   ]
  },
  {
   "cell_type": "code",
   "execution_count": null,
   "id": "99adf92c-d2ad-4f29-ae0b-a820d1269ea3",
   "metadata": {
    "tags": []
   },
   "outputs": [],
   "source": [
    "border_eps=0\n",
    "border_number_min = 1\n",
    "\n",
    "start_node_x, start_node_y=nodes_index2global_nodes_coord[43]\n",
    "\n",
    "for node_index in [54]:\n",
    "    end_node_x,end_node_y=nodes_index2global_nodes_coord[node_index]\n",
    "\n",
    "    mean_border_pixels=0\n",
    "    for p in range(0 - line_eps, 1 + line_eps):\n",
    "        line_coords=np.array(list(bresenham(start_node_x+p, start_node_y,end_node_x+p, end_node_y)))\n",
    "        line_coords_pixels=img_contours_np[line_coords[:,1],line_coords[:,0]].flatten()\n",
    "        border_pixels_num = np.where(line_coords_pixels==border_pixel)[0].shape[0]\n",
    "        print(border_pixels_num)\n",
    "        \n",
    "        if border_pixels_num<=border_eps:\n",
    "            mean_border_pixels+=1\n",
    "\n",
    "    if mean_border_pixels>=border_number_min:\n",
    "        print('added')\n",
    "        g.add_edge(start_node_index,node_index)\n",
    "    # m.append(np.mean(mean_pixels))"
   ]
  },
  {
   "cell_type": "code",
   "execution_count": null,
   "id": "341f08ba-026a-4690-aef9-909614acfdaa",
   "metadata": {
    "tags": []
   },
   "outputs": [],
   "source": [
    "# img_tmp=copy.copy(img_contours_np)\n",
    "# img_tmp[line_coords[:,1],line_coords[:,0]]=255\n",
    "\n",
    "# plt.imshow(img_tmp)"
   ]
  },
  {
   "cell_type": "code",
   "execution_count": null,
   "id": "c6da8799-89a6-44f0-a5e1-103fab1d16c5",
   "metadata": {
    "tags": []
   },
   "outputs": [],
   "source": [
    "mean_border_pixels"
   ]
  },
  {
   "cell_type": "markdown",
   "id": "ba37fd4d-0698-4078-90fe-6da6e6cea452",
   "metadata": {
    "tags": []
   },
   "source": [
    "# Graph traversal"
   ]
  },
  {
   "cell_type": "code",
   "execution_count": null,
   "id": "c0675e58-02d3-4939-9f4a-dc101cd64b93",
   "metadata": {
    "tags": []
   },
   "outputs": [],
   "source": [
    "%% time\n",
    "\n",
    "lengths=[]\n",
    "for entry_point in tqdm(entry_nodes):\n",
    "    for exit_point in exit_nodes:\n",
    "        paths=list(nx.all_simple_paths(g, source=entry_point, target=exit_nodes))\n",
    "        for path in paths:\n",
    "            lengths.append(len(path))"
   ]
  },
  {
   "cell_type": "code",
   "execution_count": null,
   "id": "2ac7483e-dff1-4f13-aefc-efa1139cf900",
   "metadata": {
    "tags": []
   },
   "outputs": [],
   "source": [
    "# list(nx.all_simple_paths(g, source=43, target=7))\n",
    "\n",
    "plt.hist(lengths,bins=10)\n",
    "plt.xlabel('length of path from entry point to exit point, edges')\n",
    "plt.show()"
   ]
  },
  {
   "cell_type": "code",
   "execution_count": null,
   "id": "db66f15d-7910-48a1-bcb3-ed33a1cb5242",
   "metadata": {},
   "outputs": [],
   "source": [
    "import math\n",
    "import os\n",
    "import time\n",
    "from itertools import batched\n",
    "from multiprocessing import Manager, Process, Queue\n",
    "from queue import Empty\n",
    "import pickle\n",
    "\n",
    "import pandas as pd\n",
    "\n",
    "from clear_terminal import clear\n",
    "\n",
    "TQueue = list[tuple[int, set[int]]]\n",
    "TResults = list[set[int]]\n",
    "TAdjDict = dict[int, list[int]]\n",
    "\n",
    "\n",
    "def breath_step(\n",
    "        node: int,\n",
    "        current_path: set[int],\n",
    "        adj_dict: TAdjDict,\n",
    "        stop_node: int,\n",
    "        ) -> tuple[TQueue, TResults]:\n",
    "    \"\"\"One step to fill queue from node.\"\"\"\n",
    "    current_path = current_path | {node}\n",
    "    results = []\n",
    "    queue = []\n",
    "    for neighbour in adj_dict[node]:\n",
    "        if neighbour in current_path:\n",
    "            continue\n",
    "        if neighbour == stop_node:\n",
    "            results.append(current_path | {neighbour})\n",
    "        else:\n",
    "            queue.append((neighbour, current_path.copy()))\n",
    "    return queue, results\n",
    "\n",
    "\n",
    "def process_queue(queue: TQueue, adj_dict: TAdjDict, stop_node: int) -> tuple[TQueue, TResults]:\n",
    "    \"\"\"Process queue and generate next queue and results.\"\"\"\n",
    "    next_queue = []\n",
    "    results = []\n",
    "\n",
    "    for node, current_path in queue:\n",
    "        qu, res = breath_step(node, current_path, adj_dict, stop_node)\n",
    "        next_queue.extend(qu)\n",
    "        results.extend(res)\n",
    "    return next_queue, results\n",
    "\n",
    "\n",
    "def process(\n",
    "        queue: Queue,\n",
    "        res_queue: Queue,\n",
    "        adj_dict: TAdjDict,\n",
    "        stop_node: int,\n",
    "        max_size: int,\n",
    "        proc_state: dict\n",
    "        ) -> TResults:\n",
    "    # while done_flag.value == 0:\n",
    "    pid = os.getpid()\n",
    "    proc_state[pid] = ('STARTING', None, None)\n",
    "    processed = 0\n",
    "    results = []\n",
    "    next_queue = []\n",
    "\n",
    "    while True:\n",
    "        proc_state[pid] = ('GET  ', 0, len(results))\n",
    "        try:\n",
    "            next_queue = queue.get(block=True, timeout=0.1)\n",
    "        except Empty:\n",
    "            # print(f\"Proc {pid} in panic, QUITS\")\n",
    "            break\n",
    "        proc_state[pid] = ('PROC ', len(next_queue), len(results))\n",
    "\n",
    "        while 0 < len(next_queue) <= max_size:\n",
    "            next_queue, res = process_queue(next_queue, adj_dict, stop_node)\n",
    "            results.extend(res)\n",
    "\n",
    "        proc_state[pid] = ('SPLIT', len(next_queue), len(results))\n",
    "\n",
    "        processed += 1\n",
    "        # print(f\"Proc {pid}, {processed=}, {len(results)=}, {len(next_queue)=}\")\n",
    "        if next_queue:\n",
    "            for q in batched(next_queue, math.ceil(max_size / 2)):\n",
    "                if queue.full():\n",
    "                    proc_state[pid] = ('PANIC', None, None)\n",
    "                    return\n",
    "                queue.put(q, timeout=2)\n",
    "\n",
    "    proc_state[pid] = ('QUIT ', None, len(results))\n",
    "    res_queue.put(results)\n",
    "\n",
    "\n",
    "def update_state(state_df: pd.DataFrame, process_states: dict[str, tuple[str, int | None, int | None]]) -> pd.DataFrame:\n",
    "    for pid, data in dict(process_state).items():\n",
    "        state_df.loc[pid] = data\n",
    "    if -1 in state_df.index and state_df.shape[0] > 1:\n",
    "        state_df.drop(index=-1, axis='index', inplace=True)\n",
    "    return state_df\n",
    "\n",
    "\n",
    "def print_state_table(state_df: pd.DataFrame) -> None:\n",
    "    print(\"\\033[0;0H\")\n",
    "    print(state_df)\n",
    "\n",
    "\n",
    "if __name__ == \"__main__\":\n",
    "    START_NODE = 61\n",
    "    END_NODE = 18\n",
    "    N_PROCESSES = 6\n",
    "    MAX_SIZE = 200\n",
    "\n",
    "    G = pickle.load(open('g.pickle', 'rb'))\n",
    "\n",
    "    adj_nodes = {node: list(neigh.keys()) for node, neigh in G.adjacency()}\n",
    "\n",
    "    q = Queue()\n",
    "    res_queue = Queue()\n",
    "    manager = Manager()\n",
    "    process_state = manager.dict()\n",
    "\n",
    "    clear()\n",
    "    start = time.time()\n",
    "    processes = [\n",
    "        Process(target=process, args=(q, res_queue, adj_nodes, END_NODE, MAX_SIZE, process_state))\n",
    "        for _ in range(N_PROCESSES)\n",
    "    ]\n",
    "\n",
    "    next_queue = [(START_NODE, set())]\n",
    "    results = []\n",
    "    while 0 < len(next_queue) <= N_PROCESSES:\n",
    "        next_queue, res = process_queue(next_queue, adj_nodes, END_NODE)\n",
    "        results.extend(res)\n",
    "\n",
    "    for cond in next_queue:\n",
    "        q.put([cond])\n",
    "\n",
    "    for proc in processes:\n",
    "        proc.start()\n",
    "\n",
    "    state_df = pd.DataFrame(columns=['state', 'queue', 'results'])\n",
    "    state_df.loc[-1] = [\"WAIT\", \"WAIT\", \"WAIT\"]\n",
    "    while not q.empty():\n",
    "        time.sleep(0.1)\n",
    "        update_state(state_df, process_state)\n",
    "        print_state_table(state_df)\n",
    "        if state_df.shape[0] > 0 and (state_df.state == 'QUIT ').all():\n",
    "            break\n",
    "\n",
    "    for proc in processes:\n",
    "        proc.join()\n",
    "\n",
    "    update_state(state_df, process_state)\n",
    "    print_state_table(state_df)\n",
    "\n",
    "    while not res_queue.empty():\n",
    "        res = res_queue.get()\n",
    "        results.extend(res)\n",
    "    end = time.time()\n",
    "\n",
    "    print(f\"Done in {(end - start):.2f} seconds\")\n",
    "    print(f\"Number of paths: {len(results)}\")\n"
   ]
  },
  {
   "cell_type": "markdown",
   "id": "a06fdcc9-07d5-4245-bd10-bcb56f4a9bfd",
   "metadata": {},
   "source": [
    "# Dynamic grid search (not done)"
   ]
  },
  {
   "cell_type": "code",
   "execution_count": null,
   "id": "728f24f9-9f03-4de5-8a58-90ea37a98eb4",
   "metadata": {},
   "outputs": [],
   "source": [
    "# process nodes of graph\n",
    "# add all nodes to graph\n",
    "g = nx.DiGraph()\n",
    "image_node_coord2node_index = np.zeros(img_shape)\n",
    "for key in range(num_of_nodes):\n",
    "    x,y=nodes_index2global_nodes_coord[key]\n",
    "    image_node_coord2node_index[x,y]=key\n",
    "    g.add_node(key, pos=(x,y))\n",
    "    \n",
    "# pos = nx.get_node_attributes(g, 'pos')\n",
    "# plt.figure(figsize = (5,5))\n",
    "# nx.draw(g, pos, with_labels=True, node_color='lightblue', node_size=500, font_size=10)"
   ]
  },
  {
   "cell_type": "code",
   "execution_count": null,
   "id": "98f1fb71-48fd-4964-8a83-fc3c4c25d358",
   "metadata": {},
   "outputs": [],
   "source": [
    "# create grid\n",
    "cell_size=10\n",
    "grid_size=np.int32(img_shape/cell_size)\n",
    "\n",
    "number_of_cells=0\n",
    "grid_cell_coord2grid_cell_index={}\n",
    "grid_cell_index2grid_cell_coord={}\n",
    "image_coord2grid_cell_index = np.zeros(img_shape)\n",
    "for xi in range(grid_size[0]):\n",
    "    for yi in range(grid_size[1]):   \n",
    "        grid_cell_coord2grid_cell_index[(xi,yi)]=number_of_cells\n",
    "        grid_cell_index2grid_cell_coord[number_of_cells]=(xi,yi)\n",
    "        \n",
    "        # map of grid cell indices\n",
    "        image_coord2grid_cell_index[xi*cell_size:(xi+1)*cell_size,\n",
    "                                 yi*cell_size:(yi+1)*cell_size\n",
    "                                ]=np.full((cell_size,cell_size), number_of_cells)\n",
    "        number_of_cells+=1\n",
    "\n",
    "# plt.imshow(image_coord2grid_cell_index[:10,:100])    \n",
    "\n",
    "grid = np.array(sliding_window_view(image_node_coord2node_index, (cell_size, cell_size))[::cell_size, ::cell_size])\n",
    "grid_summed = grid.sum(axis=(2,3))\n",
    "plt.imshow(grid_summed,cmap='gray', origin='lower')"
   ]
  },
  {
   "cell_type": "code",
   "execution_count": null,
   "id": "c55beb40-b160-4f56-ab96-e6a8b0467f5f",
   "metadata": {
    "tags": []
   },
   "outputs": [],
   "source": [
    "def check_borders(point, shape):\n",
    "    if point[0]>=0 and point[1]>=0 and point[0]<=shape[0] and point[1]<=shape[1]:\n",
    "        return True\n",
    "    else:\n",
    "        return False\n",
    "K=10\n",
    "img_viz_numpy=np.array(img_viz)\n",
    "\n",
    "#127, 255\n",
    "\n",
    "m=[]\n",
    "# grid search\n",
    "for start_node_index in tqdm(range(num_of_nodes)):\n",
    "    \n",
    "    # choose cell\n",
    "    start_node_x,start_node_y=nodes_index2global_nodes_coord[start_node_index]\n",
    "    grid_cell_id=image_coord2grid_cell_index[start_node_x,start_node_y]\n",
    "    cell_x,cell_y=grid_cell_index2grid_cell_coord[grid_cell_id]\n",
    "    \n",
    "    if cell_x-K//2<0:\n",
    "        left_border_x=K//2-cell_x\n",
    "    else:\n",
    "        left_border_x=cell_x-K//2-2\n",
    "\n",
    "    # right x slice border\n",
    "    if cell_y+K//2>grid.shape[0]:\n",
    "        right_border_x=grid.shape[0]\n",
    "    else:\n",
    "        right_border_x=cell_y+K//2+2\n",
    "\n",
    "    # upper_border\n",
    "    if cell_y+K>grid.shape[1]-1:\n",
    "        upper_border=grid.shape[1]-1\n",
    "    else:\n",
    "        upper_border=cell_y+K\n",
    "\n",
    "    grid_summed_slice=grid_summed[left_border_x:right_border_x,cell_y:upper_border]\n",
    "    summed_grid_cell_x,summed_grid_cell_y=np.where(grid_summed_slice!=0)\n",
    "    grid_slice=grid[summed_grid_cell_x,summed_grid_cell_y]\n",
    "\n",
    "    nodes_indices_indices = np.where(grid_slice.flatten()!=0)\n",
    "    nodes_indices =grid_slice.flatten()[nodes_indices_indices]\n",
    "\n",
    "    for node_index in (nodes_indices):\n",
    "        end_node_x,end_node_y=nodes_index2global_nodes_coord[node_index]\n",
    "        mean_pixels=[]\n",
    "        for p in range(-2,3):\n",
    "            line_coords=np.array(list(bresenham(start_node_x+p, start_node_y,end_node_x+p, end_node_y)))\n",
    "            mean_pixel=np.mean(img_viz_numpy[line_coords[:,0],line_coords[:,0]])\n",
    "            m.append(mean_pixel)\n",
    "            mean_pixels.append(mean_pixel)\n",
    "        line_mean=np.mean(mean_pixels)\n",
    "        if line_mean<160 or line_mean>222:\n",
    "            g.add_edge(start_node_index,node_index)\n",
    "        # m.append(np.mean(mean_pixels))\n",
    "   "
   ]
  },
  {
   "cell_type": "code",
   "execution_count": null,
   "id": "2939ec9f-2d85-428d-ab31-a5a30b273c74",
   "metadata": {
    "tags": []
   },
   "outputs": [],
   "source": [
    "plt.imshow(img_viz_numpy,cmap='gray', origin='lower')"
   ]
  },
  {
   "cell_type": "code",
   "execution_count": null,
   "id": "7a60f1f8-179e-42f1-ac3e-9e1043f99d15",
   "metadata": {
    "tags": []
   },
   "outputs": [],
   "source": [
    "pos = nx.get_node_attributes(g, 'pos')\n",
    "plt.figure(figsize = (5,5))\n",
    "nx.draw(g, pos, with_labels=True, node_color='lightblue', node_size=500, font_size=10)"
   ]
  },
  {
   "cell_type": "code",
   "execution_count": null,
   "id": "b1552bf7-b879-4143-a1c0-3c978dd66b9b",
   "metadata": {
    "tags": []
   },
   "outputs": [],
   "source": [
    "plt.hist(m,bins=20)"
   ]
  },
  {
   "cell_type": "code",
   "execution_count": null,
   "id": "36590c4a-da6c-449a-afae-5229cb5c9b35",
   "metadata": {
    "tags": []
   },
   "outputs": [],
   "source": [
    "np.array(list(bresenham(-1, -4, 3, 2)))"
   ]
  },
  {
   "cell_type": "code",
   "execution_count": null,
   "id": "31b1d74c-9e8a-4b5e-947c-20abe06baf0a",
   "metadata": {
    "tags": []
   },
   "outputs": [],
   "source": [
    "#     for xi in range(-K//2,K//2+1):\n",
    "#         cell_x_tmp = cell_x + xi\n",
    "#         for yi in range(0,K):\n",
    "#             cell_y_tmp = cell_y + yi\n",
    "            \n",
    "#             if check_borders((cell_x_tmp,cell_y_tmp),img_shape):\n",
    "\n",
    "\n",
    "\n",
    "    # wave_flag=True\n",
    "    # wave=0\n",
    "    # indices=[]\n",
    "\n",
    "    # while wave_flag:\n",
    "        # center cell\n",
    "#         center_point=[node_x, node_y+1]\n",
    "        \n",
    "#         if check_borders(center_point):\n",
    "#             indices.append(center_point)\n",
    "        \n",
    "#         # border cells\n",
    "#         for i in range(wave+1):\n",
    "#             left_point=[node_x-1-i, node_y-1-i]\n",
    "#             right_point=[node_x+1+i, node_y+1+i]\n",
    "            \n",
    "#         if check_borders(left_point):\n",
    "#             indices.append(left_point)\n",
    "            \n",
    "#         if check_borders(right_point):\n",
    "#             indices.append(right_point)"
   ]
  },
  {
   "cell_type": "code",
   "execution_count": null,
   "id": "580fcdbd-bab0-43e4-a785-c5f1824c24e0",
   "metadata": {
    "tags": []
   },
   "outputs": [],
   "source": [
    "# def wave_coords(x,y,grid,wave_step):\n",
    "width,height=grid.shape[:2]\n"
   ]
  },
  {
   "cell_type": "code",
   "execution_count": null,
   "id": "88512834-896e-48ae-84bd-dfc676e0cdca",
   "metadata": {
    "tags": []
   },
   "outputs": [],
   "source": [
    "grid.shape"
   ]
  },
  {
   "cell_type": "code",
   "execution_count": null,
   "id": "d84e592d-cd7f-4b84-8e03-16e7a4dc86c2",
   "metadata": {
    "tags": []
   },
   "outputs": [],
   "source": [
    "cell_x"
   ]
  },
  {
   "cell_type": "code",
   "execution_count": null,
   "id": "204360f9-594a-44f8-b35e-34784b6bc5a9",
   "metadata": {
    "tags": []
   },
   "outputs": [],
   "source": [
    "plt.imshow(grid_wraped,cmap='gray', origin='lower' )\n",
    "plt.show()"
   ]
  },
  {
   "cell_type": "code",
   "execution_count": null,
   "id": "a616a51a-3a9e-4b11-9a34-304979419745",
   "metadata": {
    "tags": []
   },
   "outputs": [],
   "source": [
    "plt.imshow(image_coord2grid_cell_index[:20],cmap='gray', origin='lower' )\n",
    "plt.show()"
   ]
  },
  {
   "cell_type": "code",
   "execution_count": null,
   "id": "c226a337-5310-4ae6-9fa5-f111625fae09",
   "metadata": {
    "tags": []
   },
   "outputs": [],
   "source": [
    "grid_cell_index2grid_cell_coord"
   ]
  },
  {
   "cell_type": "code",
   "execution_count": null,
   "id": "96c577b1-c7a1-4639-9505-d022900e014b",
   "metadata": {
    "tags": []
   },
   "outputs": [],
   "source": [
    "255-img_with_border"
   ]
  },
  {
   "cell_type": "code",
   "execution_count": null,
   "id": "cd9fe451-8cd7-4287-baa0-0002c5501aea",
   "metadata": {
    "tags": []
   },
   "outputs": [],
   "source": [
    "pos = nx.get_node_attributes(g, 'pos')\n",
    "nx.draw(g, pos, with_labels=True, node_color='lightblue', node_size=500, font_size=10)\n",
    "plt.show()"
   ]
  },
  {
   "cell_type": "markdown",
   "id": "c7503925-dfa1-467a-ae0a-f60ae075ca93",
   "metadata": {},
   "source": [
    "# Deprecated"
   ]
  },
  {
   "cell_type": "markdown",
   "id": "6fc39dfc-8232-46be-af18-26f364c9f10d",
   "metadata": {},
   "source": [
    "Entry points 22\n",
    "number of nodes 1770"
   ]
  },
  {
   "cell_type": "code",
   "execution_count": null,
   "id": "824335e5-ff4b-4ace-b72d-2be225e977f6",
   "metadata": {
    "tags": []
   },
   "outputs": [],
   "source": [
    "# contour_points = cnts[3]\n",
    "gs=[]\n",
    "\n",
    "\n",
    "for i,contour_points in enumerate(cnts):\n",
    "    g = nx.Graph()\n",
    "\n",
    "    for i, point in enumerate(contour_points):\n",
    "        g.add_node(i, pos=point)\n",
    "\n",
    "\n",
    "    for i in range(len(contour_points) - 1):\n",
    "        g.add_edge(i, i + 1)\n",
    "\n",
    "    g.add_edge(len(contour_points) - 1, 0)\n",
    "    gs.append(g)\n",
    "\n",
    "names = tuple([f\"g{i}-\" for i in range(len(cnts))])\n",
    "\n",
    "g=nx.union_all(gs,rename=names)\n",
    "\n",
    "pos = nx.get_node_attributes(g, 'pos')\n",
    "\n",
    "plt.figure(figsize = (10,10))\n",
    "nx.draw(g, pos, with_labels=True, node_color='lightblue', node_size=500, font_size=10)\n",
    "plt.show()"
   ]
  },
  {
   "cell_type": "code",
   "execution_count": null,
   "id": "e7cd62e0-d7b2-46fe-be7e-a605ea75515b",
   "metadata": {
    "tags": []
   },
   "outputs": [],
   "source": [
    "G = nx.dorogovtsev_goltsev_mendes_graph(3)\n",
    "nx.draw(G, with_labels=True, node_color='lightblue', node_size=500, font_size=10)"
   ]
  },
  {
   "cell_type": "code",
   "execution_count": null,
   "id": "64207fbb-c4cb-4260-a96a-4cf13558e8ff",
   "metadata": {
    "tags": []
   },
   "outputs": [],
   "source": [
    "# G = nx.path_graph(5)\n",
    "\n",
    "# input 22 points\n",
    "# output 66 points\n",
    "# G = nx.complete_multipartite_graph(4,5)\n",
    "G = nx.dorogovtsev_goltsev_mendes_graph(7)\n",
    "# nx.draw(G, with_labels=True, node_color='lightblue', node_size=500, font_size=10)\n",
    "\n",
    "G.number_of_nodes()"
   ]
  },
  {
   "cell_type": "code",
   "execution_count": null,
   "id": "aebc28a5-5fda-4508-85fe-4322d8116fb8",
   "metadata": {
    "tags": []
   },
   "outputs": [],
   "source": [
    "%%time\n",
    "\n",
    "list(nx.all_simple_paths(G, source=0, target=7))"
   ]
  },
  {
   "cell_type": "code",
   "execution_count": null,
   "id": "397d5770-0359-406c-81e7-2794616afedd",
   "metadata": {},
   "outputs": [],
   "source": [
    "img_drawings = copy.copy(Image.fromarray(grad_viz)).convert('RGB')\n",
    "img_drawings=draw_edges(img_drawings, cnts=cnts, r=2, l_width=1)\n",
    "\n",
    "plt.imshow(np.array(img_drawings)[:50,:50],cmap='gray',origin='lower')\n",
    "plt.show()\n",
    "\n",
    "def preprocess_image_2(image):\n",
    "\n",
    "    global_thresh = filters.threshold_otsu(image)\n",
    "    image = image > global_thresh\n",
    "    binary = image*255\n",
    "    binary = binary.astype(np.uint8)\n",
    "\n",
    "    grad = abs(filters.rank.gradient(binary, morphology.disk(1)))\n",
    "    grad = np.clip(grad, 0, 255).astype(np.uint8)\n",
    "\n",
    "    return grad\n",
    "\n",
    "\n",
    "eps=100\n",
    "line_eps = 2\n",
    "border_eps = 3\n",
    "border_number_lines_eps = 3\n",
    "    \n",
    "# image_preprocess_2\n",
    "grad_map = preprocess_image_2(np.array(img_viz))\n",
    "\n",
    "img_drawings = copy.copy(Image.fromarray(grad_map)).convert('RGB')\n",
    "img_drawings=draw_edges(img_drawings, cnts=cnts, r=2, l_width=1)\n",
    "\n",
    "plt.imshow(np.array(img_drawings)[:50,:50],cmap='gray',origin='lower')\n",
    "plt.show()"
   ]
  }
 ],
 "metadata": {
  "kernelspec": {
   "display_name": "torch",
   "language": "python",
   "name": "torch"
  },
  "language_info": {
   "codemirror_mode": {
    "name": "ipython",
    "version": 3
   },
   "file_extension": ".py",
   "mimetype": "text/x-python",
   "name": "python",
   "nbconvert_exporter": "python",
   "pygments_lexer": "ipython3",
   "version": "3.11.9"
  }
 },
 "nbformat": 4,
 "nbformat_minor": 5
}
