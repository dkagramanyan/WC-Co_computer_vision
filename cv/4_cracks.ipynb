{
 "cells": [
  {
   "cell_type": "code",
   "execution_count": null,
   "id": "2f0500a4-1a81-40b0-a685-237c797206ed",
   "metadata": {
    "tags": []
   },
   "outputs": [],
   "source": [
    "import numpy as np\n",
    "from skimage import io\n",
    "from utils import grainPreprocess, grainMark\n",
    "from numpy.lib.stride_tricks import sliding_window_view\n",
    "\n",
    "from matplotlib import pyplot as plt\n",
    "\n",
    "from skimage import io, color, filters, morphology, util\n",
    "from skimage.measure import EllipseModel\n",
    "from skimage.color import rgb2gray\n",
    "from skimage import filters, util\n",
    "from skimage.morphology import disk, skeletonize, ball\n",
    "from skimage.measure import approximate_polygon\n",
    "from skimage import transform\n",
    "import copy\n",
    "from PIL import Image, ImageDraw, ImageFilter, ImageOps\n",
    "\n",
    "from matplotlib import cm\n",
    "import networkx as nx"
   ]
  },
  {
   "cell_type": "code",
   "execution_count": null,
   "id": "91e4c5d0-e5e2-45e1-8d89-d3e838202515",
   "metadata": {
    "tags": []
   },
   "outputs": [],
   "source": [
    "def preprocess_image_1(image):\n",
    "    if len(image.shape)==3:\n",
    "        image = color.rgb2gray(image)\n",
    "\n",
    "    image = filters.rank.median(image, morphology.disk(3))\n",
    "\n",
    "    global_thresh = filters.threshold_otsu(image)\n",
    "    image = image > global_thresh\n",
    "    binary = image*255\n",
    "    binary = binary.astype(np.uint8)\n",
    "\n",
    "    grad = abs(filters.rank.gradient(binary, morphology.disk(1)))\n",
    "    bin_grad = (1 - binary + grad) * 127\n",
    "    bin_grad = np.clip(bin_grad, 0, 255).astype(np.uint8)\n",
    "\n",
    "    return bin_grad\n",
    "\n",
    "def preprocess_image_2(image):\n",
    "    if len(image.shape)==3:\n",
    "        image = color.rgb2gray(image)\n",
    "\n",
    "    image = filters.rank.median(image, morphology.disk(3))\n",
    "\n",
    "    global_thresh = filters.threshold_otsu(image)\n",
    "    image = image > global_thresh\n",
    "    binary = image*255\n",
    "    binary = binary.astype(np.uint8)\n",
    "\n",
    "    grad = abs(filters.rank.gradient(binary, morphology.disk(1)))\n",
    "    bin_grad = (1 - binary) * 127\n",
    "    bin_grad = np.clip(bin_grad, 0, 255).astype(np.uint8)\n",
    "\n",
    "    return bin_grad\n",
    "\n",
    "def draw_edges(image, cnts, color=(0, 139, 139), r=4, e_width=5, l_width=4):\n",
    "\n",
    "    img = copy.copy(image)\n",
    "    draw = ImageDraw.Draw(img)\n",
    "\n",
    "    for j, cnt in enumerate(cnts):\n",
    "        if len(cnt) > 1:\n",
    "            point = cnt[0]\n",
    "            x1, y1 = point[1], point[0]\n",
    "\n",
    "            for i, point2 in enumerate(cnt):\n",
    "                p2 = point2\n",
    "\n",
    "                x2, y2 = p2[1], p2[0]\n",
    "\n",
    "                draw.ellipse((y2 - r, x2 - r, y2 + r, x2 + r), fill=color, width=e_width)\n",
    "                draw.line((y1, x1, y2, x2), fill=(255, 140, 0), width=l_width)\n",
    "                x1, y1 = x2, y2\n",
    "\n",
    "    return img"
   ]
  },
  {
   "cell_type": "markdown",
   "id": "eefdf5af-76aa-4ed3-b94d-b84c2b3bb407",
   "metadata": {},
   "source": [
    "# Plot all points"
   ]
  },
  {
   "cell_type": "code",
   "execution_count": null,
   "id": "a847fb3b-c673-46f0-bf29-974dabc9cee6",
   "metadata": {
    "tags": []
   },
   "outputs": [],
   "source": [
    "orig_img = io.imread('../datasets/original/o_bc_left/Ultra_Co6_2/Ultra_Co6_2-001.jpeg')[:200,:200]\n",
    "\n",
    "# img = 255 - img\n",
    "\n",
    "r=2\n",
    "eps = 15\n",
    "border = 10\n",
    "tol = 3\n",
    "\n",
    "orig_img = preprocess_image_1(orig_img)\n",
    "img_with_border = Image.fromarray(orig_img)\n",
    "img_with_border = ImageOps.expand(img_with_border, border=border, fill='white')\n",
    "\n",
    "cnts=grainMark.get_contours(np.array(img_with_border),tol=tol)\n",
    "\n",
    "orig_img = preprocess_image_2(orig_img)\n",
    "img_with_border = Image.fromarray(orig_img)\n",
    "img_with_border = ImageOps.expand(img_with_border, border=border, fill='white')\n",
    "\n",
    "# coord2index\n",
    "nodes_coord2index={}\n",
    "nodes_index2coord={}\n",
    "num_of_nodes=0\n",
    "\n",
    "for points in cnts:\n",
    "    for point in points:\n",
    "        x,y = point[0],point[1]\n",
    "        nodes_coord2index[(x,y)]=num_of_nodes\n",
    "        nodes_index2coord[num_of_nodes]=(x,y)\n",
    "        num_of_nodes+=1\n",
    "\n",
    "# entry points\n",
    "x_entry=[]\n",
    "y_entry=[]\n",
    "\n",
    "entry_dict={}\n",
    "\n",
    "y_entry_max=0\n",
    "\n",
    "for points in cnts:\n",
    "    for point in points:\n",
    "        if point[1]<eps:\n",
    "            x,y = point[0],point[1]\n",
    "            x_entry.append(x)\n",
    "            y_entry.append(y)   \n",
    "            # condition to make end exit poits below start points \n",
    "            if y_entry_max<y:\n",
    "                y_entry_max=y\n",
    "            \n",
    "            index=nodes_coord2index[(x,y)]\n",
    "            entry_dict[index]=1\n",
    "\n",
    "# exit points\n",
    "width, height=img_with_border.size     \n",
    "\n",
    "x_exit=[]\n",
    "y_exit=[]\n",
    "exit_dict={}\n",
    "\n",
    "for points in cnts:\n",
    "    for point in points:\n",
    "        if (point[0] < eps or width - point[0] < eps or height - point[1] < eps) and point[1]>y_entry_max:\n",
    "            x,y = point[0],point[1]\n",
    "            x_exit.append(x)\n",
    "            y_exit.append(y)\n",
    "            index=nodes_coord2index[(x,y)]\n",
    "            exit_dict[index]=1\n",
    "\n",
    "img = copy.copy(img_with_border).convert('RGB')\n",
    "img=draw_edges(img, cnts=cnts, r=2, l_width=1)\n",
    "draw = ImageDraw.Draw(img)\n",
    "\n",
    "# entry blue\n",
    "for i in range(len(x_entry)):\n",
    "    x = x_entry[i]\n",
    "    y = y_entry[i]\n",
    "    draw.ellipse((x - r, y - r, x + r, y + r), fill=(0,0,200), width=1)\n",
    "    \n",
    "# exit red\n",
    "for i in range(len(x_exit)):\n",
    "    x = x_exit[i]\n",
    "    y = y_exit[i]\n",
    "    draw.ellipse((x - r, y - r, x + r, y + r), fill=(150,0,0), width=1)\n",
    "\n",
    "plt.figure(figsize=(7,7))\n",
    "plt.imshow(img,cmap='gray', origin='lower')\n",
    "plt.xlabel('x',fontsize=15)\n",
    "plt.ylabel('y',fontsize=15)\n",
    "plt.show()"
   ]
  },
  {
   "cell_type": "code",
   "execution_count": null,
   "id": "07cb6325-7665-48a8-81f6-85f7cb3713aa",
   "metadata": {
    "tags": []
   },
   "outputs": [],
   "source": [
    "# image with only nodes indices\n",
    "img = preprocess_image_2(orig_img)\n",
    "img_with_border = Image.fromarray(np.full(img.shape,0,dtype=np.uint8))\n",
    "img_with_border = ImageOps.expand(img_with_border, border=border, fill='black')\n",
    "img_with_border = np.array(img_with_border)"
   ]
  },
  {
   "cell_type": "code",
   "execution_count": null,
   "id": "244002f9-74d1-414f-aab6-5ec327f71661",
   "metadata": {
    "tags": []
   },
   "outputs": [],
   "source": [
    "def check_borders(point, image):\n",
    "    if right_point[0]>=0 and right_point[1]>=0 and right_point[0]<=grid.shape[0] and right_point[1]<=grid.shape[1]\n",
    "        return true\n",
    "    else:\n",
    "        return False\n",
    "\n",
    "# create grid\n",
    "cell_size=10\n",
    "\n",
    "grid = np.array(sliding_window_view(img_with_border, (cell_size, cell_size))[::cell_size, ::cell_size])\n",
    "grid_global_coords2index = np.zeros_like(img_with_border)\n",
    "grid_wraped = grid.sum(axis=(2,3))\n",
    "\n",
    "number_of_cells=0\n",
    "grid_local_coords2index={}\n",
    "grid_local_index2coords={}\n",
    "for xi in range(grid.shape[0]):\n",
    "    for yi in range(grid.shape[1]):   \n",
    "        grid_local_coords2index[(xi,yi)]=number_of_cells\n",
    "        grid_local_index2coords[number_of_cells]=(xi,yi)\n",
    "        \n",
    "        # map of grid cell indices\n",
    "        grid_global_coords2index[xi*cell_size:(xi+1)*cell_size,\n",
    "                                 yi*cell_size:(yi+1)*cell_size\n",
    "                                ]=np.full((cell_size,cell_size), number_of_cells)\n",
    "        \n",
    "        number_of_cells+=1\n",
    "        \n",
    "# process nodes of graph\n",
    "for key in range(num_of_nodes):\n",
    "    x,y=nodes_index2coord[key]\n",
    "    img_with_border[x,y]=key\n",
    "    \n",
    "# add all nodes to graph\n",
    "g = nx.Graph()\n",
    "for key in range(num_of_nodes):\n",
    "    coords=nodes_index2coord[key]\n",
    "    g.add_node(key, pos=coords)\n",
    "    \n",
    "# grid search\n",
    "for i in range(num_of_nodes):\n",
    "    # choose cell\n",
    "    node_x,node_y=nodes_index2coord[i]\n",
    "    grid_cell_id=grid_global_coords2index[node_x,node_y]\n",
    "    cell_x,cell_y=grid_local_index2coords[grid_cell_id]\n",
    "    \n",
    "    wave_flag=True\n",
    "    wave=0\n",
    "    indices=[]\n",
    "    \n",
    "    # send waves to each direction\n",
    "    while wave_flag:\n",
    "        # center cell\n",
    "        center_point=[node_x, node_y+1]\n",
    "        \n",
    "        if check_borders(center_point):\n",
    "            indices.append(center_point)\n",
    "        \n",
    "        # border cells\n",
    "        for i in range(wave+1):\n",
    "            left_point=[node_x-1-i, node_y-1-i]\n",
    "            right_point=[node_x+1+i, node_y+1+i]\n",
    "            \n",
    "        if check_borders(left_point):\n",
    "            indices.append(left_point)\n",
    "            \n",
    "        if check_borders(right_point):\n",
    "            indices.append(right_point)\n",
    "            \n",
    "        if :\n",
    "            "
   ]
  },
  {
   "cell_type": "code",
   "execution_count": null,
   "id": "580fcdbd-bab0-43e4-a785-c5f1824c24e0",
   "metadata": {
    "tags": []
   },
   "outputs": [],
   "source": [
    "# def wave_coords(x,y,grid,wave_step):\n",
    "width,height=grid.shape[:2]\n"
   ]
  },
  {
   "cell_type": "code",
   "execution_count": null,
   "id": "88512834-896e-48ae-84bd-dfc676e0cdca",
   "metadata": {
    "tags": []
   },
   "outputs": [],
   "source": [
    "grid.shape"
   ]
  },
  {
   "cell_type": "code",
   "execution_count": null,
   "id": "d84e592d-cd7f-4b84-8e03-16e7a4dc86c2",
   "metadata": {
    "tags": []
   },
   "outputs": [],
   "source": [
    "cell_x"
   ]
  },
  {
   "cell_type": "code",
   "execution_count": null,
   "id": "204360f9-594a-44f8-b35e-34784b6bc5a9",
   "metadata": {
    "tags": []
   },
   "outputs": [],
   "source": [
    "plt.imshow(grid_wraped,cmap='gray', origin='lower' )\n",
    "plt.show()"
   ]
  },
  {
   "cell_type": "code",
   "execution_count": null,
   "id": "a616a51a-3a9e-4b11-9a34-304979419745",
   "metadata": {
    "tags": []
   },
   "outputs": [],
   "source": [
    "plt.imshow(grid_global_coords2index[:20],cmap='gray', origin='lower' )\n",
    "plt.show()"
   ]
  },
  {
   "cell_type": "code",
   "execution_count": null,
   "id": "c226a337-5310-4ae6-9fa5-f111625fae09",
   "metadata": {
    "tags": []
   },
   "outputs": [],
   "source": [
    "grid_local_index2coords"
   ]
  },
  {
   "cell_type": "code",
   "execution_count": null,
   "id": "96c577b1-c7a1-4639-9505-d022900e014b",
   "metadata": {
    "tags": []
   },
   "outputs": [],
   "source": [
    "255-img_with_border"
   ]
  },
  {
   "cell_type": "code",
   "execution_count": null,
   "id": "cd9fe451-8cd7-4287-baa0-0002c5501aea",
   "metadata": {
    "tags": []
   },
   "outputs": [],
   "source": [
    "pos = nx.get_node_attributes(g, 'pos')\n",
    "nx.draw(g, pos, with_labels=True, node_color='lightblue', node_size=500, font_size=10)\n",
    "plt.show()"
   ]
  },
  {
   "cell_type": "markdown",
   "id": "6fc39dfc-8232-46be-af18-26f364c9f10d",
   "metadata": {},
   "source": [
    "Entry points 22\n",
    "number of nodes 1770"
   ]
  },
  {
   "cell_type": "code",
   "execution_count": null,
   "id": "824335e5-ff4b-4ace-b72d-2be225e977f6",
   "metadata": {
    "tags": []
   },
   "outputs": [],
   "source": [
    "# contour_points = cnts[3]\n",
    "gs=[]\n",
    "\n",
    "\n",
    "for i,contour_points in enumerate(cnts):\n",
    "    g = nx.Graph()\n",
    "\n",
    "    for i, point in enumerate(contour_points):\n",
    "        g.add_node(i, pos=point)\n",
    "\n",
    "\n",
    "    for i in range(len(contour_points) - 1):\n",
    "        g.add_edge(i, i + 1)\n",
    "\n",
    "    g.add_edge(len(contour_points) - 1, 0)\n",
    "    gs.append(g)\n",
    "\n",
    "names = tuple([f\"g{i}-\" for i in range(len(cnts))])\n",
    "\n",
    "g=nx.union_all(gs,rename=names)\n",
    "\n",
    "pos = nx.get_node_attributes(g, 'pos')\n",
    "\n",
    "plt.figure(figsize = (10,10))\n",
    "nx.draw(g, pos, with_labels=True, node_color='lightblue', node_size=500, font_size=10)\n",
    "plt.show()"
   ]
  },
  {
   "cell_type": "code",
   "execution_count": null,
   "id": "e7cd62e0-d7b2-46fe-be7e-a605ea75515b",
   "metadata": {
    "tags": []
   },
   "outputs": [],
   "source": [
    "G = nx.dorogovtsev_goltsev_mendes_graph(3)\n",
    "nx.draw(G, with_labels=True, node_color='lightblue', node_size=500, font_size=10)"
   ]
  },
  {
   "cell_type": "code",
   "execution_count": null,
   "id": "64207fbb-c4cb-4260-a96a-4cf13558e8ff",
   "metadata": {
    "tags": []
   },
   "outputs": [],
   "source": [
    "# G = nx.path_graph(5)\n",
    "\n",
    "# input 22 points\n",
    "# output 66 points\n",
    "# G = nx.complete_multipartite_graph(4,5)\n",
    "G = nx.dorogovtsev_goltsev_mendes_graph(7)\n",
    "# nx.draw(G, with_labels=True, node_color='lightblue', node_size=500, font_size=10)\n",
    "\n",
    "G.number_of_nodes()"
   ]
  },
  {
   "cell_type": "code",
   "execution_count": null,
   "id": "aebc28a5-5fda-4508-85fe-4322d8116fb8",
   "metadata": {
    "tags": []
   },
   "outputs": [],
   "source": [
    "%%time\n",
    "\n",
    "list(nx.all_simple_paths(G, source=0, target=7))"
   ]
  },
  {
   "cell_type": "code",
   "execution_count": null,
   "id": "397d5770-0359-406c-81e7-2794616afedd",
   "metadata": {},
   "outputs": [],
   "source": []
  }
 ],
 "metadata": {
  "kernelspec": {
   "display_name": "torch",
   "language": "python",
   "name": "torch"
  },
  "language_info": {
   "codemirror_mode": {
    "name": "ipython",
    "version": 3
   },
   "file_extension": ".py",
   "mimetype": "text/x-python",
   "name": "python",
   "nbconvert_exporter": "python",
   "pygments_lexer": "ipython3",
   "version": "3.11.9"
  }
 },
 "nbformat": 4,
 "nbformat_minor": 5
}
