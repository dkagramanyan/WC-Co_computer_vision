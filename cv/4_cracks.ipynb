{
 "cells": [
  {
   "cell_type": "code",
   "execution_count": null,
   "id": "2f0500a4-1a81-40b0-a685-237c797206ed",
   "metadata": {
    "tags": []
   },
   "outputs": [],
   "source": [
    "import numpy as np\n",
    "from skimage import io\n",
    "from utils import grainPreprocess, grainMark\n",
    "\n",
    "from matplotlib import pyplot as plt\n",
    "\n",
    "from skimage import io, color, filters, morphology, util\n",
    "from skimage.measure import EllipseModel\n",
    "from skimage.color import rgb2gray\n",
    "from skimage import filters, util\n",
    "from skimage.morphology import disk, skeletonize, ball\n",
    "from skimage.measure import approximate_polygon\n",
    "from skimage import transform\n",
    "import copy\n",
    "from PIL import Image, ImageDraw, ImageFilter, ImageOps\n",
    "\n",
    "from matplotlib import cm"
   ]
  },
  {
   "cell_type": "code",
   "execution_count": null,
   "id": "91e4c5d0-e5e2-45e1-8d89-d3e838202515",
   "metadata": {
    "tags": []
   },
   "outputs": [],
   "source": [
    "def preprocess_image(image):\n",
    "    if len(image.shape)==3:\n",
    "        image = color.rgb2gray(image)\n",
    "\n",
    "    image = filters.rank.median(image, morphology.disk(3))\n",
    "\n",
    "    global_thresh = filters.threshold_otsu(image)\n",
    "    image = image > global_thresh\n",
    "    binary = image*255\n",
    "    binary = binary.astype(np.uint8)\n",
    "\n",
    "    grad = abs(filters.rank.gradient(binary, morphology.disk(1)))\n",
    "    bin_grad = (1 - binary + grad) * 127\n",
    "    bin_grad = np.clip(bin_grad, 0, 255).astype(np.uint8)\n",
    "\n",
    "    return bin_grad"
   ]
  },
  {
   "cell_type": "code",
   "execution_count": null,
   "id": "92ca838e-e333-4e73-9bc5-50746d9ce443",
   "metadata": {
    "tags": []
   },
   "outputs": [],
   "source": [
    "def draw_edges(image, cnts, color=(0, 139, 139), r=4, e_width=5, l_width=4):\n",
    "\n",
    "    img = copy.copy(image)\n",
    "    draw = ImageDraw.Draw(img)\n",
    "\n",
    "    for j, cnt in enumerate(cnts):\n",
    "        if len(cnt) > 1:\n",
    "            point = cnt[0]\n",
    "            x1, y1 = point[1], point[0]\n",
    "\n",
    "            for i, point2 in enumerate(cnt):\n",
    "                p2 = point2\n",
    "\n",
    "                x2, y2 = p2[1], p2[0]\n",
    "\n",
    "                draw.ellipse((y2 - r, x2 - r, y2 + r, x2 + r), fill=color, width=e_width)\n",
    "                draw.line((y1, x1, y2, x2), fill=(255, 140, 0), width=l_width)\n",
    "                x1, y1 = x2, y2\n",
    "\n",
    "    return img"
   ]
  },
  {
   "cell_type": "code",
   "execution_count": null,
   "id": "d7d9eeef-05c1-4617-ba69-bb2e8c7aae9e",
   "metadata": {
    "tags": []
   },
   "outputs": [],
   "source": [
    "img = io.imread('../datasets/original/o_bc_left/Ultra_Co6_2/Ultra_Co6_2-001.jpeg')[:200,:200]\n",
    "img = preprocess_image(img)\n",
    "\n",
    "img_with_border = Image.fromarray(img)\n",
    "img_with_border = ImageOps.expand(img_with_border,border=10, fill='white')\n",
    "\n",
    "cnt=grainMark.get_contours(np.array(img_with_border),tol=3)\n",
    "\n",
    "cnt_img=draw_edges(img_with_border.convert('RGB'),cnts=cnt, r=2, l_width=1)\n",
    "\n",
    "# plt.figure(figsize=(10,10))\n",
    "# plt.imshow(cnt_img)\n",
    "# plt.show()"
   ]
  },
  {
   "cell_type": "code",
   "execution_count": null,
   "id": "e1623898-5276-4188-86eb-fc02d8987a53",
   "metadata": {
    "tags": []
   },
   "outputs": [],
   "source": [
    "img = io.imread('../datasets/original/o_bc_left/Ultra_Co6_2/Ultra_Co6_2-001.jpeg')[:200,:200]\n",
    "img = preprocess_image(img)\n",
    "\n",
    "r=2\n",
    "eps = 5\n",
    "border = 10\n",
    "tol = 2\n",
    "\n",
    "xs=[]\n",
    "ys=[]\n",
    "\n",
    "img_with_border = Image.fromarray(img)\n",
    "img_with_border = ImageOps.expand(img_with_border, border=border, fill='white')\n",
    "\n",
    "cnts=grainMark.get_contours(np.array(img_with_border),tol=tol)\n",
    "\n",
    "for points in cnts:\n",
    "    for point in points:\n",
    "        if point[1]<10+eps:\n",
    "            xs.append(point[1])\n",
    "            ys.append(point[0])\n",
    "\n",
    "img = copy.copy(img_with_border).convert('RGB')\n",
    "img=draw_edges(img, cnts=cnts, r=2, l_width=1)\n",
    "draw = ImageDraw.Draw(img)\n",
    "\n",
    "\n",
    "for i in range(len(xs)):\n",
    "    x = xs[i]\n",
    "    y = ys[i]\n",
    "    draw.ellipse((y - r, x - r, y + r, x + r), fill=(150,150,0), width=1)\n",
    "\n",
    "plt.figure(figsize=(10,10))\n",
    "plt.imshow(img,cmap='gray')\n",
    "plt.show()\n"
   ]
  }
 ],
 "metadata": {
  "kernelspec": {
   "display_name": "torch",
   "language": "python",
   "name": "torch"
  },
  "language_info": {
   "codemirror_mode": {
    "name": "ipython",
    "version": 3
   },
   "file_extension": ".py",
   "mimetype": "text/x-python",
   "name": "python",
   "nbconvert_exporter": "python",
   "pygments_lexer": "ipython3",
   "version": "3.11.9"
  }
 },
 "nbformat": 4,
 "nbformat_minor": 5
}
