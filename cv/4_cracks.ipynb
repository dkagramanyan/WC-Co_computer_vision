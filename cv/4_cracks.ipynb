{
 "cells": [
  {
   "cell_type": "code",
   "execution_count": null,
   "id": "2f0500a4-1a81-40b0-a685-237c797206ed",
   "metadata": {
    "tags": []
   },
   "outputs": [],
   "source": [
    "import numpy as np\n",
    "from skimage import io\n",
    "from utils import grainPreprocess, grainMark\n",
    "from numpy.lib.stride_tricks import sliding_window_view\n",
    "\n",
    "from matplotlib import pyplot as plt\n",
    "\n",
    "from skimage import io, color, filters, morphology, util\n",
    "from skimage.measure import EllipseModel\n",
    "from skimage.color import rgb2gray\n",
    "from skimage import filters, util\n",
    "from skimage.morphology import disk, skeletonize, ball\n",
    "from skimage.measure import approximate_polygon\n",
    "from skimage import transform\n",
    "import copy\n",
    "from PIL import Image, ImageDraw, ImageFilter, ImageOps\n",
    "\n",
    "from matplotlib import cm\n",
    "import networkx as nx\n",
    "from tqdm.notebook import tqdm\n",
    "\n",
    "from bresenham import bresenham\n",
    "import pandas as pd"
   ]
  },
  {
   "cell_type": "code",
   "execution_count": null,
   "id": "91e4c5d0-e5e2-45e1-8d89-d3e838202515",
   "metadata": {
    "tags": []
   },
   "outputs": [],
   "source": [
    "def preprocess_image_1(image):\n",
    "    if len(image.shape)==3:\n",
    "        image = color.rgb2gray(image)\n",
    "\n",
    "    image = filters.rank.median(image, morphology.disk(3))\n",
    "\n",
    "    global_thresh = filters.threshold_otsu(image)\n",
    "    image = image > global_thresh\n",
    "    binary = image*255\n",
    "    binary = binary.astype(np.uint8)\n",
    "\n",
    "    grad = abs(filters.rank.gradient(binary, morphology.disk(1)))\n",
    "    bin_grad = (1 - binary + grad) * 127\n",
    "    bin_grad = np.clip(bin_grad, 0, 255).astype(np.uint8)\n",
    "\n",
    "    return bin_grad\n",
    "\n",
    "def preprocess_image_2(image):\n",
    "    if len(image.shape)==3:\n",
    "        image = color.rgb2gray(image)\n",
    "\n",
    "    image = filters.rank.median(image, morphology.disk(3))\n",
    "\n",
    "    global_thresh = filters.threshold_otsu(image)\n",
    "    image = image > global_thresh\n",
    "    binary = image*255\n",
    "    binary = binary.astype(np.uint8)\n",
    "\n",
    "    grad = abs(filters.rank.gradient(binary, morphology.disk(1)))\n",
    "    # bin_grad = (1 - binary ) * 127\n",
    "    bin_grad = grad\n",
    "    bin_grad = np.clip(bin_grad, 0, 255).astype(np.uint8)\n",
    "\n",
    "    return bin_grad\n",
    "\n",
    "def draw_edges(image, cnts, color=(0, 139, 139), r=4, e_width=5, l_width=4):\n",
    "\n",
    "    img = copy.copy(image)\n",
    "    draw = ImageDraw.Draw(img)\n",
    "\n",
    "    for j, cnt in enumerate(cnts):\n",
    "        if len(cnt) > 1:\n",
    "            point = cnt[0]\n",
    "            x1, y1 = point[1], point[0]\n",
    "\n",
    "            for i, point2 in enumerate(cnt):\n",
    "                p2 = point2\n",
    "\n",
    "                x2, y2 = p2[1], p2[0]\n",
    "\n",
    "                draw.ellipse((y2 - r, x2 - r, y2 + r, x2 + r), fill=color, width=e_width)\n",
    "                draw.line((y1, x1, y2, x2), fill=(255, 140, 0), width=l_width)\n",
    "                x1, y1 = x2, y2\n",
    "\n",
    "    return img"
   ]
  },
  {
   "cell_type": "markdown",
   "id": "eefdf5af-76aa-4ed3-b94d-b84c2b3bb407",
   "metadata": {},
   "source": [
    "# Plot all points"
   ]
  },
  {
   "cell_type": "code",
   "execution_count": null,
   "id": "a847fb3b-c673-46f0-bf29-974dabc9cee6",
   "metadata": {
    "tags": []
   },
   "outputs": [],
   "source": [
    "orig_img = io.imread('../datasets/original/o_bc_left/Ultra_Co6_2/Ultra_Co6_2-001.jpeg')[:200,:200]\n",
    "\n",
    "r=2\n",
    "eps = 15\n",
    "border = 10\n",
    "tol = 3\n",
    "\n",
    "orig_img = preprocess_image_1(orig_img)\n",
    "img_tmp = Image.fromarray(orig_img)\n",
    "img_viz = ImageOps.expand(img_tmp, border=border, fill='white')\n",
    "cnts=grainMark.get_contours(np.array(img_viz),tol=tol)\n",
    "\n",
    "img_shape=np.array(img_viz.size)\n",
    "\n",
    "\n",
    "# coord2index\n",
    "image_nodes_coord2nodes_index={}\n",
    "nodes_index2global_nodes_coord={}\n",
    "num_of_nodes=0\n",
    "\n",
    "for points in cnts:\n",
    "    for point in points:\n",
    "        x,y = point[0],point[1]\n",
    "        image_nodes_coord2nodes_index[(x,y)]=num_of_nodes\n",
    "        nodes_index2global_nodes_coord[num_of_nodes]=(x,y)\n",
    "        num_of_nodes+=1\n",
    "\n",
    "# entry points\n",
    "x_entry=[]\n",
    "y_entry=[]\n",
    "\n",
    "entry_dict={}\n",
    "\n",
    "y_entry_max=0\n",
    "\n",
    "for points in cnts:\n",
    "    for point in points:\n",
    "        if point[1]<eps:\n",
    "            x,y = point[0],point[1]\n",
    "            x_entry.append(x)\n",
    "            y_entry.append(y)   \n",
    "            # condition to make end exit poits below start points \n",
    "            if y_entry_max<y:\n",
    "                y_entry_max=y\n",
    "            \n",
    "            index=image_nodes_coord2nodes_index[(x,y)]\n",
    "            entry_dict[index]=1\n",
    "\n",
    "# exit points\n",
    "x_exit=[]\n",
    "y_exit=[]\n",
    "exit_dict={}\n",
    "\n",
    "for points in cnts:\n",
    "    for point in points:\n",
    "        if (point[0] < eps or img_shape[0] - point[0] < eps or img_shape[1] - point[1] < eps) and point[1]>y_entry_max:\n",
    "            x,y = point[0],point[1]\n",
    "            x_exit.append(x)\n",
    "            y_exit.append(y)\n",
    "            index=image_nodes_coord2nodes_index[(x,y)]\n",
    "            exit_dict[index]=1\n",
    "\n",
    "img_drawings = copy.copy(img_viz).convert('RGB')\n",
    "img_drawings=draw_edges(img_drawings, cnts=cnts, r=2, l_width=1)\n",
    "draw = ImageDraw.Draw(img_drawings)\n",
    "\n",
    "# entry blue\n",
    "for i in range(len(x_entry)):\n",
    "    x = x_entry[i]\n",
    "    y = y_entry[i]\n",
    "    draw.ellipse((x - r, y - r, x + r, y + r), fill=(0,0,200), width=1)\n",
    "    \n",
    "# exit red\n",
    "for i in range(len(x_exit)):\n",
    "    x = x_exit[i]\n",
    "    y = y_exit[i]\n",
    "    draw.ellipse((x - r, y - r, x + r, y + r), fill=(150,0,0), width=1)\n",
    "\n",
    "plt.figure(figsize=(7,7))\n",
    "plt.imshow(img_drawings,cmap='gray', origin='lower')\n",
    "plt.xlabel('x',fontsize=15)\n",
    "plt.ylabel('y',fontsize=15)\n",
    "plt.show()"
   ]
  },
  {
   "cell_type": "markdown",
   "id": "eba933b1-49c2-4e1a-b928-67f93c3b201c",
   "metadata": {},
   "source": [
    "1) image_nodes_coord2nodes_index\n",
    "2) nodes_index2global_nodes_coord\n",
    "3) image_node_coord2node_index\n",
    "\n",
    "1) grid_cell_coord2grid_cell_index\n",
    "2) grid_cell_index2grid_cell_coord\n",
    "3) image_coord2grid_cell_index"
   ]
  },
  {
   "cell_type": "code",
   "execution_count": null,
   "id": "7f62a7ee-7b5f-49ca-aea3-178856021f34",
   "metadata": {
    "tags": []
   },
   "outputs": [],
   "source": [
    "# process nodes of graph\n",
    "# add all nodes to graph\n",
    "g = nx.DiGraph()\n",
    "image_node_coord2node_index = np.zeros(img_shape)\n",
    "for key in range(num_of_nodes):\n",
    "    x,y=nodes_index2global_nodes_coord[key]\n",
    "    image_node_coord2node_index[x,y]=key\n",
    "    g.add_node(key, pos=(x,y))\n",
    "    \n",
    "# pos = nx.get_node_attributes(g, 'pos')\n",
    "# plt.figure(figsize = (5,5))\n",
    "# nx.draw(g, pos, with_labels=True, node_color='lightblue', node_size=500, font_size=10)"
   ]
  },
  {
   "cell_type": "code",
   "execution_count": null,
   "id": "c267b362-eb81-4817-b65e-e5cc92c3cf19",
   "metadata": {
    "tags": []
   },
   "outputs": [],
   "source": [
    "# create grid\n",
    "cell_size=10\n",
    "grid_size=np.int32(img_shape/cell_size)\n",
    "\n",
    "number_of_cells=0\n",
    "grid_cell_coord2grid_cell_index={}\n",
    "grid_cell_index2grid_cell_coord={}\n",
    "image_coord2grid_cell_index = np.zeros(img_shape)\n",
    "for xi in range(grid_size[0]):\n",
    "    for yi in range(grid_size[1]):   \n",
    "        grid_cell_coord2grid_cell_index[(xi,yi)]=number_of_cells\n",
    "        grid_cell_index2grid_cell_coord[number_of_cells]=(xi,yi)\n",
    "        \n",
    "        # map of grid cell indices\n",
    "        image_coord2grid_cell_index[xi*cell_size:(xi+1)*cell_size,\n",
    "                                 yi*cell_size:(yi+1)*cell_size\n",
    "                                ]=np.full((cell_size,cell_size), number_of_cells)\n",
    "        number_of_cells+=1\n",
    "\n",
    "# plt.imshow(image_coord2grid_cell_index[:10,:100])    \n",
    "\n",
    "grid = np.array(sliding_window_view(image_node_coord2node_index, (cell_size, cell_size))[::cell_size, ::cell_size])\n",
    "grid_summed = grid.sum(axis=(2,3))\n",
    "plt.imshow(grid_summed,cmap='gray', origin='lower')"
   ]
  },
  {
   "cell_type": "markdown",
   "id": "b90be43e-c2f2-41bb-8bbb-6826d5095e7e",
   "metadata": {},
   "source": [
    "# Static eps search"
   ]
  },
  {
   "cell_type": "code",
   "execution_count": null,
   "id": "bdd86268-4538-48a5-8f3c-78e5d6b41660",
   "metadata": {
    "tags": []
   },
   "outputs": [],
   "source": [
    "eps=100\n",
    "line_eps = 2\n",
    "border_eps = 7\n",
    "    \n",
    "g = nx.DiGraph()\n",
    "image_node_coord2node_index = np.zeros(img_shape,dtype=np.int32)\n",
    "for key in range(num_of_nodes):\n",
    "    x,y=nodes_index2global_nodes_coord[key]\n",
    "    image_node_coord2node_index[x,y]=key\n",
    "    g.add_node(key, pos=(x,y)) \n",
    "    \n",
    "tmp_img = preprocess_image_2(orig_img)\n",
    "img_tmp = Image.fromarray(tmp_img)\n",
    "grad_map = ImageOps.expand(img_tmp, border=border, fill='black')    \n",
    "grad_map=np.array(grad_map)\n",
    "\n",
    "\n",
    "m=[]\n",
    "# grid search\n",
    "for start_node_index in tqdm(range(num_of_nodes)):\n",
    "    \n",
    "    # choose cell\n",
    "    start_node_x,start_node_y=nodes_index2global_nodes_coord[start_node_index]\n",
    "    \n",
    "    # left x slice border\n",
    "    if start_node_x-eps<0:\n",
    "        left_border_x=eps-start_node_x\n",
    "    else:\n",
    "        left_border_x=start_node_x-eps-2\n",
    "\n",
    "    # right x slice border\n",
    "    if start_node_x+eps>image_node_coord2node_index.shape[0]:\n",
    "        right_border_x=image_node_coord2node_index.shape[0]\n",
    "    else:\n",
    "        right_border_x=start_node_x+eps+2\n",
    "\n",
    "    # upper_border\n",
    "    if start_node_y+eps>image_node_coord2node_index.shape[1]-1:\n",
    "        upper_border=image_node_coord2node_index.shape[1]-1\n",
    "    else:\n",
    "        upper_border=start_node_y+eps\n",
    "        \n",
    "    map_slice = image_node_coord2node_index[left_border_x:right_border_x,start_node_y:upper_border]\n",
    "    \n",
    "    nodes_indices_indices = np.where(map_slice.flatten()!=0)\n",
    "    nodes_indices =map_slice.flatten()[nodes_indices_indices]\n",
    "    \n",
    "    for node_index in (nodes_indices):\n",
    "        end_node_x,end_node_y=nodes_index2global_nodes_coord[node_index]\n",
    "        \n",
    "        mean_border_pixels=[]\n",
    "        for p in range(0 - line_eps, 1 + line_eps):\n",
    "            line_coords=np.array(list(bresenham(start_node_x+p, start_node_y,end_node_x+p, end_node_y)))\n",
    "            line_coords_pixels=grad_map[line_coords[:,0],line_coords[:,0]].flatten()\n",
    "            border_pixels_num = np.where(line_coords_pixels==255)[0].shape[0]\n",
    "            mean_border_pixels.append(border_pixels_num)\n",
    "            \n",
    "        m.extend(mean_border_pixels)\n",
    "        line_border_pixels_mean=np.mean(mean_border_pixels)\n",
    "        if line_border_pixels_mean<border_eps:\n",
    "            g.add_edge(start_node_index,node_index)\n",
    "        # m.append(np.mean(mean_pixels))\n",
    "\n",
    "pos = nx.get_node_attributes(g, 'pos')\n",
    "plt.figure(figsize = (10,10))\n",
    "nx.draw(g, pos, with_labels=True, node_color='lightblue', node_size=500, font_size=10)"
   ]
  },
  {
   "cell_type": "code",
   "execution_count": null,
   "id": "82474e29-f5b7-4e20-abab-b4f407ccb718",
   "metadata": {
    "tags": []
   },
   "outputs": [],
   "source": [
    "plt.figure(figsize=(7,7))\n",
    "plt.imshow(img_drawings,cmap='gray', origin='lower')\n",
    "plt.xlabel('x',fontsize=15)\n",
    "plt.ylabel('y',fontsize=15)\n",
    "plt.show()"
   ]
  },
  {
   "cell_type": "code",
   "execution_count": null,
   "id": "76ae2d4a-a48f-45a0-9a87-5598ffb4d291",
   "metadata": {
    "tags": []
   },
   "outputs": [],
   "source": [
    "%%time\n",
    "\n",
    "list(nx.all_simple_paths(g, source=59, target=7))"
   ]
  },
  {
   "cell_type": "code",
   "execution_count": null,
   "id": "7b4c4229-69e2-4acb-9492-368d12dc25a9",
   "metadata": {
    "tags": []
   },
   "outputs": [],
   "source": [
    "plt.hist(m,bins=100)\n",
    "plt.xlim(0,20)\n",
    "plt.show()"
   ]
  },
  {
   "cell_type": "markdown",
   "id": "a06fdcc9-07d5-4245-bd10-bcb56f4a9bfd",
   "metadata": {},
   "source": [
    "# Dynamic grid search (not done)"
   ]
  },
  {
   "cell_type": "code",
   "execution_count": null,
   "id": "c55beb40-b160-4f56-ab96-e6a8b0467f5f",
   "metadata": {
    "tags": []
   },
   "outputs": [],
   "source": [
    "def check_borders(point, shape):\n",
    "    if point[0]>=0 and point[1]>=0 and point[0]<=shape[0] and point[1]<=shape[1]:\n",
    "        return True\n",
    "    else:\n",
    "        return False\n",
    "K=10\n",
    "img_viz_numpy=np.array(img_viz)\n",
    "\n",
    "#127, 255\n",
    "\n",
    "m=[]\n",
    "# grid search\n",
    "for start_node_index in tqdm(range(num_of_nodes)):\n",
    "    \n",
    "    # choose cell\n",
    "    start_node_x,start_node_y=nodes_index2global_nodes_coord[start_node_index]\n",
    "    grid_cell_id=image_coord2grid_cell_index[start_node_x,start_node_y]\n",
    "    cell_x,cell_y=grid_cell_index2grid_cell_coord[grid_cell_id]\n",
    "    \n",
    "    if cell_x-K//2<0:\n",
    "        left_border_x=K//2-cell_x\n",
    "    else:\n",
    "        left_border_x=cell_x-K//2-2\n",
    "\n",
    "    # right x slice border\n",
    "    if cell_y+K//2>grid.shape[0]:\n",
    "        right_border_x=grid.shape[0]\n",
    "    else:\n",
    "        right_border_x=cell_y+K//2+2\n",
    "\n",
    "    # upper_border\n",
    "    if cell_y+K>grid.shape[1]-1:\n",
    "        upper_border=grid.shape[1]-1\n",
    "    else:\n",
    "        upper_border=cell_y+K\n",
    "\n",
    "    grid_summed_slice=grid_summed[left_border_x:right_border_x,cell_y:upper_border]\n",
    "    summed_grid_cell_x,summed_grid_cell_y=np.where(grid_summed_slice!=0)\n",
    "    grid_slice=grid[summed_grid_cell_x,summed_grid_cell_y]\n",
    "\n",
    "    nodes_indices_indices = np.where(grid_slice.flatten()!=0)\n",
    "    nodes_indices =grid_slice.flatten()[nodes_indices_indices]\n",
    "\n",
    "    for node_index in (nodes_indices):\n",
    "        end_node_x,end_node_y=nodes_index2global_nodes_coord[node_index]\n",
    "        mean_pixels=[]\n",
    "        for p in range(-2,3):\n",
    "            line_coords=np.array(list(bresenham(start_node_x+p, start_node_y,end_node_x+p, end_node_y)))\n",
    "            mean_pixel=np.mean(img_viz_numpy[line_coords[:,0],line_coords[:,0]])\n",
    "            m.append(mean_pixel)\n",
    "            mean_pixels.append(mean_pixel)\n",
    "        line_mean=np.mean(mean_pixels)\n",
    "        if line_mean<160 or line_mean>222:\n",
    "            g.add_edge(start_node_index,node_index)\n",
    "        # m.append(np.mean(mean_pixels))\n",
    "   "
   ]
  },
  {
   "cell_type": "code",
   "execution_count": null,
   "id": "2939ec9f-2d85-428d-ab31-a5a30b273c74",
   "metadata": {
    "tags": []
   },
   "outputs": [],
   "source": [
    "plt.imshow(img_viz_numpy,cmap='gray', origin='lower')"
   ]
  },
  {
   "cell_type": "code",
   "execution_count": null,
   "id": "7a60f1f8-179e-42f1-ac3e-9e1043f99d15",
   "metadata": {
    "tags": []
   },
   "outputs": [],
   "source": [
    "pos = nx.get_node_attributes(g, 'pos')\n",
    "plt.figure(figsize = (5,5))\n",
    "nx.draw(g, pos, with_labels=True, node_color='lightblue', node_size=500, font_size=10)"
   ]
  },
  {
   "cell_type": "code",
   "execution_count": null,
   "id": "b1552bf7-b879-4143-a1c0-3c978dd66b9b",
   "metadata": {
    "tags": []
   },
   "outputs": [],
   "source": [
    "plt.hist(m,bins=20)"
   ]
  },
  {
   "cell_type": "code",
   "execution_count": null,
   "id": "36590c4a-da6c-449a-afae-5229cb5c9b35",
   "metadata": {
    "tags": []
   },
   "outputs": [],
   "source": [
    "np.array(list(bresenham(-1, -4, 3, 2)))"
   ]
  },
  {
   "cell_type": "code",
   "execution_count": null,
   "id": "31b1d74c-9e8a-4b5e-947c-20abe06baf0a",
   "metadata": {
    "tags": []
   },
   "outputs": [],
   "source": [
    "#     for xi in range(-K//2,K//2+1):\n",
    "#         cell_x_tmp = cell_x + xi\n",
    "#         for yi in range(0,K):\n",
    "#             cell_y_tmp = cell_y + yi\n",
    "            \n",
    "#             if check_borders((cell_x_tmp,cell_y_tmp),img_shape):\n",
    "\n",
    "\n",
    "\n",
    "    # wave_flag=True\n",
    "    # wave=0\n",
    "    # indices=[]\n",
    "\n",
    "    # while wave_flag:\n",
    "        # center cell\n",
    "#         center_point=[node_x, node_y+1]\n",
    "        \n",
    "#         if check_borders(center_point):\n",
    "#             indices.append(center_point)\n",
    "        \n",
    "#         # border cells\n",
    "#         for i in range(wave+1):\n",
    "#             left_point=[node_x-1-i, node_y-1-i]\n",
    "#             right_point=[node_x+1+i, node_y+1+i]\n",
    "            \n",
    "#         if check_borders(left_point):\n",
    "#             indices.append(left_point)\n",
    "            \n",
    "#         if check_borders(right_point):\n",
    "#             indices.append(right_point)"
   ]
  },
  {
   "cell_type": "code",
   "execution_count": null,
   "id": "580fcdbd-bab0-43e4-a785-c5f1824c24e0",
   "metadata": {
    "tags": []
   },
   "outputs": [],
   "source": [
    "# def wave_coords(x,y,grid,wave_step):\n",
    "width,height=grid.shape[:2]\n"
   ]
  },
  {
   "cell_type": "code",
   "execution_count": null,
   "id": "88512834-896e-48ae-84bd-dfc676e0cdca",
   "metadata": {
    "tags": []
   },
   "outputs": [],
   "source": [
    "grid.shape"
   ]
  },
  {
   "cell_type": "code",
   "execution_count": null,
   "id": "d84e592d-cd7f-4b84-8e03-16e7a4dc86c2",
   "metadata": {
    "tags": []
   },
   "outputs": [],
   "source": [
    "cell_x"
   ]
  },
  {
   "cell_type": "code",
   "execution_count": null,
   "id": "204360f9-594a-44f8-b35e-34784b6bc5a9",
   "metadata": {
    "tags": []
   },
   "outputs": [],
   "source": [
    "plt.imshow(grid_wraped,cmap='gray', origin='lower' )\n",
    "plt.show()"
   ]
  },
  {
   "cell_type": "code",
   "execution_count": null,
   "id": "a616a51a-3a9e-4b11-9a34-304979419745",
   "metadata": {
    "tags": []
   },
   "outputs": [],
   "source": [
    "plt.imshow(image_coord2grid_cell_index[:20],cmap='gray', origin='lower' )\n",
    "plt.show()"
   ]
  },
  {
   "cell_type": "code",
   "execution_count": null,
   "id": "c226a337-5310-4ae6-9fa5-f111625fae09",
   "metadata": {
    "tags": []
   },
   "outputs": [],
   "source": [
    "grid_cell_index2grid_cell_coord"
   ]
  },
  {
   "cell_type": "code",
   "execution_count": null,
   "id": "96c577b1-c7a1-4639-9505-d022900e014b",
   "metadata": {
    "tags": []
   },
   "outputs": [],
   "source": [
    "255-img_with_border"
   ]
  },
  {
   "cell_type": "code",
   "execution_count": null,
   "id": "cd9fe451-8cd7-4287-baa0-0002c5501aea",
   "metadata": {
    "tags": []
   },
   "outputs": [],
   "source": [
    "pos = nx.get_node_attributes(g, 'pos')\n",
    "nx.draw(g, pos, with_labels=True, node_color='lightblue', node_size=500, font_size=10)\n",
    "plt.show()"
   ]
  },
  {
   "cell_type": "markdown",
   "id": "c7503925-dfa1-467a-ae0a-f60ae075ca93",
   "metadata": {},
   "source": [
    "# Deprecated"
   ]
  },
  {
   "cell_type": "markdown",
   "id": "6fc39dfc-8232-46be-af18-26f364c9f10d",
   "metadata": {},
   "source": [
    "Entry points 22\n",
    "number of nodes 1770"
   ]
  },
  {
   "cell_type": "code",
   "execution_count": null,
   "id": "824335e5-ff4b-4ace-b72d-2be225e977f6",
   "metadata": {
    "tags": []
   },
   "outputs": [],
   "source": [
    "# contour_points = cnts[3]\n",
    "gs=[]\n",
    "\n",
    "\n",
    "for i,contour_points in enumerate(cnts):\n",
    "    g = nx.Graph()\n",
    "\n",
    "    for i, point in enumerate(contour_points):\n",
    "        g.add_node(i, pos=point)\n",
    "\n",
    "\n",
    "    for i in range(len(contour_points) - 1):\n",
    "        g.add_edge(i, i + 1)\n",
    "\n",
    "    g.add_edge(len(contour_points) - 1, 0)\n",
    "    gs.append(g)\n",
    "\n",
    "names = tuple([f\"g{i}-\" for i in range(len(cnts))])\n",
    "\n",
    "g=nx.union_all(gs,rename=names)\n",
    "\n",
    "pos = nx.get_node_attributes(g, 'pos')\n",
    "\n",
    "plt.figure(figsize = (10,10))\n",
    "nx.draw(g, pos, with_labels=True, node_color='lightblue', node_size=500, font_size=10)\n",
    "plt.show()"
   ]
  },
  {
   "cell_type": "code",
   "execution_count": null,
   "id": "e7cd62e0-d7b2-46fe-be7e-a605ea75515b",
   "metadata": {
    "tags": []
   },
   "outputs": [],
   "source": [
    "G = nx.dorogovtsev_goltsev_mendes_graph(3)\n",
    "nx.draw(G, with_labels=True, node_color='lightblue', node_size=500, font_size=10)"
   ]
  },
  {
   "cell_type": "code",
   "execution_count": null,
   "id": "64207fbb-c4cb-4260-a96a-4cf13558e8ff",
   "metadata": {
    "tags": []
   },
   "outputs": [],
   "source": [
    "# G = nx.path_graph(5)\n",
    "\n",
    "# input 22 points\n",
    "# output 66 points\n",
    "# G = nx.complete_multipartite_graph(4,5)\n",
    "G = nx.dorogovtsev_goltsev_mendes_graph(7)\n",
    "# nx.draw(G, with_labels=True, node_color='lightblue', node_size=500, font_size=10)\n",
    "\n",
    "G.number_of_nodes()"
   ]
  },
  {
   "cell_type": "code",
   "execution_count": null,
   "id": "aebc28a5-5fda-4508-85fe-4322d8116fb8",
   "metadata": {
    "tags": []
   },
   "outputs": [],
   "source": [
    "%%time\n",
    "\n",
    "list(nx.all_simple_paths(G, source=0, target=7))"
   ]
  },
  {
   "cell_type": "code",
   "execution_count": null,
   "id": "397d5770-0359-406c-81e7-2794616afedd",
   "metadata": {},
   "outputs": [],
   "source": []
  }
 ],
 "metadata": {
  "kernelspec": {
   "display_name": "torch",
   "language": "python",
   "name": "torch"
  },
  "language_info": {
   "codemirror_mode": {
    "name": "ipython",
    "version": 3
   },
   "file_extension": ".py",
   "mimetype": "text/x-python",
   "name": "python",
   "nbconvert_exporter": "python",
   "pygments_lexer": "ipython3",
   "version": "3.11.9"
  }
 },
 "nbformat": 4,
 "nbformat_minor": 5
}
