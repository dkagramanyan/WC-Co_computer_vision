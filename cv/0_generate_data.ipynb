{
 "cells": [
  {
   "cell_type": "code",
   "execution_count": 2,
   "metadata": {
    "tags": []
   },
   "outputs": [],
   "source": [
    "import numpy as np\n",
    "import glob\n",
    "import json\n",
    "from tqdm.notebook import tqdm\n",
    "\n",
    "from skimage import color\n",
    "\n",
    "from utils import grainPreprocess, grainShow, grainMark, grainDraw, grainApprox, grainStats, grainMorphology,grainGenerate, SEMDataset\n",
    "\n",
    "from crdp import rdp\n",
    "from skimage import io, filters, morphology, util\n",
    "from torch.utils.data import Dataset\n",
    "\n",
    "from matplotlib import pyplot as plt\n",
    "import os\n",
    "from pathlib import Path\n",
    "import json"
   ]
  },
  {
   "cell_type": "markdown",
   "metadata": {},
   "source": [
    "## Углы"
   ]
  },
  {
   "cell_type": "code",
   "execution_count": null,
   "metadata": {
    "collapsed": false,
    "jupyter": {
     "outputs_hidden": false
    }
   },
   "outputs": [],
   "source": [
    "\n",
    "images = np.load('images_7_classes_mixer_preprocess.npy')\n",
    "names = np.load('metadata_7_classes_mixer_preprocess.npy')\n",
    "names = [name.split('\\\\')[-1] for name in names]\n",
    "\n",
    "folder = 'data/'\n",
    "\n",
    "types_dict = {'2550-51': '2550 призм, кадр 51\\n доля карбина 54.51%',\n",
    "              '2550-52': '2550 призм, кадр 52\\n доля карбина 50.75%',\n",
    "              '2550-53': '2550 призм, кадр 53\\n доля карбина 45.81%',\n",
    "              '3400-51': '3400 призм, кадр 51\\n доля карбина 53.53%',\n",
    "              '3400-52': '3400 призм, кадр 52\\n доля карбина 50.47%',\n",
    "              '3400-53': '3400 призм, кадр 53\\n доля карбина 45.88%',\n",
    "              '3400-54': '3400 призм, кадр 54\\n доля карбина 40.88%'}\n",
    "\n",
    "dens_dict={'2550-51': 0.5451066158234127,\n",
    "           '2550-52': 0.5075556821469908,\n",
    "           '2550-53': 0.4580166661499669,\n",
    "           '3400-51': 0.535331783234127,\n",
    "           '3400-52': 0.504782962859623,\n",
    "           '3400-53': 0.45885131190062833,\n",
    "           '3400-54': 0.40882115988756607}\n",
    "\n"
   ]
  },
  {
   "cell_type": "code",
   "execution_count": null,
   "metadata": {
    "tags": []
   },
   "outputs": [],
   "source": [
    "def angles_approx_save(images_path, save_path, types_dict, step, max_images_num_per_class=None, no_cache=False):\n",
    "    \"\"\"\n",
    "    :param save_path:\n",
    "    :param images: ndarray uint8 [[image1_class1,image2_class1,..],[image1_class2,image2_class2,..]..]\n",
    "    :param paths:\n",
    "    :param types_dict: list str [class_type1,class_type2,..]\n",
    "    :param step: scalar int [0,N]\n",
    "    :param max_images_num_per_class:\n",
    "    \"\"\"\n",
    "    #\n",
    "    # вычисление и сохранение распределения углов для всех фотографий одного образца\n",
    "    #\n",
    "\n",
    "    json_data = []\n",
    "    \n",
    "    dataset = SEMDataset(images_path, no_cache=no_cache, max_images_num_per_class=max_images_num_per_class)\n",
    "        \n",
    "\n",
    "    for i in tqdm(range(dataset.images_paths.shape[0])):\n",
    "        all_angles = []\n",
    "        # all_unique_angels=dict()\n",
    "        \n",
    "        for j in tqdm(range(dataset.images_paths.shape[1])):\n",
    "            image, path = dataset.__getitem__(i,j)\n",
    "            ang=grainMark.get_angles(image)\n",
    "            \n",
    "            # all_unique_angels[j]=ang\n",
    "            all_angles.extend(ang)\n",
    "\n",
    "        x, y = grainStats.stats_preprocess(all_angles, step)\n",
    "\n",
    "        (x_gauss, y_gauss), mus, sigmas, amps = grainApprox.bimodal_gauss_approx(x, y)\n",
    "        name = path.split('/')[-2]\n",
    "\n",
    "        text = grainGenerate.angles_legend(dataset.images_paths.shape[1], types_dict[name], types_dict[name], step, mus, sigmas,amps, len(all_angles) )\n",
    "        \n",
    "        path='/'.join(path.split('/')[:-1])\n",
    "\n",
    "        json_data.append({'path': path,\n",
    "                          'name': name,\n",
    "                          'type': types_dict[name],\n",
    "                          'legend': text,\n",
    "                          'density_curve_scatter': [x,y],\n",
    "                          'gauss_approx_plot': [x_gauss, y_gauss],\n",
    "                          'gauss_approx_data': {'mus': mus, 'sigmas':sigmas, 'amps':amps},\n",
    "                          # 'angles_series': all_unique_angels,\n",
    "                          })\n",
    "\n",
    "    with open(f'{save_path}_step_{step}_angles.json', 'w', encoding='utf-8') as outfile:\n",
    "        json.dump(json_data, outfile, cls=grainGenerate.NumpyEncoder, ensure_ascii=False)"
   ]
  },
  {
   "cell_type": "code",
   "execution_count": null,
   "metadata": {
    "collapsed": false,
    "jupyter": {
     "outputs_hidden": false
    },
    "tags": []
   },
   "outputs": [],
   "source": [
    "%%time\n",
    "\n",
    "images_path = '../ml/diffusion/data/o_bc_left_4x_768_360_768_median_generated'\n",
    "# images_path = '../ml/diffusion/data/o_bc_left_4x_768_360_512_median_generated'\n",
    "# images_path = '../ml/diffusion/data/o_bc_left_4x_768_360_256_median_generated'\n",
    "\n",
    "# name = 'o_bc_left_4x_768_360_median_generated_preprocess'\n",
    "# name = 'o_bc_left_4x_768_360_256_median_generated_preprocess'\n",
    "# file_name='data/angles/o_bc_left_4x_768_360_median_generated_preprocess'\n",
    "# file_name='o_bc_left_4x_768_360_256_median_generated_preprocess'\n",
    "\n",
    "name = 'o_bc_left_4x_768_360_768_median_generated'\n",
    "\n",
    "\n",
    "types_dict = {'Ultra_Co11': 'средние зерна',\n",
    "              'Ultra_Co25': 'мелкие зерна',\n",
    "              'Ultra_Co8': 'средне-мелкие зерна',\n",
    "              'Ultra_Co6_2': 'крупные зерна',\n",
    "              'Ultra_Co15': 'средне-мелкие зерна'}\n",
    "\n",
    "for step in tqdm(range(5, 6)):\n",
    "    angles_approx_save(\n",
    "                        images_path=images_path,\n",
    "                        save_path=name,\n",
    "                        types_dict=types_dict,\n",
    "                        step=step,\n",
    "                        max_images_num_per_class=None, \n",
    "                        no_cache=False\n",
    "                    )"
   ]
  },
  {
   "cell_type": "markdown",
   "metadata": {},
   "source": [
    "## Полуоси"
   ]
  },
  {
   "cell_type": "code",
   "execution_count": 31,
   "metadata": {
    "tags": []
   },
   "outputs": [],
   "source": [
    "class NumpyEncoder(json.JSONEncoder):\n",
    "    def default(self, obj):\n",
    "        if isinstance(obj, np.float64) or isinstance(obj, np.float32):\n",
    "            return float(obj)\n",
    "        if isinstance(obj, np.int64) or isinstance(obj, np.int32): \n",
    "            return int(obj)  \n",
    "        if isinstance(obj, np.ndarray): \n",
    "            return list(obj)  \n",
    "        return json.JSONEncoder.default(self, obj)\n",
    "\n",
    "def diametr_approx_save(images_path, save_path, types_dict, step, pixel, start=2, end=-3,\n",
    "                        debug=False, max_images_num_per_class=None, no_cache=False):\n",
    "    #\n",
    "    # вычисление и сохранение распределения длин а- и б- полуосей и угла поворота эллипса для разных образцов\n",
    "    #\n",
    "\n",
    "    json_data = []\n",
    "    \n",
    "    dataset = SEMDataset(images_path, no_cache=no_cache, max_images_num_per_class=max_images_num_per_class)\n",
    "\n",
    "    for i in tqdm(range(dataset.images_paths.shape[0])):\n",
    "\n",
    "        all_a_beams = []\n",
    "        all_b_beams = []\n",
    "        # all_angles = []\n",
    "        # all_contours = []\n",
    "\n",
    "        for j in tqdm(range(dataset.images_paths.shape[1])):\n",
    "            image, path = dataset.__getitem__(i,j)\n",
    "            b_beams, a_beams, angles, cetroids, contours = grainMark.get_mvee_params(image, 0.2, debug=debug)\n",
    "\n",
    "            all_a_beams.extend(a_beams)\n",
    "            all_b_beams.extend(b_beams)\n",
    "            # all_angles.extend(angles)\n",
    "            # all_contours.extend((contours))\n",
    "\n",
    "        x1, y1 = grainStats.stats_preprocess(all_a_beams, step)\n",
    "        x2, y2 = grainStats.stats_preprocess(all_b_beams, step)\n",
    "\n",
    "        angles_set, angles_dens_curve = grainStats.stats_preprocess(np.rad2deg(angles).astype('int32'), step=step)\n",
    "\n",
    "        x1 = x1.reshape(-1, 1) * pixel\n",
    "        x2 = x2.reshape(-1, 1) * pixel\n",
    "        # x_angles = np.array([angles_set]).reshape(-1, 1)\n",
    "\n",
    "        y1 = np.log(y1).reshape(-1, 1)\n",
    "        y2 = np.log(y2).reshape(-1, 1)\n",
    "        # y_angles = angles_dens_curve.reshape(-1, 1)\n",
    "\n",
    "        x1 = x1[start:end]\n",
    "        x2 = x2[start:end]\n",
    "        # x_angles = x_angles[start:end]\n",
    "\n",
    "        y1 = y1[start:end]\n",
    "        y2 = y2[start:end]\n",
    "        # y_angles = y_angles[start:end]\n",
    "\n",
    "        (x_pred1, y_pred1), k1, b1, angle1, score1 = grainApprox.lin_regr_approx(x1, y1)\n",
    "        (x_pred2, y_pred2), k2, b2, angle2, score2 = grainApprox.lin_regr_approx(x2, y2)\n",
    "\n",
    "        dist_step = pixel * step\n",
    "\n",
    "        name = path.split('/')[-2]\n",
    "\n",
    "        # dist1_set_mean = np.sum(dist1_set*dens1_curve) * pixel\n",
    "        # dist2_set_mean = np.sum(dist2_set*dens2_curve) * pixel\n",
    "        \n",
    "        dist1_set_mean = 0\n",
    "        dist2_set_mean = 0\n",
    "\n",
    "        legend1 = grainGenerate.beams_legend(0, name, types_dict[name], len(all_a_beams), k1, angle1, b1, score1, dist_step, dist1_set_mean)\n",
    "        legend2 = grainGenerate.beams_legend(0, name, types_dict[name], len(all_b_beams), k2, angle2, b2, score2, dist_step, dist2_set_mean)\n",
    "        \n",
    "        path='/'.join(path.split('/')[:-1])\n",
    "\n",
    "        json_data.append({'path': path,\n",
    "                          'name': name,\n",
    "                          'type': types_dict[name],\n",
    "                          'legend': [{'a_beams': legend1, 'b_beams': legend2}],\n",
    "                          'density_curve_scatter': [\n",
    "                              {'a_beams': (x1.flatten(), y1.flatten()),\n",
    "                               'b_beams': (x2.flatten(), y2.flatten()),\n",
    "                               # 'angles': (x_angles.flatten(), y_angles.flatten())\n",
    "                               }\n",
    "                          ],\n",
    "                          'linear_approx_plot': [{'a_beams': (x_pred1.flatten(), y_pred1.flatten()),\n",
    "                                                  'b_beams': (x_pred2.flatten(), y_pred2.flatten())}],\n",
    "                          'linear_approx_data': [{'a_beams': {'k': k1, 'b': b1, 'angle': angle1, 'score': score1},\n",
    "                                                  'b_beams': {'k': k2, 'b': b2, 'angle': angle2, 'score': score2}}],\n",
    "                          # 'beams_length_series': [{'a_beams': all_a_beams, 'b_beams': all_b_beams}],\n",
    "                          # 'angles_series': all_angles,\n",
    "                          # 'contours_series': all_contours,\n",
    "                          'pixel2meter': pixel,\n",
    "                          })\n",
    "\n",
    "    with open(f'{save_path}_step_{step}_beams.json', 'w', encoding='utf-8') as outfile:\n",
    "        json.dump(json_data, outfile, cls=NumpyEncoder, ensure_ascii=False)\n"
   ]
  },
  {
   "cell_type": "code",
   "execution_count": 32,
   "metadata": {
    "tags": []
   },
   "outputs": [
    {
     "data": {
      "application/vnd.jupyter.widget-view+json": {
       "model_id": "7cb115074d2c46328cff3152d5ec33e5",
       "version_major": 2,
       "version_minor": 0
      },
      "text/plain": [
       "  0%|          | 0/3 [00:00<?, ?it/s]"
      ]
     },
     "metadata": {},
     "output_type": "display_data"
    },
    {
     "data": {
      "application/vnd.jupyter.widget-view+json": {
       "model_id": "a209824cb1804a7b8ec819beb469c779",
       "version_major": 2,
       "version_minor": 0
      },
      "text/plain": [
       "  0%|          | 0/100 [00:00<?, ?it/s]"
      ]
     },
     "metadata": {},
     "output_type": "display_data"
    },
    {
     "data": {
      "application/vnd.jupyter.widget-view+json": {
       "model_id": "b67eacdbbd57498090ae39b3f29cbf5e",
       "version_major": 2,
       "version_minor": 0
      },
      "text/plain": [
       "  0%|          | 0/100 [00:00<?, ?it/s]"
      ]
     },
     "metadata": {},
     "output_type": "display_data"
    },
    {
     "data": {
      "application/vnd.jupyter.widget-view+json": {
       "model_id": "61c5f7e0afa44229bca7f7eec57d2d59",
       "version_major": 2,
       "version_minor": 0
      },
      "text/plain": [
       "  0%|          | 0/100 [00:00<?, ?it/s]"
      ]
     },
     "metadata": {},
     "output_type": "display_data"
    }
   ],
   "source": [
    "pixel = 50 / 1000\n",
    "\n",
    "images_path = '../ml/diffusion/data/o_bc_left_4x_768_360_768_median_generated'\n",
    "# images_path = '../ml/diffusion/data/o_bc_left_4x_768_360_512_median_generated'\n",
    "# images_path = '../ml/diffusion/data/o_bc_left_4x_768_360_256_median_generated'\n",
    "\n",
    "# name = 'o_bc_left_4x_768_360_median_generated_preprocess'\n",
    "# name = 'o_bc_left_4x_768_360_256_median_generated_preprocess'\n",
    "# file_name='data/angles/o_bc_left_4x_768_360_median_generated_preprocess'\n",
    "# file_name='o_bc_left_4x_768_360_256_median_generated_preprocess'\n",
    "\n",
    "# name = 'o_bc_left_4x_768_360_768_median_generated'\n",
    "save_path = 'test'\n",
    "\n",
    "\n",
    "types_dict = {'Ultra_Co11': 'средние зерна',\n",
    "              'Ultra_Co25': 'мелкие зерна',\n",
    "              'Ultra_Co8': 'средне-мелкие зерна',\n",
    "              'Ultra_Co6_2': 'крупные зерна',\n",
    "              'Ultra_Co15': 'средне-мелкие зерна'}\n",
    "\n",
    "\n",
    "for step in range(5, 6):\n",
    "    # grainGenerate.diametr_approx_save(\n",
    "    diametr_approx_save(\n",
    "                        images_path=images_path,\n",
    "                        save_path=save_path,\n",
    "                        types_dict=types_dict,\n",
    "                        step=step,\n",
    "                        max_images_num_per_class=100, \n",
    "                        no_cache=False,\n",
    "                        pixel = pixel\n",
    "    )\n",
    "    # diametr_approx_save(save_path=name, images=images,paths=paths, types_dict=types_dict, step=step, pixel=pixel,max_images_num_per_class=100)"
   ]
  }
 ],
 "metadata": {
  "kernelspec": {
   "display_name": "torch",
   "language": "python",
   "name": "torch"
  },
  "language_info": {
   "codemirror_mode": {
    "name": "ipython",
    "version": 3
   },
   "file_extension": ".py",
   "mimetype": "text/x-python",
   "name": "python",
   "nbconvert_exporter": "python",
   "pygments_lexer": "ipython3",
   "version": "3.11.9"
  }
 },
 "nbformat": 4,
 "nbformat_minor": 4
}
