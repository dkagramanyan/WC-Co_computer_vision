{
 "cells": [
  {
   "cell_type": "code",
   "execution_count": null,
   "metadata": {
    "tags": []
   },
   "outputs": [],
   "source": [
    "import numpy as np\n",
    "import glob\n",
    "import json\n",
    "from tqdm.notebook import tqdm\n",
    "\n",
    "from skimage import color\n",
    "\n",
    "from utils import grainPreprocess, grainShow, grainMark, grainDraw, grainApprox, grainStats, grainMorphology,grainGenerate, SEMDataset\n",
    "\n",
    "from crdp import rdp\n",
    "from skimage import io, filters, morphology, util\n",
    "from torch.utils.data import Dataset\n",
    "\n",
    "from matplotlib import pyplot as plt\n",
    "import os\n",
    "from pathlib import Path"
   ]
  },
  {
   "cell_type": "markdown",
   "metadata": {},
   "source": [
    "## Углы"
   ]
  },
  {
   "cell_type": "code",
   "execution_count": null,
   "metadata": {
    "collapsed": false,
    "jupyter": {
     "outputs_hidden": false
    }
   },
   "outputs": [],
   "source": [
    "\n",
    "images = np.load('images_7_classes_mixer_preprocess.npy')\n",
    "names = np.load('metadata_7_classes_mixer_preprocess.npy')\n",
    "names = [name.split('\\\\')[-1] for name in names]\n",
    "\n",
    "folder = 'data/'\n",
    "\n",
    "types_dict = {'2550-51': '2550 призм, кадр 51\\n доля карбина 54.51%',\n",
    "              '2550-52': '2550 призм, кадр 52\\n доля карбина 50.75%',\n",
    "              '2550-53': '2550 призм, кадр 53\\n доля карбина 45.81%',\n",
    "              '3400-51': '3400 призм, кадр 51\\n доля карбина 53.53%',\n",
    "              '3400-52': '3400 призм, кадр 52\\n доля карбина 50.47%',\n",
    "              '3400-53': '3400 призм, кадр 53\\n доля карбина 45.88%',\n",
    "              '3400-54': '3400 призм, кадр 54\\n доля карбина 40.88%'}\n",
    "\n",
    "dens_dict={'2550-51': 0.5451066158234127,\n",
    "           '2550-52': 0.5075556821469908,\n",
    "           '2550-53': 0.4580166661499669,\n",
    "           '3400-51': 0.535331783234127,\n",
    "           '3400-52': 0.504782962859623,\n",
    "           '3400-53': 0.45885131190062833,\n",
    "           '3400-54': 0.40882115988756607}\n",
    "\n"
   ]
  },
  {
   "cell_type": "code",
   "execution_count": null,
   "metadata": {
    "tags": []
   },
   "outputs": [],
   "source": [
    "def angles_approx_save(images_path, save_path, types_dict, step, max_images_num_per_class=None, no_cache=False):\n",
    "    \"\"\"\n",
    "    :param save_path:\n",
    "    :param images: ndarray uint8 [[image1_class1,image2_class1,..],[image1_class2,image2_class2,..]..]\n",
    "    :param paths:\n",
    "    :param types_dict: list str [class_type1,class_type2,..]\n",
    "    :param step: scalar int [0,N]\n",
    "    :param max_images_num_per_class:\n",
    "    \"\"\"\n",
    "    #\n",
    "    # вычисление и сохранение распределения углов для всех фотографий одного образца\n",
    "    #\n",
    "\n",
    "    json_data = []\n",
    "    \n",
    "    dataset = SEMDataset(images_path, no_cache=no_cache, max_images_num_per_class=max_images_num_per_class)\n",
    "        \n",
    "\n",
    "    for i in tqdm(range(dataset.images_paths.shape[0])):\n",
    "        all_angles = []\n",
    "        # all_unique_angels=dict()\n",
    "        \n",
    "        for j in tqdm(range(dataset.images_paths.shape[1])):\n",
    "            image, path = dataset.__getitem__(i,j)\n",
    "            ang=grainMark.get_angles(image)\n",
    "            \n",
    "            # all_unique_angels[j]=ang\n",
    "            all_angles.extend(ang)\n",
    "\n",
    "        x, y = grainStats.stats_preprocess(all_angles, step)\n",
    "\n",
    "        (x_gauss, y_gauss), mus, sigmas, amps = grainApprox.bimodal_gauss_approx(x, y)\n",
    "        name = path.split('/')[-2]\n",
    "\n",
    "        text = grainGenerate.angles_legend(dataset.images_paths.shape[1], types_dict[name], types_dict[name], step, mus, sigmas,amps, len(all_angles) )\n",
    "        \n",
    "        path='/'.join(path.split('/')[:-1])\n",
    "\n",
    "        json_data.append({'path': path,\n",
    "                          'name': name,\n",
    "                          'type': types_dict[name],\n",
    "                          'legend': text,\n",
    "                          'density_curve_scatter': [x,y],\n",
    "                          'gauss_approx_plot': [x_gauss, y_gauss],\n",
    "                          'gauss_approx_data': {'mus': mus, 'sigmas':sigmas, 'amps':amps},\n",
    "                          # 'angles_series': all_unique_angels,\n",
    "                          })\n",
    "\n",
    "    with open(f'{save_path}_step_{step}_angles.json', 'w', encoding='utf-8') as outfile:\n",
    "        json.dump(json_data, outfile, cls=grainGenerate.NumpyEncoder, ensure_ascii=False)"
   ]
  },
  {
   "cell_type": "code",
   "execution_count": null,
   "metadata": {
    "collapsed": false,
    "jupyter": {
     "outputs_hidden": false
    },
    "tags": []
   },
   "outputs": [],
   "source": [
    "%%time\n",
    "\n",
    "images_path = '../ml/diffusion/data/o_bc_left_4x_768_360_768_median_generated'\n",
    "# images_path = '../ml/diffusion/data/o_bc_left_4x_768_360_512_median_generated'\n",
    "# images_path = '../ml/diffusion/data/o_bc_left_4x_768_360_256_median_generated'\n",
    "\n",
    "# name = 'o_bc_left_4x_768_360_median_generated_preprocess'\n",
    "# name = 'o_bc_left_4x_768_360_256_median_generated_preprocess'\n",
    "# file_name='data/angles/o_bc_left_4x_768_360_median_generated_preprocess'\n",
    "# file_name='o_bc_left_4x_768_360_256_median_generated_preprocess'\n",
    "\n",
    "name = 'o_bc_left_4x_768_360_768_median_generated'\n",
    "\n",
    "\n",
    "types_dict = {'Ultra_Co11': 'средние зерна',\n",
    "              'Ultra_Co25': 'мелкие зерна',\n",
    "              'Ultra_Co8': 'средне-мелкие зерна',\n",
    "              'Ultra_Co6_2': 'крупные зерна',\n",
    "              'Ultra_Co15': 'средне-мелкие зерна'}\n",
    "\n",
    "for step in tqdm(range(5, 6)):\n",
    "    angles_approx_save(\n",
    "                        images_path=images_path,\n",
    "                        save_path=name,\n",
    "                        types_dict=types_dict,\n",
    "                        step=step,\n",
    "                        max_images_num_per_class=None, \n",
    "                        no_cache=False\n",
    "                    )"
   ]
  },
  {
   "cell_type": "code",
   "execution_count": null,
   "metadata": {
    "tags": []
   },
   "outputs": [],
   "source": [
    "%%time\n",
    "\n",
    "# images_path = '../ml/diffusion/data/o_bc_left_4x_768_360_768_median_generated'\n",
    "images_path = '../ml/diffusion/data/o_bc_left_4x_768_360_512_median_generated'\n",
    "# images_path = '../ml/diffusion/data/o_bc_left_4x_768_360_256_median_generated'\n",
    "\n",
    "# name = 'o_bc_left_4x_768_360_median_generated_preprocess'\n",
    "# name = 'o_bc_left_4x_768_360_256_median_generated_preprocess'\n",
    "# file_name='data/angles/o_bc_left_4x_768_360_median_generated_preprocess'\n",
    "# file_name='o_bc_left_4x_768_360_256_median_generated_preprocess'\n",
    "\n",
    "name = 'o_bc_left_4x_768_360_512_median_generated'\n",
    "\n",
    "\n",
    "types_dict = {'Ultra_Co11': 'средние зерна',\n",
    "              'Ultra_Co25': 'мелкие зерна',\n",
    "              'Ultra_Co8': 'средне-мелкие зерна',\n",
    "              'Ultra_Co6_2': 'крупные зерна',\n",
    "              'Ultra_Co15': 'средне-мелкие зерна'}\n",
    "\n",
    "for step in tqdm(range(5, 6)):\n",
    "    angles_approx_save(\n",
    "                        images_path=images_path,\n",
    "                        save_path=name,\n",
    "                        types_dict=types_dict,\n",
    "                        step=step,\n",
    "                        max_images_num_per_class=None, \n",
    "                        no_cache=False\n",
    "                    )"
   ]
  },
  {
   "cell_type": "code",
   "execution_count": null,
   "metadata": {
    "tags": []
   },
   "outputs": [],
   "source": [
    "%%time\n",
    "\n",
    "# images_path = '../ml/diffusion/data/o_bc_left_4x_768_360_768_median_generated'\n",
    "# images_path = '../ml/diffusion/data/o_bc_left_4x_768_360_512_median_generated'\n",
    "images_path = '../ml/diffusion/data/o_bc_left_4x_768_360_256_median_generated'\n",
    "\n",
    "# name = 'o_bc_left_4x_768_360_median_generated_preprocess'\n",
    "# name = 'o_bc_left_4x_768_360_256_median_generated_preprocess'\n",
    "# file_name='data/angles/o_bc_left_4x_768_360_median_generated_preprocess'\n",
    "# file_name='o_bc_left_4x_768_360_256_median_generated_preprocess'\n",
    "\n",
    "name = 'o_bc_left_4x_768_360_256_median_generated'\n",
    "\n",
    "\n",
    "types_dict = {'Ultra_Co11': 'средние зерна',\n",
    "              'Ultra_Co25': 'мелкие зерна',\n",
    "              'Ultra_Co8': 'средне-мелкие зерна',\n",
    "              'Ultra_Co6_2': 'крупные зерна',\n",
    "              'Ultra_Co15': 'средне-мелкие зерна'}\n",
    "\n",
    "for step in tqdm(range(5, 6)):\n",
    "    angles_approx_save(\n",
    "                        images_path=images_path,\n",
    "                        save_path=name,\n",
    "                        types_dict=types_dict,\n",
    "                        step=step,\n",
    "                        max_images_num_per_class=None, \n",
    "                        no_cache=False\n",
    "                    )"
   ]
  },
  {
   "cell_type": "markdown",
   "metadata": {},
   "source": [
    "## Полуоси"
   ]
  },
  {
   "cell_type": "code",
   "execution_count": null,
   "metadata": {
    "tags": []
   },
   "outputs": [],
   "source": [
    "pixel = 50 / 1000\n",
    "# pixel_1500_1500 = 50 / 983\n",
    "\n",
    "\n",
    "file_name='data/o_bc_left_4x_768_360_median_generated_preprocess'\n",
    "file_name='data/o_bc_left_4x_768_360_512_median_generated_preprocess'\n",
    "file_name='data/o_bc_left_4x_768_360_256_median_generated_preprocess'\n",
    "\n",
    "\n",
    "images = np.load(f'{file_name}_images.npy')\n",
    "data = open(f'{file_name}_metadata.json','r',encoding='utf-8')\n",
    "\n",
    "paths=list(json.load(data).values())\n",
    "\n",
    "name = 'o_bc_left_4x_768_360_median_generated_preprocess'\n",
    "\n",
    "\n",
    "\n",
    "# name = 'artif'\n",
    "# name = 'left_(1500,1500,1)'\n",
    "# name = 'bc_left_(1536,1536,1)_preprocess'\n",
    "# name = '10_mixer_preprocess'\n",
    "# name = '4x_left_(1500,1500,1)'\n",
    "\n",
    "name='o_bc_left_4x_768_360_median_generated_preprocess'\n",
    "\n",
    "types_dict = {'Ultra_Co11': 'средние зерна',\n",
    "              'Ultra_Co25': 'мелкие зерна',\n",
    "              'Ultra_Co8': 'средне-мелкие зерна',\n",
    "              'Ultra_Co6_2': 'крупные зерна',\n",
    "              'Ultra_Co15': 'средне-мелкие зерна'}\n",
    "\n",
    "# types_dict = {'class_1': 'Type None'}\n",
    "\n",
    "for step in range(1, 6):\n",
    "    # print('step: ',step)\n",
    "    grainGenerate.diametr_approx_save(save_path=name, images=images,paths=paths, types_dict=types_dict, step=step, pixel=pixel,max_images_num_per_class=100)\n",
    "    # diametr_approx_save(save_path=name, images=images,paths=paths, types_dict=types_dict, step=step, pixel=pixel,max_images_num_per_class=100)"
   ]
  }
 ],
 "metadata": {
  "kernelspec": {
   "display_name": "torch",
   "language": "python",
   "name": "torch"
  },
  "language_info": {
   "codemirror_mode": {
    "name": "ipython",
    "version": 3
   },
   "file_extension": ".py",
   "mimetype": "text/x-python",
   "name": "python",
   "nbconvert_exporter": "python",
   "pygments_lexer": "ipython3",
   "version": "3.11.9"
  }
 },
 "nbformat": 4,
 "nbformat_minor": 4
}
