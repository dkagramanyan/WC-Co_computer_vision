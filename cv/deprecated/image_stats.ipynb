{
 "cells": [
  {
   "cell_type": "code",
   "execution_count": null,
   "metadata": {
    "collapsed": true
   },
   "outputs": [],
   "source": [
    "import numpy as np\n",
    "import os\n",
    "import time\n",
    "\n",
    "from lmfit.models import GaussianModel, Model\n",
    "from sklearn.linear_model import LinearRegression\n",
    "from sklearn import mixture, metrics\n",
    "\n",
    "from shapely.geometry import Polygon\n",
    "\n",
    "from scipy.stats.distributions import norm\n",
    "from sklearn.neighbors import KernelDensity\n",
    "from scipy.stats import gaussian_kde\n",
    "\n",
    "from matplotlib import pyplot as plt\n",
    "from matplotlib import cm\n",
    "\n",
    "from skimage.measure import EllipseModel\n",
    "from matplotlib.patches import Ellipse\n",
    "\n",
    "from scipy import ndimage as ndi\n",
    "from scipy.spatial import distance\n",
    "from numpy import linalg\n",
    "\n",
    "import skimage\n",
    "from skimage import io, transform, color\n",
    "from skimage.draw import ellipse\n",
    "from skimage.color import rgb2gray\n",
    "from skimage import filters\n",
    "from skimage.morphology import disk\n",
    "from skimage import color\n",
    "from skimage import filters, util\n",
    "from skimage.morphology import disk, skeletonize, ball\n",
    "\n",
    "from PIL import Image, ImageDraw, ImageFilter, ImageOps\n",
    "import copy\n",
    "import cv2\n",
    "import os\n",
    "import sys\n",
    "\n",
    "import matplotlib.pyplot as plt\n",
    "import matplotlib.gridspec as gridspec\n",
    "from scipy.ndimage import distance_transform_edt as edt\n",
    "from skimage.draw import ellipse\n",
    "from skimage.measure import find_contours, approximate_polygon, subdivide_polygon\n",
    "import logging\n",
    "import glob\n",
    "# from radio_beam.commonbeam import getMinVolEllipse\n",
    "#\n",
    "# from src.utils import grainPreprocess, grainShow, grainMark, grainDraw, grainApprox, grainStats, grainMorphology,grainGenerate\n",
    "# from src.cfg import CfgAnglesNames, CfgBeamsNames, CfgDataset\n",
    "\n",
    "from tqdm.notebook import tqdm\n",
    "\n",
    "import glob"
   ]
  },
  {
   "cell_type": "code",
   "execution_count": null,
   "outputs": [],
   "source": [
    "img=io.imread('data/docs_images/Ultra_Co15-020.jpeg')\n",
    "height,width=img.shape\n",
    "\n",
    "# img=img[:width//2:,:width//2]"
   ],
   "metadata": {
    "collapsed": false
   }
  },
  {
   "cell_type": "code",
   "execution_count": null,
   "outputs": [],
   "source": [
    "global_thresh = filters.threshold_otsu(img)\n",
    "binary_global = img > global_thresh"
   ],
   "metadata": {
    "collapsed": false
   }
  },
  {
   "cell_type": "code",
   "execution_count": null,
   "outputs": [],
   "source": [
    "plt.imshow(binary_global,cmap='gray')"
   ],
   "metadata": {
    "collapsed": false
   }
  },
  {
   "cell_type": "code",
   "execution_count": null,
   "outputs": [],
   "source": [
    "np.sum(binary_global)/(height*width)"
   ],
   "metadata": {
    "collapsed": false
   }
  },
  {
   "cell_type": "code",
   "execution_count": null,
   "outputs": [],
   "source": [
    "types_dict = {'Ultra_Co11': 'средние зерна',\n",
    "              'Ultra_Co25': 'мелкие зерна',\n",
    "              'Ultra_Co8': 'средне-мелкие зерна',\n",
    "              'Ultra_Co6_2': 'крупные зерна',\n",
    "              'Ultra_Co15': 'средне-мелкие зерна'}\n"
   ],
   "metadata": {
    "collapsed": false
   }
  },
  {
   "cell_type": "code",
   "execution_count": null,
   "outputs": [],
   "source": [
    "folder_path = '../datasets/bc_left'\n",
    "\n",
    "folders = os.listdir(folder_path)\n",
    "density={}\n",
    "density_std={}\n",
    "\n",
    "for folder in tqdm(folders):\n",
    "    images_paths=glob.glob(folder_path+'/'+folder+'/*.jpeg')\n",
    "    d=[]\n",
    "    for image_path in tqdm(images_paths):\n",
    "        img=io.imread(image_path)\n",
    "        height,width=img.shape\n",
    "        global_thresh = filters.threshold_otsu(img)\n",
    "        binary_global = img > global_thresh\n",
    "        d.append(np.sum(binary_global)/(height*width))\n",
    "        \n",
    "    density[folder]=np.mean(d)\n",
    "    density_std[folder]=np.std(d)\n",
    "\n",
    "density"
   ],
   "metadata": {
    "collapsed": false
   }
  },
  {
   "cell_type": "code",
   "execution_count": null,
   "outputs": [],
   "source": [
    "density_std"
   ],
   "metadata": {
    "collapsed": false
   }
  },
  {
   "cell_type": "code",
   "execution_count": null,
   "outputs": [],
   "source": [
    "# sub_dict = {'Ultra_Co11':6,\n",
    "#               'Ultra_Co25': 10,\n",
    "#               'Ultra_Co8': 8,\n",
    "#               'Ultra_Co6_2': 6.2,\n",
    "#               'Ultra_Co15': 15}\n",
    "\n",
    "sub_dict = {'Ultra_Co11':94,\n",
    "            'Ultra_Co25': 90,\n",
    "            'Ultra_Co8': 92,\n",
    "            'Ultra_Co6_2': 93.8,\n",
    "            'Ultra_Co15': 85}\n",
    "\n",
    "\n",
    "for key in density.keys():\n",
    "    # print(key,100*(1-density[key])/sub_dict[key])\n",
    "    # print(key,100*(1-density[key]))\n",
    "    print(key,100*density[key]/sub_dict[key])"
   ],
   "metadata": {
    "collapsed": false
   }
  }
 ],
 "metadata": {
  "kernelspec": {
   "name": "torch",
   "language": "python",
   "display_name": "torch"
  },
  "language_info": {
   "codemirror_mode": {
    "name": "ipython",
    "version": 2
   },
   "file_extension": ".py",
   "mimetype": "text/x-python",
   "name": "python",
   "nbconvert_exporter": "python",
   "pygments_lexer": "ipython2",
   "version": "2.7.6"
  }
 },
 "nbformat": 4,
 "nbformat_minor": 0
}
