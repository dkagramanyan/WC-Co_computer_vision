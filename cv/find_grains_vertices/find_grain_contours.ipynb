{
 "cells": [
  {
   "cell_type": "code",
   "execution_count": 2,
   "id": "4b848c69",
   "metadata": {},
   "outputs": [],
   "source": [
    "import cv2 as cv\n",
    "import numpy as np\n",
    "from shapely.geometry import Polygon"
   ]
  },
  {
   "cell_type": "code",
   "execution_count": 60,
   "id": "88253252",
   "metadata": {},
   "outputs": [],
   "source": [
    "\n",
    "img = cv.imread(\"C:/files_for_jupiter/grains.jpg\")\n",
    "for increment in np.arange(0, 160, 5):\n",
    "    \n",
    "    hsv_min = np.array((0 + increment, 140, 100), np.uint8)\n",
    "    hsv_max = np.array((20 + increment, 255, 200), np.uint8)\n",
    "    \n",
    "    img_new = cv.imread(\"C:/files_for_jupiter/grains.jpg\")\n",
    "    hsv = cv.cvtColor(img_new, cv.COLOR_BGR2HSV) # меняем цветовую модель с BGR на HSV \n",
    "    hsv = cv.GaussianBlur(hsv, (7,7), 0)\n",
    "    thresh = cv.inRange( hsv, hsv_min, hsv_max) # применяем цветовой фильтр\n",
    "    \n",
    "    hsv = cv.GaussianBlur(hsv, (7,7), 0)\n",
    "    # ищем контуры и складируем их в переменную contours\n",
    "    contours, hierarchy = cv.findContours( thresh, cv.RETR_TREE, cv.CHAIN_APPROX_SIMPLE)\n",
    "    cntrs = []\n",
    "    for contour in contours:\n",
    "        if np.shape(contour)[0] > 2:\n",
    "            if Polygon(contour.reshape(np.shape(contour)[0], 2)).area > 500:\n",
    "                cntrs.append(contour)\n",
    "    if len(cntrs) == 0:\n",
    "        continue\n",
    "    cv.drawContours(img, cntrs, -1, (255,0,0), 1, cv.LINE_AA)\n",
    "    cv.imshow('contours', img) # выводим итоговое изображение в окно\n",
    "    cv.waitKey()\n",
    "cv.imshow('contours', img)\n",
    "\n",
    "cv.destroyAllWindows()"
   ]
  },
  {
   "cell_type": "code",
   "execution_count": 7,
   "id": "4cd7a071",
   "metadata": {},
   "outputs": [
    {
     "name": "stdout",
     "output_type": "stream",
     "text": [
      "True\n",
      "True\n",
      "True\n",
      "True\n",
      "True\n",
      "True\n",
      "True\n",
      "True\n",
      "True\n",
      "True\n",
      "True\n",
      "True\n",
      "True\n",
      "True\n",
      "True\n"
     ]
    }
   ],
   "source": [
    "# img_new = cv.imread(\"C:/files_for_jupiter/grains.jpg\")\n",
    "img_new = cv.imread(\"C:/files_for_jupiter/grains2.jpg\")\n",
    "img_new = cv.GaussianBlur(img_new, (3, 3), 0)\n",
    "edges = cv.Canny(img_new, 10, 70, L2gradient=True)\n",
    "cv.imshow('edges', edges) \n",
    "contours, hierarchy = cv.findContours( edges, cv.RETR_TREE, cv.CHAIN_APPROX_SIMPLE)\n",
    "new_cnts = []\n",
    "old = []\n",
    "\n",
    "for cnt in contours:\n",
    "    condition = False\n",
    "    if len(cnt) == len(old):\n",
    "        for new_cnt, old_cnt in zip(cnt[0][0], old[0][0]):\n",
    "            if new_cnt != old_cnt:\n",
    "                break\n",
    "        condition = True\n",
    "        print(True)\n",
    "    if condition:\n",
    "        continue\n",
    "    new_cnts.append(cnt)\n",
    "#     cv.drawContours(img_new, [cnt], -1, (255,0,0), 1, cv.LINE_AA)\n",
    "#     #cv.imshow('contours', edges) \n",
    "#     cv.imshow('img', img_new) \n",
    "#     cv.waitKey()\n",
    "#     cv.destroyAllWindows()\n",
    "    old = cnt\n",
    "len(new_cnts), len(contours)\n",
    "    \n",
    "# for cnt in contours:\n",
    "#     print(cnt)\n",
    "#     cv.drawContours(img_new, [cnt], -1, (255,0,0), 1, cv.LINE_AA)\n",
    "#     #cv.imshow('contours', edges) \n",
    "#     cv.imshow('img', img_new) \n",
    "#     cv.waitKey()\n",
    "#     cv.destroyAllWindows()\n",
    "cv.drawContours(img_new, new_cnts, -1, (255,0,0), 1, cv.LINE_AA)\n",
    "#cv.imshow('contours', edges) \n",
    "cv.imshow('img', img_new)\n",
    "cv.waitKey()\n",
    "cv.destroyAllWindows()\n",
    "                                          "
   ]
  },
  {
   "cell_type": "code",
   "execution_count": null,
   "id": "2780b336",
   "metadata": {},
   "outputs": [],
   "source": []
  },
  {
   "cell_type": "code",
   "execution_count": 9,
   "id": "3c267083",
   "metadata": {},
   "outputs": [
    {
     "name": "stdout",
     "output_type": "stream",
     "text": [
      "0.001\n",
      "0.0064444444444444445\n",
      "0.01188888888888889\n",
      "0.017333333333333333\n",
      "0.02277777777777778\n",
      "0.028222222222222225\n",
      "0.033666666666666664\n",
      "0.03911111111111111\n",
      "0.04455555555555556\n",
      "0.05\n"
     ]
    }
   ],
   "source": [
    "# img_neww = cv.imread(\"C:/files_for_jupiter/grains.jpg\")\n",
    "img_neww = cv.imread(\"C:/files_for_jupiter/grains2.jpg\")\n",
    "strating_color = [0,0,100]\n",
    "for eps in np.linspace(0.001, 0.05, 10):\n",
    "    img = img_neww.copy() \n",
    "    print(eps)\n",
    "    for cnt_arr in contours:\n",
    "        epsilon = eps*cv.arcLength(cnt_arr, True)\n",
    "        approx = cv.approxPolyDP(cnt_arr, epsilon, True)\n",
    "        cv.drawContours(img, [approx], -1, (255,0,0), 1, cv.LINE_AA)\n",
    "        for cn in approx:\n",
    "            img[cn[0][1] - 2:cn[0][1] + 2, cn[0][0]-2:cn[0][0]+2] = strating_color\n",
    "        strating_color = ((strating_color[0] + 15) % 255, (strating_color[1] + 5) % 255, (strating_color[2] + 10) % 255)\n",
    "    cv.imshow('colored img', img) \n",
    "    cv.waitKey()\n",
    "    cv.destroyAllWindows()"
   ]
  },
  {
   "cell_type": "code",
   "execution_count": null,
   "id": "187a1562",
   "metadata": {},
   "outputs": [],
   "source": []
  }
 ],
 "metadata": {
  "kernelspec": {
   "display_name": "Python 3 (ipykernel)",
   "language": "python",
   "name": "python3"
  },
  "language_info": {
   "codemirror_mode": {
    "name": "ipython",
    "version": 3
   },
   "file_extension": ".py",
   "mimetype": "text/x-python",
   "name": "python",
   "nbconvert_exporter": "python",
   "pygments_lexer": "ipython3",
   "version": "3.7.11"
  }
 },
 "nbformat": 4,
 "nbformat_minor": 5
}
