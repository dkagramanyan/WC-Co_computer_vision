{
 "cells": [
  {
   "cell_type": "code",
   "execution_count": 1,
   "metadata": {
    "collapsed": true,
    "ExecuteTime": {
     "start_time": "2023-05-10T19:31:28.863424Z",
     "end_time": "2023-05-10T19:31:29.527428Z"
    }
   },
   "outputs": [],
   "source": [
    "import os\n",
    "\n",
    "# os.environ['KMP_DUPLICATE_LIB_OK']='True'\n",
    "\n",
    "import numpy as np\n",
    "import numpy.ma as ma\n",
    "import os\n",
    "import time\n",
    "\n",
    "import pandas as pd\n",
    "# from lmfit.models import GaussianModel, Model\n",
    "from sklearn.linear_model import LinearRegression\n",
    "from sklearn.preprocessing import PolynomialFeatures\n",
    "from sklearn.pipeline import make_pipeline\n",
    "from sklearn import mixture, metrics\n",
    "\n",
    "# from shapely.geometry import Polygon\n",
    "\n",
    "from scipy.stats.distributions import norm\n",
    "from sklearn.neighbors import KernelDensity\n",
    "from scipy.stats import gaussian_kde\n",
    "\n",
    "from matplotlib import pyplot as plt\n",
    "from matplotlib import cm\n",
    "\n",
    "from skimage.measure import EllipseModel\n",
    "from matplotlib.patches import Ellipse\n",
    "\n",
    "from scipy import ndimage as ndi\n",
    "from scipy.spatial import distance\n",
    "from numpy import linalg\n",
    "\n",
    "import skimage\n",
    "from skimage import io, transform\n",
    "from skimage.draw import ellipse\n",
    "from skimage.color import rgb2gray\n",
    "from skimage import filters\n",
    "from skimage.morphology import disk\n",
    "from skimage import color\n",
    "from skimage import filters, util\n",
    "from skimage.morphology import disk, skeletonize, ball\n",
    "\n",
    "from PIL import Image, ImageDraw, ImageFilter, ImageOps\n",
    "import copy\n",
    "import cv2\n",
    "import os\n",
    "import sys\n",
    "\n",
    "from skimage.measure import approximate_polygon\n",
    "\n",
    "import matplotlib.pyplot as plt\n",
    "import matplotlib.gridspec as gridspec\n",
    "from scipy.ndimage import distance_transform_edt as edt\n",
    "from skimage.draw import ellipse\n",
    "from skimage.measure import find_contours, approximate_polygon, subdivide_polygon\n",
    "import logging\n",
    "import glob\n",
    "\n",
    "# from radio_beam.commonbeam import getMinVolEllipse\n",
    "#\n",
    "# from src.utils import grainPreprocess, grainShow, grainMark, grainDraw, grainApprox, grainStats, grainMorphology,grainGenerate\n",
    "# from src.cfg import CfgAnglesNames, CfgBeamsNames, CfgDataset\n",
    "#\n",
    "# import plotly.graph_objects as go\n",
    "\n",
    "from matplotlib.image import NonUniformImage\n",
    "import matplotlib\n",
    "\n",
    "from mpl_toolkits.axes_grid1 import make_axes_locatable\n",
    "import matplotlib as mpl\n",
    "\n",
    "from tqdm.notebook import tqdm\n",
    "import json\n",
    "\n",
    "import cv2\n",
    "\n",
    "from sklearn.metrics import pairwise_distances\n",
    "import seaborn as sns\n",
    "from matplotlib.colors import LogNorm, Normalize\n",
    "import scipy\n",
    "\n",
    "from shapely.geometry import Polygon\n",
    "from sklearn import linear_model\n"
   ]
  },
  {
   "cell_type": "code",
   "execution_count": null,
   "outputs": [],
   "source": [
    "{'path': paths[i],\n",
    " 'name': name,\n",
    " 'type': types_dict[name],\n",
    " 'legend': [{'a_beams': legend1, 'b_beams': legend2}],\n",
    " 'density_curve_scatter': [\n",
    "     {'a_beams': (x1.flatten(), y1.flatten()),\n",
    "      'b_beams': (x2.flatten(), y2.flatten()),\n",
    "      'angles':(x_angles.flatten(), y_angles.flatten())\n",
    "      }\n",
    " ],\n",
    " 'linear_approx_plot': [{'a_beams': (x_pred1.flatten(), y_pred1.flatten()),\n",
    "                         'b_beams': (x_pred2.flatten(), y_pred2.flatten())}],\n",
    " 'linear_approx_data': [{'a_beams': {'k': k1, 'b': b1, 'angle': angle1, 'score': score1},\n",
    "                         'b_beams': {'k': k2, 'b': b2, 'angle': angle2, 'score': score2}}],\n",
    " 'beams_length_series': [{'a_beams': all_a_beams, 'b_beams': all_b_beams}],\n",
    " 'angles_series': all_angles,\n",
    " 'contours_series': all_contours,\n",
    " 'pixel2meter': pixel,\n",
    " }"
   ],
   "metadata": {
    "collapsed": false
   }
  },
  {
   "cell_type": "code",
   "execution_count": 4,
   "outputs": [
    {
     "name": "stdout",
     "output_type": "stream",
     "text": [
      "0.05\n"
     ]
    },
    {
     "data": {
      "text/plain": "0.0025000000000000005"
     },
     "execution_count": 4,
     "metadata": {},
     "output_type": "execute_result"
    }
   ],
   "source": [
    "pixel = 50 / 1000\n",
    "print(pixel)\n",
    "pixel=pow(pixel,2)\n",
    "pixel"
   ],
   "metadata": {
    "collapsed": false,
    "ExecuteTime": {
     "start_time": "2023-05-10T14:03:33.514272Z",
     "end_time": "2023-05-10T14:03:33.520066Z"
    }
   }
  },
  {
   "cell_type": "code",
   "execution_count": 7,
   "outputs": [],
   "source": [
    "def polygon_area(x,y):\n",
    "    # coordinate shift\n",
    "    x_ = x - x.mean()\n",
    "    y_ = y - y.mean()\n",
    "\n",
    "    correction = x_[-1] * y_[0] - y_[-1]* x_[0]\n",
    "    main_area = np.dot(x_[:-1], y_[1:]) - np.dot(y_[:-1], x_[1:])\n",
    "    return 0.5*np.abs(main_area + correction)"
   ],
   "metadata": {
    "collapsed": false,
    "ExecuteTime": {
     "start_time": "2023-05-10T15:43:43.560172Z",
     "end_time": "2023-05-10T15:43:43.563579Z"
    }
   }
  },
  {
   "cell_type": "code",
   "execution_count": 20,
   "outputs": [],
   "source": [
    "def polygons_area_all(data,saved_image_name, step, N, M, indices=None,save=False, start=0,end=-7):\n",
    "    #\n",
    "    # вывод распределения длин а- и б- полуосей для разных образцов\n",
    "    #\n",
    "\n",
    "    angles_size=[3,8,18]\n",
    "\n",
    "    pixel = 50 / 1000\n",
    "    pixel=pow(pixel,2)\n",
    "\n",
    "    alloys_indices=range(data['data'].__len__())\n",
    "\n",
    "    if indices is not None:\n",
    "        alloys_indices=indices\n",
    "\n",
    "    # fig,(ax1,ax2)=plt.subplots(1,2,figsize=(N, M))\n",
    "    fig=plt.figure(figsize=(N,M),facecolor='white')\n",
    "    fig.patch.set_facecolor('white')\n",
    "    ax = plt.axes()\n",
    "    ax.set_facecolor(\"white\")\n",
    "\n",
    "    font_size=20\n",
    "    plt.rcParams.update({'font.size': font_size})\n",
    "\n",
    "\n",
    "\n",
    "    # ax1.set_ylabel('ln( p(x) )')\n",
    "    # ax2.set_ylabel('ln( p(x) )')\n",
    "\n",
    "    # ax2.set_xlabel('Большая полуось, мкм')\n",
    "    # ax1.set_xlabel('Малая полуось, мкм', )\n",
    "\n",
    "    markers = ['v', 's', 'D', 'd', 'p', '*','P']\n",
    "    colors = ['orange', 'red','blue','green', 'indigo']\n",
    "\n",
    "    # linear approx\n",
    "    # for i in alloys_indices:\n",
    "    #\n",
    "    #     ax1.plot(data['data'][i]['linear_approx_plot'][0]['a_beams'][0],\n",
    "    #              data['data'][i]['linear_approx_plot'][0]['a_beams'][1],color=colors[i])\n",
    "    #     ax2.plot(data['data'][i]['linear_approx_plot'][0]['b_beams'][0],\n",
    "    #              data['data'][i]['linear_approx_plot'][0]['b_beams'][1],color=colors[i])\n",
    "\n",
    "    legend_a=[]\n",
    "\n",
    "    s=60\n",
    "    # s=10\n",
    "\n",
    "\n",
    "    # density curve\n",
    "    for k,i in tqdm(enumerate(alloys_indices)):\n",
    "        marker = markers[i]\n",
    "\n",
    "        polygon_areas=[]\n",
    "        cnts=data['data'][i]['contours_series']\n",
    "        # cnts_np=[]\n",
    "        for cnt in cnts:\n",
    "            cnt = np.array(cnt)\n",
    "            # polygon_areas.append(polygon_area(cnt[:,0],cnt[:,1]))\n",
    "            # coords = approximate_polygon(cnt, tolerance=3)\n",
    "            # polygon_areas.append(cv2.contourArea(cnt))\n",
    "            polygon_areas.append(cv2.contourArea(cnt))\n",
    "\n",
    "        # print('middle')\n",
    "        # polygon_areas1, polygon_areas_set, polygon_areas_curve = grainStats.stats_preprocess(polygon_areas, step)\n",
    "        images_num=data['data'][i]['linear_approx_plot'][0]['a_beams'][0].__len__()\n",
    "\n",
    "        co_fraction=np.sum(polygon_areas)/(pow(1535,2)*images_num)\n",
    "\n",
    "        polygon_areas=np.array(polygon_areas).astype(np.float64)\n",
    "\n",
    "        # cnts_np=np.array(cnts_np,dtype=object).reshape((-1,2))\n",
    "        # print(max(cnts_np[:,0]))\n",
    "        # print(max(cnts_np[:,1]))\n",
    "        # print('----')\n",
    "\n",
    "        polygon_areas*=pixel\n",
    "\n",
    "        # areas_thresh=np.sum(np.where(polygon_areas<=cmp_area,polygon_areas,0))\n",
    "        # areas_thresh/=np.sum(polygon_areas)\n",
    "\n",
    "        low, high = np.floor(polygon_areas.min()), np.ceil(polygon_areas.max())\n",
    "        low=int(low)\n",
    "        high=int(high)\n",
    "\n",
    "        bins = np.linspace(low, high, int(high - low))\n",
    "        hist, edges = np.histogram(polygon_areas, bins=bins, density=True)\n",
    "        hist/=sum(hist)\n",
    "        print(sum(hist))\n",
    "\n",
    "        hist=np.log(hist)\n",
    "\n",
    "        edges=edges[:-1]\n",
    "\n",
    "        hist=hist[start:end]\n",
    "        edges=edges[start:end]\n",
    "\n",
    "        hist=[h for h in hist if h>-8 ]\n",
    "        polygon_areas=polygon_areas[:len(hist)]\n",
    "        edges=edges[:len(hist)]\n",
    "\n",
    "\n",
    "        plt.scatter(edges,hist,  marker=marker,color=colors[i],s=s)\n",
    "        # plt.hist(hist,  color=colors[i])\n",
    "\n",
    "        legend_a.append(data['data'][i]['name']+' '+data['data'][i]['type']+f'\\nсредняя площадь={round(np.mean(polygon_areas),4)} $мкм^2$\\n доля кобальта ={np.round(co_fraction,3)}\\n std={np.round(np.std(polygon_areas),4)}')\n",
    "\n",
    "        # print('end ----')\n",
    "    # ax1.set_facecolor(\"White\")\n",
    "    # ax2.set_facecolor(\"White\")\n",
    "    plt.legend(legend_a, loc=1)\n",
    "    plt.ylabel('p ( x )')\n",
    "    # plt.xlabel('Эффективный радиус регионов кобальта, $мкм^2$')\n",
    "    plt.xlabel('Площадь регионов кобальта, $мкм^2$')\n",
    "    # ax2.legend(legend_a, loc=1)\n",
    "\n",
    "\n",
    "    # plt.yticks(np.arange(0,0.035,0.01))\n",
    "    # ax2.set_xticks(np.arange(0,12,3))\n",
    "    # plt.xlim(0,20)\n",
    "    # plt.ylim(0,0.15)\n",
    "    # plt.ylim(-8,0)\n",
    "    if save:\n",
    "        # fig.subplots_adjust(wspace=0.25)\n",
    "        plt.savefig(f'polygons_area_{saved_image_name}_step_{step}.png',bbox_inches='tight')\n",
    "        # img_plot=io.imread(f'bimodal_beams_{saved_image_name}_step_{step}.png')\n",
    "\n",
    "        # for i in range(k):\n",
    "        #     step_img=img_plot.shape[1]/k\n",
    "        #     io.imsave(f'bimodal_beams_{plot_names[i]}_{saved_image_name}_step_{step}.png',img_plot[:,int(i*step_img):int((i+1)*step_img)])\n",
    "\n",
    "    plt.show()\n"
   ],
   "metadata": {
    "collapsed": false,
    "ExecuteTime": {
     "start_time": "2023-05-10T19:50:10.318063Z",
     "end_time": "2023-05-10T19:50:10.319780Z"
    }
   }
  },
  {
   "cell_type": "code",
   "execution_count": 4,
   "outputs": [],
   "source": [
    "step = 2\n",
    "\n",
    "# path=f'left_(1500,1500,1)_step_{step}_beams.json'\n",
    "path=f'bc_left_(1536,1536,1)_preprocess_step_{step}_beams.json'\n",
    "\n",
    "data = open(path,encoding='utf-8')\n",
    "data = json.load(data)"
   ],
   "metadata": {
    "collapsed": false,
    "ExecuteTime": {
     "start_time": "2023-05-10T19:31:44.398712Z",
     "end_time": "2023-05-10T19:32:17.818881Z"
    }
   }
  },
  {
   "cell_type": "code",
   "execution_count": 78,
   "outputs": [
    {
     "data": {
      "text/plain": "12.101932619383101"
     },
     "execution_count": 78,
     "metadata": {},
     "output_type": "execute_result"
    }
   ],
   "source": [
    "np.power(42.1,2/3)"
   ],
   "metadata": {
    "collapsed": false,
    "ExecuteTime": {
     "start_time": "2023-05-10T13:10:36.234513Z",
     "end_time": "2023-05-10T13:10:36.239057Z"
    }
   }
  },
  {
   "cell_type": "code",
   "execution_count": 21,
   "outputs": [
    {
     "data": {
      "text/plain": "0it [00:00, ?it/s]",
      "application/vnd.jupyter.widget-view+json": {
       "version_major": 2,
       "version_minor": 0,
       "model_id": "9ed38c3710994be9ae18da10023550a7"
      }
     },
     "metadata": {},
     "output_type": "display_data"
    },
    {
     "name": "stdout",
     "output_type": "stream",
     "text": [
      "1.0000000000000007\n"
     ]
    },
    {
     "name": "stderr",
     "output_type": "stream",
     "text": [
      "/var/folders/zs/yzy0xdy166x3hv5mvqzqrnlm0000gn/T/ipykernel_47602/363499162.py:91: RuntimeWarning: divide by zero encountered in log\n",
      "  hist=np.log(hist)\n"
     ]
    },
    {
     "name": "stdout",
     "output_type": "stream",
     "text": [
      "1.0000000000000002\n",
      "0.9999999999999998\n"
     ]
    },
    {
     "data": {
      "text/plain": "<Figure size 1440x720 with 1 Axes>",
      "image/png": "[encoded data removed]"
     },
     "metadata": {},
     "output_type": "display_data"
    },
    {
     "name": "stdout",
     "output_type": "stream",
     "text": [
      "CPU times: user 4.59 s, sys: 1.14 s, total: 5.73 s\n",
      "Wall time: 6.15 s\n"
     ]
    }
   ],
   "source": [
    "%%time\n",
    "N = 20\n",
    "M = 10\n",
    "\n",
    "save=False\n",
    "# save=True\n",
    "\n",
    "plt.rcParams['font.size'] = '22'\n",
    "\n",
    "saved_image_name=f'original_effective_radius'\n",
    "# saved_image_name=f'original'\n",
    "\n",
    "a=polygons_area_all(data,saved_image_name, step, N, M, indices=[3,0,2],save=save,end=-15)\n",
    "# polygons_area_all(data,saved_image_name, step, N, M, indices=[3,0,2],save=save,end=None)\n",
    "# polygons_area_all(path,saved_image_name, step, N, M, indices=None,save=save)\n"
   ],
   "metadata": {
    "collapsed": false,
    "ExecuteTime": {
     "start_time": "2023-05-10T19:50:12.144982Z",
     "end_time": "2023-05-10T19:50:18.279737Z"
    }
   }
  },
  {
   "cell_type": "code",
   "execution_count": 13,
   "outputs": [],
   "source": [
    "def polygons_area_all(data,saved_image_name, step, N, M, indices=None,save=False, start=0,end=-7):\n",
    "    #\n",
    "    # вывод распределения длин а- и б- полуосей для разных образцов\n",
    "    #\n",
    "\n",
    "    pixel = 50 / 1000\n",
    "    pixel=pow(pixel,2)\n",
    "\n",
    "    alloys_indices=range(data['data'].__len__())\n",
    "\n",
    "    if indices is not None:\n",
    "        alloys_indices=indices\n",
    "\n",
    "    # fig,(ax1,ax2)=plt.subplots(1,2,figsize=(N, M))\n",
    "    fig=plt.figure(figsize=(N,M),facecolor='white')\n",
    "    fig.patch.set_facecolor('white')\n",
    "    ax = plt.axes()\n",
    "    ax.set_facecolor(\"white\")\n",
    "\n",
    "    font_size=20\n",
    "    plt.rcParams.update({'font.size': font_size})\n",
    "\n",
    "\n",
    "\n",
    "    # ax1.set_ylabel('ln( p(x) )')\n",
    "    # ax2.set_ylabel('ln( p(x) )')\n",
    "\n",
    "    # ax2.set_xlabel('Большая полуось, мкм')\n",
    "    # ax1.set_xlabel('Малая полуось, мкм', )\n",
    "\n",
    "    markers = ['v', 's', 'D', 'd', 'p', '*','P']\n",
    "    colors = ['orange', 'red','blue','green', 'indigo']\n",
    "\n",
    "    # linear approx\n",
    "    # for i in alloys_indices:\n",
    "    #\n",
    "    #     ax1.plot(data['data'][i]['linear_approx_plot'][0]['a_beams'][0],\n",
    "    #              data['data'][i]['linear_approx_plot'][0]['a_beams'][1],color=colors[i])\n",
    "    #     ax2.plot(data['data'][i]['linear_approx_plot'][0]['b_beams'][0],\n",
    "    #              data['data'][i]['linear_approx_plot'][0]['b_beams'][1],color=colors[i])\n",
    "\n",
    "    legend_a=[]\n",
    "\n",
    "    s=60\n",
    "    # s=10\n",
    "\n",
    "\n",
    "    # density curve\n",
    "    for i in tqdm(alloys_indices):\n",
    "        # print('------')\n",
    "        marker = markers[i]\n",
    "\n",
    "        polygon_areas=[]\n",
    "        cnts=data['data'][i]['contours_series']\n",
    "        for cnt in cnts:\n",
    "            cnt = np.array(cnt)\n",
    "            polygon = Polygon(cnt)\n",
    "            polygon_areas.append(polygon.area*pixel)\n",
    "\n",
    "        # print('middle')\n",
    "        # polygon_areas1, polygon_areas_set, polygon_areas_curve = grainStats.stats_preprocess(polygon_areas, step)\n",
    "        polygon_areas=np.array(polygon_areas).astype(np.float64)\n",
    "        polygon_areas=np.sqrt(polygon_areas)\n",
    "\n",
    "        low, high = np.floor(polygon_areas.min()), np.ceil(polygon_areas.max())\n",
    "        low=int(low)\n",
    "        high=int(high)\n",
    "\n",
    "        bins = np.linspace(low, high, int(high - low)*3)\n",
    "        hist, edges = np.histogram(polygon_areas, bins=bins, density=True)\n",
    "        hist/=sum(hist)\n",
    "        print(sum(hist))\n",
    "\n",
    "        hist=np.log(hist)\n",
    "\n",
    "        edges=edges[:-1]\n",
    "\n",
    "        hist=hist[start:end]\n",
    "        edges=edges[start:end]\n",
    "\n",
    "\n",
    "\n",
    "\n",
    "        plt.scatter(edges,hist,  marker=marker,color=colors[i],s=s)\n",
    "        # plt.hist(hist,  color=colors[i])\n",
    "\n",
    "\n",
    "        legend_a.append(data['data'][i]['name']+' '+data['data'][i]['type']+f'\\nсредний радиус={round(np.mean(polygon_areas),2)} $мкм^2$')\n",
    "\n",
    "        # print('end ----')\n",
    "    # ax1.set_facecolor(\"White\")\n",
    "    # ax2.set_facecolor(\"White\")\n",
    "    plt.legend(legend_a, loc=1)\n",
    "    plt.ylabel('p ( x )')\n",
    "    plt.xlabel('Эффективный радиус регионов кобальта, $мкм^2$')\n",
    "    # plt.xlabel('Площадь регионов кобальта, $мкм^2$')\n",
    "    # ax2.legend(legend_a, loc=1)\n",
    "\n",
    "\n",
    "    # plt.yticks(np.arange(0,0.035,0.01))\n",
    "    # ax2.set_xticks(np.arange(0,12,3))\n",
    "    # plt.xlim(0,5000)\n",
    "    # plt.ylim(0,1)\n",
    "    if save:\n",
    "        # fig.subplots_adjust(wspace=0.25)\n",
    "        plt.savefig(f'polygons_area_{saved_image_name}_step_{step}.png',bbox_inches='tight')\n",
    "        # img_plot=io.imread(f'bimodal_beams_{saved_image_name}_step_{step}.png')\n",
    "\n",
    "        # for i in range(k):\n",
    "        #     step_img=img_plot.shape[1]/k\n",
    "        #     io.imsave(f'bimodal_beams_{plot_names[i]}_{saved_image_name}_step_{step}.png',img_plot[:,int(i*step_img):int((i+1)*step_img)])\n",
    "\n",
    "    plt.show()\n"
   ],
   "metadata": {
    "collapsed": false,
    "ExecuteTime": {
     "start_time": "2023-05-10T12:16:57.082298Z",
     "end_time": "2023-05-10T12:16:57.085730Z"
    }
   }
  },
  {
   "cell_type": "code",
   "execution_count": null,
   "outputs": [],
   "source": [
    "N = 15\n",
    "M = 7\n",
    "\n",
    "save=False\n",
    "# save=True\n",
    "\n",
    "plt.rcParams['font.size'] = '22'\n",
    "\n",
    "saved_image_name=f'original_effective_radius'\n",
    "# saved_image_name=f'original'\n",
    "\n",
    "a=polygons_area_all(data,saved_image_name, step, N, M, indices=[3,0,2],save=save,end=-15)\n",
    "# polygons_area_all(data,saved_image_name, step, N, M, indices=[3,0,2],save=save,end=None)\n",
    "# polygons_area_all(path,saved_image_name, step, N, M, indices=None,save=save)\n"
   ],
   "metadata": {
    "collapsed": false
   }
  }
 ],
 "metadata": {
  "kernelspec": {
   "name": "torch",
   "language": "python",
   "display_name": "torch"
  },
  "language_info": {
   "codemirror_mode": {
    "name": "ipython",
    "version": 2
   },
   "file_extension": ".py",
   "mimetype": "text/x-python",
   "name": "python",
   "nbconvert_exporter": "python",
   "pygments_lexer": "ipython2",
   "version": "2.7.6"
  }
 },
 "nbformat": 4,
 "nbformat_minor": 0
}
