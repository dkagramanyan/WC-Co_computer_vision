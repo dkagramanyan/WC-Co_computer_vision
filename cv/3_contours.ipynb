{
 "cells": [
  {
   "cell_type": "code",
   "execution_count": null,
   "metadata": {
    "ExecuteTime": {
     "end_time": "2023-05-19T15:20:23.572666Z",
     "start_time": "2023-05-19T15:20:21.163103Z"
    },
    "tags": []
   },
   "outputs": [],
   "source": [
    "import numpy as np\n",
    "import os\n",
    "import time\n",
    "\n",
    "from lmfit.models import GaussianModel, Model\n",
    "from sklearn.linear_model import LinearRegression\n",
    "from sklearn import mixture, metrics\n",
    "\n",
    "from shapely.geometry import Polygon\n",
    "\n",
    "from scipy.stats.distributions import norm\n",
    "from sklearn.neighbors import KernelDensity\n",
    "from scipy.stats import gaussian_kde\n",
    "\n",
    "from matplotlib import pyplot as plt\n",
    "from matplotlib import cm\n",
    "\n",
    "from skimage.measure import EllipseModel\n",
    "from matplotlib.patches import Ellipse\n",
    "\n",
    "from scipy import ndimage as ndi\n",
    "from scipy.spatial import distance\n",
    "from numpy import linalg\n",
    "\n",
    "import skimage\n",
    "from skimage import io, transform\n",
    "from skimage.draw import ellipse\n",
    "from skimage.color import rgb2gray\n",
    "from skimage import filters\n",
    "from skimage import filters, util\n",
    "from skimage.morphology import disk, skeletonize, ball\n",
    "from skimage import color\n",
    "\n",
    "from skimage import morphology\n",
    "\n",
    "from sklearn import preprocessing\n",
    "\n",
    "from PIL import Image, ImageDraw, ImageFilter, ImageOps\n",
    "import copy\n",
    "import cv2\n",
    "import os\n",
    "import sys\n",
    "\n",
    "import matplotlib.pyplot as plt\n",
    "import matplotlib.gridspec as gridspec\n",
    "from scipy.ndimage import distance_transform_edt as edt\n",
    "from skimage.draw import ellipse\n",
    "from skimage.measure import find_contours, approximate_polygon, subdivide_polygon\n",
    "import logging\n",
    "import glob\n",
    "# from radio_beam.commonbeam import getMinVolEllipse\n",
    "\n",
    "from utils import grainPreprocess, grainShow, grainMark, grainDraw, grainApprox, grainStats, grainMorphology,grainGenerate\n"
   ]
  },
  {
   "cell_type": "code",
   "execution_count": null,
   "metadata": {
    "tags": []
   },
   "outputs": [],
   "source": [
    "def preprocess_image(image):\n",
    "    # комбинация медианного фильтра, биноризации и градиента\n",
    "    # у зерен значение пикселя - 0, у регионов связ. в-ва - 127,а у их границы - 254\n",
    "\n",
    "    # image = util.img_as_ubyte(image)\n",
    "    # if len(image.shape) < 3:\n",
    "    #     image = image[..., np.newaxis]\n",
    "\n",
    "    if len(image.shape)==3:\n",
    "        image = color.rgb2gray(image)\n",
    "\n",
    "    image = filters.rank.median(image, morphology.disk(3))\n",
    "\n",
    "    global_thresh = filters.threshold_otsu(image)\n",
    "    image = image > global_thresh\n",
    "    binary = image*255\n",
    "\n",
    "    grad = abs(filters.rank.gradient(binary, morphology.disk(1)))\n",
    "    bin_grad = (1 - binary + grad) * 127\n",
    "    bin_grad = bin_grad.astype(np.uint8)\n",
    "\n",
    "    return bin_grad\n",
    "\n",
    "img1 = io.imread('../ml/diffusion/data/o_bc_left_4x_768_360_768_median_generated/Ultra_Co11/0.png')\n",
    "img2 = io.imread('../datasets/original/o_bc_left_4x_768/Ultra_Co11/Ultra_Co11-1_part_1.jpeg')\n",
    "\n",
    "img1=preprocess_image(img1)\n",
    "img2=preprocess_image(img2)"
   ]
  },
  {
   "cell_type": "code",
   "execution_count": null,
   "metadata": {
    "tags": []
   },
   "outputs": [],
   "source": [
    "plt.imshow(img1)"
   ]
  },
  {
   "cell_type": "code",
   "execution_count": null,
   "metadata": {
    "ExecuteTime": {
     "end_time": "2023-05-19T15:31:55.131118Z",
     "start_time": "2023-05-19T15:31:55.106156Z"
    },
    "collapsed": false,
    "jupyter": {
     "outputs_hidden": false
    }
   },
   "outputs": [],
   "source": [
    "def draw_edges(image, cnts, color=(0, 139, 139), r=4, e_width=5, l_width=4):\n",
    "    \"\"\"\n",
    "    :param image: ndarray (width, height, channels)\n",
    "    :param cnts: ndarray (n_cnts,n,2)\n",
    "    :param color: tuple (3,)\n",
    "    :return: ndarray (width, height, channels)\n",
    "    \"\"\"\n",
    "    #\n",
    "    # рисует на изображении линии по точкам контура cnts\n",
    "    # линии в стиле x^1->x^2,x^2->x^3 и тд\n",
    "    #\n",
    "    new_image = copy.copy(image)\n",
    "\n",
    "    im = Image.fromarray(new_image)\n",
    "    draw = ImageDraw.Draw(im)\n",
    "\n",
    "    for j, cnt in enumerate(cnts):\n",
    "        if len(cnt) > 1:\n",
    "            point = cnt[0]\n",
    "            x1, y1 = point[1], point[0]\n",
    "\n",
    "            for i, point2 in enumerate(cnt):\n",
    "                p2 = point2\n",
    "\n",
    "                x2, y2 = p2[1], p2[0]\n",
    "\n",
    "                draw.ellipse((y2 - r, x2 - r, y2 + r, x2 + r), fill=color, width=e_width)\n",
    "                draw.line((y1, x1, y2, x2), fill=(255, 140, 0), width=l_width)\n",
    "                x1, y1 = x2, y2\n",
    "\n",
    "        else:\n",
    "            continue\n",
    "\n",
    "    img = np.array(im)\n",
    "\n",
    "    return img"
   ]
  },
  {
   "cell_type": "code",
   "execution_count": null,
   "metadata": {
    "ExecuteTime": {
     "end_time": "2023-05-19T15:31:55.954887Z",
     "start_time": "2023-05-19T15:31:55.477164Z"
    },
    "collapsed": false,
    "jupyter": {
     "outputs_hidden": false
    },
    "tags": []
   },
   "outputs": [],
   "source": [
    "image=img1\n",
    "\n",
    "cnt_raw=grainMark.get_row_contours(image=image)\n",
    "cnt=grainMark.get_contours(image=image)\n",
    "\n",
    "cnt_img=draw_edges(color.gray2rgb(image),cnts=cnt, r=2, e_width=1, l_width=1)\n",
    "\n",
    "plt.figure(figsize=(10,10))\n",
    "plt.imshow(cnt_img[:256,:256])\n",
    "plt.show()\n",
    "\n",
    "angles = grainMark.get_angles(image)\n",
    "\n",
    "plt.hist(angles,bins=20)\n",
    "plt.show()"
   ]
  },
  {
   "cell_type": "code",
   "execution_count": null,
   "metadata": {
    "collapsed": false,
    "jupyter": {
     "outputs_hidden": false
    }
   },
   "outputs": [],
   "source": [
    "image=img2\n",
    "\n",
    "cnt_raw=grainMark.get_row_contours(image=image)\n",
    "cnt=grainMark.get_contours(image=image)\n",
    "\n",
    "cnt_img=draw_edges(color.gray2rgb(image),cnts=cnt, r=2, e_width=1, l_width=1)\n",
    "\n",
    "plt.figure(figsize=(5,5))\n",
    "plt.imshow(cnt_img[:256,:256])\n",
    "plt.show()\n",
    "\n",
    "io.imread(image,'test.pnd')\n",
    "\n",
    "angles = grainMark.get_angles(image,tol=3)\n",
    "\n",
    "plt.hist(angles,bins=20)\n",
    "plt.show()"
   ]
  }
 ],
 "metadata": {
  "kernelspec": {
   "display_name": "torch",
   "language": "python",
   "name": "torch"
  },
  "language_info": {
   "codemirror_mode": {
    "name": "ipython",
    "version": 3
   },
   "file_extension": ".py",
   "mimetype": "text/x-python",
   "name": "python",
   "nbconvert_exporter": "python",
   "pygments_lexer": "ipython3",
   "version": "3.11.9"
  }
 },
 "nbformat": 4,
 "nbformat_minor": 4
}
