{
 "cells": [
  {
   "cell_type": "code",
   "execution_count": null,
   "metadata": {
    "collapsed": true
   },
   "outputs": [],
   "source": [
    "import numpy as np\n",
    "import os\n",
    "import time\n",
    "\n",
    "from lmfit.models import GaussianModel, Model\n",
    "from sklearn.linear_model import LinearRegression\n",
    "from sklearn import mixture, metrics\n",
    "\n",
    "from shapely.geometry import Polygon\n",
    "\n",
    "from scipy.stats.distributions import norm\n",
    "from sklearn.neighbors import KernelDensity\n",
    "from scipy.stats import gaussian_kde\n",
    "\n",
    "from matplotlib import pyplot as plt\n",
    "from matplotlib import cm\n",
    "\n",
    "from skimage.measure import EllipseModel\n",
    "from matplotlib.patches import Ellipse\n",
    "\n",
    "from scipy import ndimage as ndi\n",
    "from scipy.spatial import distance\n",
    "from numpy import linalg\n",
    "\n",
    "import skimage\n",
    "from skimage import io, transform\n",
    "from skimage.draw import ellipse\n",
    "from skimage.color import rgb2gray\n",
    "from skimage import filters\n",
    "from skimage.morphology import disk\n",
    "from skimage import filters, util\n",
    "from skimage.morphology import disk, skeletonize, ball\n",
    "from skimage import color\n",
    "\n",
    "from sklearn import preprocessing\n",
    "\n",
    "from PIL import Image, ImageDraw, ImageFilter, ImageOps\n",
    "import copy\n",
    "import cv2\n",
    "import os\n",
    "import sys\n",
    "\n",
    "import matplotlib.pyplot as plt\n",
    "import matplotlib.gridspec as gridspec\n",
    "from scipy.ndimage import distance_transform_edt as edt\n",
    "from skimage.draw import ellipse\n",
    "from skimage.measure import find_contours, approximate_polygon, subdivide_polygon\n",
    "import logging\n",
    "import glob\n",
    "from radio_beam.commonbeam import getMinVolEllipse\n",
    "\n",
    "from src.utils import grainPreprocess, grainShow, grainMark, grainDraw, grainApprox, grainStats, grainMorphology,grainGenerate\n",
    "from src.cfg import CfgAnglesNames, CfgBeamsNames, CfgDataset\n"
   ]
  },
  {
   "cell_type": "code",
   "execution_count": null,
   "outputs": [],
   "source": [
    "img=io.imread('data/docs_images/Ultra_Co15-020.jpeg')\n",
    "preprocess_img=grainPreprocess.image_preprocess(img)\n",
    "cnt=grainMark.get_contours(image=preprocess_img)"
   ],
   "metadata": {
    "collapsed": false
   }
  },
  {
   "cell_type": "code",
   "execution_count": null,
   "outputs": [],
   "source": [
    "plt.figure(figsize=(15,15))\n",
    "plt.imshow(preprocess_img,cmap='gray')"
   ],
   "metadata": {
    "collapsed": false
   }
  },
  {
   "cell_type": "code",
   "execution_count": null,
   "outputs": [],
   "source": [
    "preprocess_img[:, :, 0].shape"
   ],
   "metadata": {
    "collapsed": false
   }
  },
  {
   "cell_type": "code",
   "execution_count": null,
   "outputs": [],
   "source": [
    "def draw_edges(image, cnts, color=(0, 139, 139), r=4, e_width=5, l_width=4):\n",
    "    \"\"\"\n",
    "    :param image: ndarray (width, height, channels)\n",
    "    :param cnts: ndarray (n_cnts,n,2)\n",
    "    :param color: tuple (3,)\n",
    "    :return: ndarray (width, height, channels)\n",
    "    \"\"\"\n",
    "    #\n",
    "    # рисует на изображении линии по точкам контура cnts\n",
    "    # линии в стиле x^1->x^2,x^2->x^3 и тд\n",
    "    #\n",
    "    new_image = copy.copy(image)\n",
    "\n",
    "    im = Image.fromarray(new_image)\n",
    "    draw = ImageDraw.Draw(im)\n",
    "\n",
    "    for j, cnt in enumerate(cnts):\n",
    "        if len(cnt) > 1:\n",
    "            point = cnt[0]\n",
    "            x1, y1 = point[1], point[0]\n",
    "\n",
    "            for i, point2 in enumerate(cnt):\n",
    "                p2 = point2\n",
    "\n",
    "                x2, y2 = p2[1], p2[0]\n",
    "\n",
    "                draw.ellipse((y2 - r, x2 - r, y2 + r, x2 + r), fill=color, width=e_width)\n",
    "                draw.line((y1, x1, y2, x2), fill=(255, 140, 0), width=l_width)\n",
    "                x1, y1 = x2, y2\n",
    "\n",
    "        else:\n",
    "            continue\n",
    "\n",
    "    img = np.array(im)\n",
    "\n",
    "    return img"
   ],
   "metadata": {
    "collapsed": false
   }
  },
  {
   "cell_type": "code",
   "execution_count": null,
   "outputs": [],
   "source": [
    "# io.imsave('cnt.png',cnt_img)\n",
    "# io.imsave('img_cnt.png',cnt_img)\n",
    "# io.imsave('contours_binary.png',cnt_img)\n",
    "io.imsave('binary_inv.png',binary_inv)"
   ],
   "metadata": {
    "collapsed": false
   }
  },
  {
   "cell_type": "code",
   "execution_count": null,
   "outputs": [],
   "source": [
    "# cnt_img=draw_edges(color.gray2rgb(preprocess_img[:, :, 0]),cnts=cnt)\n",
    "# cnt_img=draw_edges(color.gray2rgb(img),cnts=cnt)\n",
    "\n",
    "unsigned_image = util.img_as_ubyte(img)\n",
    "if len(unsigned_image.shape) < 3:\n",
    "    unsigned_image = unsigned_image[..., np.newaxis]\n",
    "denoised = filters.rank.median(unsigned_image, ball(3))\n",
    "binary = grainPreprocess.do_otsu(denoised)\n",
    "binary = filters.rank.median(binary, ball(3))\n",
    "grad = abs(filters.rank.gradient(binary, ball(1)))\n",
    "bin_grad = (1 - binary + grad) * 127\n"
   ],
   "metadata": {
    "collapsed": false
   }
  },
  {
   "cell_type": "code",
   "execution_count": null,
   "outputs": [],
   "source": [
    "binary_inv = filters.rank.median(binary_inv, ball(3))"
   ],
   "metadata": {
    "collapsed": false
   }
  },
  {
   "cell_type": "code",
   "execution_count": null,
   "outputs": [],
   "source": [
    "\n",
    "cnt_img=draw_edges(color.gray2rgb(binary_inv[:,:,0]),cnts=cnt)\n",
    "\n",
    "\n",
    "plt.figure(figsize=(15,15))\n",
    "# plt.imshow(cnt_img,cmap='gray')\n",
    "plt.imshow(cnt_img)\n",
    "plt.show()"
   ],
   "metadata": {
    "collapsed": false
   }
  },
  {
   "cell_type": "code",
   "execution_count": null,
   "outputs": [],
   "source": [
    "plt.figure(figsize=(15,15))\n",
    "plt.imshow(bin_grad,cmap='gray')"
   ],
   "metadata": {
    "collapsed": false
   }
  },
  {
   "cell_type": "code",
   "execution_count": null,
   "outputs": [],
   "source": [
    "img1 = io.imread('binary_inv.png')[800:1100,800:1100]\n",
    "img2 = io.imread('contours_binary.png')[800:1100,800:1100]\n",
    "plt.figure(figsize=(15, 15))\n",
    "plt.imshow(img1, cmap='gray')"
   ],
   "metadata": {
    "collapsed": false
   }
  },
  {
   "cell_type": "code",
   "execution_count": null,
   "outputs": [],
   "source": [
    "io.imsave('binary_inv_cropped.png',img1)\n",
    "io.imsave('contours_binary_cropped.png',img2)"
   ],
   "metadata": {
    "collapsed": false
   }
  },
  {
   "cell_type": "code",
   "execution_count": null,
   "outputs": [],
   "source": [
    "io.imsave('preprocessed_cropped.png',bin_grad[800:1100,800:1100])"
   ],
   "metadata": {
    "collapsed": false
   }
  }
 ],
 "metadata": {
  "kernelspec": {
   "name": "tf2",
   "language": "python",
   "display_name": "tf2"
  },
  "language_info": {
   "codemirror_mode": {
    "name": "ipython",
    "version": 2
   },
   "file_extension": ".py",
   "mimetype": "text/x-python",
   "name": "python",
   "nbconvert_exporter": "python",
   "pygments_lexer": "ipython2",
   "version": "2.7.6"
  }
 },
 "nbformat": 4,
 "nbformat_minor": 0
}
