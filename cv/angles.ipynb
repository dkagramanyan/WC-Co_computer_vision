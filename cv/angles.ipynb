{
 "cells": [
  {
   "cell_type": "code",
   "execution_count": 1,
   "metadata": {
    "pycharm": {
     "name": "#%%\n"
    }
   },
   "outputs": [],
   "source": [
    "import numpy as np\n",
    "import os\n",
    "import time\n",
    "\n",
    "from lmfit.models import GaussianModel, Model\n",
    "from sklearn.linear_model import LinearRegression\n",
    "from sklearn import mixture, metrics\n",
    "\n",
    "from shapely.geometry import Polygon\n",
    "\n",
    "from scipy.stats.distributions import norm\n",
    "from sklearn.neighbors import KernelDensity\n",
    "from scipy.stats import gaussian_kde\n",
    "\n",
    "from matplotlib import pyplot as plt\n",
    "from matplotlib import cm\n",
    "\n",
    "from skimage.measure import EllipseModel\n",
    "from matplotlib.patches import Ellipse\n",
    "\n",
    "from scipy import ndimage as ndi\n",
    "from scipy.spatial import distance\n",
    "from numpy import linalg\n",
    "\n",
    "import skimage\n",
    "from skimage import io, transform\n",
    "from skimage.draw import ellipse\n",
    "from skimage.color import rgb2gray\n",
    "from skimage import filters\n",
    "from skimage.morphology import disk\n",
    "from skimage import color\n",
    "from skimage import filters, util\n",
    "from skimage.morphology import disk, skeletonize, ball\n",
    "\n",
    "from PIL import Image, ImageDraw, ImageFilter, ImageOps\n",
    "import copy\n",
    "import cv2\n",
    "import os\n",
    "import sys\n",
    "\n",
    "import matplotlib.pyplot as plt\n",
    "import matplotlib.gridspec as gridspec\n",
    "from scipy.ndimage import distance_transform_edt as edt\n",
    "from skimage.draw import ellipse\n",
    "from skimage.measure import find_contours, approximate_polygon, subdivide_polygon\n",
    "import logging\n",
    "import glob\n",
    "from radio_beam.commonbeam import getMinVolEllipse\n",
    "\n",
    "from src.utils import grainPreprocess, grainShow, grainMark, grainDraw, grainApprox, grainStats, grainMorphology,grainGenerate\n",
    "from src.cfg import CfgAnglesNames, CfgBeamsNames, CfgDataset\n"
   ]
  },
  {
   "cell_type": "markdown",
   "source": [
    "### Сгенерируем распределения углов, аппроксимируем их бимодальным гауссом и сохраним"
   ],
   "metadata": {
    "collapsed": false,
    "pycharm": {
     "name": "#%% md\n"
    }
   }
  },
  {
   "cell_type": "code",
   "execution_count": null,
   "outputs": [],
   "source": [
    "from src.utils import grainGenerate, GrainLogs, grainMark, grainStats, grainApprox\n",
    "import numpy as np"
   ],
   "metadata": {
    "collapsed": false,
    "pycharm": {
     "name": "#%%\n"
    }
   }
  },
  {
   "cell_type": "code",
   "execution_count": 8,
   "outputs": [
    {
     "name": "stderr",
     "output_type": "stream",
     "text": [
      "7it [04:24, 37.77s/it]\n",
      "7it [04:22, 37.49s/it]\n",
      "7it [04:21, 37.39s/it]\n",
      "7it [04:20, 37.15s/it]\n",
      "7it [04:20, 37.23s/it]\n"
     ]
    }
   ],
   "source": [
    "\n",
    "# images = np.load('../data/saved np/images_4x_preprocess.npy')\n",
    "# images = np.load('artif.npy')\n",
    "\n",
    "# images = np.load('images_left_(1500,1500,1)_preprocessed.npy')\n",
    "# images = np.load('data/saved_np/images_10_mixer_preprocess.npy')\n",
    "images = np.load('images_7_classes_mixer_preprocess.npy')\n",
    "# names = np.load('metadata_left_(1500,1500,1)_preprocessed.npy')\n",
    "# names = np.load('data/saved_np/metadata_10_mixer_preprocess.npy')\n",
    "names = np.load('metadata_7_classes_mixer_preprocess.npy')\n",
    "names = [name.split('\\\\')[-1] for name in names]\n",
    "\n",
    "folder = 'data/'\n",
    "\n",
    "# types_dict = {'Ultra_Co11': 'средние зерна',\n",
    "#               'Ultra_Co25': 'мелкие зерна',\n",
    "#               'Ultra_Co8': 'средне-мелкие зерна',\n",
    "#               'Ultra_Co6_2': 'крупные зерна',\n",
    "#               'Ultra_Co15': 'средне-мелкие зерна'}\n",
    "\n",
    "# types_dict = {'class_1': 'Type None'}\n",
    "\n",
    "types_dict = {'2550-51': '2550 призм, кадр 51\\n доля карбина 54.51%',\n",
    "              '2550-52': '2550 призм, кадр 52\\n доля карбина 50.75%',\n",
    "              '2550-53': '2550 призм, кадр 53\\n доля карбина 45.81%',\n",
    "              '3400-51': '3400 призм, кадр 51\\n доля карбина 53.53%',\n",
    "              '3400-52': '3400 призм, кадр 52\\n доля карбина 50.47%',\n",
    "              '3400-53': '3400 призм, кадр 53\\n доля карбина 45.88%',\n",
    "              '3400-54': '3400 призм, кадр 54\\n доля карбина 40.88%'}\n",
    "\n",
    "dens_dict={'2550-51': 0.5451066158234127,\n",
    " '2550-52': 0.5075556821469908,\n",
    " '2550-53': 0.4580166661499669,\n",
    " '3400-51': 0.535331783234127,\n",
    " '3400-52': 0.504782962859623,\n",
    " '3400-53': 0.45885131190062833,\n",
    " '3400-54': 0.40882115988756607}\n",
    "\n",
    "# path = 'data/saved np'\n",
    "# path = 'data/saved np'\n",
    "path = 'data/artif_31.01'\n",
    "# name = 'artif'\n",
    "# name = 'left_(1500,1500,1)'\n",
    "name = '7_classes_mixer_preprocess'\n",
    "\n",
    "\n",
    "# grain_names =['cube compress', 'magnet']\n",
    "# types = ['-', '-', ]\n",
    "\n",
    "for step in range(1, 6):\n",
    "    grainGenerate.angles_approx_save(path, images, name, names, types_dict, step, save=True)\n"
   ],
   "metadata": {
    "collapsed": false,
    "pycharm": {
     "name": "#%%\n"
    }
   }
  },
  {
   "cell_type": "code",
   "execution_count": 33,
   "outputs": [],
   "source": [
    "def angles_approx(folder, name, step, width, height, plot_name=None, y_lim=None, save=False,indices=None, font_size=20):\n",
    "    #\n",
    "    # вывод распределения углов для всех фотографий одного образца\n",
    "    #\n",
    "\n",
    "    xy_scatter = np.load(f'{folder}/' + CfgAnglesNames.values + f'{name}' + f'{step}.npy', allow_pickle=True)\n",
    "    xy_gauss = np.load(f'{folder}/' + CfgAnglesNames.approx + f'{name}' + f'{step}.npy', allow_pickle=True)\n",
    "    xy_gauss_data = np.load(f'{folder}/' + CfgAnglesNames.approx_data + f'{name}' + f'{step}.npy', allow_pickle=True)\n",
    "    texts = np.load(f'{folder}/' + CfgAnglesNames.legend + f'{name}' + f'{step}.npy', allow_pickle=True)\n",
    "\n",
    "    if indices is not None:\n",
    "        xy_scatter = xy_scatter[indices]\n",
    "        xy_gauss = xy_gauss[indices]\n",
    "        xy_gauss_data = xy_gauss_data[indices]\n",
    "        texts = texts[indices]\n",
    "\n",
    "    plt.rcParams['font.size'] = '15'\n",
    "    gs = gridspec.GridSpec(1, 1)\n",
    "    plt.figure(figsize=(width, height))\n",
    "\n",
    "    ax = plt.subplot(gs[0])\n",
    "    # маркеры для одновременного вывода скаттера для разных классов\n",
    "    # количество варкеров=количество классов-1\n",
    "    markers = ['v', 's', 'D', 'd', 'p', '*','P']\n",
    "    # colors = ['aqua', 'orange', 'green', 'red', 'indigo']\n",
    "\n",
    "    for i in range(len(xy_scatter)):\n",
    "        ax.plot(xy_gauss[i][0], xy_gauss[i][1],)\n",
    "\n",
    "    # ax.legend(texts, fontsize=14, loc=1)\n",
    "\n",
    "    for i in range(len(xy_scatter)):\n",
    "        marker = markers[i]\n",
    "        ax.scatter(xy_scatter[i][0], xy_scatter[i][1], marker=marker)\n",
    "\n",
    "    plt.ylabel('p(x)', fontsize=font_size)\n",
    "    plt.xlabel('углы, градусы', fontsize=font_size)\n",
    "\n",
    "    print(texts)\n",
    "\n",
    "    x = [0,60,120,180,240,300,360]\n",
    "    plt.xticks(x, x)\n",
    "\n",
    "    if y_lim:\n",
    "        plt.ylim(0, y_lim)\n",
    "    # plt.autoscale(enable=True, axis='y')\n",
    "\n",
    "    if save:\n",
    "        plt.savefig(f'распределение_углов_{plot_name}_шаг_{step}')\n",
    "\n",
    "    plt.show()"
   ],
   "metadata": {
    "collapsed": false,
    "pycharm": {
     "name": "#%%\n"
    }
   }
  },
  {
   "cell_type": "code",
   "execution_count": null,
   "outputs": [],
   "source": [
    "images = np.load('data/saved_metadata/images_4x_preprocess.npy')"
   ],
   "metadata": {
    "collapsed": false,
    "pycharm": {
     "name": "#%%\n"
    }
   }
  },
  {
   "cell_type": "code",
   "execution_count": 49,
   "outputs": [
    {
     "data": {
      "text/plain": "(360, 768, 768, 1)"
     },
     "execution_count": 49,
     "metadata": {},
     "output_type": "execute_result"
    }
   ],
   "source": [
    "images[0].shape"
   ],
   "metadata": {
    "collapsed": false,
    "pycharm": {
     "name": "#%%\n"
    }
   }
  },
  {
   "cell_type": "code",
   "execution_count": 45,
   "outputs": [
    {
     "name": "stdout",
     "output_type": "stream",
     "text": [
      "['--------------\\nUltra_Co6_2.jpg мелкие зерна\\n количество углов 500247\\n количество снимков 360\\n шаг угла 2 градусов\\n mu1 = 110.17 sigma1 = 28.35 amp1 = 1.57\\n mu2 = 241.51 sigma2 = 25.66 amp2 = 0.38'\n",
      " '--------------\\nUltra_Co11.jpg мелкие зерна\\n количество углов 328513\\n количество снимков 360\\n шаг угла 2 градусов\\n mu1 = 115.7 sigma1 = 29.15 amp1 = 1.38\\n mu2 = 240.69 sigma2 = 26.15 amp2 = 0.52'\n",
      " '--------------\\nUltra_Co25.jpg средне-мелкие зерна\\n количество углов 373268\\n количество снимков 360\\n шаг угла 2 градусов\\n mu1 = 107.2 sigma1 = 29.59 amp1 = 1.62\\n mu2 = 239.02 sigma2 = 24.61 amp2 = 0.33']\n"
     ]
    },
    {
     "data": {
      "text/plain": "<Figure size 576x432 with 1 Axes>",
      "image/png": "[encoded data removed]"
     },
     "metadata": {
      "needs_background": "light"
     },
     "output_type": "display_data"
    }
   ],
   "source": [
    "# folder = 'data/'\n",
    "path = 'data/saved_metadata/'\n",
    "# path = 'images/saved np/'\n",
    "# path = 'data/artif_31.01/'\n",
    "\n",
    "# types_dict = {'Ultra_Co11': 'средние зерна',\n",
    "#               'Ultra_Co25': 'мелкие зерна',\n",
    "#               'Ultra_Co8': 'средне-мелкие зерна',\n",
    "#               'Ultra_Co6_2': 'крупные зерна',\n",
    "#               'Ultra_Co15': 'средне-мелкие зерна'}\n",
    "\n",
    "\n",
    "step = 2\n",
    "width = 8\n",
    "height = 6\n",
    "name = '4x_data_border_fix_'\n",
    "# name = 'artif'\n",
    "# name = '7_classes_mixer_preprocess'\n",
    "y_lim = 0.023\n",
    "# y_lim = 0.013\n",
    "# y_lim = None\n",
    "# save = False\n",
    "save = True\n",
    "plot_name = '4x_3_grains'\n",
    "\n",
    "# генерация распределения, аппроксимирование распределения и сохранение данных\n",
    "angles_approx(path, name, step, width, height, plot_name=plot_name, y_lim=y_lim, save=save, indices=[2,1,4])\n",
    "# angles_approx(path, name, step, width, height, plot_name=plot_name, y_lim=y_lim, save=save, indices=None)"
   ],
   "metadata": {
    "collapsed": false,
    "pycharm": {
     "name": "#%%\n"
    }
   }
  },
  {
   "cell_type": "code",
   "execution_count": null,
   "outputs": [],
   "source": [
    "def angles_approx(folder, step, width, height, save=False, font_size=20):\n",
    "    #\n",
    "    # вывод распределения углов для всех фотографий одного образца\n",
    "    #\n",
    "\n",
    "    xy_scatter = np.load(f'{folder}/' + CfgAnglesNames.values + f'{step}.npy', allow_pickle=True)\n",
    "    xy_gauss = np.load(f'{folder}/' + CfgAnglesNames.approx + f'{step}.npy', allow_pickle=True)\n",
    "    xy_gauss_data = np.load(f'{folder}/' + CfgAnglesNames.approx_data + f'{step}.npy', allow_pickle=True)\n",
    "    texts = np.load(f'{folder}/' + CfgAnglesNames.legend + f'{step}.npy', allow_pickle=True)\n",
    "\n",
    "    synth_angles = np.load(f'{folder}/wc-co.npy')\n",
    "    synth_angles = np.concatenate([synth_angles, np.zeros((180))])\n",
    "\n",
    "    plt.rcParams['font.size'] = '15'\n",
    "    gs = gridspec.GridSpec(1, 1)\n",
    "    plt.figure(figsize=(width, height))\n",
    "\n",
    "    ax = plt.subplot(gs[0])\n",
    "    # маркеры для одновременного вывода скаттера для разных классов\n",
    "    # количество варкеров=количество классов-1\n",
    "    markers = ['v', 's', 'D', 'd', 'p', '*']\n",
    "    for i in range(len(xy_scatter)):\n",
    "        marker = markers[i]\n",
    "        ax.plot(xy_gauss[i][0], xy_gauss[i][1])\n",
    "        ax.scatter(xy_scatter[i][0], xy_scatter[i][1], marker=marker)\n",
    "\n",
    "    ax.plot(synth_angles[::-1])\n",
    "\n",
    "    texts = list(texts)\n",
    "    texts.append('синтетические углы')\n",
    "    ax.legend(texts, fontsize=14, loc=2)\n",
    "    plt.ylabel('p(x)', fontsize=font_size)\n",
    "    plt.xlabel('угол связующего вещества, градусы', fontsize=font_size)\n",
    "    if save:\n",
    "        plt.savefig(f'наложение {step}')\n",
    "\n",
    "    plt.show()"
   ],
   "metadata": {
    "collapsed": false,
    "pycharm": {
     "name": "#%%\n"
    }
   }
  },
  {
   "cell_type": "code",
   "execution_count": null,
   "outputs": [],
   "source": [
    "folder = 'data/saved np/'\n",
    "step = 5\n",
    "width = 20\n",
    "height = 20\n",
    "\n",
    "# генерация распределения, аппроксимирование распределения и сохранение данных\n",
    "angles_approx(folder, step, width, height, save=True)"
   ],
   "metadata": {
    "collapsed": false,
    "pycharm": {
     "name": "#%%\n"
    }
   }
  },
  {
   "cell_type": "code",
   "execution_count": null,
   "outputs": [],
   "source": [
    "def angles_approx_modes(folder, step, start1, stop1, start2, stop2, width, height, font_size=25):\n",
    "    #\n",
    "    # аппроксимация каждой моды\n",
    "    #\n",
    "    xy_scatter_o = np.load(f'{folder}/xy_scatter_step_{step}.npy', allow_pickle=True)\n",
    "    xy_gauss_o = np.load(f'{folder}/xy_gauss_step_{step}.npy', allow_pickle=True)\n",
    "    texts = np.load(f'{folder}/texts_step_{step}.npy', allow_pickle=True)\n",
    "\n",
    "    xy_scatter1 = []\n",
    "    xy_scatter2 = []\n",
    "\n",
    "    for j, sc in enumerate(xy_scatter_o):\n",
    "        x = sc[0]\n",
    "        y = sc[1]\n",
    "        xy_scatter1.append([[], []])\n",
    "        xy_scatter2.append([[], []])\n",
    "        for i, xi in enumerate(x):\n",
    "            if xi <= stop1 and xi >= start1:\n",
    "                xy_scatter1[j][0].append(x[i])\n",
    "                xy_scatter1[j][1].append(y[i])\n",
    "\n",
    "            if xi <= stop2 and xi >= start2:\n",
    "                xy_scatter2[j][0].append(x[i])\n",
    "                xy_scatter2[j][1].append(y[i])\n",
    "\n",
    "    plt.rcParams['font.size'] = '25'\n",
    "    markers = ['v', 's', 'D', 'd', 'p', '*']\n",
    "    k = 2\n",
    "    for i in range(len(xy_scatter_o)):\n",
    "        plt.figure(figsize=(width, height))\n",
    "        marker = markers[i]\n",
    "\n",
    "        #    plt.scatter(xy_scatter_o[i][0],xy_scatter_o[i][1])\n",
    "\n",
    "        x1 = np.array(xy_scatter1[i][0])\n",
    "        y1 = xy_scatter1[i][1]\n",
    "\n",
    "        x2 = np.array(xy_scatter2[i][0])\n",
    "        y2 = xy_scatter2[i][1]\n",
    "\n",
    "        mu1, sigma1, amp1 = grainApprox.gaussian_fit(x1, y1, mu=120)\n",
    "        mu2, sigma2, amp2 = grainApprox.gaussian_fit(x2, y2, mu=225)\n",
    "\n",
    "        x_gauss1 = np.arange(mu1 - 3 * sigma1, mu1 + 3 * sigma1)\n",
    "        x_gauss2 = np.arange(mu2 - 3 * sigma2, mu2 + 3 * sigma2)\n",
    "\n",
    "        y_gauss1 = grainStats.gaussian(x_gauss1, mu1, sigma1, amp1)\n",
    "        y_gauss2 = grainStats.gaussian(x_gauss2, mu2, sigma2, amp2)\n",
    "\n",
    "        #    plt.plot(x_gauss,y_gauss)\n",
    "        plt.scatter(x1, y1, marker=marker)\n",
    "        plt.plot(x_gauss1, y_gauss1)\n",
    "\n",
    "        plt.scatter(x2, y2, marker=markers[i + 1])\n",
    "        plt.plot(x_gauss2, y_gauss2)\n",
    "\n",
    "        #  print('mu1=',mu1,' sigma1=',sigma1,'amp1=',amp1)\n",
    "        #  print('mu2=',mu2,' sigma2=',sigma2,'amp2=',amp2)\n",
    "        plt.legend(['moda1', 'moda2', 'approx1', texts[i]], fontsize=14, loc=1)\n",
    "        plt.ylabel('p(x)', fontsize=font_size)\n",
    "        plt.xlabel('угол связующего вещества, градусы', fontsize=font_size)\n",
    "        # plt.ylim([0,max(np.log(xy_scatter[i][1][:-1]))])\n",
    "    # plt.savefig('крупные моды отдельная аппрокс  ' + names[i])\n",
    "\n",
    "    #  print(texts)\n",
    "\n",
    "    #  plt.savefig('распределение углов')\n",
    "    plt.show()"
   ],
   "metadata": {
    "collapsed": false,
    "pycharm": {
     "name": "#%%\n"
    }
   }
  },
  {
   "cell_type": "code",
   "execution_count": null,
   "outputs": [],
   "source": [
    "folder = 'saved np'\n",
    "width = 12\n",
    "height = 15\n",
    "\n",
    "step = 1\n",
    "\n",
    "start = 340\n",
    "stop = 360\n",
    "\n",
    "start1 = 50\n",
    "stop1 = 180\n",
    "\n",
    "start2 = 180\n",
    "stop2 = 300\n",
    "\n",
    "angles_approx_modes(folder, step, start1, stop1, start2, stop2, width, height)"
   ],
   "metadata": {
    "collapsed": false,
    "pycharm": {
     "name": "#%%\n"
    }
   }
  }
 ],
 "metadata": {
  "kernelspec": {
   "display_name": "tf2",
   "language": "python",
   "name": "tf2"
  },
  "language_info": {
   "codemirror_mode": {
    "name": "ipython",
    "version": 3
   },
   "file_extension": ".py",
   "mimetype": "text/x-python",
   "name": "python",
   "nbconvert_exporter": "python",
   "pygments_lexer": "ipython3",
   "version": "3.8.11"
  }
 },
 "nbformat": 4,
 "nbformat_minor": 4
}
