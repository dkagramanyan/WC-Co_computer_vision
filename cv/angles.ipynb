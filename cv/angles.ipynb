{
 "cells": [
  {
   "cell_type": "code",
   "execution_count": null,
   "metadata": {
    "ExecuteTime": {
     "end_time": "2023-08-08T11:46:46.397442Z",
     "start_time": "2023-08-08T11:46:46.381852Z"
    },
    "pycharm": {
     "name": "#%%\n"
    },
    "tags": []
   },
   "outputs": [],
   "source": [
    "import numpy as np\n",
    "import matplotlib.pyplot as plt\n",
    "from collections import Counter\n",
    "import json\n",
    "from tqdm.notebook import tqdm\n",
    "\n",
    "from utils import grainPreprocess, grainShow, grainMark, grainDraw, grainApprox, grainStats, grainMorphology,grainGenerate"
   ]
  },
  {
   "cell_type": "code",
   "execution_count": null,
   "metadata": {
    "tags": []
   },
   "outputs": [],
   "source": [
    "# json_data.append({'path': paths[i],\n",
    "#                   'name': name,\n",
    "#                   'type': types_dict[name],\n",
    "#                   'legend': [text],\n",
    "#                   'density_curve_scatter': [x,y],\n",
    "#                   'gauss_approx_plot': [x_gauss, y_gauss],\n",
    "#                   'gauss_approx_data': [{'mus': mus, 'sigmas':sigmas, 'amps':amps}],\n",
    "#                   'angles_series': all_unique_angels,\n",
    "#                   })"
   ]
  },
  {
   "cell_type": "code",
   "execution_count": null,
   "metadata": {
    "collapsed": false,
    "jupyter": {
     "outputs_hidden": false
    },
    "pycharm": {
     "name": "#%%\n"
    },
    "tags": []
   },
   "outputs": [],
   "source": [
    "def angles_approx(data, save_name, step, N, M,  save=False,indices=None, font_size=20,scatter_size=20):\n",
    "    #\n",
    "    # вывод распределения углов для всех фотографий одного образца\n",
    "    #\n",
    "\n",
    "    alloys_indices=range(len(data))\n",
    "\n",
    "    if indices is not None:\n",
    "        alloys_indices=indices\n",
    "\n",
    "    plt.rcParams['font.size'] = '15'\n",
    "    plt.figure(figsize=(N, M))\n",
    "\n",
    "    # маркеры для одновременного вывода скаттера для разных классов\n",
    "    # количество варкеров=количество классов-1\n",
    "    markers = ['v', 's', 'D', 'd', 'p', '*','P']\n",
    "    colors = ['orange', 'red','blue','green', 'indigo']\n",
    "\n",
    "    legend=[]\n",
    "    for i in alloys_indices:\n",
    "        legend.append(data['data'][i]['name']+' '+data['data'][i]['type'])\n",
    "\n",
    "    for i in alloys_indices:\n",
    "        plt.plot(data['data'][i]['gauss_approx_plot'][0], \n",
    "                 data['data'][i]['gauss_approx_plot'][1],\n",
    "                 color=colors[i])\n",
    "\n",
    "    for i in alloys_indices:\n",
    "        marker = markers[i]\n",
    "        plt.scatter(data['data'][i]['density_curve_scatter'][0],data['data'][i]['density_curve_scatter'][1],  marker=marker,color=colors[i],s=scatter_size)\n",
    "\n",
    "    plt.ylabel('p(x)', fontsize=font_size)\n",
    "    plt.xlabel('углы, градусы', fontsize=font_size)\n",
    "\n",
    "    x = [0,60,120,180,240,300,360]\n",
    "    plt.xticks(x, x)\n",
    "        \n",
    "    plt.title(save_name)\n",
    "\n",
    "    if save:\n",
    "        plt.savefig(f'распределение_углов_{save_name}_шаг_{step}.png')\n",
    "\n",
    "    for i in alloys_indices:\n",
    "        print(data['data'][i]['legend'])\n",
    "    \n",
    "    plt.legend(legend)\n",
    "    plt.show()"
   ]
  },
  {
   "cell_type": "code",
   "execution_count": null,
   "metadata": {
    "collapsed": false,
    "jupyter": {
     "outputs_hidden": false
    },
    "tags": []
   },
   "outputs": [],
   "source": [
    "step=5\n",
    "# file_name='bc_left_(1536,1536,1)_preprocess'\n",
    "# file_name='o_bc_left_4x_768_360_768_median_generated_preprocess'\n",
    "# file_name='o_bc_left_4x_768_360_512_median_generated_preprocess'\n",
    "# file_name='o_bc_left_4x_768_360_256_median_generated_preprocess'\n",
    "file_name='data/angles/bc_left_(1536,1536,1)_preprocess'\n",
    "\n",
    "data = open(f'{file_name}_step_{step}_angles.json',encoding='utf-8')\n",
    "data = json.load(data)"
   ]
  },
  {
   "cell_type": "code",
   "execution_count": null,
   "metadata": {
    "collapsed": false,
    "jupyter": {
     "outputs_hidden": false
    },
    "pycharm": {
     "name": "#%%\n"
    },
    "tags": []
   },
   "outputs": [],
   "source": [
    "N = 10\n",
    "M = 7\n",
    "\n",
    "# save = True\n",
    "save = False\n",
    "save_name=file_name\n",
    "# indices=[3,0,1,4, 2]\n",
    "indices=[3,0, 2]\n",
    "# indices=[0,1]\n",
    "\n",
    "angles_approx(data,save_name, step, N, M, indices=indices,save=save)"
   ]
  },
  {
   "cell_type": "code",
   "execution_count": null,
   "metadata": {
    "tags": []
   },
   "outputs": [],
   "source": [
    "def angles_approx_2(data_1, data_2, save_name, step, N, M,  save=False,indices=None, font_size=20,scatter_size=20):\n",
    "    #\n",
    "    # вывод распределения углов для всех фотографий одного образца\n",
    "    #\n",
    "\n",
    "    alloys_indices=range(len(data_1))\n",
    "\n",
    "    if indices is not None:\n",
    "        alloys_indices=indices\n",
    "\n",
    "    plt.rcParams['font.size'] = '15'\n",
    "    \n",
    "    fig, axes = plt.subplots(1,3,figsize=(N, M))\n",
    "\n",
    "    # маркеры для одновременного вывода скаттера для разных классов\n",
    "    # количество варкеров=количество классов-1\n",
    "    markers = ['v', 's', 'D', 'd', 'p', '*','P']\n",
    "    colors_1 = ['orange', 'red','blue','green', 'indigo', 'brown']\n",
    "    colors_2 = ['olive', 'purple','cyan','pink', 'blue', 'lime']\n",
    "\n",
    "    legends=[]\n",
    "    for j,i in enumerate(alloys_indices):\n",
    "        legends.append([])\n",
    "        legends[j].append(data_1['data'][i]['name']+' '+data_1['data'][i]['type']+ ' real')\n",
    "        legends[j].append(data_2['data'][i]['name']+' '+data_2['data'][i]['type']+ ' fake')\n",
    "\n",
    "    for j,i in enumerate(alloys_indices):\n",
    "        axes[j].plot(data_1['data'][i]['gauss_approx_plot'][0], \n",
    "                 data_1['data'][i]['gauss_approx_plot'][1],\n",
    "                 color=colors_1[i])\n",
    "    \n",
    "    for j,i in enumerate(alloys_indices):\n",
    "        axes[j].plot(data_2['data'][i]['gauss_approx_plot'][0], \n",
    "                 data_2['data'][i]['gauss_approx_plot'][1],\n",
    "                 color=colors_2[i])\n",
    "\n",
    "    for j,i in enumerate(alloys_indices):\n",
    "        marker = markers[i]\n",
    "        axes[j].scatter(data_1['data'][i]['density_curve_scatter'][0],data_1['data'][i]['density_curve_scatter'][1],  marker=marker,color=colors_1[i],s=scatter_size)\n",
    "\n",
    "    for j,i in enumerate(alloys_indices):\n",
    "        marker = markers[i]\n",
    "        axes[j].scatter(data_2['data'][i]['density_curve_scatter'][0],data_2['data'][i]['density_curve_scatter'][1],  marker=marker,color=colors_2[i],s=scatter_size)\n",
    "\n",
    "    \n",
    "    plt.ylabel('p(x)', fontsize=font_size)\n",
    "    plt.xlabel('углы, градусы', fontsize=font_size)\n",
    "\n",
    "    x = [0,60,120,180,240,300,360]\n",
    "    \n",
    "    for j in range(len(axes)):\n",
    "        axes[j].set_xticks(x, x)\n",
    "        axes[j].legend(legends[j])\n",
    "        axes[j].set_ylim(0,0.07)\n",
    "        # axes[j].legend(legends[j],loc=(0.0,1.04))\n",
    "\n",
    "    if save:\n",
    "        plt.savefig(f'распределение_углов_{save_name}_шаг_{step}.png')\n",
    "\n",
    "    # for i in alloys_indices:\n",
    "    #     print(data_1['data'][i]['legend'])\n",
    "    # print('-----')\n",
    "    # for i in alloys_indices:\n",
    "    #     print(data_2['data'][i]['legend'])\n",
    "    \n",
    "    fig.suptitle(save_name) \n",
    "    \n",
    "    plt.show()"
   ]
  },
  {
   "cell_type": "code",
   "execution_count": null,
   "metadata": {
    "tags": []
   },
   "outputs": [],
   "source": [
    "step=5\n",
    "# file_name='bc_left_(1536,1536,1)_preprocess'\n",
    "file_name_1='data/angles/bc_left_(1536,1536,1)_preprocess'\n",
    "\n",
    "data_1 = open(f'{file_name_1}_step_{step}_angles.json',encoding='utf-8')\n",
    "data_1 = json.load(data_1)\n",
    "\n",
    "file_name_2='data/o_bc_left_4x_768_360_768_median_generated_preprocess'\n",
    "# file_name='o_bc_left_4x_768_360_512_median_generated_preprocess'\n",
    "# file_name='o_bc_left_4x_768_360_256_median_generated_preprocess'\n",
    "\n",
    "data_2 = open(f'{file_name_2}_step_{step}_angles.json',encoding='utf-8')\n",
    "data_2 = json.load(data_2)"
   ]
  },
  {
   "cell_type": "code",
   "execution_count": null,
   "metadata": {
    "tags": []
   },
   "outputs": [],
   "source": [
    "file_name_2_1='data/o_bc_left_4x_768_360_768_median_generated_preprocess'\n",
    "file_name_2_2='data/o_bc_left_4x_768_360_512_median_generated_preprocess'\n",
    "file_name_2_3='data/o_bc_left_4x_768_360_256_median_generated_preprocess'\n",
    "\n",
    "names = [file_name_2_1, file_name_2_2, file_name_2_3]\n",
    "\n",
    "N = 20\n",
    "M = 5\n",
    "\n",
    "# save = True\n",
    "save = False\n",
    "\n",
    "for file_name_2 in names:\n",
    "\n",
    "    save_name=file_name_2.split('/')[-1]\n",
    "    # indices=[3,0,1,4, 2]\n",
    "    indices=[3,0, 2]\n",
    "\n",
    "    data_2 = open(f'{file_name_2}_step_{step}_angles.json',encoding='utf-8')\n",
    "    data_2 = json.load(data_2)\n",
    "\n",
    "\n",
    "    angles_approx_2(data_1,data_2,save_name, step, N, M, indices=indices,save=save)"
   ]
  },
  {
   "cell_type": "code",
   "execution_count": null,
   "metadata": {
    "collapsed": false,
    "jupyter": {
     "outputs_hidden": false
    },
    "pycharm": {
     "name": "#%%\n"
    }
   },
   "outputs": [],
   "source": [
    "def angles_approx_modes(folder, step, start1, stop1, start2, stop2, width, height, font_size=25):\n",
    "    #\n",
    "    # аппроксимация каждой моды\n",
    "    #\n",
    "    xy_scatter_o = np.load(f'{folder}/xy_scatter_step_{step}.npy', allow_pickle=True)\n",
    "    xy_gauss_o = np.load(f'{folder}/xy_gauss_step_{step}.npy', allow_pickle=True)\n",
    "    texts = np.load(f'{folder}/texts_step_{step}.npy', allow_pickle=True)\n",
    "\n",
    "    xy_scatter1 = []\n",
    "    xy_scatter2 = []\n",
    "\n",
    "    for j, sc in enumerate(xy_scatter_o):\n",
    "        x = sc[0]\n",
    "        y = sc[1]\n",
    "        xy_scatter1.append([[], []])\n",
    "        xy_scatter2.append([[], []])\n",
    "        for i, xi in enumerate(x):\n",
    "            if xi <= stop1 and xi >= start1:\n",
    "                xy_scatter1[j][0].append(x[i])\n",
    "                xy_scatter1[j][1].append(y[i])\n",
    "\n",
    "            if xi <= stop2 and xi >= start2:\n",
    "                xy_scatter2[j][0].append(x[i])\n",
    "                xy_scatter2[j][1].append(y[i])\n",
    "\n",
    "    plt.rcParams['font.size'] = '25'\n",
    "    markers = ['v', 's', 'D', 'd', 'p', '*']\n",
    "    k = 2\n",
    "    for i in range(len(xy_scatter_o)):\n",
    "        plt.figure(figsize=(width, height))\n",
    "        marker = markers[i]\n",
    "\n",
    "        #    plt.scatter(xy_scatter_o[i][0],xy_scatter_o[i][1])\n",
    "\n",
    "        x1 = np.array(xy_scatter1[i][0])\n",
    "        y1 = xy_scatter1[i][1]\n",
    "\n",
    "        x2 = np.array(xy_scatter2[i][0])\n",
    "        y2 = xy_scatter2[i][1]\n",
    "\n",
    "        mu1, sigma1, amp1 = grainApprox.gaussian_fit(x1, y1, mu=120)\n",
    "        mu2, sigma2, amp2 = grainApprox.gaussian_fit(x2, y2, mu=225)\n",
    "\n",
    "        x_gauss1 = np.arange(mu1 - 3 * sigma1, mu1 + 3 * sigma1)\n",
    "        x_gauss2 = np.arange(mu2 - 3 * sigma2, mu2 + 3 * sigma2)\n",
    "\n",
    "        y_gauss1 = grainStats.gaussian(x_gauss1, mu1, sigma1, amp1)\n",
    "        y_gauss2 = grainStats.gaussian(x_gauss2, mu2, sigma2, amp2)\n",
    "\n",
    "        #    plt.plot(x_gauss,y_gauss)\n",
    "        plt.scatter(x1, y1, marker=marker)\n",
    "        plt.plot(x_gauss1, y_gauss1)\n",
    "\n",
    "        plt.scatter(x2, y2, marker=markers[i + 1])\n",
    "        plt.plot(x_gauss2, y_gauss2)\n",
    "\n",
    "        #  print('mu1=',mu1,' sigma1=',sigma1,'amp1=',amp1)\n",
    "        #  print('mu2=',mu2,' sigma2=',sigma2,'amp2=',amp2)\n",
    "        plt.legend(['moda1', 'moda2', 'approx1', texts[i]], fontsize=14, loc=1)\n",
    "        plt.ylabel('p(x)', fontsize=font_size)\n",
    "        plt.xlabel('угол связующего вещества, градусы', fontsize=font_size)\n",
    "        # plt.ylim([0,max(np.log(xy_scatter[i][1][:-1]))])\n",
    "    # plt.savefig('крупные моды отдельная аппрокс  ' + names[i])\n",
    "\n",
    "    #  print(texts)\n",
    "\n",
    "    #  plt.savefig('распределение углов')\n",
    "    plt.show()"
   ]
  },
  {
   "cell_type": "code",
   "execution_count": null,
   "metadata": {
    "collapsed": false,
    "jupyter": {
     "outputs_hidden": false
    }
   },
   "outputs": [],
   "source": []
  },
  {
   "cell_type": "code",
   "execution_count": null,
   "metadata": {
    "collapsed": false,
    "jupyter": {
     "outputs_hidden": false
    },
    "pycharm": {
     "name": "#%%\n"
    }
   },
   "outputs": [],
   "source": [
    "folder = 'saved np'\n",
    "width = 12\n",
    "height = 15\n",
    "\n",
    "step = 1\n",
    "\n",
    "start = 340\n",
    "stop = 360\n",
    "\n",
    "start1 = 50\n",
    "stop1 = 180\n",
    "\n",
    "start2 = 180\n",
    "stop2 = 300\n",
    "\n",
    "angles_approx_modes(folder, step, start1, stop1, start2, stop2, width, height)"
   ]
  }
 ],
 "metadata": {
  "kernelspec": {
   "display_name": "torch",
   "language": "python",
   "name": "torch"
  },
  "language_info": {
   "codemirror_mode": {
    "name": "ipython",
    "version": 3
   },
   "file_extension": ".py",
   "mimetype": "text/x-python",
   "name": "python",
   "nbconvert_exporter": "python",
   "pygments_lexer": "ipython3",
   "version": "3.11.9"
  }
 },
 "nbformat": 4,
 "nbformat_minor": 4
}
