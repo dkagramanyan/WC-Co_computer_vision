{
 "cells": [
  {
   "cell_type": "code",
   "execution_count": null,
   "metadata": {
    "pycharm": {
     "name": "#%%\n"
    }
   },
   "outputs": [],
   "source": [
    "import numpy as np\n",
    "import os\n",
    "import time\n",
    "\n",
    "from lmfit.models import GaussianModel, Model\n",
    "from sklearn.linear_model import LinearRegression\n",
    "from sklearn import mixture, metrics\n",
    "\n",
    "from shapely.geometry import Polygon\n",
    "\n",
    "from scipy.stats.distributions import norm\n",
    "from sklearn.neighbors import KernelDensity\n",
    "from scipy.stats import gaussian_kde\n",
    "\n",
    "from matplotlib import pyplot as plt\n",
    "from matplotlib import cm\n",
    "\n",
    "from skimage.measure import EllipseModel\n",
    "from matplotlib.patches import Ellipse\n",
    "\n",
    "from scipy import ndimage as ndi\n",
    "from scipy.spatial import distance\n",
    "from numpy import linalg\n",
    "\n",
    "import skimage\n",
    "from skimage import io, transform\n",
    "from skimage.draw import ellipse\n",
    "from skimage.color import rgb2gray\n",
    "from skimage import filters\n",
    "from skimage.morphology import disk\n",
    "from skimage import color\n",
    "from skimage import filters, util\n",
    "from skimage.morphology import disk, skeletonize, ball\n",
    "\n",
    "from PIL import Image, ImageDraw, ImageFilter, ImageOps\n",
    "import copy\n",
    "import cv2\n",
    "import os\n",
    "import sys\n",
    "\n",
    "import matplotlib.pyplot as plt\n",
    "import matplotlib.gridspec as gridspec\n",
    "from scipy.ndimage import distance_transform_edt as edt\n",
    "from skimage.draw import ellipse\n",
    "from skimage.measure import find_contours, approximate_polygon, subdivide_polygon\n",
    "import logging\n",
    "import glob\n",
    "from radio_beam.commonbeam import getMinVolEllipse\n",
    "\n",
    "from src.utils import grainPreprocess, grainShow, grainMark, grainDraw, grainApprox, grainStats, grainMorphology,grainGenerate\n",
    "from src.cfg import CfgAnglesNames, CfgBeamsNames, CfgDataset\n"
   ]
  },
  {
   "cell_type": "code",
   "execution_count": null,
   "outputs": [],
   "source": [
    "def img_load_preprocess(path, img_names, h=150, k=1):\n",
    "    imgs = []\n",
    "    for i, class_img_names in enumerate(img_names):\n",
    "        imgs.append([])\n",
    "        for name in class_img_names:\n",
    "            img = io.imread(path + '/' + name)\n",
    "            img = grainPreprocess.image_preprocess(img, h, k)\n",
    "            imgs[i].append(img)\n",
    "    return imgs"
   ],
   "metadata": {
    "collapsed": false,
    "pycharm": {
     "name": "#%%\n"
    }
   }
  },
  {
   "cell_type": "code",
   "execution_count": null,
   "metadata": {
    "pycharm": {
     "name": "#%%\n"
    }
   },
   "outputs": [],
   "source": [
    "path = 'data/images'\n",
    "all_images = np.load('data/saved np/all_images.npy', allow_pickle=True)\n",
    "\n",
    "grain_names = np.array(\n",
    "    [['Ultra_Co8.jpg'], ['Ultra_Co11.jpg'], ['Ultra_Co6_2.jpg'], ['Ultra_Co15.jpg'], ['Ultra_Co25.jpg']])\n",
    "types = ['средние зерна', 'мелкие зерна', 'мелкие зерна', 'крупные зерна', 'средне-мелкие зерна']\n",
    "grain_images = img_load_preprocess(path, grain_names)"
   ]
  },
  {
   "cell_type": "code",
   "execution_count": null,
   "outputs": [],
   "source": [
    "def mixer_tranform(image):\n",
    "    img = rgb2gray(image)*255\n",
    "    # global_thresh = filters.threshold_otsu(img)\n",
    "    global_thresh = 67\n",
    "    bin_image = img > global_thresh\n",
    "    bin_image=bin_image.astype(np.uint8)*255\n",
    "\n",
    "    preproc_image=grainPreprocess.image_preprocess(bin_image)\n",
    "    return preproc_image"
   ],
   "metadata": {
    "collapsed": false,
    "pycharm": {
     "name": "#%%\n"
    }
   }
  },
  {
   "cell_type": "markdown",
   "source": [
    "### Считаем все изображения, предобработаем их и сохраним"
   ],
   "metadata": {
    "collapsed": false,
    "pycharm": {
     "name": "#%% md\n"
    }
   }
  },
  {
   "cell_type": "code",
   "execution_count": null,
   "outputs": [],
   "source": [
    "# images_dir='../data/dataset_4x/'\n",
    "# images_dir='images/artif/'\n",
    "# save_name='images_4x_(512,512,1).npy'\n",
    "# save_name='artif.npy'\n",
    "\n",
    "# images_dir = '../data/dataset_sub_base_left/'\n",
    "images_dir = 'data/artif/mixer/'\n",
    "# save_name = '(1500,1500,1)_sub_base_left'\n",
    "save_name = '10_mixer_preprocess'\n",
    "\n",
    "all_images = grainPreprocess.read_preprocess_data(images_dir=images_dir, save_name=save_name,\n",
    "                                                  max_images_num_per_class=90,\n",
    "                                                  preprocess_transform=[mixer_tranform], save=True, crop_bottom=False, resize=False,\n",
    "                                                  resize_shape=(1500, 1500, 1))"
   ],
   "metadata": {
    "collapsed": false,
    "pycharm": {
     "name": "#%%\n"
    }
   }
  },
  {
   "cell_type": "code",
   "execution_count": null,
   "outputs": [],
   "source": [
    "image = io.imread('../data/dataset_sub_base_left/Ultra_Co8/Ultra_Co8-001.jpeg').astype(np.uint8)"
   ],
   "metadata": {
    "collapsed": false,
    "pycharm": {
     "name": "#%%\n"
    }
   }
  },
  {
   "cell_type": "markdown",
   "source": [
    "### Сгенерируем распределения углов, аппроксимируем их бимодальным гауссом и сохраним"
   ],
   "metadata": {
    "collapsed": false,
    "pycharm": {
     "name": "#%% md\n"
    }
   }
  },
  {
   "cell_type": "code",
   "execution_count": null,
   "outputs": [],
   "source": [
    "from src.utils import grainGenerate, GrainLogs, grainMark, grainStats, grainApprox\n",
    "import numpy as np"
   ],
   "metadata": {
    "collapsed": false,
    "pycharm": {
     "name": "#%%\n"
    }
   }
  },
  {
   "cell_type": "code",
   "execution_count": null,
   "outputs": [],
   "source": [
    "\n",
    "# images = np.load('../data/saved np/images_4x_preprocess.npy')\n",
    "# images = np.load('artif.npy')\n",
    "\n",
    "# images = np.load('images_left_(1500,1500,1)_preprocessed.npy')\n",
    "images = np.load('data/saved_np/images_10_mixer_preprocess.npy')\n",
    "# names = np.load('metadata_left_(1500,1500,1)_preprocessed.npy')\n",
    "names = np.load('data/saved_np/metadata_10_mixer_preprocess.npy')\n",
    "names = [name.split('\\\\')[-1] for name in names]\n",
    "\n",
    "folder = 'data/'\n",
    "\n",
    "# types_dict = {'Ultra_Co11': 'средние зерна',\n",
    "#               'Ultra_Co25': 'мелкие зерна',\n",
    "#               'Ultra_Co8': 'средне-мелкие зерна',\n",
    "#               'Ultra_Co6_2': 'крупные зерна',\n",
    "#               'Ultra_Co15': 'средне-мелкие зерна'}\n",
    "\n",
    "types_dict = {'class_1': 'Type None'}\n",
    "\n",
    "\n",
    "# path = 'data/saved np'\n",
    "path = 'data/saved_np/'\n",
    "# name = 'artif'\n",
    "# name = 'left_(1500,1500,1)'\n",
    "name = '10_mixer_preprocess'\n",
    "\n",
    "\n",
    "# grain_names =['cube compress', 'magnet']\n",
    "# types = ['-', '-', ]\n",
    "\n",
    "for step in range(1, 6):\n",
    "    grainGenerate.angles_approx_save(path, images, name, names, types_dict, step, save=True)\n"
   ],
   "metadata": {
    "collapsed": false,
    "pycharm": {
     "name": "#%%\n"
    }
   }
  },
  {
   "cell_type": "code",
   "execution_count": null,
   "outputs": [],
   "source": [
    "def angles_approx(folder, name, step, width, height, plot_name=None, y_lim=None, save=False,indeces=None, font_size=20):\n",
    "    #\n",
    "    # вывод распределения углов для всех фотографий одного образца\n",
    "    #\n",
    "\n",
    "    xy_scatter = np.load(f'{folder}/' + CfgAnglesNames.values + f'{name}' + f'{step}.npy', allow_pickle=True)\n",
    "    xy_gauss = np.load(f'{folder}/' + CfgAnglesNames.approx + f'{name}' + f'{step}.npy', allow_pickle=True)\n",
    "    xy_gauss_data = np.load(f'{folder}/' + CfgAnglesNames.approx_data + f'{name}' + f'{step}.npy', allow_pickle=True)\n",
    "    texts = np.load(f'{folder}/' + CfgAnglesNames.legend + f'{name}' + f'{step}.npy', allow_pickle=True)\n",
    "\n",
    "    if indeces is not None:\n",
    "        xy_scatter = xy_scatter[indeces]\n",
    "        xy_gauss = xy_gauss[indeces]\n",
    "        xy_gauss_data = xy_gauss_data[indeces]\n",
    "        texts = texts[indeces]\n",
    "\n",
    "    plt.rcParams['font.size'] = '15'\n",
    "    gs = gridspec.GridSpec(1, 1)\n",
    "    plt.figure(figsize=(width, height))\n",
    "\n",
    "    ax = plt.subplot(gs[0])\n",
    "    # маркеры для одновременного вывода скаттера для разных классов\n",
    "    # количество варкеров=количество классов-1\n",
    "    markers = ['v', 's', 'D', 'd', 'p', '*']\n",
    "    # colors = ['aqua', 'orange', 'green', 'red', 'indigo']\n",
    "\n",
    "    for i in range(len(xy_scatter)):\n",
    "        ax.plot(xy_gauss[i][0], xy_gauss[i][1],)\n",
    "\n",
    "    ax.legend(texts, fontsize=14, loc=1)\n",
    "\n",
    "    for i in range(len(xy_scatter)):\n",
    "        marker = markers[i]\n",
    "        ax.scatter(xy_scatter[i][0], xy_scatter[i][1], marker=marker)\n",
    "\n",
    "    plt.ylabel('p(x)', fontsize=font_size)\n",
    "    plt.xlabel('угол связующего вещества, градусы', fontsize=font_size)\n",
    "\n",
    "    if y_lim:\n",
    "        plt.ylim(0, y_lim)\n",
    "    # plt.autoscale(enable=True, axis='y')\n",
    "\n",
    "    if save:\n",
    "        plt.savefig(f'распределение_углов_{plot_name}_шаг_{step}')\n",
    "\n",
    "    plt.show()"
   ],
   "metadata": {
    "collapsed": false,
    "pycharm": {
     "name": "#%%\n"
    }
   }
  },
  {
   "cell_type": "code",
   "execution_count": null,
   "outputs": [],
   "source": [
    "# folder = 'data/'\n",
    "# path = 'images/saved np/'\n",
    "path = 'data/saved_np/'\n",
    "\n",
    "step = 1\n",
    "width = 20\n",
    "height = 20\n",
    "# name = '4x_data_border_fix_'\n",
    "# name = 'artif'\n",
    "name = '10_mixer_preprocess'\n",
    "# y_lim = 0.015\n",
    "# y_lim = 0.013\n",
    "y_lim = None\n",
    "# save = True\n",
    "save = True\n",
    "plot_name = ''\n",
    "\n",
    "# генерация распределения, аппроксимирование распределения и сохранение данных\n",
    "# angles_approx(path, name, step, width, height, plot_name=plot_name, y_lim=y_lim, save=save, indeces=[0,2,3])\n",
    "angles_approx(path, name, step, width, height, plot_name=plot_name, y_lim=y_lim, save=save, indeces=None)"
   ],
   "metadata": {
    "collapsed": false,
    "pycharm": {
     "name": "#%%\n"
    }
   }
  },
  {
   "cell_type": "code",
   "execution_count": null,
   "outputs": [],
   "source": [
    "def angles_approx(folder, step, width, height, save=False, font_size=20):\n",
    "    #\n",
    "    # вывод распределения углов для всех фотографий одного образца\n",
    "    #\n",
    "\n",
    "    xy_scatter = np.load(f'{folder}/' + CfgAnglesNames.values + f'{step}.npy', allow_pickle=True)\n",
    "    xy_gauss = np.load(f'{folder}/' + CfgAnglesNames.approx + f'{step}.npy', allow_pickle=True)\n",
    "    xy_gauss_data = np.load(f'{folder}/' + CfgAnglesNames.approx_data + f'{step}.npy', allow_pickle=True)\n",
    "    texts = np.load(f'{folder}/' + CfgAnglesNames.legend + f'{step}.npy', allow_pickle=True)\n",
    "\n",
    "    synth_angles = np.load(f'{folder}/wc-co.npy')\n",
    "    synth_angles = np.concatenate([synth_angles, np.zeros((180))])\n",
    "\n",
    "    plt.rcParams['font.size'] = '15'\n",
    "    gs = gridspec.GridSpec(1, 1)\n",
    "    plt.figure(figsize=(width, height))\n",
    "\n",
    "    ax = plt.subplot(gs[0])\n",
    "    # маркеры для одновременного вывода скаттера для разных классов\n",
    "    # количество варкеров=количество классов-1\n",
    "    markers = ['v', 's', 'D', 'd', 'p', '*']\n",
    "    for i in range(len(xy_scatter)):\n",
    "        marker = markers[i]\n",
    "        ax.plot(xy_gauss[i][0], xy_gauss[i][1])\n",
    "        ax.scatter(xy_scatter[i][0], xy_scatter[i][1], marker=marker)\n",
    "\n",
    "    ax.plot(synth_angles[::-1])\n",
    "\n",
    "    texts = list(texts)\n",
    "    texts.append('синтетические углы')\n",
    "    ax.legend(texts, fontsize=14, loc=2)\n",
    "    plt.ylabel('p(x)', fontsize=font_size)\n",
    "    plt.xlabel('угол связующего вещества, градусы', fontsize=font_size)\n",
    "    if save:\n",
    "        plt.savefig(f'наложение {step}')\n",
    "\n",
    "    plt.show()"
   ],
   "metadata": {
    "collapsed": false,
    "pycharm": {
     "name": "#%%\n"
    }
   }
  },
  {
   "cell_type": "code",
   "execution_count": null,
   "outputs": [],
   "source": [
    "folder = 'data/saved np/'\n",
    "step = 5\n",
    "width = 20\n",
    "height = 20\n",
    "\n",
    "# генерация распределения, аппроксимирование распределения и сохранение данных\n",
    "angles_approx(folder, step, width, height, save=True)"
   ],
   "metadata": {
    "collapsed": false,
    "pycharm": {
     "name": "#%%\n"
    }
   }
  },
  {
   "cell_type": "code",
   "execution_count": null,
   "outputs": [],
   "source": [
    "def angles_approx_modes(folder, step, start1, stop1, start2, stop2, width, height, font_size=25):\n",
    "    #\n",
    "    # аппроксимация каждой моды\n",
    "    #\n",
    "    xy_scatter_o = np.load(f'{folder}/xy_scatter_step_{step}.npy', allow_pickle=True)\n",
    "    xy_gauss_o = np.load(f'{folder}/xy_gauss_step_{step}.npy', allow_pickle=True)\n",
    "    texts = np.load(f'{folder}/texts_step_{step}.npy', allow_pickle=True)\n",
    "\n",
    "    xy_scatter1 = []\n",
    "    xy_scatter2 = []\n",
    "\n",
    "    for j, sc in enumerate(xy_scatter_o):\n",
    "        x = sc[0]\n",
    "        y = sc[1]\n",
    "        xy_scatter1.append([[], []])\n",
    "        xy_scatter2.append([[], []])\n",
    "        for i, xi in enumerate(x):\n",
    "            if xi <= stop1 and xi >= start1:\n",
    "                xy_scatter1[j][0].append(x[i])\n",
    "                xy_scatter1[j][1].append(y[i])\n",
    "\n",
    "            if xi <= stop2 and xi >= start2:\n",
    "                xy_scatter2[j][0].append(x[i])\n",
    "                xy_scatter2[j][1].append(y[i])\n",
    "\n",
    "    plt.rcParams['font.size'] = '25'\n",
    "    markers = ['v', 's', 'D', 'd', 'p', '*']\n",
    "    k = 2\n",
    "    for i in range(len(xy_scatter_o)):\n",
    "        plt.figure(figsize=(width, height))\n",
    "        marker = markers[i]\n",
    "\n",
    "        #    plt.scatter(xy_scatter_o[i][0],xy_scatter_o[i][1])\n",
    "\n",
    "        x1 = np.array(xy_scatter1[i][0])\n",
    "        y1 = xy_scatter1[i][1]\n",
    "\n",
    "        x2 = np.array(xy_scatter2[i][0])\n",
    "        y2 = xy_scatter2[i][1]\n",
    "\n",
    "        mu1, sigma1, amp1 = grainApprox.gaussian_fit(x1, y1, mu=120)\n",
    "        mu2, sigma2, amp2 = grainApprox.gaussian_fit(x2, y2, mu=225)\n",
    "\n",
    "        x_gauss1 = np.arange(mu1 - 3 * sigma1, mu1 + 3 * sigma1)\n",
    "        x_gauss2 = np.arange(mu2 - 3 * sigma2, mu2 + 3 * sigma2)\n",
    "\n",
    "        y_gauss1 = grainStats.gaussian(x_gauss1, mu1, sigma1, amp1)\n",
    "        y_gauss2 = grainStats.gaussian(x_gauss2, mu2, sigma2, amp2)\n",
    "\n",
    "        #    plt.plot(x_gauss,y_gauss)\n",
    "        plt.scatter(x1, y1, marker=marker)\n",
    "        plt.plot(x_gauss1, y_gauss1)\n",
    "\n",
    "        plt.scatter(x2, y2, marker=markers[i + 1])\n",
    "        plt.plot(x_gauss2, y_gauss2)\n",
    "\n",
    "        #  print('mu1=',mu1,' sigma1=',sigma1,'amp1=',amp1)\n",
    "        #  print('mu2=',mu2,' sigma2=',sigma2,'amp2=',amp2)\n",
    "        plt.legend(['moda1', 'moda2', 'approx1', texts[i]], fontsize=14, loc=1)\n",
    "        plt.ylabel('p(x)', fontsize=font_size)\n",
    "        plt.xlabel('угол связующего вещества, градусы', fontsize=font_size)\n",
    "        # plt.ylim([0,max(np.log(xy_scatter[i][1][:-1]))])\n",
    "    # plt.savefig('крупные моды отдельная аппрокс  ' + names[i])\n",
    "\n",
    "    #  print(texts)\n",
    "\n",
    "    #  plt.savefig('распределение углов')\n",
    "    plt.show()"
   ],
   "metadata": {
    "collapsed": false,
    "pycharm": {
     "name": "#%%\n"
    }
   }
  },
  {
   "cell_type": "code",
   "execution_count": null,
   "outputs": [],
   "source": [
    "folder = 'saved np'\n",
    "width = 12\n",
    "height = 15\n",
    "\n",
    "step = 1\n",
    "\n",
    "start = 340\n",
    "stop = 360\n",
    "\n",
    "start1 = 50\n",
    "stop1 = 180\n",
    "\n",
    "start2 = 180\n",
    "stop2 = 300\n",
    "\n",
    "angles_approx_modes(folder, step, start1, stop1, start2, stop2, width, height)"
   ],
   "metadata": {
    "collapsed": false,
    "pycharm": {
     "name": "#%%\n"
    }
   }
  }
 ],
 "metadata": {
  "kernelspec": {
   "display_name": "tf2",
   "language": "python",
   "name": "tf2"
  },
  "language_info": {
   "codemirror_mode": {
    "name": "ipython",
    "version": 3
   },
   "file_extension": ".py",
   "mimetype": "text/x-python",
   "name": "python",
   "nbconvert_exporter": "python",
   "pygments_lexer": "ipython3",
   "version": "3.8.11"
  }
 },
 "nbformat": 4,
 "nbformat_minor": 4
}