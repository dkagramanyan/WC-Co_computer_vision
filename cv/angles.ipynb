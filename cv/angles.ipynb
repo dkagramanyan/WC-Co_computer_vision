{
 "cells": [
  {
   "cell_type": "code",
   "execution_count": 54,
   "metadata": {
    "ExecuteTime": {
     "end_time": "2023-08-08T11:46:46.397442Z",
     "start_time": "2023-08-08T11:46:46.381852Z"
    },
    "pycharm": {
     "name": "#%%\n"
    }
   },
   "outputs": [],
   "source": [
    "import numpy as np\n",
    "import matplotlib.pyplot as plt\n",
    "from collections import Counter\n",
    "import json\n",
    "from tqdm.notebook import tqdm\n",
    "\n",
    "from utils import grainPreprocess, grainShow, grainMark, grainDraw, grainApprox, grainStats, grainMorphology,grainGenerate"
   ]
  },
  {
   "cell_type": "markdown",
   "metadata": {
    "collapsed": false
   },
   "source": [
    "json_data.append({'path': paths[i],\n",
    "                  'name': name,\n",
    "                  'type': types_dict[name],\n",
    "                  'legend': [text],\n",
    "                  'density_curve_scatter': [x,y],\n",
    "                  'gauss_approx_plot': [x_gauss, y_gauss],\n",
    "                  'gauss_approx_data': [{'mus': mus, 'sigmas':sigmas, 'amps':amps}],\n",
    "                  'angles_series': all_unique_angels,\n",
    "                  })"
   ]
  },
  {
   "cell_type": "code",
   "execution_count": null,
   "metadata": {
    "collapsed": false,
    "pycharm": {
     "name": "#%%\n"
    }
   },
   "outputs": [],
   "source": [
    "def angles_approx(data, save_name, step, N, M,  save=False,indices=None, font_size=20,scatter_size=20):\n",
    "    #\n",
    "    # вывод распределения углов для всех фотографий одного образца\n",
    "    #\n",
    "\n",
    "    alloys_indices=range(len(data))\n",
    "\n",
    "    if indices is not None:\n",
    "        alloys_indices=indices\n",
    "\n",
    "    plt.rcParams['font.size'] = '15'\n",
    "    plt.figure(figsize=(N, M))\n",
    "\n",
    "    # маркеры для одновременного вывода скаттера для разных классов\n",
    "    # количество варкеров=количество классов-1\n",
    "    markers = ['v', 's', 'D', 'd', 'p', '*','P']\n",
    "    colors = ['orange', 'red','blue','green', 'indigo']\n",
    "\n",
    "    legend=[]\n",
    "    for i in alloys_indices:\n",
    "        legend.append(data['data'][i]['name']+' '+data['data'][i]['type'])\n",
    "\n",
    "    for i in alloys_indices:\n",
    "        plt.plot(data['data'][i]['gauss_approx_plot'][0], \n",
    "                 data['data'][i]['gauss_approx_plot'][1],\n",
    "                 color=colors[i])\n",
    "\n",
    "    for i in alloys_indices:\n",
    "        marker = markers[i]\n",
    "        plt.scatter(data['data'][i]['density_curve_scatter'][0],data['data'][i]['density_curve_scatter'][1],  marker=marker,color=colors[i],s=scatter_size)\n",
    "\n",
    "    plt.ylabel('p(x)', fontsize=font_size)\n",
    "    plt.xlabel('углы, градусы', fontsize=font_size)\n",
    "\n",
    "    x = [0,60,120,180,240,300,360]\n",
    "    plt.xticks(x, x)\n",
    "\n",
    "\n",
    "    if save:\n",
    "        plt.savefig(f'распределение_углов_{save_name}_шаг_{step}.png')\n",
    "\n",
    "    for i in alloys_indices:\n",
    "        print(data['data'][i]['legend'])\n",
    "    \n",
    "    plt.legend(legend)\n",
    "    plt.show()"
   ]
  },
  {
   "cell_type": "code",
   "execution_count": null,
   "metadata": {
    "collapsed": false
   },
   "outputs": [],
   "source": [
    "step=2\n",
    "data = open(f'bc_left_(1536,1536,1)_preprocess_step_{step}_angles.json',encoding='utf-8')\n",
    "data = json.load(data)"
   ]
  },
  {
   "cell_type": "code",
   "execution_count": null,
   "metadata": {
    "collapsed": false,
    "pycharm": {
     "name": "#%%\n"
    }
   },
   "outputs": [],
   "source": [
    "N = 10\n",
    "M = 7\n",
    "\n",
    "# save = True\n",
    "save = False\n",
    "save_name='test'\n",
    "\n",
    "angles_approx(data,save_name, step, N, M, indices=[3,0,2],save=save)"
   ]
  },
  {
   "cell_type": "code",
   "execution_count": null,
   "metadata": {
    "collapsed": false,
    "pycharm": {
     "name": "#%%\n"
    }
   },
   "outputs": [],
   "source": [
    "def angles_approx_modes(folder, step, start1, stop1, start2, stop2, width, height, font_size=25):\n",
    "    #\n",
    "    # аппроксимация каждой моды\n",
    "    #\n",
    "    xy_scatter_o = np.load(f'{folder}/xy_scatter_step_{step}.npy', allow_pickle=True)\n",
    "    xy_gauss_o = np.load(f'{folder}/xy_gauss_step_{step}.npy', allow_pickle=True)\n",
    "    texts = np.load(f'{folder}/texts_step_{step}.npy', allow_pickle=True)\n",
    "\n",
    "    xy_scatter1 = []\n",
    "    xy_scatter2 = []\n",
    "\n",
    "    for j, sc in enumerate(xy_scatter_o):\n",
    "        x = sc[0]\n",
    "        y = sc[1]\n",
    "        xy_scatter1.append([[], []])\n",
    "        xy_scatter2.append([[], []])\n",
    "        for i, xi in enumerate(x):\n",
    "            if xi <= stop1 and xi >= start1:\n",
    "                xy_scatter1[j][0].append(x[i])\n",
    "                xy_scatter1[j][1].append(y[i])\n",
    "\n",
    "            if xi <= stop2 and xi >= start2:\n",
    "                xy_scatter2[j][0].append(x[i])\n",
    "                xy_scatter2[j][1].append(y[i])\n",
    "\n",
    "    plt.rcParams['font.size'] = '25'\n",
    "    markers = ['v', 's', 'D', 'd', 'p', '*']\n",
    "    k = 2\n",
    "    for i in range(len(xy_scatter_o)):\n",
    "        plt.figure(figsize=(width, height))\n",
    "        marker = markers[i]\n",
    "\n",
    "        #    plt.scatter(xy_scatter_o[i][0],xy_scatter_o[i][1])\n",
    "\n",
    "        x1 = np.array(xy_scatter1[i][0])\n",
    "        y1 = xy_scatter1[i][1]\n",
    "\n",
    "        x2 = np.array(xy_scatter2[i][0])\n",
    "        y2 = xy_scatter2[i][1]\n",
    "\n",
    "        mu1, sigma1, amp1 = grainApprox.gaussian_fit(x1, y1, mu=120)\n",
    "        mu2, sigma2, amp2 = grainApprox.gaussian_fit(x2, y2, mu=225)\n",
    "\n",
    "        x_gauss1 = np.arange(mu1 - 3 * sigma1, mu1 + 3 * sigma1)\n",
    "        x_gauss2 = np.arange(mu2 - 3 * sigma2, mu2 + 3 * sigma2)\n",
    "\n",
    "        y_gauss1 = grainStats.gaussian(x_gauss1, mu1, sigma1, amp1)\n",
    "        y_gauss2 = grainStats.gaussian(x_gauss2, mu2, sigma2, amp2)\n",
    "\n",
    "        #    plt.plot(x_gauss,y_gauss)\n",
    "        plt.scatter(x1, y1, marker=marker)\n",
    "        plt.plot(x_gauss1, y_gauss1)\n",
    "\n",
    "        plt.scatter(x2, y2, marker=markers[i + 1])\n",
    "        plt.plot(x_gauss2, y_gauss2)\n",
    "\n",
    "        #  print('mu1=',mu1,' sigma1=',sigma1,'amp1=',amp1)\n",
    "        #  print('mu2=',mu2,' sigma2=',sigma2,'amp2=',amp2)\n",
    "        plt.legend(['moda1', 'moda2', 'approx1', texts[i]], fontsize=14, loc=1)\n",
    "        plt.ylabel('p(x)', fontsize=font_size)\n",
    "        plt.xlabel('угол связующего вещества, градусы', fontsize=font_size)\n",
    "        # plt.ylim([0,max(np.log(xy_scatter[i][1][:-1]))])\n",
    "    # plt.savefig('крупные моды отдельная аппрокс  ' + names[i])\n",
    "\n",
    "    #  print(texts)\n",
    "\n",
    "    #  plt.savefig('распределение углов')\n",
    "    plt.show()"
   ]
  },
  {
   "cell_type": "code",
   "execution_count": null,
   "metadata": {
    "collapsed": false
   },
   "outputs": [],
   "source": []
  },
  {
   "cell_type": "code",
   "execution_count": null,
   "metadata": {
    "collapsed": false,
    "pycharm": {
     "name": "#%%\n"
    }
   },
   "outputs": [],
   "source": [
    "folder = 'saved np'\n",
    "width = 12\n",
    "height = 15\n",
    "\n",
    "step = 1\n",
    "\n",
    "start = 340\n",
    "stop = 360\n",
    "\n",
    "start1 = 50\n",
    "stop1 = 180\n",
    "\n",
    "start2 = 180\n",
    "stop2 = 300\n",
    "\n",
    "angles_approx_modes(folder, step, start1, stop1, start2, stop2, width, height)"
   ]
  }
 ],
 "metadata": {
  "kernelspec": {
   "display_name": "torch",
   "language": "python",
   "name": "torch"
  },
  "language_info": {
   "codemirror_mode": {
    "name": "ipython",
    "version": 3
   },
   "file_extension": ".py",
   "mimetype": "text/x-python",
   "name": "python",
   "nbconvert_exporter": "python",
   "pygments_lexer": "ipython3",
   "version": "3.10.12"
  }
 },
 "nbformat": 4,
 "nbformat_minor": 4
}
