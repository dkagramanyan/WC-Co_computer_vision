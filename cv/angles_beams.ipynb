{
 "cells": [
  {
   "cell_type": "code",
   "execution_count": null,
   "metadata": {
    "pycharm": {
     "name": "#%%\n"
    }
   },
   "outputs": [],
   "source": [
    "import numpy as np\n",
    "import os\n",
    "import time\n",
    "\n",
    "from lmfit.models import GaussianModel, Model\n",
    "from sklearn.linear_model import LinearRegression\n",
    "from sklearn import mixture, metrics\n",
    "\n",
    "from shapely.geometry import Polygon\n",
    "\n",
    "from scipy.stats.distributions import norm\n",
    "from sklearn.neighbors import KernelDensity\n",
    "from scipy.stats import gaussian_kde\n",
    "\n",
    "from matplotlib import pyplot as plt\n",
    "from matplotlib import cm\n",
    "\n",
    "from skimage.measure import EllipseModel\n",
    "from matplotlib.patches import Ellipse\n",
    "\n",
    "from scipy import ndimage as ndi\n",
    "from scipy.spatial import distance\n",
    "from numpy import linalg\n",
    "\n",
    "import skimage\n",
    "from skimage import io, transform\n",
    "from skimage.draw import ellipse\n",
    "from skimage.color import rgb2gray\n",
    "from skimage import filters\n",
    "from skimage.morphology import disk\n",
    "from skimage import color\n",
    "\n",
    "from PIL import Image, ImageDraw, ImageFilter, ImageOps\n",
    "import copy\n",
    "import cv2\n",
    "import os\n",
    "import sys\n",
    "\n",
    "import matplotlib.pyplot as plt\n",
    "import matplotlib.gridspec as gridspec\n",
    "from scipy.ndimage import distance_transform_edt as edt\n",
    "from skimage.draw import ellipse\n",
    "from skimage.measure import find_contours, approximate_polygon, subdivide_polygon\n",
    "import logging\n",
    "import glob\n",
    "from radio_beam.commonbeam import getMinVolEllipse\n",
    "\n",
    "from src.utils import grainPreprocess, grainShow, grainMark, grainDraw, grainApprox, grainStats, grainMorphology, grainGenerate\n",
    "from src.cfg import CfgAnglesNames, CfgBeamsNames, CfgDataset\n"
   ]
  },
  {
   "cell_type": "code",
   "execution_count": null,
   "outputs": [],
   "source": [
    "folder_path = '../data/dataset_cleaned'\n",
    "new_folder_path = '../data/dataset_left_orig'\n",
    "\n",
    "folders = os.listdir(folder_path)\n",
    "\n",
    "# создает папку для обработанных фотографий\n",
    "if not os.path.exists(new_folder_path):\n",
    "    os.mkdir(new_folder_path)\n",
    "\n",
    "# создает папку для каждого класса фотографий\n",
    "for folder in folders:\n",
    "    if not os.path.exists(new_folder_path + '/' + folder):\n",
    "        os.mkdir(new_folder_path + '/' + folder)\n",
    "\n",
    "for i, folder in enumerate(folders):\n",
    "    images_names = os.listdir(folder_path + '/' + folder)\n",
    "    for i, name in enumerate(images_names):\n",
    "        if 'hdr' not in name:\n",
    "            image = io.imread(folder_path + '/' + folder + '/' + name)\n",
    "            image_combined = grainPreprocess.combine(image, h=144)\n",
    "            height, width = image_combined.shape\n",
    "            img1 = image_combined[:height // 2, :width // 2]\n",
    "            img2 = image_combined[:height // 2, width // 2:]\n",
    "            img3 = image_combined[height // 2:, :width // 2]\n",
    "            img4 = image_combined[height // 2:, width // 2:]\n",
    "            # image_resized = transform.resize(image_combined, (512,512),preserve_range=True).astype(np.uint8)\n",
    "\n",
    "            io.imsave(new_folder_path + '/' + folder + '/' + name , image_combined)\n",
    "            # io.imsave(new_folder_path + '/' + folder + '/' + name[:-5] + '_1' + name[-5:], img1)\n",
    "            # io.imsave(new_folder_path + '/' + folder + '/' + name[:-5] + '_2' + name[-5:], img2)\n",
    "            # io.imsave(new_folder_path + '/' + folder + '/' + name[:-5] + '_3' + name[-5:], img3)\n",
    "            # io.imsave(new_folder_path + '/' + folder + '/' + name[:-5] + '_4' + name[-5:], img4)"
   ],
   "metadata": {
    "collapsed": false,
    "pycharm": {
     "name": "#%%\n"
    }
   }
  },
  {
   "cell_type": "code",
   "execution_count": null,
   "outputs": [],
   "source": [
    "def img_load_preprocess(path, img_names, h=150, k=1):\n",
    "    imgs = []\n",
    "    for i, class_img_names in enumerate(img_names):\n",
    "        imgs.append([])\n",
    "        for name in class_img_names:\n",
    "            img = io.imread(path + '/' + name)\n",
    "            img = grainPreprocess.image_preprocess(img, h, k)\n",
    "            imgs[i].append(img)\n",
    "    return imgs"
   ],
   "metadata": {
    "collapsed": false,
    "pycharm": {
     "name": "#%%\n"
    }
   }
  },
  {
   "cell_type": "code",
   "execution_count": null,
   "metadata": {
    "pycharm": {
     "name": "#%%\n"
    }
   },
   "outputs": [],
   "source": [
    "path = 'data/images'\n",
    "all_images = np.load('data/saved np/all_images.npy', allow_pickle=True)\n",
    "\n",
    "grain_names = np.array(\n",
    "    [['Ultra_Co8.jpg'], ['Ultra_Co11.jpg'], ['Ultra_Co6_2.jpg'], ['Ultra_Co15.jpg'], ['Ultra_Co25.jpg']])\n",
    "types = ['средние зерна', 'мелкие зерна', 'мелкие зерна', 'крупные зерна', 'средне-мелкие зерна']\n",
    "grain_images = img_load_preprocess(path, grain_names)"
   ]
  },
  {
   "cell_type": "markdown",
   "source": [
    "### Считаем все изображения, предобработаем их и сохраним"
   ],
   "metadata": {
    "collapsed": false,
    "pycharm": {
     "name": "#%% md\n"
    }
   }
  },
  {
   "cell_type": "code",
   "execution_count": null,
   "outputs": [],
   "source": [
    "all_images = grainPreprocess.read_preprocess_data(images_dir='../data/dataset_4x/', save_name='images_4x_(512,512,1).npy',\n",
    "                                                  max_images_num_per_class=360,\n",
    "                                                  preprocess=False, save=True, crop_bottom=False, resize=True,\n",
    "                                                  resize_shape=(512,512,1))"
   ],
   "metadata": {
    "collapsed": false,
    "pycharm": {
     "name": "#%%\n"
    }
   }
  },
  {
   "cell_type": "markdown",
   "source": [
    "### Сгенерируем распределения углов, аппроксимируем их бимодальным гауссом и сохраним"
   ],
   "metadata": {
    "collapsed": false,
    "pycharm": {
     "name": "#%% md\n"
    }
   }
  },
  {
   "cell_type": "code",
   "execution_count": null,
   "outputs": [],
   "source": [
    "from src.utils import grainGenerate, GrainLogs, grainMark, grainStats, grainApprox\n",
    "import numpy as np"
   ],
   "metadata": {
    "collapsed": false,
    "pycharm": {
     "name": "#%%\n"
    }
   }
  },
  {
   "cell_type": "code",
   "execution_count": null,
   "outputs": [],
   "source": [
    "# images = np.load('data/saved np/all_images.npy', allow_pickle=True)\n",
    "images = np.load('../data/saved np/images_4x_preprocess.npy')\n",
    "\n",
    "# path = 'data/saved np'\n",
    "path = 'data'\n",
    "name = '4x_data_border_fix_'\n",
    "grain_names = np.array(\n",
    "    [['Ultra_Co8.jpg'], ['Ultra_Co11.jpg'], ['Ultra_Co6_2.jpg'], ['Ultra_Co15.jpg'], ['Ultra_Co25.jpg']])\n",
    "types = ['средние зерна', 'мелкие зерна', 'мелкие зерна', 'крупные зерна', 'средне-мелкие зерна']\n",
    "\n",
    "for step in range(1, 6):\n",
    "    grainGenerate.angles_approx_save(path, images, name, grain_names[:, 0], types, step, save=True)\n"
   ],
   "metadata": {
    "collapsed": false,
    "pycharm": {
     "name": "#%%\n"
    }
   }
  },
  {
   "cell_type": "code",
   "execution_count": null,
   "outputs": [],
   "source": [
    "def angles_approx(folder, name, step, width, height, y_lim=None, save=False, font_size=20):\n",
    "    #\n",
    "    # вывод распределения углов для всех фотографий одного образца\n",
    "    #\n",
    "\n",
    "    xy_scatter = np.load(f'{folder}/' + CfgAnglesNames.values + f'{name}' + f'{step}.npy', allow_pickle=True)\n",
    "    xy_gauss = np.load(f'{folder}/' + CfgAnglesNames.approx + f'{name}' + f'{step}.npy', allow_pickle=True)\n",
    "    xy_gauss_data = np.load(f'{folder}/' + CfgAnglesNames.approx_data + f'{name}' + f'{step}.npy', allow_pickle=True)\n",
    "    texts = np.load(f'{folder}/' + CfgAnglesNames.legend + f'{name}' + f'{step}.npy', allow_pickle=True)\n",
    "\n",
    "    plt.rcParams['font.size'] = '15'\n",
    "    gs = gridspec.GridSpec(1, 1)\n",
    "    plt.figure(figsize=(width, height))\n",
    "\n",
    "    ax = plt.subplot(gs[0])\n",
    "    # маркеры для одновременного вывода скаттера для разных классов\n",
    "    # количество варкеров=количество классов-1\n",
    "    markers = ['v', 's', 'D', 'd', 'p', '*']\n",
    "    colors = ['aqua', 'orange', 'green', 'red', 'indigo']\n",
    "\n",
    "    for i in range(len(xy_scatter)):\n",
    "        ax.plot(xy_gauss[i][0], xy_gauss[i][1], colors[i])\n",
    "\n",
    "    ax.legend(texts, fontsize=14, loc=1)\n",
    "\n",
    "    for i in range(len(xy_scatter)):\n",
    "        marker = markers[i]\n",
    "        ax.scatter(xy_scatter[i][0], xy_scatter[i][1], c=colors[i], marker=marker)\n",
    "\n",
    "    plt.ylabel('p(x)', fontsize=font_size)\n",
    "    plt.xlabel('угол связующего вещества, градусы', fontsize=font_size)\n",
    "\n",
    "    if y_lim:\n",
    "        plt.ylim(0, y_lim)\n",
    "    # plt.autoscale(enable=True, axis='y')\n",
    "\n",
    "    if save:\n",
    "        plt.savefig(f'распределение углов шаг {step}')\n",
    "\n",
    "    plt.show()"
   ],
   "metadata": {
    "collapsed": false,
    "pycharm": {
     "name": "#%%\n"
    }
   }
  },
  {
   "cell_type": "code",
   "execution_count": null,
   "outputs": [],
   "source": [
    "folder = 'data/'\n",
    "step = 1\n",
    "width = 20\n",
    "height = 20\n",
    "name = '4x_data_border_fix_'\n",
    "y_lim = 0.015\n",
    "# save = True\n",
    "save = False\n",
    "\n",
    "# генерация распределения, аппроксимирование распределения и сохранение данных\n",
    "angles_approx(folder, name, step, width, height, y_lim=y_lim, save=save)"
   ],
   "metadata": {
    "collapsed": false,
    "pycharm": {
     "name": "#%%\n"
    }
   }
  },
  {
   "cell_type": "code",
   "execution_count": null,
   "outputs": [],
   "source": [
    "def angles_approx(folder, step, width, height, save=False, font_size=20):\n",
    "    #\n",
    "    # вывод распределения углов для всех фотографий одного образца\n",
    "    #\n",
    "\n",
    "    xy_scatter = np.load(f'{folder}/' + CfgAnglesNames.values + f'{step}.npy', allow_pickle=True)\n",
    "    xy_gauss = np.load(f'{folder}/' + CfgAnglesNames.approx + f'{step}.npy', allow_pickle=True)\n",
    "    xy_gauss_data = np.load(f'{folder}/' + CfgAnglesNames.approx_data + f'{step}.npy', allow_pickle=True)\n",
    "    texts = np.load(f'{folder}/' + CfgAnglesNames.legend + f'{step}.npy', allow_pickle=True)\n",
    "\n",
    "    synth_angles = np.load(f'{folder}/wc-co.npy')\n",
    "    synth_angles = np.concatenate([synth_angles, np.zeros((180))])\n",
    "\n",
    "    plt.rcParams['font.size'] = '15'\n",
    "    gs = gridspec.GridSpec(1, 1)\n",
    "    plt.figure(figsize=(width, height))\n",
    "\n",
    "    ax = plt.subplot(gs[0])\n",
    "    # маркеры для одновременного вывода скаттера для разных классов\n",
    "    # количество варкеров=количество классов-1\n",
    "    markers = ['v', 's', 'D', 'd', 'p', '*']\n",
    "    for i in range(len(xy_scatter)):\n",
    "        marker = markers[i]\n",
    "        ax.plot(xy_gauss[i][0], xy_gauss[i][1])\n",
    "        ax.scatter(xy_scatter[i][0], xy_scatter[i][1], marker=marker)\n",
    "\n",
    "    ax.plot(synth_angles[::-1])\n",
    "\n",
    "    texts = list(texts)\n",
    "    texts.append('синтетические углы')\n",
    "    ax.legend(texts, fontsize=14, loc=2)\n",
    "    plt.ylabel('p(x)', fontsize=font_size)\n",
    "    plt.xlabel('угол связующего вещества, градусы', fontsize=font_size)\n",
    "    if save:\n",
    "        plt.savefig(f'наложение {step}')\n",
    "\n",
    "    plt.show()"
   ],
   "metadata": {
    "collapsed": false,
    "pycharm": {
     "name": "#%%\n"
    }
   }
  },
  {
   "cell_type": "code",
   "execution_count": null,
   "outputs": [],
   "source": [
    "folder = 'data/saved np/'\n",
    "step = 5\n",
    "width = 20\n",
    "height = 20\n",
    "\n",
    "# генерация распределения, аппроксимирование распределения и сохранение данных\n",
    "angles_approx(folder, step, width, height, save=True)"
   ],
   "metadata": {
    "collapsed": false,
    "pycharm": {
     "name": "#%%\n"
    }
   }
  },
  {
   "cell_type": "code",
   "execution_count": null,
   "outputs": [],
   "source": [
    "def angles_approx_modes(folder, step, start1, stop1, start2, stop2, width, height, font_size=25):\n",
    "    #\n",
    "    # аппроксимация каждой моды\n",
    "    #\n",
    "    xy_scatter_o = np.load(f'{folder}/xy_scatter_step_{step}.npy', allow_pickle=True)\n",
    "    xy_gauss_o = np.load(f'{folder}/xy_gauss_step_{step}.npy', allow_pickle=True)\n",
    "    texts = np.load(f'{folder}/texts_step_{step}.npy', allow_pickle=True)\n",
    "\n",
    "    xy_scatter1 = []\n",
    "    xy_scatter2 = []\n",
    "\n",
    "    for j, sc in enumerate(xy_scatter_o):\n",
    "        x = sc[0]\n",
    "        y = sc[1]\n",
    "        xy_scatter1.append([[], []])\n",
    "        xy_scatter2.append([[], []])\n",
    "        for i, xi in enumerate(x):\n",
    "            if xi <= stop1 and xi >= start1:\n",
    "                xy_scatter1[j][0].append(x[i])\n",
    "                xy_scatter1[j][1].append(y[i])\n",
    "\n",
    "            if xi <= stop2 and xi >= start2:\n",
    "                xy_scatter2[j][0].append(x[i])\n",
    "                xy_scatter2[j][1].append(y[i])\n",
    "\n",
    "    plt.rcParams['font.size'] = '25'\n",
    "    markers = ['v', 's', 'D', 'd', 'p', '*']\n",
    "    k = 2\n",
    "    for i in range(len(xy_scatter_o)):\n",
    "        plt.figure(figsize=(width, height))\n",
    "        marker = markers[i]\n",
    "\n",
    "        #    plt.scatter(xy_scatter_o[i][0],xy_scatter_o[i][1])\n",
    "\n",
    "        x1 = np.array(xy_scatter1[i][0])\n",
    "        y1 = xy_scatter1[i][1]\n",
    "\n",
    "        x2 = np.array(xy_scatter2[i][0])\n",
    "        y2 = xy_scatter2[i][1]\n",
    "\n",
    "        mu1, sigma1, amp1 = grainApprox.gaussian_fit(x1, y1, mu=120)\n",
    "        mu2, sigma2, amp2 = grainApprox.gaussian_fit(x2, y2, mu=225)\n",
    "\n",
    "        x_gauss1 = np.arange(mu1 - 3 * sigma1, mu1 + 3 * sigma1)\n",
    "        x_gauss2 = np.arange(mu2 - 3 * sigma2, mu2 + 3 * sigma2)\n",
    "\n",
    "        y_gauss1 = grainStats.gaussian(x_gauss1, mu1, sigma1, amp1)\n",
    "        y_gauss2 = grainStats.gaussian(x_gauss2, mu2, sigma2, amp2)\n",
    "\n",
    "        #    plt.plot(x_gauss,y_gauss)\n",
    "        plt.scatter(x1, y1, marker=marker)\n",
    "        plt.plot(x_gauss1, y_gauss1)\n",
    "\n",
    "        plt.scatter(x2, y2, marker=markers[i + 1])\n",
    "        plt.plot(x_gauss2, y_gauss2)\n",
    "\n",
    "        #  print('mu1=',mu1,' sigma1=',sigma1,'amp1=',amp1)\n",
    "        #  print('mu2=',mu2,' sigma2=',sigma2,'amp2=',amp2)\n",
    "        plt.legend(['moda1', 'moda2', 'approx1', texts[i]], fontsize=14, loc=1)\n",
    "        plt.ylabel('p(x)', fontsize=font_size)\n",
    "        plt.xlabel('угол связующего вещества, градусы', fontsize=font_size)\n",
    "        # plt.ylim([0,max(np.log(xy_scatter[i][1][:-1]))])\n",
    "    # plt.savefig('крупные моды отдельная аппрокс  ' + names[i])\n",
    "\n",
    "    #  print(texts)\n",
    "\n",
    "    #  plt.savefig('распределение углов')\n",
    "    plt.show()"
   ],
   "metadata": {
    "collapsed": false,
    "pycharm": {
     "name": "#%%\n"
    }
   }
  },
  {
   "cell_type": "code",
   "execution_count": null,
   "metadata": {
    "pycharm": {
     "name": "#%%\n"
    }
   },
   "outputs": [],
   "source": [
    "folder = 'saved np'\n",
    "width = 12\n",
    "height = 15\n",
    "\n",
    "step = 1\n",
    "\n",
    "start = 340\n",
    "stop = 360\n",
    "\n",
    "start1 = 50\n",
    "stop1 = 180\n",
    "\n",
    "start2 = 180\n",
    "stop2 = 300\n",
    "\n",
    "angles_approx_modes(folder, step, start1, stop1, start2, stop2, width, height)"
   ]
  },
  {
   "cell_type": "markdown",
   "metadata": {
    "pycharm": {
     "name": "#%% md\n"
    }
   },
   "source": [
    "## Распределение диаметров"
   ]
  },
  {
   "cell_type": "code",
   "execution_count": null,
   "outputs": [],
   "source": [
    "pixel = 49.7 / 1000\n",
    "step = 5\n",
    "\n",
    "images = np.load('data/saved np/images_with_filters.npy')\n",
    "\n",
    "folder = 'data/'\n",
    "names = np.array(\n",
    "    [['Ultra_Co8.jpg'], ['Ultra_Co11.jpg'], ['Ultra_Co6_2.jpg'], ['Ultra_Co15.jpg'], ['Ultra_Co25.jpg']])\n",
    "types = ['средние зерна', 'мелкие зерна', 'мелкие зерна', 'крупные зерна', 'средне-мелкие зерна']\n",
    "\n",
    "for step in range(5, 6):\n",
    "    # print('step: ',step)\n",
    "    grainGenerate.diametr_approx_save(folder, images, names[:, 0], types, step, pixel, save=False)"
   ],
   "metadata": {
    "collapsed": false,
    "pycharm": {
     "name": "#%%\n"
    }
   }
  },
  {
   "cell_type": "code",
   "execution_count": null,
   "outputs": [],
   "source": [
    "def diametr_approx_all(folder, step, N, M):\n",
    "    #\n",
    "    # вывод распределения длин а- и б- полуосей для разных образцов\n",
    "    #\n",
    "\n",
    "    xy_scatter = np.load(f'{folder}/' + CfgBeamsNames.values + f'{step}.npy', allow_pickle=True)\n",
    "    xy_linear = np.load(f'{folder}/' + CfgBeamsNames.approx + f'{step}.npy', allow_pickle=True)\n",
    "    xy_linear_data = np.load(f'{folder}/' + CfgBeamsNames.approx_data + f'{step}.npy', allow_pickle=True)\n",
    "    texts = np.load(f'{folder}/' + CfgBeamsNames.legend + f'{step}.npy', allow_pickle=True)\n",
    "\n",
    "    plt.rcParams['font.size'] = '20'\n",
    "    gs = gridspec.GridSpec(2, 1)\n",
    "    # для статьи 12,18\n",
    "    plt.figure(figsize=(N, M))\n",
    "\n",
    "    ax1 = plt.subplot(gs[0])\n",
    "    ax2 = plt.subplot(gs[1])\n",
    "\n",
    "    ax1.set_title('распределение a-полуосей связующего вещества', fontsize=20)\n",
    "    ax2.set_title('распределение b-полуосей связующего вещества', fontsize=20)\n",
    "\n",
    "    ax1.set_ylabel('ln(p(x))', fontsize=15)\n",
    "    ax1.set_xlabel('длина полуоси, мкм', fontsize=15)\n",
    "\n",
    "    ax2.set_ylabel('ln(p(x))', fontsize=15)\n",
    "    ax2.set_xlabel('длина полуоси, мкм', fontsize=15)\n",
    "\n",
    "    #  ax3.grid()\n",
    "    markers = ['v', 's', 'D', 'd', 'p', '*']\n",
    "    for i in range(len(xy_scatter)):\n",
    "        marker = markers[i]\n",
    "        ax1.plot(xy_linear[i][0][0], xy_linear[i][0][1])\n",
    "        ax1.scatter(xy_scatter[i][0][0], xy_scatter[i][0][1], marker=marker)\n",
    "\n",
    "        ax2.plot(xy_linear[i][1][0], xy_linear[i][1][1])\n",
    "        ax2.scatter(xy_scatter[i][1][0], xy_scatter[i][1][1], marker=marker)\n",
    "\n",
    "    #  plt.savefig('распределение полуосей')\n",
    "\n",
    "    ax1.legend(texts[:, 0], fontsize=14, loc=1)\n",
    "    ax2.legend(texts[:, 1], fontsize=14, loc=1)\n",
    "    plt.show()\n"
   ],
   "metadata": {
    "collapsed": false,
    "pycharm": {
     "name": "#%%\n"
    }
   }
  },
  {
   "cell_type": "code",
   "execution_count": null,
   "metadata": {
    "pycharm": {
     "name": "#%%\n"
    }
   },
   "outputs": [],
   "source": [
    "N = 30\n",
    "M = 30\n",
    "# для статье N=12,M=18\n",
    "\n",
    "step = 5\n",
    "\n",
    "folder = '../data/saved np'\n",
    "\n",
    "diametr_approx_all(folder, step, N, M)"
   ]
  },
  {
   "cell_type": "markdown",
   "metadata": {
    "pycharm": {
     "name": "#%% md\n"
    }
   },
   "source": [
    "### Вывод на снимке ненормалных углов"
   ]
  },
  {
   "cell_type": "code",
   "execution_count": null,
   "metadata": {
    "pycharm": {
     "name": "#%%\n"
    }
   },
   "outputs": [],
   "source": [
    "def draw_edges(image, tol=3, border_eps=5):\n",
    "    #\n",
    "    # рисует на изображении линии по точкам контура cnts\n",
    "    # линии в стиле x^1->x^2,x^2->x^3 и тд\n",
    "    # на вход подавать обработанное изображение\n",
    "    #\n",
    "    new_image = image[:, :, 0]\n",
    "    im = Image.fromarray(np.uint8(new_image)).convert('RGB')\n",
    "    draw = ImageDraw.Draw(im)\n",
    "\n",
    "    cnts = grainMark.get_row_contours(image)\n",
    "    angles=[]\n",
    "\n",
    "    for j, cnt in enumerate(cnts):\n",
    "        rules = [image.shape[0] - cnt[:, 0].max() > border_eps, cnt[:, 0].min() > border_eps,\n",
    "                 image.shape[1] - cnt[:, 1].max() > border_eps, cnt[:, 1].min() > border_eps]\n",
    "        # проверяем находится ли контур у границы, но это срабатывает очень редко\n",
    "        if all(rules):\n",
    "            cnt_aprox = approximate_polygon(cnt, tolerance=tol)\n",
    "            # основная проверка на неправильные контуры\n",
    "            if len(cnt_aprox)>3:\n",
    "                for i, point in enumerate(cnt_aprox[:-1]):\n",
    "\n",
    "                    y1, x1 = cnt_aprox[i - 1]\n",
    "                    y2, x2 = cnt_aprox[i]\n",
    "                    y3, x3 = cnt_aprox[i + 1]\n",
    "\n",
    "                    v1 = np.array((x1 - x2, y1 - y2)).reshape(1, 2)\n",
    "                    v2 = np.array((x3 - x2, y3 - y2)).reshape(1, 2)\n",
    "\n",
    "                    dot = np.dot(v1[0], v2[0])\n",
    "                    dist1 = np.linalg.norm(v1[0])\n",
    "                    dist2 = np.linalg.norm(v2[0])\n",
    "                    cos = dot / (dist1 * dist2)\n",
    "\n",
    "                    v = np.concatenate([v1, v2])\n",
    "                    det = np.linalg.det(v)\n",
    "\n",
    "                    if abs(cos) < 1:\n",
    "                        ang = int(np.arccos(cos) * 180 / np.pi)\n",
    "\n",
    "                        if det < 0:\n",
    "                            angles.append(ang)\n",
    "                        else:\n",
    "                            angles.append(360-ang)\n",
    "                    else:\n",
    "                        if det < 0:\n",
    "                            angles.append(360)\n",
    "                            ang=360\n",
    "                        else:\n",
    "                            angles.append(0)\n",
    "                            ang=0\n",
    "\n",
    "                    line_color = (0, 255, 127)\n",
    "\n",
    "                    if ang <= 30:\n",
    "                        color = (0, 0, 255)\n",
    "                        r = 4\n",
    "                        draw.ellipse((y2 - r, x2 - r, y2 + r, x2 + r), fill=color, width=5)\n",
    "                        draw.line((y1, x1, y2, x2), fill=line_color, width=4)\n",
    "                        draw.line((y3, x3, y2, x2), fill=line_color, width=4)\n",
    "\n",
    "                    elif ang >= 30:\n",
    "                        color = (255, 0, 0)\n",
    "                        r = 4\n",
    "                        draw.ellipse((y2 - r, x2 - r, y2 + r, x2 + r), fill=color, width=5)\n",
    "                        # draw.line((y1, x1, y2, x2), fill=line_color, width=4)\n",
    "                        # draw.line((y3, x3, y2, x2), fill=line_color, width=4)\n",
    "\n",
    "\n",
    "        else:\n",
    "            continue\n",
    "\n",
    "    img = np.array(im)\n",
    "\n",
    "    return img,angles"
   ]
  },
  {
   "cell_type": "code",
   "execution_count": null,
   "outputs": [],
   "source": [
    "# img=io.imread('../data/dataset_4x/Ultra_Co8/Ultra_Co8-001_1.jpeg')\n",
    "i = 40\n",
    "img = np.load('../data/saved np/images_4x_preprocess.npy')[0, i]\n",
    "tol = 3\n",
    "border_eps=5\n",
    "im,angles = draw_edges(img, tol,border_eps)\n",
    "io.imsave(f'малые углы_fix_borders.png', im)\n",
    "grainShow.img_show(im, 10, cmap='gray')\n"
   ],
   "metadata": {
    "collapsed": false,
    "pycharm": {
     "name": "#%%\n"
    }
   }
  }
 ],
 "metadata": {
  "kernelspec": {
   "display_name": "tf2",
   "language": "python",
   "name": "tf2"
  },
  "language_info": {
   "codemirror_mode": {
    "name": "ipython",
    "version": 3
   },
   "file_extension": ".py",
   "mimetype": "text/x-python",
   "name": "python",
   "nbconvert_exporter": "python",
   "pygments_lexer": "ipython3",
   "version": "3.8.11"
  }
 },
 "nbformat": 4,
 "nbformat_minor": 4
}