{
 "cells": [
  {
   "cell_type": "code",
   "execution_count": null,
   "metadata": {
    "pycharm": {
     "name": "#%%\n"
    }
   },
   "outputs": [],
   "source": [
    "import numpy as np\n",
    "import numpy.ma as ma\n",
    "import os\n",
    "import time\n",
    "\n",
    "import pandas as pd\n",
    "from lmfit.models import GaussianModel, Model\n",
    "from sklearn.linear_model import LinearRegression\n",
    "from sklearn import mixture, metrics\n",
    "\n",
    "from shapely.geometry import Polygon\n",
    "\n",
    "from scipy.stats.distributions import norm\n",
    "from sklearn.neighbors import KernelDensity\n",
    "from scipy.stats import gaussian_kde\n",
    "\n",
    "from matplotlib import pyplot as plt\n",
    "from matplotlib import cm\n",
    "\n",
    "from skimage.measure import EllipseModel\n",
    "from matplotlib.patches import Ellipse\n",
    "\n",
    "from scipy import ndimage as ndi\n",
    "from scipy.spatial import distance\n",
    "from numpy import linalg\n",
    "\n",
    "import skimage\n",
    "from skimage import io, transform\n",
    "from skimage.draw import ellipse\n",
    "from skimage.color import rgb2gray\n",
    "from skimage import filters\n",
    "from skimage.morphology import disk\n",
    "from skimage import color\n",
    "from skimage import filters, util\n",
    "from skimage.morphology import disk, skeletonize, ball\n",
    "\n",
    "from PIL import Image, ImageDraw, ImageFilter, ImageOps\n",
    "import copy\n",
    "import cv2\n",
    "import os\n",
    "import sys\n",
    "\n",
    "import matplotlib.pyplot as plt\n",
    "import matplotlib.gridspec as gridspec\n",
    "from scipy.ndimage import distance_transform_edt as edt\n",
    "from skimage.draw import ellipse\n",
    "from skimage.measure import find_contours, approximate_polygon, subdivide_polygon\n",
    "import logging\n",
    "import glob\n",
    "from radio_beam.commonbeam import getMinVolEllipse\n",
    "\n",
    "from src.utils import grainPreprocess, grainShow, grainMark, grainDraw, grainApprox, grainStats, grainMorphology,grainGenerate\n",
    "from src.cfg import CfgAnglesNames, CfgBeamsNames, CfgDataset\n",
    "\n",
    "import plotly.graph_objects as go\n",
    "from matplotlib.image import NonUniformImage\n",
    "\n",
    "from mpl_toolkits.axes_grid1 import make_axes_locatable\n",
    "import matplotlib as mpl\n",
    "\n",
    "from tqdm.notebook import tqdm\n",
    "import json\n",
    "\n",
    "from sklearn.metrics import pairwise_distances\n",
    "import seaborn as sns\n",
    "from matplotlib.colors import LogNorm, Normalize\n",
    "import scipy\n",
    "from sklearn import linear_model\n"
   ]
  },
  {
   "cell_type": "markdown",
   "metadata": {
    "pycharm": {
     "name": "#%% md\n"
    }
   },
   "source": [
    "## Распределение диаметров"
   ]
  },
  {
   "cell_type": "code",
   "execution_count": null,
   "outputs": [],
   "source": [
    "# pixel = 49.7 / 1000\n",
    "pixel_1500_1500 = 50 / 983\n",
    "\n",
    "\n",
    "# images = np.load('data/saved_metadata/images_4x_preprocess.npy')\n",
    "images = np.load('data/generated_data/images_left_(1500,1500,1)_preprocessed.npy')\n",
    "# images = np.load('artif.npy')\n",
    "# images = np.load('images_left_(1500,1500,1)_preprocessed.npy')\n",
    "# images = np.load('data/saved_np/images_10_mixer_preprocess.npy')\n",
    "\n",
    "paths = np.load('data/generated_data/metadata_left_(1500,1500,1)_preprocessed.npy')\n",
    "# paths = np.load('data/saved_np/metadata_10_mixer_preprocess.npy')\n",
    "paths = [path.replace('\\\\','/') for path in paths]\n",
    "\n",
    "\n",
    "\n",
    "# name = 'artif'\n",
    "name = 'left_(1500,1500,1)'\n",
    "# name = '10_mixer_preprocess'\n",
    "# name = '4x_left_(1500,1500,1)'\n",
    "\n",
    "types_dict = {'Ultra_Co11': 'средние зерна',\n",
    "              'Ultra_Co25': 'мелкие зерна',\n",
    "              'Ultra_Co8': 'средне-мелкие зерна',\n",
    "              'Ultra_Co6_2': 'крупные зерна',\n",
    "              'Ultra_Co15': 'средне-мелкие зерна'}\n",
    "\n",
    "# types_dict = {'class_1': 'Type None'}\n",
    "\n",
    "for step in range(1, 2):\n",
    "    # print('step: ',step)\n",
    "\n",
    "    grainGenerate.diametr_approx_save(save_path=name, images=images,paths=paths, types_dict=types_dict, step=step, pixel=pixel_1500_1500,max_images_num_per_class=1)"
   ],
   "metadata": {
    "collapsed": false,
    "pycharm": {
     "name": "#%%\n"
    }
   }
  },
  {
   "cell_type": "code",
   "execution_count": null,
   "outputs": [],
   "source": [
    "def diametr_approx_all(folder,name, step, N, M, indices=None,save=False):\n",
    "    #\n",
    "    # вывод распределения длин а- и б- полуосей для разных образцов\n",
    "    #\n",
    "\n",
    "    xy_scatter = np.load(f'{folder}/' + CfgBeamsNames.values + f'{name}' + f'{step}.npy', allow_pickle=True)\n",
    "    xy_linear = np.load(f'{folder}/' + CfgBeamsNames.approx + f'{name}' + f'{step}.npy', allow_pickle=True)\n",
    "    xy_linear_data = np.load(f'{folder}/' + CfgBeamsNames.approx_data + f'{name}' + f'{step}.npy', allow_pickle=True)\n",
    "    texts = np.load(f'{folder}/' + CfgBeamsNames.legend + f'{name}' + f'{step}.npy', allow_pickle=True)\n",
    "\n",
    "\n",
    "\n",
    "    if indices is not None:\n",
    "        xy_scatter = xy_scatter[indices]\n",
    "        xy_linear = xy_linear[indices]\n",
    "        xy_linear_data = xy_linear_data[indices]\n",
    "        texts = texts[indices]\n",
    "\n",
    "    plt.rcParams['font.size'] = '20'\n",
    "    gs = gridspec.GridSpec(1, 2)\n",
    "    # для статьи 12,18\n",
    "    plt.figure(figsize=(N, M))\n",
    "\n",
    "    ax1 = plt.subplot(gs[0])\n",
    "    ax2 = plt.subplot(gs[1])\n",
    "\n",
    "    # ax1.set_title('распределение a-полуосей связующего вещества', fontsize=20)\n",
    "    # ax2.set_title('распределение b-полуосей связующего вещества', fontsize=20)\n",
    "\n",
    "    ax1.set_ylabel('ln(p(x))', fontsize=15)\n",
    "    ax1.set_xlabel('длина, мкм', fontsize=15)\n",
    "\n",
    "    ax2.set_ylabel('ln(p(x))', fontsize=15)\n",
    "    ax2.set_xlabel('длина, мкм', fontsize=15)\n",
    "\n",
    "    #  ax3.grid()\n",
    "    markers = ['v', 's', 'D', 'd', 'p', '*']\n",
    "    for i in range(len(xy_scatter)):\n",
    "        ax1.plot(xy_linear[i][0][0], xy_linear[i][0][1])\n",
    "        ax2.plot(xy_linear[i][1][0], xy_linear[i][1][1])\n",
    "\n",
    "    ax1.legend(texts[:, 0], fontsize=14, loc=1)\n",
    "    # print(texts[:, 0])\n",
    "    ax2.legend(texts[:, 1], fontsize=14, loc=1)\n",
    "    # print(texts[:, 1])\n",
    "\n",
    "    for i in range(len(xy_scatter)):\n",
    "        marker = markers[i]\n",
    "        ax1.scatter(xy_scatter[i][0][0], xy_scatter[i][0][1], marker=marker)\n",
    "        ax2.scatter(xy_scatter[i][1][0], xy_scatter[i][1][1], marker=marker)\n",
    "\n",
    "    if save:\n",
    "        plt.savefig(f'распределение_полуосей_{name}_шаг_{step}')\n",
    "\n",
    "\n",
    "    plt.show()\n"
   ],
   "metadata": {
    "collapsed": false,
    "pycharm": {
     "name": "#%%\n"
    }
   }
  },
  {
   "cell_type": "code",
   "execution_count": null,
   "metadata": {
    "pycharm": {
     "name": "#%%\n"
    }
   },
   "outputs": [],
   "source": [
    "N = 30\n",
    "M = 15\n",
    "# для статье N=10,M=5\n",
    "\n",
    "step = 2\n",
    "# save=True\n",
    "save=False\n",
    "\n",
    "# folder = '../data/saved np'\n",
    "# folder = 'data/saved_np'\n",
    "folder = 'data/saved_metadata'\n",
    "# name = '10_mixer_preprocess'\n",
    "name = '4x_left_orig_shape_'\n",
    "# name = '4x_data_border_fix_'\n",
    "# name = ''\n",
    "\n",
    "# types_dict = {'Ultra_Co11': 'средние зерна',\n",
    "#               'Ultra_Co25': 'мелкие зерна',\n",
    "#               'Ultra_Co8': 'средне-мелкие зерна',\n",
    "#               'Ultra_Co6_2': 'крупные зерна',\n",
    "#               'Ultra_Co15': 'средне-мелкие зерна'}\n",
    "\n",
    "\n",
    "\n",
    "\n",
    "# diametr_approx_all(folder,name, step, N, M, indices=[0, 2, 3])\n",
    "diametr_approx_all(folder,name, step, N, M, indices=[3,0,2],save=save)"
   ]
  },
  {
   "cell_type": "markdown",
   "source": [
    "## Heatmap для двумерного распределения полуосей"
   ],
   "metadata": {
    "collapsed": false,
    "pycharm": {
     "name": "#%% md\n"
    }
   }
  },
  {
   "cell_type": "code",
   "execution_count": null,
   "outputs": [],
   "source": [
    "folder = 'data/generated_data//beams'\n",
    "name = 'left_(1500,1500,1)'\n",
    "step=2\n",
    "all_a_beams = np.load(f'{folder}/beams_original_values_a_step_left_(1500,1500,1)2.npy', allow_pickle=True)\n",
    "all_b_beams = np.load(f'{folder}/beams_original_values_b_step_left_(1500,1500,1)2.npy', allow_pickle=True)"
   ],
   "metadata": {
    "collapsed": false,
    "pycharm": {
     "name": "#%%\n"
    }
   }
  },
  {
   "cell_type": "code",
   "execution_count": null,
   "outputs": [],
   "source": [
    "h_step=1\n",
    "i=1\n",
    "pixel = 49.7 / 1000\n",
    "a_b_zeros=np.zeros((int((max(all_a_beams[i])*pixel))//h_step+1,int((max(all_b_beams[i])*pixel)//h_step+1)))\n",
    "for j in range(len(all_a_beams[i])):\n",
    "\n",
    "    key1=all_a_beams[i][j]\n",
    "    key2=all_b_beams[i][j]\n",
    "\n",
    "    a_b_zeros[all_a_beams[i][j]//h_step,all_b_beams[i][j]//h_step]+=1\n",
    "\n",
    "x_sticks=np.arange(a_b_zeros.shape[0]*2,2)\n",
    "y_sticks=np.arange(a_b_zeros.shape[1]*2,2)\n",
    "\n",
    "# fig, ax = plt.subplots(figsize=(15,15))\n",
    "# im = ax.imshow(a_b_zeros)\n",
    "#\n",
    "# # ax.set_xticks(np.arange(len(x_sticks)),\n",
    "# #               x_sticks)\n",
    "# # ax.set_yticks(np.arange(len(y_sticks)),\n",
    "# #               labels=y_sticks)\n",
    "#\n",
    "# cbar = ax.figure.colorbar(im,\n",
    "#                           ax = ax,\n",
    "#                           shrink=0.5 )\n",
    "# # ax.set_title(\"Matplotlib Heatmap with imshow\", size=20)\n",
    "# fig.tight_layout()\n",
    "\n",
    "x=np.array(all_a_beams[i]).reshape((-1))\n",
    "\n",
    "\n",
    "fig = go.Figure(go.Histogram2d(\n",
    "    x=all_a_beams[i],\n",
    "    y=all_b_beams[i]\n",
    "))\n",
    "fig.show()"
   ],
   "metadata": {
    "collapsed": false,
    "pycharm": {
     "name": "#%%\n"
    }
   }
  },
  {
   "cell_type": "code",
   "execution_count": null,
   "outputs": [],
   "source": [
    "{'path':paths[i],\n",
    " 'name':name,\n",
    " 'type':types_dict[names[i]],\n",
    " 'legend':[{'a_beams':legend1,'b_beams':legend2}],\n",
    " 'density_curve_scatter':[{'a_beams':(x1.flatten(),y1.flatten()),'b_beams':(x2.flatten(),y2.flatten())}],\n",
    " 'linear_approx_plot':[{'a_beams':(x_pred1.flatten(), y_pred1.flatten()),'b_beams':(x_pred2.flatten(), y_pred2.flatten())}],\n",
    " 'linear_approx_data':[{'a_beams':{'k':k1,'b':b1,'angle':angle1,'score':score1},'b_beams':{'k':k2,'b':b2,'angle':angle2,'score':score2}}],\n",
    " 'beams_length_series':[{'a_beams':all_a_beams,'b_beams':all_b_beams}],\n",
    " 'pixel2meter':pixel,\n",
    " }"
   ],
   "metadata": {
    "collapsed": false,
    "pycharm": {
     "name": "#%%\n"
    }
   }
  },
  {
   "cell_type": "code",
   "execution_count": null,
   "outputs": [],
   "source": [
    "data['data'][i]['beams_length_series'][0]['a_beams']"
   ],
   "metadata": {
    "collapsed": false,
    "pycharm": {
     "name": "#%%\n"
    }
   }
  },
  {
   "cell_type": "code",
   "execution_count": null,
   "outputs": [],
   "source": [
    "x = np.array(data['data'][i]['beams_length_series'][0]['a_beams'])\n",
    "y= np.array(data['data'][i]['beams_length_series'][0]['b_beams'])\n",
    "\n",
    "# x = [6,7,8,14,12,6,5,3,4]\n",
    "# y = [2,1,3,2,9,3,2,1,1]\n",
    "\n",
    "bins = range(0,30)\n",
    "\n",
    "# values, _, _ = np.histogram2d(x,y, bins=bins)\n",
    "\n",
    "h,_, _, image = plt.hist2d(x,y,bins=bins)\n",
    "plt.imshow(h)\n",
    "plt.colorbar(image)\n",
    "\n",
    "plt.plot(range(50),range(50),color='black')\n",
    "plt.xlim(0,20)\n",
    "plt.ylim(0,20)\n",
    "\n",
    "plt.show()"
   ],
   "metadata": {
    "collapsed": false,
    "pycharm": {
     "name": "#%%\n"
    }
   }
  },
  {
   "cell_type": "code",
   "execution_count": null,
   "outputs": [],
   "source": [
    "matrices=[]\n",
    "step=2\n",
    "data = open(f'left_(1500,1500,1)_step_{step}_beams.json',encoding='utf-8')\n",
    "data = json.load(data)\n",
    "\n",
    "ellipses_num=[]\n",
    "\n",
    "for  i in range(5):\n",
    "    b_beams = np.array(data['data'][i]['beams_length_series'][0]['a_beams'])\n",
    "    a_beams= np.array(data['data'][i]['beams_length_series'][0]['b_beams'])\n",
    "    ellipses_num.append(len(a_beams))\n",
    "\n",
    "    matrix,_, _, image = plt.hist2d(a_beams,b_beams,bins=range(0,32))\n",
    "    # matrix/=matrix.max()\n",
    "    matrices.append(matrix)"
   ],
   "metadata": {
    "collapsed": false,
    "pycharm": {
     "name": "#%%\n"
    }
   }
  },
  {
   "cell_type": "code",
   "execution_count": null,
   "outputs": [],
   "source": [
    "cm = plt.cm.get_cmap('RdYlBu_r')\n",
    "\n",
    "fig=plt.figure(figsize=(25,15))\n",
    "# fig=plt.figure(figsize=(25,4))\n",
    "\n",
    "ax1 = fig.add_subplot(151)\n",
    "ax2 = fig.add_subplot(152)\n",
    "ax3 = fig.add_subplot(153)\n",
    "ax4 = fig.add_subplot(154)\n",
    "ax5 = fig.add_subplot(155)\n",
    "\n",
    "\n",
    "\n",
    "names=['Ultra_Co11 - средние зерна',\n",
    "       'Ultra_Co15 - средне-мелкие зерна',\n",
    "       'Ultra_Co25 - мелкие зерна',\n",
    "       'Ultra_Co6_2 - крупные зерна',\n",
    "       'Ultra_Co8 - средне-мелкие зерна']\n",
    "\n",
    "ims=[]\n",
    "axes=[ax1,ax2,ax3,ax4,ax5]\n",
    "\n",
    "for i,ax in enumerate(axes):\n",
    "    im=ax.imshow(matrices[i], interpolation=None,norm=mpl.colors.LogNorm(), cmap=plt.cm.RdYlBu_r)\n",
    "    # im=ax.pcolormesh(matrices[i],norm=mpl.colors.LogNorm(), cmap=plt.cm.RdYlBu_r)\n",
    "    ims.append(im)\n",
    "\n",
    "for i,ax in enumerate(axes):\n",
    "    x=np.array(range(30))\n",
    "    y=[]\n",
    "    for x_i in x:\n",
    "        max_val=matrices[i][x_i].max()\n",
    "        y.append(np.where(matrices[i][x_i]==max_val)[0][0])\n",
    "    y=np.array(y)\n",
    "\n",
    "    (x_pred, y_pred), k, b, angle, score=grainApprox.lin_regr_approx(x.reshape((-1,1)),y.reshape((-1,1)))\n",
    "    ax.plot(y_pred,x_pred,label=f'k={k}',color='green')\n",
    "    ax.legend([f'k={round(k,2)}\\nellipses num={ellipses_num[i]}'])\n",
    "    ax.scatter(y,x)\n",
    "\n",
    "big_im=copy.copy(ims[0])\n",
    "\n",
    "masked_data=big_im.__dict__['_A'].data\n",
    "for im in ims[1:]:\n",
    "    masked_data+= im.__dict__['_A'].data\n",
    "\n",
    "masked_data/=5\n",
    "new_bg_im=ma.masked_array(masked_data,mask=False)\n",
    "big_im.__dict__['_A']=new_bg_im\n",
    "\n",
    "for i,ax in enumerate(axes):\n",
    "    divider = make_axes_locatable(ax)\n",
    "    cax = divider.append_axes('right', size='5%', pad=0.05)\n",
    "    # cbar = fig.colorbar(ims[i], cax=cax, orientation='vertical')\n",
    "    cbar = fig.colorbar(big_im, cax=cax, orientation='vertical')\n",
    "    cbar.set_label('Количество точек',size=15)\n",
    "\n",
    "    ax.set_xlabel('Малая полуось, мкм',fontsize=15)\n",
    "    ax.set_ylabel('Большая полуось, мкм',fontsize=15)\n",
    "    # ax.invert_yaxis()\n",
    "    ax.set_title(names[i],fontsize=15)\n",
    "    ax.set_xlim(0,30)\n",
    "    ax.set_ylim(0,30)\n",
    "    ax.grid(False)\n",
    "    ax.set_facecolor(\"White\")\n",
    "\n",
    "# cax = plt.axes([0.8, 0.575, 0.035, 0.3])\n",
    "# plt.colorbar(cax=cax)\n",
    "\n",
    "# cbar.set_label('Количество точек',size=15)\n",
    "# ax1.set_ylabel('Большая полуось, мкм',fontsize=15)\n",
    "\n",
    "fig.subplots_adjust(wspace=0.5)\n",
    "plt.savefig(f'двумерное_распределение_полуосей_шаг_{step}.png',bbox_inches='tight')\n",
    "plt.show()\n",
    "\n",
    "names_new=['AB_Co11_medium',\n",
    "       'AB_Co15_medium_small',\n",
    "       'AB_Co25_small',\n",
    "       'AB_Co6_large',\n",
    "       'AB_Co_8_medium_small']\n",
    "\n",
    "img_plot=io.imread(f'двумерное_распределение_полуосей_шаг_{step}.png')\n",
    "for i in range(len(ims)):\n",
    "    step_img=img_plot.shape[1]/len(ims)\n",
    "    io.imsave(f'{names_new[i]}_step_{step}.png',img_plot[:,int(i*step_img):int((i+1)*step_img)])"
   ],
   "metadata": {
    "collapsed": false,
    "pycharm": {
     "name": "#%%\n"
    }
   }
  },
  {
   "cell_type": "markdown",
   "metadata": {
    "pycharm": {
     "name": "#%% md\n"
    }
   },
   "source": [
    "### Вывод на снимке ненормалных углов"
   ]
  },
  {
   "cell_type": "code",
   "execution_count": null,
   "metadata": {
    "pycharm": {
     "name": "#%%\n"
    }
   },
   "outputs": [],
   "source": [
    "def draw_edges(image, tol=3, border_eps=5):\n",
    "    #\n",
    "    # рисует на изображении линии по точкам контура cnts\n",
    "    # линии в стиле x^1->x^2,x^2->x^3 и тд\n",
    "    # на вход подавать обработанное изображение\n",
    "    #\n",
    "    new_image = image[:, :, 0]\n",
    "    im = Image.fromarray(np.uint8(new_image)).convert('RGB')\n",
    "    draw = ImageDraw.Draw(im)\n",
    "\n",
    "    cnts = grainMark.get_row_contours(image)\n",
    "    angles = []\n",
    "\n",
    "    for j, cnt in enumerate(cnts):\n",
    "        rules = [image.shape[0] - cnt[:, 0].max() > border_eps, cnt[:, 0].min() > border_eps,\n",
    "                 image.shape[1] - cnt[:, 1].max() > border_eps, cnt[:, 1].min() > border_eps]\n",
    "        # проверяем находится ли контур у границы, но это срабатывает очень редко\n",
    "        if all(rules):\n",
    "            cnt_aprox = approximate_polygon(cnt, tolerance=tol)\n",
    "            # основная проверка на неправильные контуры\n",
    "            if len(cnt_aprox) > 3:\n",
    "                for i, point in enumerate(cnt_aprox[:-1]):\n",
    "\n",
    "                    y1, x1 = cnt_aprox[i - 1]\n",
    "                    y2, x2 = cnt_aprox[i]\n",
    "                    y3, x3 = cnt_aprox[i + 1]\n",
    "\n",
    "                    v1 = np.array((x1 - x2, y1 - y2)).reshape(1, 2)\n",
    "                    v2 = np.array((x3 - x2, y3 - y2)).reshape(1, 2)\n",
    "\n",
    "                    dot = np.dot(v1[0], v2[0])\n",
    "                    dist1 = np.linalg.norm(v1[0])\n",
    "                    dist2 = np.linalg.norm(v2[0])\n",
    "                    cos = dot / (dist1 * dist2)\n",
    "\n",
    "                    v = np.concatenate([v1, v2])\n",
    "                    det = np.linalg.det(v)\n",
    "\n",
    "                    if abs(cos) < 1:\n",
    "                        ang = int(np.arccos(cos) * 180 / np.pi)\n",
    "\n",
    "                        if det < 0:\n",
    "                            angles.append(ang)\n",
    "                        else:\n",
    "                            angles.append(360 - ang)\n",
    "                    else:\n",
    "                        if det < 0:\n",
    "                            angles.append(360)\n",
    "                            ang = 360\n",
    "                        else:\n",
    "                            angles.append(0)\n",
    "                            ang = 0\n",
    "\n",
    "                    line_color = (0, 255, 127)\n",
    "\n",
    "                    if ang <= 30:\n",
    "                        color = (0, 0, 255)\n",
    "                        r = 4\n",
    "                        draw.ellipse((y2 - r, x2 - r, y2 + r, x2 + r), fill=color, width=5)\n",
    "                        draw.line((y1, x1, y2, x2), fill=line_color, width=4)\n",
    "                        draw.line((y3, x3, y2, x2), fill=line_color, width=4)\n",
    "\n",
    "                    elif ang >= 30:\n",
    "                        color = (255, 0, 0)\n",
    "                        r = 4\n",
    "                        draw.ellipse((y2 - r, x2 - r, y2 + r, x2 + r), fill=color, width=5)\n",
    "                        # draw.line((y1, x1, y2, x2), fill=line_color, width=4)\n",
    "                        # draw.line((y3, x3, y2, x2), fill=line_color, width=4)\n",
    "\n",
    "\n",
    "        else:\n",
    "            continue\n",
    "\n",
    "    img = np.array(im)\n",
    "\n",
    "    return img, angles"
   ]
  },
  {
   "cell_type": "code",
   "execution_count": null,
   "outputs": [],
   "source": [
    "# img=io.imread('../data/dataset_4x/Ultra_Co8/Ultra_Co8-001_1.jpeg')\n",
    "i = 0\n",
    "img = np.load('data/artif.npy')[1, i]\n",
    "tol = 3\n",
    "border_eps = 5\n",
    "im, angles = draw_edges(img, tol, border_eps)\n",
    "io.imsave(f'low_angles_artif.png', im)\n",
    "grainShow.img_show(im, 10, cmap='gray')\n"
   ],
   "metadata": {
    "collapsed": false,
    "pycharm": {
     "name": "#%%\n"
    }
   }
  }
 ],
 "metadata": {
  "kernelspec": {
   "name": "tf2",
   "language": "python",
   "display_name": "tf2"
  },
  "language_info": {
   "codemirror_mode": {
    "name": "ipython",
    "version": 3
   },
   "file_extension": ".py",
   "mimetype": "text/x-python",
   "name": "python",
   "nbconvert_exporter": "python",
   "pygments_lexer": "ipython3",
   "version": "3.8.11"
  }
 },
 "nbformat": 4,
 "nbformat_minor": 4
}