{
 "cells": [
  {
   "cell_type": "code",
   "execution_count": null,
   "metadata": {
    "pycharm": {
     "name": "#%%\n"
    }
   },
   "outputs": [],
   "source": [
    "import numpy as np\n",
    "import os\n",
    "import time\n",
    "\n",
    "from lmfit.models import GaussianModel, Model\n",
    "from sklearn.linear_model import LinearRegression\n",
    "from sklearn import mixture, metrics\n",
    "\n",
    "from shapely.geometry import Polygon\n",
    "\n",
    "from scipy.stats.distributions import norm\n",
    "from sklearn.neighbors import KernelDensity\n",
    "from scipy.stats import gaussian_kde\n",
    "\n",
    "from matplotlib import pyplot as plt\n",
    "from matplotlib import cm\n",
    "\n",
    "from skimage.measure import EllipseModel\n",
    "from matplotlib.patches import Ellipse\n",
    "\n",
    "from scipy import ndimage as ndi\n",
    "from scipy.spatial import distance\n",
    "from numpy import linalg\n",
    "\n",
    "import skimage\n",
    "from skimage import io, transform\n",
    "from skimage.draw import ellipse\n",
    "from skimage.color import rgb2gray\n",
    "from skimage import filters\n",
    "from skimage.morphology import disk\n",
    "from skimage import color\n",
    "from skimage import filters, util\n",
    "from skimage.morphology import disk, skeletonize, ball\n",
    "\n",
    "from PIL import Image, ImageDraw, ImageFilter, ImageOps\n",
    "import copy\n",
    "import cv2\n",
    "import os\n",
    "import sys\n",
    "\n",
    "import matplotlib.pyplot as plt\n",
    "import matplotlib.gridspec as gridspec\n",
    "from scipy.ndimage import distance_transform_edt as edt\n",
    "from skimage.draw import ellipse\n",
    "from skimage.measure import find_contours, approximate_polygon, subdivide_polygon\n",
    "import logging\n",
    "import glob\n",
    "from radio_beam.commonbeam import getMinVolEllipse\n",
    "\n",
    "from src.utils import grainPreprocess, grainShow, grainMark, grainDraw, grainApprox, grainStats, grainMorphology,grainGenerate\n",
    "from src.cfg import CfgAnglesNames, CfgBeamsNames, CfgDataset\n"
   ]
  },
  {
   "cell_type": "code",
   "execution_count": null,
   "outputs": [],
   "source": [
    "def img_load_preprocess(path, img_names, h=150, k=1):\n",
    "    imgs = []\n",
    "    for i, class_img_names in enumerate(img_names):\n",
    "        imgs.append([])\n",
    "        for name in class_img_names:\n",
    "            img = io.imread(path + '/' + name)\n",
    "            img = grainPreprocess.image_preprocess(img, h, k)\n",
    "            imgs[i].append(img)\n",
    "    return imgs"
   ],
   "metadata": {
    "collapsed": false,
    "pycharm": {
     "name": "#%%\n"
    }
   }
  },
  {
   "cell_type": "code",
   "execution_count": null,
   "metadata": {
    "pycharm": {
     "name": "#%%\n"
    }
   },
   "outputs": [],
   "source": [
    "path = 'data/images'\n",
    "all_images = np.load('data/saved np/all_images.npy', allow_pickle=True)\n",
    "\n",
    "grain_names = np.array(\n",
    "    [['Ultra_Co8.jpg'], ['Ultra_Co11.jpg'], ['Ultra_Co6_2.jpg'], ['Ultra_Co15.jpg'], ['Ultra_Co25.jpg']])\n",
    "types = ['средние зерна', 'мелкие зерна', 'мелкие зерна', 'крупные зерна', 'средне-мелкие зерна']\n",
    "grain_images = img_load_preprocess(path, grain_names)"
   ]
  },
  {
   "cell_type": "markdown",
   "source": [
    "### Считаем все изображения, предобработаем их и сохраним"
   ],
   "metadata": {
    "collapsed": false,
    "pycharm": {
     "name": "#%% md\n"
    }
   }
  },
  {
   "cell_type": "code",
   "execution_count": null,
   "outputs": [],
   "source": [
    "# images_dir='../data/dataset_4x/'\n",
    "# images_dir='images/artif/'\n",
    "# save_name='images_4x_(512,512,1).npy'\n",
    "# save_name='artif.npy'\n",
    "\n",
    "images_dir = '../data/dataset_sub_base_left/'\n",
    "save_name = '(1500,1500,1)_sub_base_left'\n",
    "\n",
    "all_images = grainPreprocess.read_preprocess_data(images_dir=images_dir, save_name=save_name,\n",
    "                                                  max_images_num_per_class=90,\n",
    "                                                  preprocess=True, save=True, crop_bottom=False, resize=True,\n",
    "                                                  resize_shape=(1500, 1500, 1))"
   ],
   "metadata": {
    "collapsed": false,
    "pycharm": {
     "name": "#%%\n"
    }
   }
  },
  {
   "cell_type": "code",
   "execution_count": null,
   "outputs": [],
   "source": [
    "image = io.imread('../data/dataset_sub_base_left/Ultra_Co8/Ultra_Co8-001.jpeg').astype(np.uint8)"
   ],
   "metadata": {
    "collapsed": false,
    "pycharm": {
     "name": "#%%\n"
    }
   }
  },
  {
   "cell_type": "markdown",
   "metadata": {
    "pycharm": {
     "name": "#%% md\n"
    }
   },
   "source": [
    "## Распределение диаметров"
   ]
  },
  {
   "cell_type": "code",
   "execution_count": null,
   "outputs": [],
   "source": [
    "pixel = 49.7 / 1000\n",
    "step = 5\n",
    "\n",
    "# images = np.load('../data/saved np/images_4x_preprocess.npy')\n",
    "# images = np.load('artif.npy')\n",
    "\n",
    "# images = np.load('images_left_(1500,1500,1)_preprocessed.npy')\n",
    "images = np.load('data/saved_np/images_10_mixer_preprocess.npy')\n",
    "# names = np.load('metadata_left_(1500,1500,1)_preprocessed.npy')\n",
    "names = np.load('data/saved_np/metadata_10_mixer_preprocess.npy')\n",
    "names = [name.split('\\\\')[-1] for name in names]\n",
    "\n",
    "folder = 'data/'\n",
    "\n",
    "# path = 'data/saved np'\n",
    "path = 'data/saved_np/'\n",
    "# name = 'artif'\n",
    "# name = 'left_(1500,1500,1)'\n",
    "name = '10_mixer_preprocess'\n",
    "\n",
    "# types_dict = {'Ultra_Co11': 'средние зерна',\n",
    "#               'Ultra_Co25': 'мелкие зерна',\n",
    "#               'Ultra_Co8': 'средне-мелкие зерна',\n",
    "#               'Ultra_Co6_2': 'крупные зерна',\n",
    "#               'Ultra_Co15': 'средне-мелкие зерна'}\n",
    "\n",
    "types_dict = {'class_1': 'Type None'}\n",
    "\n",
    "for step in range(1, 6):\n",
    "    # print('step: ',step)\n",
    "    grainGenerate.diametr_approx_save(folder, images,name, names, types_dict, step, pixel, save=True)"
   ],
   "metadata": {
    "collapsed": false,
    "pycharm": {
     "name": "#%%\n"
    }
   }
  },
  {
   "cell_type": "code",
   "execution_count": null,
   "outputs": [],
   "source": [
    "def diametr_approx_all(folder,name, step, N, M, indeces=None,save=False):\n",
    "    #\n",
    "    # вывод распределения длин а- и б- полуосей для разных образцов\n",
    "    #\n",
    "\n",
    "    xy_scatter = np.load(f'{folder}/' + CfgBeamsNames.values + f'{name}' + f'{step}.npy', allow_pickle=True)\n",
    "    xy_linear = np.load(f'{folder}/' + CfgBeamsNames.approx + f'{name}' + f'{step}.npy', allow_pickle=True)\n",
    "    xy_linear_data = np.load(f'{folder}/' + CfgBeamsNames.approx_data + f'{name}' + f'{step}.npy', allow_pickle=True)\n",
    "    texts = np.load(f'{folder}/' + CfgBeamsNames.legend + f'{name}' + f'{step}.npy', allow_pickle=True)\n",
    "\n",
    "    if indeces is not None:\n",
    "        xy_scatter = xy_scatter[indeces]\n",
    "        xy_linear = xy_linear[indeces]\n",
    "        xy_linear_data = xy_linear_data[indeces]\n",
    "        texts = texts[indeces]\n",
    "\n",
    "    plt.rcParams['font.size'] = '20'\n",
    "    gs = gridspec.GridSpec(2, 1)\n",
    "    # для статьи 12,18\n",
    "    plt.figure(figsize=(N, M))\n",
    "\n",
    "    ax1 = plt.subplot(gs[0])\n",
    "    ax2 = plt.subplot(gs[1])\n",
    "\n",
    "    ax1.set_title('распределение a-полуосей связующего вещества', fontsize=20)\n",
    "    ax2.set_title('распределение b-полуосей связующего вещества', fontsize=20)\n",
    "\n",
    "    ax1.set_ylabel('ln(p(x))', fontsize=15)\n",
    "    ax1.set_xlabel('длина полуоси, мкм', fontsize=15)\n",
    "\n",
    "    ax2.set_ylabel('ln(p(x))', fontsize=15)\n",
    "    ax2.set_xlabel('длина полуоси, мкм', fontsize=15)\n",
    "\n",
    "    #  ax3.grid()\n",
    "    markers = ['v', 's', 'D', 'd', 'p', '*']\n",
    "    for i in range(len(xy_scatter)):\n",
    "        ax1.plot(xy_linear[i][0][0], xy_linear[i][0][1])\n",
    "        ax2.plot(xy_linear[i][1][0], xy_linear[i][1][1])\n",
    "\n",
    "    ax1.legend(texts[:, 0], fontsize=14, loc=1)\n",
    "    ax2.legend(texts[:, 1], fontsize=14, loc=1)\n",
    "\n",
    "    for i in range(len(xy_scatter)):\n",
    "        marker = markers[i]\n",
    "        ax1.scatter(xy_scatter[i][0][0], xy_scatter[i][0][1], marker=marker)\n",
    "        ax2.scatter(xy_scatter[i][1][0], xy_scatter[i][1][1], marker=marker)\n",
    "\n",
    "    if save:\n",
    "        plt.savefig(f'распределение_углов_{name}_шаг_{step}')\n",
    "\n",
    "    plt.show()\n"
   ],
   "metadata": {
    "collapsed": false,
    "pycharm": {
     "name": "#%%\n"
    }
   }
  },
  {
   "cell_type": "code",
   "execution_count": null,
   "metadata": {
    "pycharm": {
     "name": "#%%\n"
    }
   },
   "outputs": [],
   "source": [
    "N = 30\n",
    "M = 30\n",
    "# для статье N=12,M=18\n",
    "\n",
    "step = 1\n",
    "save=True\n",
    "\n",
    "# folder = '../data/saved np'\n",
    "folder = 'data/saved_np'\n",
    "name = '10_mixer_preprocess'\n",
    "# name = ''\n",
    "\n",
    "\n",
    "\n",
    "# diametr_approx_all(folder,name, step, N, M, indeces=[0, 2, 3])\n",
    "diametr_approx_all(folder,name, step, N, M, indeces=None,save=save)"
   ]
  },
  {
   "cell_type": "markdown",
   "metadata": {
    "pycharm": {
     "name": "#%% md\n"
    }
   },
   "source": [
    "### Вывод на снимке ненормалных углов"
   ]
  },
  {
   "cell_type": "code",
   "execution_count": null,
   "metadata": {
    "pycharm": {
     "name": "#%%\n"
    }
   },
   "outputs": [],
   "source": [
    "def draw_edges(image, tol=3, border_eps=5):\n",
    "    #\n",
    "    # рисует на изображении линии по точкам контура cnts\n",
    "    # линии в стиле x^1->x^2,x^2->x^3 и тд\n",
    "    # на вход подавать обработанное изображение\n",
    "    #\n",
    "    new_image = image[:, :, 0]\n",
    "    im = Image.fromarray(np.uint8(new_image)).convert('RGB')\n",
    "    draw = ImageDraw.Draw(im)\n",
    "\n",
    "    cnts = grainMark.get_row_contours(image)\n",
    "    angles = []\n",
    "\n",
    "    for j, cnt in enumerate(cnts):\n",
    "        rules = [image.shape[0] - cnt[:, 0].max() > border_eps, cnt[:, 0].min() > border_eps,\n",
    "                 image.shape[1] - cnt[:, 1].max() > border_eps, cnt[:, 1].min() > border_eps]\n",
    "        # проверяем находится ли контур у границы, но это срабатывает очень редко\n",
    "        if all(rules):\n",
    "            cnt_aprox = approximate_polygon(cnt, tolerance=tol)\n",
    "            # основная проверка на неправильные контуры\n",
    "            if len(cnt_aprox) > 3:\n",
    "                for i, point in enumerate(cnt_aprox[:-1]):\n",
    "\n",
    "                    y1, x1 = cnt_aprox[i - 1]\n",
    "                    y2, x2 = cnt_aprox[i]\n",
    "                    y3, x3 = cnt_aprox[i + 1]\n",
    "\n",
    "                    v1 = np.array((x1 - x2, y1 - y2)).reshape(1, 2)\n",
    "                    v2 = np.array((x3 - x2, y3 - y2)).reshape(1, 2)\n",
    "\n",
    "                    dot = np.dot(v1[0], v2[0])\n",
    "                    dist1 = np.linalg.norm(v1[0])\n",
    "                    dist2 = np.linalg.norm(v2[0])\n",
    "                    cos = dot / (dist1 * dist2)\n",
    "\n",
    "                    v = np.concatenate([v1, v2])\n",
    "                    det = np.linalg.det(v)\n",
    "\n",
    "                    if abs(cos) < 1:\n",
    "                        ang = int(np.arccos(cos) * 180 / np.pi)\n",
    "\n",
    "                        if det < 0:\n",
    "                            angles.append(ang)\n",
    "                        else:\n",
    "                            angles.append(360 - ang)\n",
    "                    else:\n",
    "                        if det < 0:\n",
    "                            angles.append(360)\n",
    "                            ang = 360\n",
    "                        else:\n",
    "                            angles.append(0)\n",
    "                            ang = 0\n",
    "\n",
    "                    line_color = (0, 255, 127)\n",
    "\n",
    "                    if ang <= 30:\n",
    "                        color = (0, 0, 255)\n",
    "                        r = 4\n",
    "                        draw.ellipse((y2 - r, x2 - r, y2 + r, x2 + r), fill=color, width=5)\n",
    "                        draw.line((y1, x1, y2, x2), fill=line_color, width=4)\n",
    "                        draw.line((y3, x3, y2, x2), fill=line_color, width=4)\n",
    "\n",
    "                    elif ang >= 30:\n",
    "                        color = (255, 0, 0)\n",
    "                        r = 4\n",
    "                        draw.ellipse((y2 - r, x2 - r, y2 + r, x2 + r), fill=color, width=5)\n",
    "                        # draw.line((y1, x1, y2, x2), fill=line_color, width=4)\n",
    "                        # draw.line((y3, x3, y2, x2), fill=line_color, width=4)\n",
    "\n",
    "\n",
    "        else:\n",
    "            continue\n",
    "\n",
    "    img = np.array(im)\n",
    "\n",
    "    return img, angles"
   ]
  },
  {
   "cell_type": "code",
   "execution_count": null,
   "outputs": [],
   "source": [
    "# img=io.imread('../data/dataset_4x/Ultra_Co8/Ultra_Co8-001_1.jpeg')\n",
    "i = 0\n",
    "img = np.load('data/artif.npy')[1, i]\n",
    "tol = 3\n",
    "border_eps = 5\n",
    "im, angles = draw_edges(img, tol, border_eps)\n",
    "io.imsave(f'low_angles_artif.png', im)\n",
    "grainShow.img_show(im, 10, cmap='gray')\n"
   ],
   "metadata": {
    "collapsed": false,
    "pycharm": {
     "name": "#%%\n"
    }
   }
  }
 ],
 "metadata": {
  "kernelspec": {
   "display_name": "tf2",
   "language": "python",
   "name": "tf2"
  },
  "language_info": {
   "codemirror_mode": {
    "name": "ipython",
    "version": 3
   },
   "file_extension": ".py",
   "mimetype": "text/x-python",
   "name": "python",
   "nbconvert_exporter": "python",
   "pygments_lexer": "ipython3",
   "version": "3.8.11"
  }
 },
 "nbformat": 4,
 "nbformat_minor": 4
}