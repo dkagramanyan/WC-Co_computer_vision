{
 "cells": [
  {
   "cell_type": "code",
   "execution_count": null,
   "metadata": {
    "ExecuteTime": {
     "end_time": "2023-10-10T15:18:32.914473200Z",
     "start_time": "2023-10-10T15:18:32.890210600Z"
    },
    "tags": []
   },
   "outputs": [],
   "source": [
    "import os\n",
    "from utils import grainPreprocess, grainShow, grainMark, grainDraw, grainApprox, grainStats, grainMorphology, grainGenerate\n",
    "# from src.cfg import CfgAnglesNames, CfgBeamsNames, CfgDataset\n",
    "from skimage import transform\n",
    "from skimage import io, filters, util\n",
    "import numpy as np\n",
    "from skimage.color import rgb2gray\n",
    "\n",
    "from tqdm.notebook import tqdm\n",
    "import glob\n",
    "from matplotlib import pyplot as plt\n",
    "from skimage.morphology import disk, skeletonize, ball\n",
    "import json\n",
    "\n",
    "from tqdm.notebook import tqdm\n",
    "\n",
    "from matplotlib import pyplot as plt"
   ]
  },
  {
   "cell_type": "code",
   "execution_count": null,
   "metadata": {
    "collapsed": false,
    "jupyter": {
     "outputs_hidden": false
    }
   },
   "outputs": [],
   "source": [
    "def mixer_tranform(image):\n",
    "    img = rgb2gray(image) * 255\n",
    "    # global_thresh = filters.threshold_otsu(img)\n",
    "    global_thresh = 67\n",
    "    bin_image = img > global_thresh\n",
    "    bin_image = bin_image.astype(np.uint8) * 255\n",
    "\n",
    "    preproc_image = grainPreprocess.image_preprocess(bin_image)\n",
    "    return preproc_image"
   ]
  },
  {
   "cell_type": "markdown",
   "metadata": {},
   "source": [
    "## Предобработка всех фотографий"
   ]
  },
  {
   "cell_type": "code",
   "execution_count": null,
   "metadata": {
    "collapsed": false,
    "jupyter": {
     "outputs_hidden": false
    }
   },
   "outputs": [],
   "source": [
    "# images_dir='../data/dataset_4x/'\n",
    "# images_dir='images/artif/'\n",
    "# save_name='images_4x_(512,512,1).npy'\n",
    "# save_name='artif.npy'\n",
    "\n",
    "# images_dir = '../data/dataset_sub_base_left/'\n",
    "# images_dir = 'data/artif/mixer/'\n",
    "# images_dir = 'data/artif_31.01/'\n",
    "# save_name = '(1500,1500,1)_sub_base_left'\n",
    "# save_name = '7_classes_mixer_preprocess'\n",
    "\n",
    "images_dir = '../ml/vqvae2_rosalinity/latent_diff_dataset/'\n",
    "# save_name = 'bc_left_(1536,1536,1)_preprocess'\n",
    "save_name = 'latent_generated_(768,768,1)_preprocess'\n",
    "\n",
    "all_images = grainPreprocess.read_preprocess_data(images_dir=images_dir,\n",
    "                                                  save_name=save_name,\n",
    "                                                  max_images_num_per_class=None,\n",
    "                                                  preprocess_transform=None,\n",
    "                                                  save=True,\n",
    "                                                  crop_bottom=False,\n",
    "                                                  resize_shape=None\n",
    "                                                  # resize_shape=(1500, 1500, 1)\n",
    "                                                  )"
   ]
  },
  {
   "cell_type": "markdown",
   "metadata": {},
   "source": [
    "## Обработка каждой фотографии"
   ]
  },
  {
   "cell_type": "code",
   "execution_count": null,
   "metadata": {
    "ExecuteTime": {
     "end_time": "2023-10-10T14:42:00.990778Z",
     "start_time": "2023-10-10T14:42:00.960700Z"
    },
    "collapsed": false,
    "jupyter": {
     "outputs_hidden": false
    },
    "tags": []
   },
   "outputs": [],
   "source": [
    "folder_path = '../datasets/original/o_bc_left_4x_768_360'\n",
    "new_folder_path = '../datasets/original/o_bc_left_4x_768_360_median'\n",
    "\n",
    "folders = os.listdir(folder_path)\n",
    "\n",
    "# создает папку для обработанных фотографий\n",
    "if not os.path.exists(new_folder_path):\n",
    "    os.mkdir(new_folder_path)\n",
    "\n",
    "# создает папку для каждого класса фотографий\n",
    "for folder in folders:\n",
    "    if not os.path.exists(new_folder_path + '/' + folder):\n",
    "        os.mkdir(new_folder_path + '/' + folder)"
   ]
  },
  {
   "cell_type": "markdown",
   "metadata": {},
   "source": [
    "### Медианный фильтр + отсу"
   ]
  },
  {
   "cell_type": "code",
   "execution_count": null,
   "metadata": {},
   "outputs": [],
   "source": [
    "for i, folder in tqdm(enumerate(folders)):\n",
    "    images_names = os.listdir(folder_path + '/' + folder)\n",
    "    for i, name in tqdm(enumerate(images_names)):\n",
    "        if 'hdr' not in name:\n",
    "            image = io.imread(folder_path + '/' + folder + '/' + name)\n",
    "            # image_combined = grainPreprocess.combine(image, h=144,k=1)\n",
    "            height, width = image.shape\n",
    "            img1 = image[:height // 2, :width // 2]\n",
    "            img2 = image[:height // 2, width // 2:]\n",
    "            img3 = image[height // 2:, :width // 2]\n",
    "            img4 = image[height // 2:, width // 2:]\n",
    "            # image_resized = transform.resize(image_combined, (512,512),preserve_range=True).astype(np.uint8)\n",
    "\n",
    "            # io.imsave(new_folder_path + '/' + folder + '/' + name , image_combined)\n",
    "            io.imsave(new_folder_path + '/' + folder + '/' + name[:-5] + '_part_1' + name[-5:], img1)\n",
    "            io.imsave(new_folder_path + '/' + folder + '/' + name[:-5] + '_part_2' + name[-5:], img2)\n",
    "            io.imsave(new_folder_path + '/' + folder + '/' + name[:-5] + '_part_3' + name[-5:], img3)\n",
    "            io.imsave(new_folder_path + '/' + folder + '/' + name[:-5] + '_part_4' + name[-5:], img4)"
   ]
  },
  {
   "cell_type": "markdown",
   "metadata": {},
   "source": [
    "### деление на 4 части"
   ]
  },
  {
   "cell_type": "code",
   "execution_count": null,
   "metadata": {
    "collapsed": false,
    "jupyter": {
     "outputs_hidden": false
    },
    "tags": []
   },
   "outputs": [],
   "source": [
    "for i, folder in tqdm(enumerate(folders)):\n",
    "    images_names = os.listdir(folder_path + '/' + folder)\n",
    "    for i, name in tqdm(enumerate(images_names)):\n",
    "        image = io.imread(folder_path + '/' + folder + '/' + name)\n",
    "        \n",
    "        unsigned_image = util.img_as_ubyte(image)\n",
    "        if len(unsigned_image.shape) < 3:\n",
    "            unsigned_image = unsigned_image[..., np.newaxis]\n",
    "            \n",
    "        denoised = filters.rank.median(unsigned_image, ball(3))\n",
    "        \n",
    "        # global_thresh = filters.threshold_otsu(denoised)\n",
    "        # binary_global = denoised > global_thresh\n",
    "        img=denoised.astype('uint8')\n",
    "        \n",
    "        io.imsave(new_folder_path + '/' + folder + '/' + name, img[:,:,0])\n"
   ]
  },
  {
   "cell_type": "code",
   "execution_count": null,
   "metadata": {
    "ExecuteTime": {
     "end_time": "2023-10-10T15:20:13.694712Z",
     "start_time": "2023-10-10T15:19:53.247739500Z"
    },
    "collapsed": false,
    "jupyter": {
     "outputs_hidden": false
    }
   },
   "outputs": [],
   "source": [
    "folder_path = '../datasets/original/o_bc_left'\n",
    "new_folder_path = '../datasets/original/o_bc_left_9x_512'\n",
    "\n",
    "folders = os.listdir(folder_path)\n",
    "\n",
    "# создает папку для обработанных фотографий\n",
    "if not os.path.exists(new_folder_path):\n",
    "    os.mkdir(new_folder_path)\n",
    "\n",
    "# создает папку для каждого класса фотографий\n",
    "for folder in folders:\n",
    "    if not os.path.exists(new_folder_path + '/' + folder):\n",
    "        os.mkdir(new_folder_path + '/' + folder)\n",
    "        \n",
    "for i, folder in enumerate(folders):\n",
    "    images_names = os.listdir(folder_path + '/' + folder)\n",
    "    for i, name in enumerate(images_names):\n",
    "        if 'hdr' not in name:\n",
    "            image = io.imread(folder_path + '/' + folder + '/' + name)\n",
    "            # image_combined = grainPreprocess.combine(image, h=144,k=1)\n",
    "            height, width = image.shape\n",
    "            img1 = image[:height // 3, :width // 3]\n",
    "            img2 = image[:height // 3, width // 3: width * 2 // 3]\n",
    "            img3 = image[:height // 3:, width * 2 // 3:]\n",
    "            img4 = image[height // 3:height * 2 // 3, :width // 3]\n",
    "            img5 = image[height // 3:height * 2 // 3, width // 3: width * 2 // 3]\n",
    "            img6 = image[height // 3:height * 2 // 3:, width * 2 // 3:]\n",
    "            img7 = image[height * 2 // 3:, :width // 3]\n",
    "            img8 = image[height * 2 // 3:, width // 3: width * 2 // 3]\n",
    "            img9 = image[height * 2 // 3::, width * 2 // 3:]\n",
    "\n",
    "            io.imsave(new_folder_path + '/' + folder + '/' + name[:-5] + '_part_1' + name[-5:], img1)\n",
    "            io.imsave(new_folder_path + '/' + folder + '/' + name[:-5] + '_part_2' + name[-5:], img2)\n",
    "            io.imsave(new_folder_path + '/' + folder + '/' + name[:-5] + '_part_3' + name[-5:], img3)\n",
    "            io.imsave(new_folder_path + '/' + folder + '/' + name[:-5] + '_part_4' + name[-5:], img4)\n",
    "            io.imsave(new_folder_path + '/' + folder + '/' + name[:-5] + '_part_5' + name[-5:], img5)\n",
    "            io.imsave(new_folder_path + '/' + folder + '/' + name[:-5] + '_part_6' + name[-5:], img6)\n",
    "            io.imsave(new_folder_path + '/' + folder + '/' + name[:-5] + '_part_7' + name[-5:], img7)\n",
    "            io.imsave(new_folder_path + '/' + folder + '/' + name[:-5] + '_part_8' + name[-5:], img8)\n",
    "            io.imsave(new_folder_path + '/' + folder + '/' + name[:-5] + '_part_9' + name[-5:], img9)\n"
   ]
  },
  {
   "cell_type": "markdown",
   "metadata": {},
   "source": [
    "### Повороты"
   ]
  },
  {
   "cell_type": "code",
   "execution_count": null,
   "metadata": {
    "ExecuteTime": {
     "end_time": "2023-10-10T15:23:18.864424Z",
     "start_time": "2023-10-10T15:20:18.585929Z"
    },
    "collapsed": false,
    "jupyter": {
     "outputs_hidden": false
    }
   },
   "outputs": [],
   "source": [
    "folder_path = '../datasets/original/o_bc_left_9x_512'\n",
    "new_folder_path = '../datasets/original/o_bc_left_9x_512_360'\n",
    "\n",
    "folders = os.listdir(folder_path)\n",
    "\n",
    "# создает папку для обработанных фотографий\n",
    "if not os.path.exists(new_folder_path):\n",
    "    os.mkdir(new_folder_path)\n",
    "\n",
    "# создает папку для каждого класса фотографий\n",
    "for folder in folders:\n",
    "    if not os.path.exists(new_folder_path + '/' + folder):\n",
    "        os.mkdir(new_folder_path + '/' + folder)\n",
    "\n",
    "for i, folder in enumerate(folders):\n",
    "    images_names = os.listdir(folder_path + '/' + folder)\n",
    "    for i, name in enumerate(images_names):\n",
    "\n",
    "        image = io.imread(folder_path + '/' + folder + '/' + name)\n",
    "\n",
    "        height, width = image.shape\n",
    "        img1 = image\n",
    "        img2 = transform.rotate(image, 90)*255\n",
    "        img3 = transform.rotate(image, 180)*255\n",
    "        img4 = transform.rotate(image, 270)*255\n",
    "        \n",
    "        img2=img2.astype(np.uint8)\n",
    "        img3=img3.astype(np.uint8)\n",
    "        img4=img4.astype(np.uint8)\n",
    "\n",
    "        io.imsave(new_folder_path + '/' + folder + '/' + name[:-5] + '_angle_0' + name[-5:], img1)\n",
    "        io.imsave(new_folder_path + '/' + folder + '/' + name[:-5] + '_angle_90' + name[-5:], img2)\n",
    "        io.imsave(new_folder_path + '/' + folder + '/' + name[:-5] + '_angle_180' + name[-5:], img3)\n",
    "        io.imsave(new_folder_path + '/' + folder + '/' + name[:-5] + '_angle_270' + name[-5:], img4)"
   ]
  }
 ],
 "metadata": {
  "kernelspec": {
   "display_name": "torch",
   "language": "python",
   "name": "torch"
  },
  "language_info": {
   "codemirror_mode": {
    "name": "ipython",
    "version": 3
   },
   "file_extension": ".py",
   "mimetype": "text/x-python",
   "name": "python",
   "nbconvert_exporter": "python",
   "pygments_lexer": "ipython3",
   "version": "3.11.5"
  }
 },
 "nbformat": 4,
 "nbformat_minor": 4
}
