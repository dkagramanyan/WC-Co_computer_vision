{
 "cells": [
  {
   "cell_type": "code",
   "execution_count": null,
   "metadata": {
    "collapsed": true,
    "pycharm": {
     "name": "#%%\n"
    }
   },
   "outputs": [],
   "source": [
    "import os\n",
    "from src.utils import grainPreprocess, grainShow, grainMark, grainDraw, grainApprox, grainStats, grainMorphology, grainGenerate\n",
    "from src.cfg import CfgAnglesNames, CfgBeamsNames, CfgDataset\n",
    "from skimage import transform\n",
    "from skimage import io"
   ]
  },
  {
   "cell_type": "code",
   "execution_count": null,
   "outputs": [],
   "source": [
    "folder_path = '../data/dataset_cleaned'\n",
    "new_folder_path = '../data/dataset_left_orig'\n",
    "\n",
    "folders = os.listdir(folder_path)\n",
    "\n",
    "# создает папку для обработанных фотографий\n",
    "if not os.path.exists(new_folder_path):\n",
    "    os.mkdir(new_folder_path)\n",
    "\n",
    "# создает папку для каждого класса фотографий\n",
    "for folder in folders:\n",
    "    if not os.path.exists(new_folder_path + '/' + folder):\n",
    "        os.mkdir(new_folder_path + '/' + folder)\n",
    "\n",
    "for i, folder in enumerate(folders):\n",
    "    images_names = os.listdir(folder_path + '/' + folder)\n",
    "    for i, name in enumerate(images_names):\n",
    "        if 'hdr' not in name:\n",
    "            image = io.imread(folder_path + '/' + folder + '/' + name)\n",
    "            image_combined = grainPreprocess.combine(image, h=144)\n",
    "\n",
    "            io.imsave(new_folder_path + '/' + folder + '/' + name , image_combined)\n"
   ],
   "metadata": {
    "collapsed": false,
    "pycharm": {
     "name": "#%%\n"
    }
   }
  },
  {
   "cell_type": "code",
   "execution_count": null,
   "outputs": [],
   "source": [
    "folder_path = '../data/dataset_left_orig'\n",
    "new_folder_path = '../data/dataset_left_4x'\n",
    "\n",
    "folders = os.listdir(folder_path)\n",
    "\n",
    "# создает папку для обработанных фотографий\n",
    "if not os.path.exists(new_folder_path):\n",
    "    os.mkdir(new_folder_path)\n",
    "\n",
    "# создает папку для каждого класса фотографий\n",
    "for folder in folders:\n",
    "    if not os.path.exists(new_folder_path + '/' + folder):\n",
    "        os.mkdir(new_folder_path + '/' + folder)\n",
    "\n",
    "for i, folder in enumerate(folders):\n",
    "    images_names = os.listdir(folder_path + '/' + folder)\n",
    "    for i, name in enumerate(images_names):\n",
    "        if 'hdr' not in name:\n",
    "            image = io.imread(folder_path + '/' + folder + '/' + name)\n",
    "            # image_combined = grainPreprocess.combine(image, h=144,k=1)\n",
    "            height, width = image.shape\n",
    "            img1 = image[:height // 2, :width // 2]\n",
    "            img2 = image[:height // 2, width // 2:]\n",
    "            img3 = image[height // 2:, :width // 2]\n",
    "            img4 = image[height // 2:, width // 2:]\n",
    "            # image_resized = transform.resize(image_combined, (512,512),preserve_range=True).astype(np.uint8)\n",
    "\n",
    "            # io.imsave(new_folder_path + '/' + folder + '/' + name , image_combined)\n",
    "            io.imsave(new_folder_path + '/' + folder + '/' + name[:-5] + '_part_1' + name[-5:], img1)\n",
    "            io.imsave(new_folder_path + '/' + folder + '/' + name[:-5] + '_part_2' + name[-5:], img2)\n",
    "            io.imsave(new_folder_path + '/' + folder + '/' + name[:-5] + '_part_3' + name[-5:], img3)\n",
    "            io.imsave(new_folder_path + '/' + folder + '/' + name[:-5] + '_part_4' + name[-5:], img4)"
   ],
   "metadata": {
    "collapsed": false,
    "pycharm": {
     "name": "#%%\n"
    }
   }
  },
  {
   "cell_type": "code",
   "execution_count": null,
   "outputs": [],
   "source": [
    "folder_path = '../data/dataset_left_4x'\n",
    "new_folder_path = '../data/dataset_left_4x_360'\n",
    "\n",
    "folders = os.listdir(folder_path)\n",
    "\n",
    "# создает папку для обработанных фотографий\n",
    "if not os.path.exists(new_folder_path):\n",
    "    os.mkdir(new_folder_path)\n",
    "\n",
    "# создает папку для каждого класса фотографий\n",
    "for folder in folders:\n",
    "    if not os.path.exists(new_folder_path + '/' + folder):\n",
    "        os.mkdir(new_folder_path + '/' + folder)\n",
    "\n",
    "for i, folder in enumerate(folders):\n",
    "    images_names = os.listdir(folder_path + '/' + folder)\n",
    "    for i, name in enumerate(images_names):\n",
    "        if 'hdr' not in name:\n",
    "            image = io.imread(folder_path + '/' + folder + '/' + name)\n",
    "            # image_combined = grainPreprocess.combine(image, h=144,k=1)\n",
    "            height, width = image.shape\n",
    "            img1 = image\n",
    "            img2 = transform.rotate(image,90)\n",
    "            img3 = transform.rotate(image,180)\n",
    "            img4 = transform.rotate(image,270)\n",
    "            # image_resized = transform.resize(image_combined, (512,512),preserve_range=True).astype(np.uint8)\n",
    "\n",
    "            # io.imsave(new_folder_path + '/' + folder + '/' + name , image_combined)\n",
    "            io.imsave(new_folder_path + '/' + folder + '/' + name[:-5] + '_angle_0' + name[-5:], img1)\n",
    "            io.imsave(new_folder_path + '/' + folder + '/' + name[:-5] + '_angle_90' + name[-5:], img2)\n",
    "            io.imsave(new_folder_path + '/' + folder + '/' + name[:-5] + '_angle_180' + name[-5:], img3)\n",
    "            io.imsave(new_folder_path + '/' + folder + '/' + name[:-5] + '_angle_270' + name[-5:], img4)"
   ],
   "metadata": {
    "collapsed": false,
    "pycharm": {
     "name": "#%%\n"
    }
   }
  }
 ],
 "metadata": {
  "kernelspec": {
   "name": "tf2",
   "language": "python",
   "display_name": "tf2"
  },
  "language_info": {
   "codemirror_mode": {
    "name": "ipython",
    "version": 2
   },
   "file_extension": ".py",
   "mimetype": "text/x-python",
   "name": "python",
   "nbconvert_exporter": "python",
   "pygments_lexer": "ipython2",
   "version": "2.7.6"
  }
 },
 "nbformat": 4,
 "nbformat_minor": 0
}