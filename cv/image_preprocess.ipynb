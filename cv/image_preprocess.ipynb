{
 "cells": [
  {
   "cell_type": "code",
   "execution_count": null,
   "metadata": {
    "collapsed": true
   },
   "outputs": [],
   "source": [
    "import os\n",
    "from src.utils import grainPreprocess, grainShow, grainMark, grainDraw, grainApprox, grainStats, grainMorphology, grainGenerate\n",
    "from src.cfg import CfgAnglesNames, CfgBeamsNames, CfgDataset\n",
    "from skimage import transform\n",
    "from skimage import io\n",
    "import numpy as np\n",
    "from skimage.color import rgb2gray\n",
    "\n",
    "from tqdm.notebook import tqdm\n",
    "import glob\n",
    "from matplotlib import pyplot as plt\n",
    "\n",
    "import json\n"
   ]
  },
  {
   "cell_type": "code",
   "execution_count": null,
   "outputs": [],
   "source": [
    "def mixer_tranform(image):\n",
    "    img = rgb2gray(image)*255\n",
    "    # global_thresh = filters.threshold_otsu(img)\n",
    "    global_thresh = 67\n",
    "    bin_image = img > global_thresh\n",
    "    bin_image=bin_image.astype(np.uint8)*255\n",
    "\n",
    "    preproc_image=grainPreprocess.image_preprocess(bin_image)\n",
    "    return preproc_image"
   ],
   "metadata": {
    "collapsed": false
   }
  },
  {
   "cell_type": "markdown",
   "source": [
    "## Предобработка всех фотографий"
   ],
   "metadata": {
    "collapsed": false
   }
  },
  {
   "cell_type": "code",
   "execution_count": null,
   "outputs": [],
   "source": [
    "# images_dir='../data/dataset_4x/'\n",
    "# images_dir='images/artif/'\n",
    "# save_name='images_4x_(512,512,1).npy'\n",
    "# save_name='artif.npy'\n",
    "\n",
    "# images_dir = '../data/dataset_sub_base_left/'\n",
    "# images_dir = 'data/artif/mixer/'\n",
    "# images_dir = 'data/artif_31.01/'\n",
    "# save_name = '(1500,1500,1)_sub_base_left'\n",
    "# save_name = '7_classes_mixer_preprocess'\n",
    "\n",
    "images_dir = '../datasets/bc_left/'\n",
    "save_name = 'bc_left_(1536,1536,1)_preprocess'\n",
    "\n",
    "all_images = grainPreprocess.read_preprocess_data(images_dir=images_dir,\n",
    "                                  save_name=save_name,\n",
    "                                  max_images_num_per_class=None,\n",
    "                                  preprocess_transform=None,\n",
    "                                  save=True,\n",
    "                                  crop_bottom=False,\n",
    "                                  resize_shape=None\n",
    "                                  # resize_shape=(1500, 1500, 1)\n",
    "                                                  )"
   ],
   "metadata": {
    "collapsed": false
   }
  },
  {
   "cell_type": "markdown",
   "source": [
    "## Обработка каждой фотографии"
   ],
   "metadata": {
    "collapsed": false
   }
  },
  {
   "cell_type": "code",
   "execution_count": null,
   "outputs": [],
   "source": [
    "folder_path = '../data/dataset_left_orig'\n",
    "new_folder_path = '../data/dataset_left_4x'\n",
    "\n",
    "folders = os.listdir(folder_path)\n",
    "\n",
    "# создает папку для обработанных фотографий\n",
    "if not os.path.exists(new_folder_path):\n",
    "    os.mkdir(new_folder_path)\n",
    "\n",
    "# создает папку для каждого класса фотографий\n",
    "for folder in folders:\n",
    "    if not os.path.exists(new_folder_path + '/' + folder):\n",
    "        os.mkdir(new_folder_path + '/' + folder)"
   ],
   "metadata": {
    "collapsed": false
   }
  },
  {
   "cell_type": "markdown",
   "source": [
    "### деление на 4 части"
   ],
   "metadata": {
    "collapsed": false
   }
  },
  {
   "cell_type": "code",
   "execution_count": null,
   "outputs": [],
   "source": [
    "for i, folder in enumerate(folders):\n",
    "    images_names = os.listdir(folder_path + '/' + folder)\n",
    "    for i, name in enumerate(images_names):\n",
    "        if 'hdr' not in name:\n",
    "            image = io.imread(folder_path + '/' + folder + '/' + name)\n",
    "            # image_combined = grainPreprocess.combine(image, h=144,k=1)\n",
    "            height, width = image.shape\n",
    "            img1 = image[:height // 2, :width // 2]\n",
    "            img2 = image[:height // 2, width // 2:]\n",
    "            img3 = image[height // 2:, :width // 2]\n",
    "            img4 = image[height // 2:, width // 2:]\n",
    "            # image_resized = transform.resize(image_combined, (512,512),preserve_range=True).astype(np.uint8)\n",
    "\n",
    "            # io.imsave(new_folder_path + '/' + folder + '/' + name , image_combined)\n",
    "            io.imsave(new_folder_path + '/' + folder + '/' + name[:-5] + '_part_1' + name[-5:], img1)\n",
    "            io.imsave(new_folder_path + '/' + folder + '/' + name[:-5] + '_part_2' + name[-5:], img2)\n",
    "            io.imsave(new_folder_path + '/' + folder + '/' + name[:-5] + '_part_3' + name[-5:], img3)\n",
    "            io.imsave(new_folder_path + '/' + folder + '/' + name[:-5] + '_part_4' + name[-5:], img4)"
   ],
   "metadata": {
    "collapsed": false
   }
  },
  {
   "cell_type": "markdown",
   "source": [
    "### Повороты"
   ],
   "metadata": {
    "collapsed": false
   }
  },
  {
   "cell_type": "code",
   "execution_count": null,
   "outputs": [],
   "source": [
    "\n",
    "for i, folder in enumerate(folders):\n",
    "    images_names = os.listdir(folder_path + '/' + folder)\n",
    "    for i, name in enumerate(images_names):\n",
    "        if 'hdr' not in name:\n",
    "            image = io.imread(folder_path + '/' + folder + '/' + name)\n",
    "            # image_combined = grainPreprocess.combine(image, h=144,k=1)\n",
    "            height, width = image.shape\n",
    "            img1 = image\n",
    "            img2 = transform.rotate(image,90)\n",
    "            img3 = transform.rotate(image,180)\n",
    "            img4 = transform.rotate(image,270)\n",
    "            # image_resized = transform.resize(image_combined, (512,512),preserve_range=True).astype(np.uint8)\n",
    "\n",
    "            # io.imsave(new_folder_path + '/' + folder + '/' + name , image_combined)\n",
    "            io.imsave(new_folder_path + '/' + folder + '/' + name[:-5] + '_angle_0' + name[-5:], img1)\n",
    "            io.imsave(new_folder_path + '/' + folder + '/' + name[:-5] + '_angle_90' + name[-5:], img2)\n",
    "            io.imsave(new_folder_path + '/' + folder + '/' + name[:-5] + '_angle_180' + name[-5:], img3)\n",
    "            io.imsave(new_folder_path + '/' + folder + '/' + name[:-5] + '_angle_270' + name[-5:], img4)"
   ],
   "metadata": {
    "collapsed": false
   }
  },
  {
   "cell_type": "code",
   "execution_count": null,
   "outputs": [],
   "source": [],
   "metadata": {
    "collapsed": false
   }
  }
 ],
 "metadata": {
  "kernelspec": {
   "name": "tf2",
   "language": "python",
   "display_name": "tf2"
  },
  "language_info": {
   "codemirror_mode": {
    "name": "ipython",
    "version": 2
   },
   "file_extension": ".py",
   "mimetype": "text/x-python",
   "name": "python",
   "nbconvert_exporter": "python",
   "pygments_lexer": "ipython2",
   "version": "2.7.6"
  }
 },
 "nbformat": 4,
 "nbformat_minor": 0
}
