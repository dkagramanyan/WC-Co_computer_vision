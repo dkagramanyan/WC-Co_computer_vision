{
 "cells": [
  {
   "cell_type": "code",
   "execution_count": 2,
   "metadata": {
    "collapsed": true,
    "ExecuteTime": {
     "end_time": "2023-10-10T14:37:19.378647700Z",
     "start_time": "2023-10-10T14:37:19.357722400Z"
    }
   },
   "outputs": [],
   "source": [
    "import os\n",
    "# from src.utils import grainPreprocess, grainShow, grainMark, grainDraw, grainApprox, grainStats, grainMorphology, grainGenerate\n",
    "# from src.cfg import CfgAnglesNames, CfgBeamsNames, CfgDataset\n",
    "from skimage import transform\n",
    "from skimage import io\n",
    "import numpy as np\n",
    "from skimage.color import rgb2gray\n",
    "\n",
    "from tqdm.notebook import tqdm\n",
    "import glob\n",
    "from matplotlib import pyplot as plt\n",
    "\n",
    "import json\n"
   ]
  },
  {
   "cell_type": "code",
   "execution_count": null,
   "outputs": [],
   "source": [
    "def mixer_tranform(image):\n",
    "    img = rgb2gray(image) * 255\n",
    "    # global_thresh = filters.threshold_otsu(img)\n",
    "    global_thresh = 67\n",
    "    bin_image = img > global_thresh\n",
    "    bin_image = bin_image.astype(np.uint8) * 255\n",
    "\n",
    "    preproc_image = grainPreprocess.image_preprocess(bin_image)\n",
    "    return preproc_image"
   ],
   "metadata": {
    "collapsed": false
   }
  },
  {
   "cell_type": "markdown",
   "source": [
    "## Предобработка всех фотографий"
   ],
   "metadata": {
    "collapsed": false
   }
  },
  {
   "cell_type": "code",
   "execution_count": null,
   "outputs": [],
   "source": [
    "# images_dir='../data/dataset_4x/'\n",
    "# images_dir='images/artif/'\n",
    "# save_name='images_4x_(512,512,1).npy'\n",
    "# save_name='artif.npy'\n",
    "\n",
    "# images_dir = '../data/dataset_sub_base_left/'\n",
    "# images_dir = 'data/artif/mixer/'\n",
    "# images_dir = 'data/artif_31.01/'\n",
    "# save_name = '(1500,1500,1)_sub_base_left'\n",
    "# save_name = '7_classes_mixer_preprocess'\n",
    "\n",
    "images_dir = '../datasets/bc_left/'\n",
    "save_name = 'bc_left_(1536,1536,1)_preprocess'\n",
    "\n",
    "all_images = grainPreprocess.read_preprocess_data(images_dir=images_dir,\n",
    "                                                  save_name=save_name,\n",
    "                                                  max_images_num_per_class=None,\n",
    "                                                  preprocess_transform=None,\n",
    "                                                  save=True,\n",
    "                                                  crop_bottom=False,\n",
    "                                                  resize_shape=None\n",
    "                                                  # resize_shape=(1500, 1500, 1)\n",
    "                                                  )"
   ],
   "metadata": {
    "collapsed": false
   }
  },
  {
   "cell_type": "markdown",
   "source": [
    "## Обработка каждой фотографии"
   ],
   "metadata": {
    "collapsed": false
   }
  },
  {
   "cell_type": "code",
   "execution_count": 3,
   "outputs": [],
   "source": [
    "folder_path = '../datasets/original/o_bc_left'\n",
    "new_folder_path = '../datasets/original/o_bc_left_9x_512'\n",
    "\n",
    "folders = os.listdir(folder_path)\n",
    "\n",
    "# создает папку для обработанных фотографий\n",
    "if not os.path.exists(new_folder_path):\n",
    "    os.mkdir(new_folder_path)\n",
    "\n",
    "# создает папку для каждого класса фотографий\n",
    "for folder in folders:\n",
    "    if not os.path.exists(new_folder_path + '/' + folder):\n",
    "        os.mkdir(new_folder_path + '/' + folder)"
   ],
   "metadata": {
    "collapsed": false,
    "ExecuteTime": {
     "end_time": "2023-10-10T14:42:00.990778Z",
     "start_time": "2023-10-10T14:42:00.960700Z"
    }
   }
  },
  {
   "cell_type": "markdown",
   "source": [
    "### деление на 4 части"
   ],
   "metadata": {
    "collapsed": false
   }
  },
  {
   "cell_type": "code",
   "execution_count": null,
   "outputs": [],
   "source": [
    "for i, folder in enumerate(folders):\n",
    "    images_names = os.listdir(folder_path + '/' + folder)\n",
    "    for i, name in enumerate(images_names):\n",
    "        if 'hdr' not in name:\n",
    "            image = io.imread(folder_path + '/' + folder + '/' + name)\n",
    "            # image_combined = grainPreprocess.combine(image, h=144,k=1)\n",
    "            height, width = image.shape\n",
    "            img1 = image[:height // 2, :width // 2]\n",
    "            img2 = image[:height // 2, width // 2:]\n",
    "            img3 = image[height // 2:, :width // 2]\n",
    "            img4 = image[height // 2:, width // 2:]\n",
    "            # image_resized = transform.resize(image_combined, (512,512),preserve_range=True).astype(np.uint8)\n",
    "\n",
    "            # io.imsave(new_folder_path + '/' + folder + '/' + name , image_combined)\n",
    "            io.imsave(new_folder_path + '/' + folder + '/' + name[:-5] + '_part_1' + name[-5:], img1)\n",
    "            io.imsave(new_folder_path + '/' + folder + '/' + name[:-5] + '_part_2' + name[-5:], img2)\n",
    "            io.imsave(new_folder_path + '/' + folder + '/' + name[:-5] + '_part_3' + name[-5:], img3)\n",
    "            io.imsave(new_folder_path + '/' + folder + '/' + name[:-5] + '_part_4' + name[-5:], img4)"
   ],
   "metadata": {
    "collapsed": false
   }
  },
  {
   "cell_type": "code",
   "execution_count": 4,
   "outputs": [],
   "source": [
    "for i, folder in enumerate(folders):\n",
    "    images_names = os.listdir(folder_path + '/' + folder)\n",
    "    for i, name in enumerate(images_names):\n",
    "        if 'hdr' not in name:\n",
    "            image = io.imread(folder_path + '/' + folder + '/' + name)\n",
    "            # image_combined = grainPreprocess.combine(image, h=144,k=1)\n",
    "            height, width = image.shape\n",
    "            img1 = image[:height // 3, :width // 3]\n",
    "            img2 = image[:height // 3, width // 3: width * 2 // 3]\n",
    "            img3 = image[:height // 3:, width * 2 // 3:]\n",
    "            img4 = image[height // 3:height * 2 // 3, :width // 3]\n",
    "            img5 = image[height // 3:height * 2 // 3, width // 3: width * 2 // 3]\n",
    "            img6 = image[height // 3:height * 2 // 3:, width * 2 // 3:]\n",
    "            img7 = image[height * 2 // 3:, :width // 3]\n",
    "            img8 = image[height * 2 // 3:, width // 3: width * 2 // 3]\n",
    "            img9 = image[height * 2 // 3::, width * 2 // 3:]\n",
    "\n",
    "            io.imsave(new_folder_path + '/' + folder + '/' + name[:-5] + '_part_1' + name[-5:], img1)\n",
    "            io.imsave(new_folder_path + '/' + folder + '/' + name[:-5] + '_part_2' + name[-5:], img2)\n",
    "            io.imsave(new_folder_path + '/' + folder + '/' + name[:-5] + '_part_3' + name[-5:], img3)\n",
    "            io.imsave(new_folder_path + '/' + folder + '/' + name[:-5] + '_part_4' + name[-5:], img4)\n",
    "            io.imsave(new_folder_path + '/' + folder + '/' + name[:-5] + '_part_5' + name[-5:], img5)\n",
    "            io.imsave(new_folder_path + '/' + folder + '/' + name[:-5] + '_part_6' + name[-5:], img6)\n",
    "            io.imsave(new_folder_path + '/' + folder + '/' + name[:-5] + '_part_7' + name[-5:], img7)\n",
    "            io.imsave(new_folder_path + '/' + folder + '/' + name[:-5] + '_part_8' + name[-5:], img8)\n",
    "            io.imsave(new_folder_path + '/' + folder + '/' + name[:-5] + '_part_9' + name[-5:], img9)\n"
   ],
   "metadata": {
    "collapsed": false,
    "ExecuteTime": {
     "end_time": "2023-10-10T14:49:51.704248900Z",
     "start_time": "2023-10-10T14:49:30.734906200Z"
    }
   }
  },
  {
   "cell_type": "markdown",
   "source": [
    "### Повороты"
   ],
   "metadata": {
    "collapsed": false
   }
  },
  {
   "cell_type": "code",
   "execution_count": 5,
   "outputs": [
    {
     "ename": "OSError",
     "evalue": "cannot write mode F as JPEG",
     "output_type": "error",
     "traceback": [
      "\u001B[1;31m---------------------------------------------------------------------------\u001B[0m",
      "\u001B[1;31mKeyError\u001B[0m                                  Traceback (most recent call last)",
      "File \u001B[1;32mC:\\anaconda3\\envs\\torch\\lib\\site-packages\\PIL\\JpegImagePlugin.py:639\u001B[0m, in \u001B[0;36m_save\u001B[1;34m(im, fp, filename)\u001B[0m\n\u001B[0;32m    638\u001B[0m \u001B[38;5;28;01mtry\u001B[39;00m:\n\u001B[1;32m--> 639\u001B[0m     rawmode \u001B[38;5;241m=\u001B[39m \u001B[43mRAWMODE\u001B[49m\u001B[43m[\u001B[49m\u001B[43mim\u001B[49m\u001B[38;5;241;43m.\u001B[39;49m\u001B[43mmode\u001B[49m\u001B[43m]\u001B[49m\n\u001B[0;32m    640\u001B[0m \u001B[38;5;28;01mexcept\u001B[39;00m \u001B[38;5;167;01mKeyError\u001B[39;00m \u001B[38;5;28;01mas\u001B[39;00m e:\n",
      "\u001B[1;31mKeyError\u001B[0m: 'F'",
      "\nThe above exception was the direct cause of the following exception:\n",
      "\u001B[1;31mOSError\u001B[0m                                   Traceback (most recent call last)",
      "Cell \u001B[1;32mIn[5], line 14\u001B[0m\n\u001B[0;32m     11\u001B[0m img4 \u001B[38;5;241m=\u001B[39m transform\u001B[38;5;241m.\u001B[39mrotate(image, \u001B[38;5;241m270\u001B[39m)\n\u001B[0;32m     13\u001B[0m io\u001B[38;5;241m.\u001B[39mimsave(new_folder_path \u001B[38;5;241m+\u001B[39m \u001B[38;5;124m'\u001B[39m\u001B[38;5;124m/\u001B[39m\u001B[38;5;124m'\u001B[39m \u001B[38;5;241m+\u001B[39m folder \u001B[38;5;241m+\u001B[39m \u001B[38;5;124m'\u001B[39m\u001B[38;5;124m/\u001B[39m\u001B[38;5;124m'\u001B[39m \u001B[38;5;241m+\u001B[39m name[:\u001B[38;5;241m-\u001B[39m\u001B[38;5;241m5\u001B[39m] \u001B[38;5;241m+\u001B[39m \u001B[38;5;124m'\u001B[39m\u001B[38;5;124m_angle_0\u001B[39m\u001B[38;5;124m'\u001B[39m \u001B[38;5;241m+\u001B[39m name[\u001B[38;5;241m-\u001B[39m\u001B[38;5;241m5\u001B[39m:], img1)\n\u001B[1;32m---> 14\u001B[0m \u001B[43mio\u001B[49m\u001B[38;5;241;43m.\u001B[39;49m\u001B[43mimsave\u001B[49m\u001B[43m(\u001B[49m\u001B[43mnew_folder_path\u001B[49m\u001B[43m \u001B[49m\u001B[38;5;241;43m+\u001B[39;49m\u001B[43m \u001B[49m\u001B[38;5;124;43m'\u001B[39;49m\u001B[38;5;124;43m/\u001B[39;49m\u001B[38;5;124;43m'\u001B[39;49m\u001B[43m \u001B[49m\u001B[38;5;241;43m+\u001B[39;49m\u001B[43m \u001B[49m\u001B[43mfolder\u001B[49m\u001B[43m \u001B[49m\u001B[38;5;241;43m+\u001B[39;49m\u001B[43m \u001B[49m\u001B[38;5;124;43m'\u001B[39;49m\u001B[38;5;124;43m/\u001B[39;49m\u001B[38;5;124;43m'\u001B[39;49m\u001B[43m \u001B[49m\u001B[38;5;241;43m+\u001B[39;49m\u001B[43m \u001B[49m\u001B[43mname\u001B[49m\u001B[43m[\u001B[49m\u001B[43m:\u001B[49m\u001B[38;5;241;43m-\u001B[39;49m\u001B[38;5;241;43m5\u001B[39;49m\u001B[43m]\u001B[49m\u001B[43m \u001B[49m\u001B[38;5;241;43m+\u001B[39;49m\u001B[43m \u001B[49m\u001B[38;5;124;43m'\u001B[39;49m\u001B[38;5;124;43m_angle_90\u001B[39;49m\u001B[38;5;124;43m'\u001B[39;49m\u001B[43m \u001B[49m\u001B[38;5;241;43m+\u001B[39;49m\u001B[43m \u001B[49m\u001B[43mname\u001B[49m\u001B[43m[\u001B[49m\u001B[38;5;241;43m-\u001B[39;49m\u001B[38;5;241;43m5\u001B[39;49m\u001B[43m:\u001B[49m\u001B[43m]\u001B[49m\u001B[43m,\u001B[49m\u001B[43m \u001B[49m\u001B[43mimg2\u001B[49m\u001B[43m)\u001B[49m\n\u001B[0;32m     15\u001B[0m io\u001B[38;5;241m.\u001B[39mimsave(new_folder_path \u001B[38;5;241m+\u001B[39m \u001B[38;5;124m'\u001B[39m\u001B[38;5;124m/\u001B[39m\u001B[38;5;124m'\u001B[39m \u001B[38;5;241m+\u001B[39m folder \u001B[38;5;241m+\u001B[39m \u001B[38;5;124m'\u001B[39m\u001B[38;5;124m/\u001B[39m\u001B[38;5;124m'\u001B[39m \u001B[38;5;241m+\u001B[39m name[:\u001B[38;5;241m-\u001B[39m\u001B[38;5;241m5\u001B[39m] \u001B[38;5;241m+\u001B[39m \u001B[38;5;124m'\u001B[39m\u001B[38;5;124m_angle_180\u001B[39m\u001B[38;5;124m'\u001B[39m \u001B[38;5;241m+\u001B[39m name[\u001B[38;5;241m-\u001B[39m\u001B[38;5;241m5\u001B[39m:], img3)\n\u001B[0;32m     16\u001B[0m io\u001B[38;5;241m.\u001B[39mimsave(new_folder_path \u001B[38;5;241m+\u001B[39m \u001B[38;5;124m'\u001B[39m\u001B[38;5;124m/\u001B[39m\u001B[38;5;124m'\u001B[39m \u001B[38;5;241m+\u001B[39m folder \u001B[38;5;241m+\u001B[39m \u001B[38;5;124m'\u001B[39m\u001B[38;5;124m/\u001B[39m\u001B[38;5;124m'\u001B[39m \u001B[38;5;241m+\u001B[39m name[:\u001B[38;5;241m-\u001B[39m\u001B[38;5;241m5\u001B[39m] \u001B[38;5;241m+\u001B[39m \u001B[38;5;124m'\u001B[39m\u001B[38;5;124m_angle_270\u001B[39m\u001B[38;5;124m'\u001B[39m \u001B[38;5;241m+\u001B[39m name[\u001B[38;5;241m-\u001B[39m\u001B[38;5;241m5\u001B[39m:], img4)\n",
      "File \u001B[1;32mC:\\anaconda3\\envs\\torch\\lib\\site-packages\\skimage\\io\\_io.py:143\u001B[0m, in \u001B[0;36mimsave\u001B[1;34m(fname, arr, plugin, check_contrast, **plugin_args)\u001B[0m\n\u001B[0;32m    141\u001B[0m \u001B[38;5;28;01mif\u001B[39;00m check_contrast \u001B[38;5;129;01mand\u001B[39;00m is_low_contrast(arr):\n\u001B[0;32m    142\u001B[0m     warn(\u001B[38;5;124mf\u001B[39m\u001B[38;5;124m'\u001B[39m\u001B[38;5;132;01m{\u001B[39;00mfname\u001B[38;5;132;01m}\u001B[39;00m\u001B[38;5;124m is a low contrast image\u001B[39m\u001B[38;5;124m'\u001B[39m)\n\u001B[1;32m--> 143\u001B[0m \u001B[38;5;28;01mreturn\u001B[39;00m call_plugin(\u001B[38;5;124m'\u001B[39m\u001B[38;5;124mimsave\u001B[39m\u001B[38;5;124m'\u001B[39m, fname, arr, plugin\u001B[38;5;241m=\u001B[39mplugin, \u001B[38;5;241m*\u001B[39m\u001B[38;5;241m*\u001B[39mplugin_args)\n",
      "File \u001B[1;32mC:\\anaconda3\\envs\\torch\\lib\\site-packages\\skimage\\io\\manage_plugins.py:205\u001B[0m, in \u001B[0;36mcall_plugin\u001B[1;34m(kind, *args, **kwargs)\u001B[0m\n\u001B[0;32m    202\u001B[0m     \u001B[38;5;28;01mexcept\u001B[39;00m \u001B[38;5;167;01mIndexError\u001B[39;00m:\n\u001B[0;32m    203\u001B[0m         \u001B[38;5;28;01mraise\u001B[39;00m \u001B[38;5;167;01mRuntimeError\u001B[39;00m(\u001B[38;5;124mf\u001B[39m\u001B[38;5;124m'\u001B[39m\u001B[38;5;124mCould not find the plugin \u001B[39m\u001B[38;5;124m\"\u001B[39m\u001B[38;5;132;01m{\u001B[39;00mplugin\u001B[38;5;132;01m}\u001B[39;00m\u001B[38;5;124m\"\u001B[39m\u001B[38;5;124m for \u001B[39m\u001B[38;5;132;01m{\u001B[39;00mkind\u001B[38;5;132;01m}\u001B[39;00m\u001B[38;5;124m.\u001B[39m\u001B[38;5;124m'\u001B[39m)\n\u001B[1;32m--> 205\u001B[0m \u001B[38;5;28;01mreturn\u001B[39;00m func(\u001B[38;5;241m*\u001B[39margs, \u001B[38;5;241m*\u001B[39m\u001B[38;5;241m*\u001B[39mkwargs)\n",
      "File \u001B[1;32mC:\\anaconda3\\envs\\torch\\lib\\site-packages\\imageio\\v2.py:396\u001B[0m, in \u001B[0;36mimwrite\u001B[1;34m(uri, im, format, **kwargs)\u001B[0m\n\u001B[0;32m    394\u001B[0m imopen_args \u001B[38;5;241m=\u001B[39m decypher_format_arg(\u001B[38;5;28mformat\u001B[39m)\n\u001B[0;32m    395\u001B[0m imopen_args[\u001B[38;5;124m\"\u001B[39m\u001B[38;5;124mlegacy_mode\u001B[39m\u001B[38;5;124m\"\u001B[39m] \u001B[38;5;241m=\u001B[39m \u001B[38;5;28;01mTrue\u001B[39;00m\n\u001B[1;32m--> 396\u001B[0m \u001B[38;5;28;01mwith\u001B[39;00m imopen(uri, \u001B[38;5;124m\"\u001B[39m\u001B[38;5;124mwi\u001B[39m\u001B[38;5;124m\"\u001B[39m, \u001B[38;5;241m*\u001B[39m\u001B[38;5;241m*\u001B[39mimopen_args) \u001B[38;5;28;01mas\u001B[39;00m file:\n\u001B[0;32m    397\u001B[0m     \u001B[38;5;28;01mreturn\u001B[39;00m file\u001B[38;5;241m.\u001B[39mwrite(im, \u001B[38;5;241m*\u001B[39m\u001B[38;5;241m*\u001B[39mkwargs)\n",
      "File \u001B[1;32mC:\\anaconda3\\envs\\torch\\lib\\site-packages\\imageio\\core\\v3_plugin_api.py:367\u001B[0m, in \u001B[0;36mPluginV3.__exit__\u001B[1;34m(self, type, value, traceback)\u001B[0m\n\u001B[0;32m    366\u001B[0m \u001B[38;5;28;01mdef\u001B[39;00m \u001B[38;5;21m__exit__\u001B[39m(\u001B[38;5;28mself\u001B[39m, \u001B[38;5;28mtype\u001B[39m, value, traceback) \u001B[38;5;241m-\u001B[39m\u001B[38;5;241m>\u001B[39m \u001B[38;5;28;01mNone\u001B[39;00m:\n\u001B[1;32m--> 367\u001B[0m     \u001B[38;5;28;43mself\u001B[39;49m\u001B[38;5;241;43m.\u001B[39;49m\u001B[43mclose\u001B[49m\u001B[43m(\u001B[49m\u001B[43m)\u001B[49m\n",
      "File \u001B[1;32mC:\\anaconda3\\envs\\torch\\lib\\site-packages\\imageio\\plugins\\pillow.py:123\u001B[0m, in \u001B[0;36mPillowPlugin.close\u001B[1;34m(self)\u001B[0m\n\u001B[0;32m    122\u001B[0m \u001B[38;5;28;01mdef\u001B[39;00m \u001B[38;5;21mclose\u001B[39m(\u001B[38;5;28mself\u001B[39m) \u001B[38;5;241m-\u001B[39m\u001B[38;5;241m>\u001B[39m \u001B[38;5;28;01mNone\u001B[39;00m:\n\u001B[1;32m--> 123\u001B[0m     \u001B[38;5;28;43mself\u001B[39;49m\u001B[38;5;241;43m.\u001B[39;49m\u001B[43m_flush_writer\u001B[49m\u001B[43m(\u001B[49m\u001B[43m)\u001B[49m\n\u001B[0;32m    125\u001B[0m     \u001B[38;5;28;01mif\u001B[39;00m \u001B[38;5;28mself\u001B[39m\u001B[38;5;241m.\u001B[39m_image:\n\u001B[0;32m    126\u001B[0m         \u001B[38;5;28mself\u001B[39m\u001B[38;5;241m.\u001B[39m_image\u001B[38;5;241m.\u001B[39mclose()\n",
      "File \u001B[1;32mC:\\anaconda3\\envs\\torch\\lib\\site-packages\\imageio\\plugins\\pillow.py:457\u001B[0m, in \u001B[0;36mPillowPlugin._flush_writer\u001B[1;34m(self)\u001B[0m\n\u001B[0;32m    454\u001B[0m     \u001B[38;5;28mself\u001B[39m\u001B[38;5;241m.\u001B[39msave_args[\u001B[38;5;124m\"\u001B[39m\u001B[38;5;124msave_all\u001B[39m\u001B[38;5;124m\"\u001B[39m] \u001B[38;5;241m=\u001B[39m \u001B[38;5;28;01mTrue\u001B[39;00m\n\u001B[0;32m    455\u001B[0m     \u001B[38;5;28mself\u001B[39m\u001B[38;5;241m.\u001B[39msave_args[\u001B[38;5;124m\"\u001B[39m\u001B[38;5;124mappend_images\u001B[39m\u001B[38;5;124m\"\u001B[39m] \u001B[38;5;241m=\u001B[39m \u001B[38;5;28mself\u001B[39m\u001B[38;5;241m.\u001B[39mimages_to_write\n\u001B[1;32m--> 457\u001B[0m primary_image\u001B[38;5;241m.\u001B[39msave(\u001B[38;5;28mself\u001B[39m\u001B[38;5;241m.\u001B[39m_request\u001B[38;5;241m.\u001B[39mget_file(), \u001B[38;5;241m*\u001B[39m\u001B[38;5;241m*\u001B[39m\u001B[38;5;28mself\u001B[39m\u001B[38;5;241m.\u001B[39msave_args)\n\u001B[0;32m    458\u001B[0m \u001B[38;5;28mself\u001B[39m\u001B[38;5;241m.\u001B[39mimages_to_write\u001B[38;5;241m.\u001B[39mclear()\n\u001B[0;32m    459\u001B[0m \u001B[38;5;28mself\u001B[39m\u001B[38;5;241m.\u001B[39msave_args\u001B[38;5;241m.\u001B[39mclear()\n",
      "File \u001B[1;32mC:\\anaconda3\\envs\\torch\\lib\\site-packages\\PIL\\Image.py:2413\u001B[0m, in \u001B[0;36mImage.save\u001B[1;34m(self, fp, format, **params)\u001B[0m\n\u001B[0;32m   2410\u001B[0m         fp \u001B[38;5;241m=\u001B[39m builtins\u001B[38;5;241m.\u001B[39mopen(filename, \u001B[38;5;124m\"\u001B[39m\u001B[38;5;124mw+b\u001B[39m\u001B[38;5;124m\"\u001B[39m)\n\u001B[0;32m   2412\u001B[0m \u001B[38;5;28;01mtry\u001B[39;00m:\n\u001B[1;32m-> 2413\u001B[0m     \u001B[43msave_handler\u001B[49m\u001B[43m(\u001B[49m\u001B[38;5;28;43mself\u001B[39;49m\u001B[43m,\u001B[49m\u001B[43m \u001B[49m\u001B[43mfp\u001B[49m\u001B[43m,\u001B[49m\u001B[43m \u001B[49m\u001B[43mfilename\u001B[49m\u001B[43m)\u001B[49m\n\u001B[0;32m   2414\u001B[0m \u001B[38;5;28;01mexcept\u001B[39;00m \u001B[38;5;167;01mException\u001B[39;00m:\n\u001B[0;32m   2415\u001B[0m     \u001B[38;5;28;01mif\u001B[39;00m open_fp:\n",
      "File \u001B[1;32mC:\\anaconda3\\envs\\torch\\lib\\site-packages\\PIL\\JpegImagePlugin.py:642\u001B[0m, in \u001B[0;36m_save\u001B[1;34m(im, fp, filename)\u001B[0m\n\u001B[0;32m    640\u001B[0m \u001B[38;5;28;01mexcept\u001B[39;00m \u001B[38;5;167;01mKeyError\u001B[39;00m \u001B[38;5;28;01mas\u001B[39;00m e:\n\u001B[0;32m    641\u001B[0m     msg \u001B[38;5;241m=\u001B[39m \u001B[38;5;124mf\u001B[39m\u001B[38;5;124m\"\u001B[39m\u001B[38;5;124mcannot write mode \u001B[39m\u001B[38;5;132;01m{\u001B[39;00mim\u001B[38;5;241m.\u001B[39mmode\u001B[38;5;132;01m}\u001B[39;00m\u001B[38;5;124m as JPEG\u001B[39m\u001B[38;5;124m\"\u001B[39m\n\u001B[1;32m--> 642\u001B[0m     \u001B[38;5;28;01mraise\u001B[39;00m \u001B[38;5;167;01mOSError\u001B[39;00m(msg) \u001B[38;5;28;01mfrom\u001B[39;00m \u001B[38;5;21;01me\u001B[39;00m\n\u001B[0;32m    644\u001B[0m info \u001B[38;5;241m=\u001B[39m im\u001B[38;5;241m.\u001B[39mencoderinfo\n\u001B[0;32m    646\u001B[0m dpi \u001B[38;5;241m=\u001B[39m [\u001B[38;5;28mround\u001B[39m(x) \u001B[38;5;28;01mfor\u001B[39;00m x \u001B[38;5;129;01min\u001B[39;00m info\u001B[38;5;241m.\u001B[39mget(\u001B[38;5;124m\"\u001B[39m\u001B[38;5;124mdpi\u001B[39m\u001B[38;5;124m\"\u001B[39m, (\u001B[38;5;241m0\u001B[39m, \u001B[38;5;241m0\u001B[39m))]\n",
      "\u001B[1;31mOSError\u001B[0m: cannot write mode F as JPEG"
     ]
    }
   ],
   "source": [
    "\n",
    "for i, folder in enumerate(folders):\n",
    "    images_names = os.listdir(folder_path + '/' + folder)\n",
    "    for i, name in enumerate(images_names):\n",
    "        if 'hdr' not in name:\n",
    "            image = io.imread(folder_path + '/' + folder + '/' + name)\n",
    "\n",
    "            height, width = image.shape\n",
    "            img1 = image\n",
    "            img2 = transform.rotate(image, 90)\n",
    "            img3 = transform.rotate(image, 180)\n",
    "            img4 = transform.rotate(image, 270)\n",
    "\n",
    "            io.imsave(new_folder_path + '/' + folder + '/' + name[:-5] + '_angle_0' + name[-5:], img1)\n",
    "            io.imsave(new_folder_path + '/' + folder + '/' + name[:-5] + '_angle_90' + name[-5:], img2)\n",
    "            io.imsave(new_folder_path + '/' + folder + '/' + name[:-5] + '_angle_180' + name[-5:], img3)\n",
    "            io.imsave(new_folder_path + '/' + folder + '/' + name[:-5] + '_angle_270' + name[-5:], img4)"
   ],
   "metadata": {
    "collapsed": false,
    "ExecuteTime": {
     "end_time": "2023-10-10T14:59:56.764009500Z",
     "start_time": "2023-10-10T14:59:54.982778700Z"
    }
   }
  },
  {
   "cell_type": "code",
   "execution_count": null,
   "outputs": [],
   "source": [],
   "metadata": {
    "collapsed": false
   }
  }
 ],
 "metadata": {
  "kernelspec": {
   "name": "torch",
   "language": "python",
   "display_name": "torch"
  },
  "language_info": {
   "codemirror_mode": {
    "name": "ipython",
    "version": 2
   },
   "file_extension": ".py",
   "mimetype": "text/x-python",
   "name": "python",
   "nbconvert_exporter": "python",
   "pygments_lexer": "ipython2",
   "version": "2.7.6"
  }
 },
 "nbformat": 4,
 "nbformat_minor": 0
}
