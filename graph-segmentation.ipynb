{
 "cells": [
  {
   "cell_type": "code",
   "execution_count": 2,
   "metadata": {},
   "outputs": [],
   "source": [
    "import numpy as np\n",
    "import joypy\n",
    "from matplotlib import pyplot as plt\n",
    "from matplotlib import cm\n",
    "\n",
    "from scipy import ndimage as ndi\n",
    "from scipy.spatial import distance\n",
    "\n",
    "from skimage import io\n",
    "from skimage.color import rgb2gray\n",
    "from scipy import ndimage\n",
    "from skimage import filters\n",
    "from skimage.morphology import disk, ball\n",
    "\n",
    "from PIL import Image, ImageDraw, ImageFilter\n",
    "import copy\n",
    "import cv2\n"
   ]
  },
  {
   "cell_type": "code",
   "execution_count": 8,
   "metadata": {},
   "outputs": [],
   "source": [
    "grain1_name='Ultra_Co6_2-040.jpg'\n",
    "grain2_name='Ultra_Co11-2.jpg'\n",
    "grain3_name='Ultra_Co25-1.jpg'\n",
    "\n",
    "path='images'\n",
    "\n",
    "grain1_pil=Image.open(path+'/'+grain1_name)\n",
    "grain2_pil=Image.open(path+'/'+grain2_name)\n",
    "grain3_pil=Image.open(path+'/'+grain3_name)"
   ]
  },
  {
   "cell_type": "code",
   "execution_count": 9,
   "metadata": {},
   "outputs": [],
   "source": [
    "def img_show(image,N=20,cmap=plt.cm.nipy_spectral):\n",
    "    \n",
    "    plt.figure(figsize=(N,N))\n",
    "    plt.axis('off')\n",
    "    plt.imshow(image,cmap=cmap)\n",
    "    plt.show()\n",
    "\n",
    "def imdivide(image,side):\n",
    "    \n",
    "    width,height = image.size\n",
    "    sides={'left':0,'right':1}\n",
    "    shape=[(0,0,width//2,height),(width//2,0,width,height)]\n",
    "    return image.crop(shape[sides[side]])\n",
    "\n",
    "def combine(image,k=0.5,N=20): \n",
    "    left_img=imdivide(image,'left')\n",
    "    right_img=imdivide(image,'right')\n",
    "\n",
    "    l=k\n",
    "    r=1-l\n",
    "    gray=np.array(left_img)*l\n",
    "    gray+=np.array(right_img)*r\n",
    "    gray=gray.astype('uint8')\n",
    "    return gray\n",
    "\n",
    "def do_otsu(img,N=20):\n",
    "    image=rgb2gray(img)\n",
    "    \n",
    "    global_thresh=filters.threshold_otsu(image)\n",
    "    binary_global = image > global_thresh\n",
    "    \n",
    "    return binary_global"
   ]
  },
  {
   "cell_type": "markdown",
   "metadata": {},
   "source": [
    "## Выделение пустот"
   ]
  },
  {
   "cell_type": "markdown",
   "metadata": {},
   "source": [
    "denoised=mean_filter(image)\n",
    "\n",
    "binary=otsu(denoised)\n",
    "\n",
    "grad=gradient(binary)\n",
    "\n",
    "bin_grad=-binary+grad"
   ]
  },
  {
   "cell_type": "code",
   "execution_count": 139,
   "metadata": {},
   "outputs": [
    {
     "name": "stderr",
     "output_type": "stream",
     "text": [
      "C:\\Users\\Администратор\\AppData\\Roaming\\Python\\Python36\\site-packages\\ipykernel_launcher.py:27: FutureWarning: The behavior of rgb2gray will change in scikit-image 0.19. Currently, rgb2gray allows 2D grayscale image to be passed as inputs and leaves them unmodified as outputs. Starting from version 0.19, 2D arrays will be treated as 1D images with 3 channels.\n"
     ]
    }
   ],
   "source": [
    "combined1=combine(grain1_pil,0.5,10)\n",
    "combined2=combine(grain2_pil,0.5,10)\n",
    "combined3=combine(grain3_pil,0.5,10)\n",
    "\n",
    "denoised1 = filters.rank.median(combined1, disk(3))\n",
    "denoised2 = filters.rank.median(combined2, disk(3))\n",
    "denoised3 = filters.rank.median(combined3, disk(3))\n",
    "\n",
    "binary1=do_otsu(denoised1).astype('uint8')\n",
    "binary2=do_otsu(denoised2).astype('uint8')\n",
    "binary3=do_otsu(denoised3).astype('uint8')\n",
    "\n",
    "grad1 = filters.rank.gradient(binary1, disk(1))\n",
    "grad2 = filters.rank.gradient(binary2, disk(1))\n",
    "grad3 = filters.rank.gradient(binary3, disk(1))\n",
    "\n",
    "# у зерен значение пикселя - 0, у тела пустоты - 1, у границы пустоты - 2\n",
    "bin_grad1=1-binary1+grad1\n",
    "bin_grad2=1-binary2+grad2\n",
    "bin_grad3=1-binary3+grad3\n",
    "\n",
    "image1=(bin_grad1>0).astype('uint8')*255\n",
    "image2=(bin_grad2>0).astype('uint8')*255\n",
    "image3=(bin_grad3>0).astype('uint8')*255"
   ]
  },
  {
   "cell_type": "code",
   "execution_count": null,
   "metadata": {},
   "outputs": [],
   "source": [
    "#io.imsave('bin_grad.png',image)"
   ]
  },
  {
   "cell_type": "markdown",
   "metadata": {},
   "source": [
    "## Маркировка углов"
   ]
  },
  {
   "cell_type": "markdown",
   "metadata": {},
   "source": [
    "http://espressocode.top/python-corner-detection-with-shi-tomasi-corner-detection-method-using-opencv/"
   ]
  },
  {
   "cell_type": "markdown",
   "metadata": {},
   "source": [
    "classes - каждому пикселю дается свой класс, по картинке гуляет матрица свертки"
   ]
  },
  {
   "cell_type": "code",
   "execution_count": 182,
   "metadata": {},
   "outputs": [],
   "source": [
    "def mark_corners(image):\n",
    "    image=copy.copy(image)\n",
    "    corners = cv2.goodFeaturesToTrack(image, 1000000, 0.001, 1)\n",
    "\n",
    "    corners = np.int0(corners)\n",
    "    print('number of corners: ',len(corners))\n",
    "    for i in corners:\n",
    "        x, y = i.ravel()\n",
    "        cv2.circle(image, (x, y), 3, 255, -1)\n",
    "    x=copy.copy(corners[:,0,1])\n",
    "    y=copy.copy(corners[:,0,0])\n",
    "    corners[:,0,0],corners[:,0,1]=x,y\n",
    "    return image,corners.astype('int64')\n",
    "\n",
    "def mark_classes(image):\n",
    "    classes = filters.rank.gradient(image, disk(1)) < 250\n",
    "    classes,num = ndi.label(classes)\n",
    "    print('number of classes:',num)\n",
    "    return classes,num"
   ]
  },
  {
   "cell_type": "code",
   "execution_count": 183,
   "metadata": {},
   "outputs": [
    {
     "name": "stdout",
     "output_type": "stream",
     "text": [
      "number of corners:  1633\n",
      "number of corners:  13247\n",
      "number of corners:  30747\n",
      "number of classes: 196\n",
      "number of classes: 342\n",
      "number of classes: 1244\n"
     ]
    }
   ],
   "source": [
    "grain1_marked,grain1_corners=mark_corners(image1)\n",
    "grain2_marked,grain2_corners=mark_corners(image2)\n",
    "grain3_marked,grain3_corners=mark_corners(image3)\n",
    "\n",
    "grain1_classes,class1_num=mark_classes(image1)\n",
    "grain2_classes,class2_num=mark_classes(image2)\n",
    "grain3_classes,class3_num=mark_classes(image3)"
   ]
  },
  {
   "cell_type": "markdown",
   "metadata": {},
   "source": [
    "## Дадим каждой вершине привязку к пустоте"
   ]
  },
  {
   "cell_type": "raw",
   "metadata": {},
   "source": [
    "Будет два цикла\n",
    "\n",
    "Первый - собирает в массив те углы, которые находятся на одном классе пикселя\n",
    "\n",
    "Второй - будет ходить по периметру региона и будет соединять точки"
   ]
  },
  {
   "cell_type": "code",
   "execution_count": 56,
   "metadata": {},
   "outputs": [],
   "source": [
    "def join_corners2classes(classes,classes_num,corners,max_corners_per_class):\n",
    "\n",
    "    shape=(classes_num+1,max_corners_per_class)\n",
    "    nodes=np.zeros(shape,dtype='int64')\n",
    "    r=2\n",
    "    for i,corner in enumerate(corners):\n",
    "        x=corner[0][0]\n",
    "        y=corner[0][1]\n",
    "        cls=classes[x,y]\n",
    "        real_cls=0\n",
    "        flag=True\n",
    "        x_lin=range(x-r,x+r)\n",
    "        y_lin=range(y-r,y+r)\n",
    "        while flag:\n",
    "            for xi in x_lin:\n",
    "                for yi in y_lin:\n",
    "                    if classes[xi,yi]!=0 and classes[xi,yi]!=1 and classes[xi,yi]!=2:\n",
    "                        real_cls=classes[xi,yi]\n",
    "                        flag=False\n",
    "                    elif yi==y_lin[-1] and xi==x_lin[-1]:\n",
    "                        flag=False\n",
    "                    else:\n",
    "                        continue \n",
    "\n",
    "        index=nodes[real_cls,-1]\n",
    "        nodes[real_cls,index]=i\n",
    "        nodes[real_cls,-1]+=1\n",
    "    return nodes"
   ]
  },
  {
   "cell_type": "code",
   "execution_count": 199,
   "metadata": {},
   "outputs": [],
   "source": [
    "nodes1=join_corners2classes(grain1_classes,\n",
    "                             class1_num,\n",
    "                             grain1_corners,\n",
    "                             100)\n",
    "\n",
    "nodes2=join_corners2classes(grain2_classes,\n",
    "                             class2_num,\n",
    "                             grain2_corners,\n",
    "                             500)\n",
    "\n",
    "nodes3=join_corners2classes(grain3_classes,\n",
    "                             class3_num,\n",
    "                             grain3_corners,\n",
    "                             500)"
   ]
  },
  {
   "cell_type": "markdown",
   "metadata": {},
   "source": [
    "## Визуализируем графы каждой пустоты"
   ]
  },
  {
   "cell_type": "code",
   "execution_count": null,
   "metadata": {},
   "outputs": [],
   "source": [
    "for node in nodes[2:].astype('int64'):\n",
    "    indeces=[]\n",
    "    for index in node:\n",
    "        if index!=0:\n",
    "            indeces.append(index)\n",
    "    cls_corners=corners[indeces]\n",
    "    for corner1 in cls_corners:\n",
    "        for corner2 in cls_corners:\n",
    "            x1=corner1[0][0]\n",
    "            y1=corner1[0][1]\n",
    "            x2=corner2[0][0]\n",
    "            y2=corner2[0][1]\n",
    "            draw.line((y1,x1,y2,x2), fill=(185), width=1)\n",
    "                \n",
    "test_image.save('edge.jpg')"
   ]
  },
  {
   "cell_type": "markdown",
   "metadata": {},
   "source": [
    "## Подсчитаем количество углов у пустот"
   ]
  },
  {
   "cell_type": "code",
   "execution_count": 153,
   "metadata": {},
   "outputs": [],
   "source": [
    "def show_corners_classes(nodes,classes,N=2000): \n",
    "    node_corner_numbers=np.zeros((classes.shape[0],1))\n",
    "    for i,node in enumerate(nodes):\n",
    "        for corner in node:\n",
    "            if corner:\n",
    "                node_corner_numbers[i]+=1\n",
    "\n",
    "    std=node_corner_numbers.std(axis=0)[0]\n",
    "    mean=node_corner_numbers.mean(axis=0)[0]\n",
    "\n",
    "    print('std: ',round(std,3))\n",
    "    print('mean: ',round(mean,3))\n",
    "    print('number of classes: ',classes.shape[0])\n",
    "    \n",
    "    fig, ax = plt.subplots(figsize=(10,10))\n",
    "    ax.set_ylabel('Количество углов у пустоты',size=20)\n",
    "    ax.set_xlabel('Порядковый номер пустоты',size=20)\n",
    "    plt.plot(node_corner_numbers[:N])"
   ]
  },
  {
   "cell_type": "code",
   "execution_count": 185,
   "metadata": {},
   "outputs": [
    {
     "name": "stdout",
     "output_type": "stream",
     "text": [
      "std:  31.914\n",
      "mean:  19.13\n",
      "number of classes:  1671\n"
     ]
    },
    {
     "data": {
      "image/png": "[encoded data removed]",
      "text/plain": [
       "<Figure size 720x720 with 1 Axes>"
      ]
     },
     "metadata": {
      "needs_background": "light"
     },
     "output_type": "display_data"
    }
   ],
   "source": [
    "N=1300\n",
    "show_corners_classes(nodes3,grain3_classes,N)"
   ]
  },
  {
   "cell_type": "markdown",
   "metadata": {},
   "source": [
    "## Подсчитаем количество пустот, в которые входит угол"
   ]
  },
  {
   "cell_type": "code",
   "execution_count": 119,
   "metadata": {},
   "outputs": [],
   "source": [
    "def show_classes_corners(nodes,corners,N=2000):   \n",
    "    corner_distr=np.zeros((corners.shape[0]))\n",
    "    \n",
    "    for i in range(corners.shape[0]):\n",
    "        for node in nodes:\n",
    "            if i in node:\n",
    "                corner_distr[i]+=1\n",
    "                \n",
    "    fig, ax = plt.subplots(figsize=(10,10))\n",
    "    ax.set_ylabel('Количество вхождений в пустоту',size=20)\n",
    "    ax.set_xlabel('Порядковый номер угла',size=20)\n",
    "    plt.plot(corner_distr[:N])\n",
    "    plt.show()"
   ]
  },
  {
   "cell_type": "code",
   "execution_count": 155,
   "metadata": {},
   "outputs": [
    {
     "data": {
      "image/png": "[encoded data removed]",
      "text/plain": [
       "<Figure size 720x720 with 1 Axes>"
      ]
     },
     "metadata": {
      "needs_background": "light"
     },
     "output_type": "display_data"
    }
   ],
   "source": [
    "k=75\n",
    "show_classes_corners(nodes1,grain1_corners,k)"
   ]
  },
  {
   "cell_type": "markdown",
   "metadata": {},
   "source": [
    "## Соединим углы пустоты по периметру"
   ]
  },
  {
   "cell_type": "code",
   "execution_count": 253,
   "metadata": {},
   "outputs": [],
   "source": [
    "def mean_pixel(image,point1,point2,r):\n",
    "    val=0\n",
    "    num=0\n",
    "    image=rgb2gray(image)\n",
    "    x1,y1=point1[0],point1[1]\n",
    "    x2,y2=point2[0],point2[1]\n",
    "\n",
    "    # идем всегда из х1 в х2, сверху вниз\n",
    "    if x1>x2:\n",
    "        x1,y1,x2,y2=x2,y2,x1,y1\n",
    "\n",
    "    y_lin=[]\n",
    "    x_lin=range(x1,x2)\n",
    "    # проведем линию и сохраним ее координаты\n",
    "    for xi in x_lin:\n",
    "        y_lin.append(round(((xi-x1)/(x2-x1))*(y2-y1)+y1))\n",
    "    # координатная ось повернута на -90 градусов\n",
    "    # новый х=-y, новый y=x\n",
    "\n",
    "    x_lin=np.array(x_lin,dtype='int64')\n",
    "    y_lin=np.array(y_lin,dtype='int64')\n",
    "    for xi,yi in zip(y_lin,x_lin):\n",
    "        for x in range(xi-r,xi+r):\n",
    "            for y in range(yi-r,yi+r):\n",
    "\n",
    "                val+=image[y,x]\n",
    "                num+=1\n",
    "    if num==0:\n",
    "        mean=0\n",
    "    else:\n",
    "        mean=abs(((val/num)/255)-0.5)\n",
    "    \n",
    "    dist=distance.euclidean(point1,point2)\n",
    "        \n",
    "    return round(mean*dist,3)"
   ]
  },
  {
   "cell_type": "code",
   "execution_count": 254,
   "metadata": {},
   "outputs": [],
   "source": [
    "def estimate_edges(image,node,corners,position=0,radius=2):\n",
    "    # вычисление расстояния и среднего значения между \n",
    "    # точкой с индексом posion и остальными точками пустоты\n",
    "    v1=node[position]\n",
    "    vals=np.zeros((node.shape[0],2))\n",
    "    if v1!=0:\n",
    "        for i,v2 in enumerate(node):\n",
    "\n",
    "            if v2!=0 and v1!=v2  :\n",
    "                vals[i,0]=v2\n",
    "                point1=corners[v1]\n",
    "                point2=corners[v2]\n",
    "                k=mean_pixel(image,point1[0],point2[0],radius)\n",
    "                vals[i,1]=k\n",
    "    return vals\n",
    "        "
   ]
  },
  {
   "cell_type": "code",
   "execution_count": 281,
   "metadata": {},
   "outputs": [],
   "source": [
    "def sort_perimetr(image,nodes,corners,radius=5):\n",
    "        new_nodes=np.zeros(nodes.shape)\n",
    "        i=0\n",
    "        node=nodes[i]\n",
    "    # проходим по каждой пустоте\n",
    "   # for i,node in enumerate(nodes):\n",
    "    # node - пустота\n",
    "        v1_index=0\n",
    "        v1=node[v1_index] # фиксируем первый угол и затем будем считать относительно него\n",
    "        new_nodes[i,v1_index]=v1\n",
    "        step=1\n",
    "        flag=True\n",
    "        if v1!=0:\n",
    "            print('old_node',node[:node[-1]])\n",
    "            val_node=copy.copy(node)\n",
    "            while flag:\n",
    "                print('v1_index',v1_index)\n",
    "                vals=estimate_edges(image, val_node,corners,position=v1_index,radius=radius)\n",
    "               # print('vals',vals)\n",
    "                non_zero_indeces=np.where((vals[:,0][:node[-1]]!=0) )[0]\n",
    "                vals=vals[non_zero_indeces]\n",
    "                min_val=vals.min(axis=0)[1]\n",
    "                \n",
    "                v2_index=np.where(vals[:,1]==min_val )[0][0]\n",
    "                v2=val_node[v2_index]\n",
    "\n",
    "                print('v2_index',v2_index)\n",
    "                print('--------------')\n",
    "                \n",
    "                new_nodes[i,step]=v2\n",
    "                val_node= np.delete(val_node, (v2_index), axis=0)\n",
    "                \n",
    "                v1=v2\n",
    "                v1_index=v2_index\n",
    "                \n",
    "                step+=1\n",
    "               \n",
    "                if step==node[-1]:\n",
    "                    print('new_node',new_nodes[i,:node[-1]])\n",
    "                    print('===============')\n",
    "                    new_nodes[i,-1]=node[-1]\n",
    "                    flag=False\n",
    "     #   else:\n",
    "      #      continue\n",
    "\n",
    "        return new_nodes"
   ]
  },
  {
   "cell_type": "code",
   "execution_count": 282,
   "metadata": {},
   "outputs": [
    {
     "name": "stdout",
     "output_type": "stream",
     "text": [
      "old_node [   33   107   215   424   511   675   677   678   679  1285  2008  2013\n",
      "  2018  2020  2022  2722  2761  2786  2840  2870  2874  2934  2954  2958\n",
      "  2987  3028  3029  3036  5667  5668  5673  5674  5677  5678  5680  5705\n",
      "  5706  5712  5750  5756  5757  8318  8345  8350  8358  8365  8380  8383\n",
      "  8389  8393  8440  8443  8458  8459  8461  8465  8467  8471  9982 10011\n",
      " 10014 10018 10019 10022 10023 10024 10025 10026 10041 10043 11582 12446\n",
      " 12450 12451 12452 12453 13214 13215 13216]\n",
      "v1_index 0\n"
     ]
    },
    {
     "name": "stderr",
     "output_type": "stream",
     "text": [
      "C:\\Users\\Администратор\\AppData\\Roaming\\Python\\Python36\\site-packages\\ipykernel_launcher.py:4: FutureWarning: The behavior of rgb2gray will change in scikit-image 0.19. Currently, rgb2gray allows 2D grayscale image to be passed as inputs and leaves them unmodified as outputs. Starting from version 0.19, 2D arrays will be treated as 1D images with 3 channels.\n",
      "  after removing the cwd from sys.path.\n"
     ]
    },
    {
     "name": "stdout",
     "output_type": "stream",
     "text": [
      "v2_index 18\n",
      "--------------\n",
      "v1_index 18\n",
      "v2_index 0\n",
      "--------------\n",
      "v1_index 0\n",
      "v2_index 1\n",
      "--------------\n",
      "v1_index 1\n",
      "v2_index 0\n",
      "--------------\n",
      "v1_index 0\n",
      "v2_index 13\n",
      "--------------\n",
      "v1_index 13\n",
      "v2_index 51\n",
      "--------------\n",
      "v1_index 51\n",
      "v2_index 13\n",
      "--------------\n",
      "v1_index 13\n",
      "v2_index 43\n",
      "--------------\n",
      "v1_index 43\n",
      "v2_index 17\n",
      "--------------\n",
      "v1_index 17\n",
      "v2_index 46\n",
      "--------------\n",
      "v1_index 46\n",
      "v2_index 17\n",
      "--------------\n",
      "v1_index 17\n",
      "v2_index 17\n",
      "--------------\n",
      "v1_index 17\n",
      "v2_index 8\n",
      "--------------\n",
      "v1_index 8\n",
      "v2_index 52\n",
      "--------------\n",
      "v1_index 52\n",
      "v2_index 8\n",
      "--------------\n",
      "v1_index 8\n",
      "v2_index 8\n",
      "--------------\n",
      "v1_index 8\n",
      "v2_index 33\n",
      "--------------\n",
      "v1_index 33\n",
      "v2_index 33\n",
      "--------------\n",
      "v1_index 33\n",
      "v2_index 8\n",
      "--------------\n",
      "v1_index 8\n",
      "v2_index 21\n",
      "--------------\n",
      "v1_index 21\n",
      "v2_index 8\n",
      "--------------\n",
      "v1_index 8\n",
      "v2_index 31\n",
      "--------------\n",
      "v1_index 31\n",
      "v2_index 32\n",
      "--------------\n",
      "v1_index 32\n",
      "v2_index 31\n",
      "--------------\n",
      "v1_index 31\n",
      "v2_index 22\n",
      "--------------\n",
      "v1_index 22\n",
      "v2_index 34\n",
      "--------------\n",
      "v1_index 34\n",
      "v2_index 22\n",
      "--------------\n",
      "v1_index 22\n",
      "v2_index 5\n",
      "--------------\n",
      "v1_index 5\n",
      "v2_index 30\n",
      "--------------\n",
      "v1_index 30\n",
      "v2_index 5\n",
      "--------------\n",
      "v1_index 5\n",
      "v2_index 22\n",
      "--------------\n",
      "v1_index 22\n",
      "v2_index 10\n",
      "--------------\n",
      "v1_index 10\n",
      "v2_index 7\n",
      "--------------\n",
      "v1_index 7\n",
      "v2_index 1\n",
      "--------------\n",
      "v1_index 1\n",
      "v2_index 41\n",
      "--------------\n",
      "v1_index 41\n",
      "v2_index 1\n",
      "--------------\n",
      "v1_index 1\n",
      "v2_index 19\n",
      "--------------\n",
      "v1_index 19\n",
      "v2_index 1\n",
      "--------------\n",
      "v1_index 1\n",
      "v2_index 24\n",
      "--------------\n",
      "v1_index 24\n",
      "v2_index 24\n",
      "--------------\n",
      "v1_index 24\n",
      "v2_index 23\n",
      "--------------\n",
      "v1_index 23\n",
      "v2_index 25\n",
      "--------------\n",
      "v1_index 25\n",
      "v2_index 25\n",
      "--------------\n",
      "v1_index 25\n",
      "v2_index 23\n",
      "--------------\n",
      "v1_index 23\n",
      "v2_index 1\n",
      "--------------\n",
      "v1_index 1\n",
      "v2_index 15\n",
      "--------------\n",
      "v1_index 15\n",
      "v2_index 1\n",
      "--------------\n",
      "v1_index 1\n",
      "v2_index 16\n",
      "--------------\n",
      "v1_index 16\n",
      "v2_index 11\n",
      "--------------\n",
      "v1_index 11\n",
      "v2_index 27\n",
      "--------------\n",
      "v1_index 27\n",
      "v2_index 11\n",
      "--------------\n",
      "v1_index 11\n",
      "v2_index 11\n",
      "--------------\n",
      "v1_index 11\n",
      "v2_index 15\n",
      "--------------\n",
      "v1_index 15\n",
      "v2_index 22\n",
      "--------------\n",
      "v1_index 22\n",
      "v2_index 21\n",
      "--------------\n",
      "v1_index 21\n",
      "v2_index 15\n",
      "--------------\n",
      "v1_index 15\n",
      "v2_index 15\n",
      "--------------\n",
      "v1_index 15\n",
      "v2_index 15\n",
      "--------------\n",
      "v1_index 15\n",
      "v2_index 12\n",
      "--------------\n",
      "v1_index 12\n",
      "v2_index 16\n",
      "--------------\n",
      "v1_index 16\n",
      "v2_index 11\n",
      "--------------\n",
      "v1_index 11\n",
      "v2_index 14\n",
      "--------------\n",
      "v1_index 14\n",
      "v2_index 13\n",
      "--------------\n",
      "v1_index 13\n",
      "v2_index 9\n",
      "--------------\n",
      "v1_index 9\n",
      "v2_index 7\n",
      "--------------\n",
      "v1_index 7\n",
      "v2_index 5\n",
      "--------------\n",
      "v1_index 5\n",
      "v2_index 5\n",
      "--------------\n",
      "v1_index 5\n",
      "v2_index 5\n",
      "--------------\n",
      "v1_index 5\n",
      "v2_index 9\n",
      "--------------\n",
      "v1_index 9\n",
      "v2_index 5\n",
      "--------------\n",
      "v1_index 5\n",
      "v2_index 6\n",
      "--------------\n",
      "v1_index 6\n",
      "v2_index 6\n",
      "--------------\n",
      "v1_index 6\n",
      "v2_index 5\n",
      "--------------\n",
      "v1_index 5\n",
      "v2_index 2\n",
      "--------------\n",
      "v1_index 2\n",
      "v2_index 2\n",
      "--------------\n",
      "v1_index 2\n",
      "v2_index 1\n",
      "--------------\n",
      "v1_index 1\n",
      "v2_index 0\n",
      "--------------\n",
      "v1_index 0\n",
      "v2_index 0\n",
      "--------------\n",
      "new_node [   33.  2840.    33.   215.   107.  2761.  8467.  2786.  8393.  2958.\n",
      "  8461.  2987.  3028.  2013. 10024.  2018.  2020.  8365.  8380.  2022.\n",
      "  5680.  2722.  8389.  8443.  8440.  5712.  9982.  5750.   679.  8465.\n",
      "  1285.  8318.  3029.  2874.   511. 12453.   675.  8350.   677. 10014.\n",
      " 10018. 10011. 10023. 10025. 10019.   678.  5757.  2008.  8383.  5705.\n",
      " 13214.  5706.  5756.  8471. 12451. 12450. 10022. 10026. 10041.  8358.\n",
      " 12446.  8345. 11582. 10043.  5677.  5673.  5667.  5668.  5674. 13215.\n",
      "  5678.  8459. 12452.  8458.  2934.  2954.  2870.   424.  3036.]\n",
      "===============\n"
     ]
    }
   ],
   "source": [
    "image=image2\n",
    "N=212\n",
    "max_dist=80\n",
    "# 46\n",
    "position=4\n",
    "#vals=estimate_edges(image,nodes[N],corners,position=position,radius=5)\n",
    "\n",
    "#img=draw_edges(image,position,node.astype('int64'),vals,corners,max_dist)\n",
    "\n",
    "new_nodes=sort_perimetr(image1,nodes2,grain2_corners)\n",
    "\n",
    "#img_show(img,cmap='gray',N=12)\n",
    "#io.imsave('vals.png',img)"
   ]
  },
  {
   "cell_type": "code",
   "execution_count": 284,
   "metadata": {},
   "outputs": [
    {
     "data": {
      "text/plain": [
       "array([[  33., 2840.,   33., ...,    0.,    0.,   79.],\n",
       "       [   0.,    0.,    0., ...,    0.,    0.,    0.],\n",
       "       [   0.,    0.,    0., ...,    0.,    0.,    0.],\n",
       "       ...,\n",
       "       [   0.,    0.,    0., ...,    0.,    0.,    0.],\n",
       "       [   0.,    0.,    0., ...,    0.,    0.,    0.],\n",
       "       [   0.,    0.,    0., ...,    0.,    0.,    0.]])"
      ]
     },
     "execution_count": 284,
     "metadata": {},
     "output_type": "execute_result"
    }
   ],
   "source": [
    "new_nodes"
   ]
  },
  {
   "cell_type": "code",
   "execution_count": 127,
   "metadata": {},
   "outputs": [],
   "source": [
    "def draw_edges(image,node,corners,color=(51,51,51)):\n",
    "    new_image=copy.copy(image)\n",
    "    \n",
    "    v1=node[position]\n",
    "    point1=corners[v1][0]\n",
    "    x1,y1=point1[0],point1[1]\n",
    "    image=rgb2gray(image)\n",
    "    \n",
    "    im = Image.fromarray(np.uint8(cm.gist_earth(image)*255))\n",
    "    draw = ImageDraw.Draw(im)\n",
    "    rx=3\n",
    "    draw.ellipse((y1-r,x1-r,y1+r,x1+r), fill=(), width=1)\n",
    "    \n",
    "    for val in vals:\n",
    "        point2=corners[val[0].astype('int64')][0]\n",
    "        x2,y2=point2[0],point2[1]\n",
    "        \n",
    "        draw.ellipse((y2-r,x2-r,y2+r,x2+r), fill=color, width=1)\n",
    "        \n",
    "        if val[0]!=v1 and val[0]!=0 and val[2]<=max_dist:\n",
    "          #  draw.line((y1,x1,y2,x2), fill=color, width=1)\n",
    "            draw.text(\n",
    "                    (y2,x2),\n",
    "                    str(val[1]),\n",
    "                    fill=('#828282')\n",
    "                    )\n",
    "            \n",
    "        else:\n",
    "            continue\n",
    "    img=np.array(im)\n",
    "    img=rgb2gray(img)\n",
    "\n",
    "    return  img\n",
    "        "
   ]
  }
 ],
 "metadata": {
  "kernelspec": {
   "display_name": "env_neuro",
   "language": "python",
   "name": "env_neuro"
  },
  "language_info": {
   "codemirror_mode": {
    "name": "ipython",
    "version": 3
   },
   "file_extension": ".py",
   "mimetype": "text/x-python",
   "name": "python",
   "nbconvert_exporter": "python",
   "pygments_lexer": "ipython3",
   "version": "3.6.10"
  }
 },
 "nbformat": 4,
 "nbformat_minor": 4
}
