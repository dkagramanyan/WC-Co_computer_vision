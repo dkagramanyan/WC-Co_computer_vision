{
 "cells": [
  {
   "cell_type": "code",
   "execution_count": null,
   "metadata": {
    "collapsed": true,
    "pycharm": {
     "name": "#%%\n"
    }
   },
   "outputs": [],
   "source": [
    "from scipy.spatial import distance\n",
    "from scipy.stats import chisquare, kstest, entropy\n",
    "\n",
    "from sklearn import metrics\n",
    "\n",
    "import numpy as np\n",
    "import os\n",
    "import time\n",
    "\n",
    "from lmfit.models import GaussianModel, Model\n",
    "from sklearn.linear_model import LinearRegression\n",
    "from sklearn import mixture, metrics\n",
    "\n",
    "from shapely.geometry import Polygon\n",
    "\n",
    "from scipy.stats.distributions import norm\n",
    "from sklearn.neighbors import KernelDensity\n",
    "from scipy.stats import gaussian_kde\n",
    "\n",
    "from matplotlib import pyplot as plt\n",
    "from matplotlib import cm\n",
    "\n",
    "from skimage.measure import EllipseModel\n",
    "from matplotlib.patches import Ellipse\n",
    "\n",
    "from scipy import ndimage as ndi\n",
    "from scipy.spatial import distance\n",
    "from numpy import linalg\n",
    "\n",
    "import skimage\n",
    "\n",
    "\n",
    "from PIL import Image, ImageDraw, ImageFilter, ImageOps\n",
    "import copy\n",
    "import cv2\n",
    "import os\n",
    "import sys\n",
    "\n",
    "import matplotlib.pyplot as plt\n",
    "import glob\n",
    "from src.utils import grainPreprocess, grainShow, grainMark, grainDraw, grainApprox, grainStats, grainMorphology, grainGenerate\n",
    "from src.cfg import CfgAnglesNames, CfgBeamsNames, CfgDataset\n",
    "\n",
    "from cv_tests import grainMarkTests\n"
   ]
  },
  {
   "cell_type": "code",
   "execution_count": null,
   "outputs": [],
   "source": [
    "x = np.arange(0, 10, 0.1)\n",
    "gauss1 = grainStats.gaussian_bimodal(x, 1.5, 2, 5, 6)\n",
    "# gauss2=grainStats.gaussian_bimodal(x,1.5,2,5,6)\n",
    "gauss2 = grainStats.gaussian(x, 1, 14, 2)\n",
    "# gauss2=grainStats.gaussian_bimodal(x,2,2.5,4,7)\n",
    "\n",
    "# 0 - одинаковые, более 1 - разные\n",
    "distance.jensenshannon(gauss1, gauss2, base=2)"
   ],
   "metadata": {
    "collapsed": false,
    "pycharm": {
     "name": "#%%\n"
    }
   }
  },
  {
   "cell_type": "code",
   "execution_count": null,
   "outputs": [],
   "source": [
    "def cross_entropy(x, y):\n",
    "    ''' SEE: https://en.wikipedia.org/wiki/Cross_entropy'''\n",
    "    return entropy(x) + entropy(x, y)"
   ],
   "metadata": {
    "collapsed": false,
    "pycharm": {
     "name": "#%%\n"
    }
   }
  },
  {
   "cell_type": "code",
   "execution_count": null,
   "outputs": [],
   "source": [
    "# angles_dens=np.load('../data/saved np/angles_gauss_xy_step_2.npy',allow_pickle=True)[0][1]\n",
    "angles_dens = np.load('../data/saved np/angles_scatter_xy_step_3.npy', allow_pickle=True)[2][1]\n",
    "angles_dens = list(angles_dens)\n",
    "\n",
    "x = np.linspace(0, 360, len(angles_dens))\n",
    "gauss1 = grainStats.gaussian_bimodal(x, 1.5, 2, 5, 6)\n",
    "gauss2 = grainStats.gaussian_bimodal(x, 100, 250, 33, 25)\n",
    "# gauss2=grainStats.gaussian(x,1,14,2)\n",
    "# gauss2=grainStats.gaussian_bimodal(x,2,2.5,4,7)\n",
    "\n",
    "# 0 - одинаковые, более 1 - разные\n",
    "print(kstest(angles_dens, gauss2))\n",
    "print(kstest(angles_dens, gauss1))\n",
    "print(cross_entropy(angles_dens, gauss2))"
   ],
   "metadata": {
    "collapsed": false,
    "pycharm": {
     "name": "#%%\n"
    }
   }
  },
  {
   "cell_type": "markdown",
   "source": [
    "# Angles tests"
   ],
   "metadata": {
    "collapsed": false,
    "pycharm": {
     "name": "#%% md\n"
    }
   }
  },
  {
   "cell_type": "code",
   "execution_count": null,
   "outputs": [],
   "source": [
    "images = grainPreprocess.get_example_images(crop=True, preprocess=True)"
   ],
   "metadata": {
    "collapsed": false,
    "pycharm": {
     "name": "#%%\n"
    }
   }
  },
  {
   "cell_type": "code",
   "execution_count": null,
   "outputs": [],
   "source": [
    "grainMarkTests.wc_co_angles_calculator_test(images, step=2, N_tests=10, loss_thr=8)"
   ],
   "metadata": {
    "collapsed": false,
    "pycharm": {
     "name": "#%%\n"
    }
   }
  }
 ],
 "metadata": {
  "kernelspec": {
   "display_name": "Python 3",
   "language": "python",
   "name": "python3"
  },
  "language_info": {
   "codemirror_mode": {
    "name": "ipython",
    "version": 2
   },
   "file_extension": ".py",
   "mimetype": "text/x-python",
   "name": "python",
   "nbconvert_exporter": "python",
   "pygments_lexer": "ipython2",
   "version": "2.7.6"
  }
 },
 "nbformat": 4,
 "nbformat_minor": 0
}