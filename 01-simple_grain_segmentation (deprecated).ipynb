{
 "cells": [
  {
   "cell_type": "code",
   "execution_count": 1,
   "metadata": {
    "pycharm": {
     "name": "#%%\n"
    }
   },
   "outputs": [],
   "source": [
    "import numpy as np\n",
    "import os\n",
    "\n",
    "\n",
    "from lmfit.models import GaussianModel,Model\n",
    "from sklearn.linear_model import LinearRegression\n",
    "from sklearn import mixture,metrics\n",
    "\n",
    "# нужно предварительно установить geos\n",
    "# pip install geos\n",
    "from shapely.geometry import Polygon  \n",
    "\n",
    "from scipy.stats.distributions import norm\n",
    "from sklearn.neighbors import KernelDensity\n",
    "from scipy.stats import gaussian_kde\n",
    "\n",
    "    \n",
    "from matplotlib import pyplot as plt\n",
    "from matplotlib import cm\n",
    "\n",
    "from skimage.measure import EllipseModel\n",
    "from matplotlib.patches import Ellipse\n",
    "\n",
    "from scipy import ndimage as ndi\n",
    "from scipy.spatial import ConvexHull\n",
    "from scipy.spatial import distance\n",
    "from numpy import linalg \n",
    "\n",
    "from skimage import io\n",
    "from skimage.draw import ellipse\n",
    "from skimage.color import rgb2gray\n",
    "from skimage import filters\n",
    "from skimage.morphology import disk\n",
    "from skimage import transform\n",
    "from skimage.feature import peak_local_max\n",
    "import skimage.segmentation as seg\n",
    "\n",
    "from PIL import Image, ImageDraw, ImageFilter,ImageOps\n",
    "import copy\n",
    "import cv2\n",
    "\n",
    "import matplotlib.pyplot as plt\n",
    "import matplotlib.gridspec as gridspec\n",
    "from scipy.ndimage import distance_transform_edt as edt\n",
    "from skimage.draw import ellipse\n",
    "from skimage.measure import find_contours, approximate_polygon,subdivide_polygon\n",
    "\n",
    "from radio_beam.commonbeam import getMinVolEllipse\n",
    "\n",
    "\n",
    "from utils import grainPreprocess,grainShow,grainMark,grainDraw,grainApprox,grainStats,grainMorphology\n"
   ]
  },
  {
   "cell_type": "code",
   "execution_count": 2,
   "metadata": {
    "pycharm": {
     "name": "#%%\n"
    }
   },
   "outputs": [],
   "source": [
    "def img_load_preprocess(path,names,h=150,k=1):\n",
    "    imgs_path=[path+'/'+name for name in names]\n",
    "    imgs=[]\n",
    "    for img_path in imgs_path:\n",
    "        img=io.imread(img_path)\n",
    "        img=grainPreprocess.image_preprocess(img,h,k)\n",
    "        imgs.append(img)\n",
    "    return imgs"
   ]
  },
  {
   "cell_type": "code",
   "execution_count": 3,
   "metadata": {
    "pycharm": {
     "name": "#%%\n"
    }
   },
   "outputs": [
    {
     "name": "stderr",
     "output_type": "stream",
     "text": [
      "D:\\PROJECTS\\python\\grain_segmentation\\utils.py:61: FutureWarning: The behavior of rgb2gray will change in scikit-image 0.19. Currently, rgb2gray allows 2D grayscale image to be passed as inputs and leaves them unmodified as outputs. Starting from version 0.19, 2D arrays will be treated as 1D images with 3 channels.\n",
      "  img=rgb2gray(gray)\n"
     ]
    }
   ],
   "source": [
    "path='images'\n",
    "grain_names=['Ultra_Co8.jpg','Ultra_Co11.jpg','Ultra_Co6_2.jpg','Ultra_Co15.jpg','Ultra_Co25.jpg']\n",
    "grain_images=img_load_preprocess(path,grain_names)"
   ]
  },
  {
   "cell_type": "markdown",
   "metadata": {},
   "source": [
    "## Combine images"
   ]
  },
  {
   "cell_type": "code",
   "execution_count": null,
   "metadata": {
    "pycharm": {
     "name": "#%%\n"
    }
   },
   "outputs": [],
   "source": [
    "def imdivide(image,side):\n",
    "    \n",
    "    width,height = image.size\n",
    "    sides={'left':0,'right':1}\n",
    "    shape=[(0,0,width//2,height),(width//2,0,width,height)]\n",
    "    return image.crop(shape[sides[side]])\n",
    " "
   ]
  },
  {
   "cell_type": "code",
   "execution_count": null,
   "metadata": {
    "pycharm": {
     "name": "#%%\n"
    }
   },
   "outputs": [],
   "source": [
    "def combine(image,k=0.5,N=20): \n",
    "    left_img=imdivide(image,'left')\n",
    "    right_img=imdivide(image,'right')\n",
    "\n",
    "    l=k\n",
    "    r=1-l\n",
    "    gray=np.array(left_img)*l\n",
    "    gray+=np.array(right_img)*r\n",
    "    gray=gray.astype('uint8')\n",
    "    return gray"
   ]
  },
  {
   "cell_type": "code",
   "execution_count": null,
   "metadata": {
    "pycharm": {
     "name": "#%%\n"
    }
   },
   "outputs": [],
   "source": [
    "c2=combine(grain2_pil,0.5,10)\n",
    "img_show(c2,10)"
   ]
  },
  {
   "cell_type": "code",
   "execution_count": null,
   "metadata": {
    "pycharm": {
     "name": "#%%\n"
    }
   },
   "outputs": [],
   "source": [
    "img_show(grain3)"
   ]
  },
  {
   "cell_type": "markdown",
   "metadata": {},
   "source": [
    "# Otsu's binarization"
   ]
  },
  {
   "cell_type": "code",
   "execution_count": null,
   "metadata": {
    "pycharm": {
     "name": "#%%\n"
    }
   },
   "outputs": [],
   "source": [
    "def do_otsu(img,N=20):\n",
    "    image=rgb2gray(img)\n",
    "    \n",
    "    global_thresh=skimage.filters.threshold_otsu(image)\n",
    "    binary_global = image > global_thresh\n",
    "    \n",
    "\n",
    "   # ax1.imshow(img,cmap='gray')\n",
    "    plt.figure(figsize=(N,N))\n",
    "    plt.imshow(binary_global,cmap='gray')\n",
    "    plt.show()\n",
    "    \n"
   ]
  },
  {
   "cell_type": "code",
   "execution_count": null,
   "metadata": {
    "pycharm": {
     "name": "#%%\n"
    }
   },
   "outputs": [],
   "source": [
    "\n",
    "do_otsu(grain3,N=15)"
   ]
  },
  {
   "cell_type": "code",
   "execution_count": null,
   "metadata": {
    "pycharm": {
     "name": "#%%\n"
    }
   },
   "outputs": [],
   "source": [
    "do_otsu(doggo1,N=7)\n",
    "do_otsu(coins,10)"
   ]
  },
  {
   "cell_type": "markdown",
   "metadata": {},
   "source": [
    "# Watershed "
   ]
  },
  {
   "cell_type": "markdown",
   "metadata": {},
   "source": [
    "Обычный метод"
   ]
  },
  {
   "cell_type": "code",
   "execution_count": null,
   "metadata": {
    "pycharm": {
     "name": "#%%\n"
    }
   },
   "outputs": [],
   "source": [
    "def do_watershed(image,N=20):\n",
    "    image=rgb2gray(image)\n",
    "\n",
    "    segmented = seg.watershed(image)\n",
    "    fig, ax = plt.subplots(ncols=1, figsize=(N,N), sharex=True, sharey=True)\n",
    "    \n",
    "    ax.imshow(segmented, cmap=plt.cm.gray)\n",
    "    ax.set_title('segmented')\n",
    "\n",
    "    plt.show()\n"
   ]
  },
  {
   "cell_type": "code",
   "execution_count": null,
   "metadata": {
    "pycharm": {
     "name": "#%%\n"
    }
   },
   "outputs": [],
   "source": [
    "do_watershed(grain1,10)\n",
    "#do_watershed(grain2,10)\n",
    "#do_watershed(grain3,10)"
   ]
  },
  {
   "cell_type": "markdown",
   "metadata": {},
   "source": [
    "Сегментация с маркерами edt (Euclidean Distance Transform)"
   ]
  },
  {
   "cell_type": "code",
   "execution_count": null,
   "metadata": {
    "pycharm": {
     "name": "#%%\n"
    }
   },
   "outputs": [],
   "source": [
    "def do_watershed_edt(image,N=50):\n",
    "    image=rgb2gray(image)\n",
    "    global_thresh=skimage.filters.threshold_otsu(image)\n",
    "    bin_image = image > global_thresh\n",
    "\n",
    "    distance = ndi.distance_transform_edt(bin_image)\n",
    "    distance_copy=copy.copy(distance)\n",
    "    \n",
    "    coords = peak_local_max(distance_copy, footprint=np.ones((3, 3)), labels=image.astype('int32')).astype('int64')\n",
    "    \n",
    "    mask = np.zeros(distance.shape, dtype=bool)\n",
    "    mask[tuple(coords.T)] = True\n",
    "    markers, _ = ndi.label(mask)\n",
    "    \n",
    "    labels = seg.watershed(-distance, markers, mask=image)\n",
    "    labels=labels.astype('uint8')\n",
    "\n",
    "\n",
    "  \n",
    "    fig, axes = plt.subplots(ncols=2,nrows=2, figsize=(20,20))\n",
    "    ax = axes.ravel()\n",
    "    \n",
    "    \n",
    "    ax[0].imshow(image, cmap=plt.cm.gray)\n",
    "    ax[0].set_title('Overlapping objects')\n",
    "    \n",
    "    ax[1].imshow(bin_image, cmap=plt.cm.gray)\n",
    "    ax[1].set_title('binary image')\n",
    "    \n",
    "    ax[2].imshow(distance, cmap=plt.cm.gray)\n",
    "    ax[2].set_title('Distances')\n",
    "    \n",
    "    \n",
    "    ax[3].imshow(labels, cmap=plt.cm.nipy_spectral)\n",
    "    ax[3].set_title('Separated objects')\n",
    "    \n",
    "\n",
    "#plt.show()"
   ]
  },
  {
   "cell_type": "code",
   "execution_count": null,
   "metadata": {
    "pycharm": {
     "name": "#%%\n"
    }
   },
   "outputs": [],
   "source": [
    "do_watershed_edt(doggo1,2)"
   ]
  },
  {
   "cell_type": "markdown",
   "metadata": {},
   "source": [
    "Сегментация с гранидентыми маркерами"
   ]
  },
  {
   "cell_type": "code",
   "execution_count": null,
   "metadata": {
    "pycharm": {
     "name": "#%%\n"
    }
   },
   "outputs": [],
   "source": [
    "def do_watershed_grad(image,N=20):\n",
    "    image =rgb2gray(image)\n",
    "    #denoised=image\n",
    "    denoised = filters.rank.median(image, disk(3))\n",
    "    #denoised =  filters.rank.equalize(image, disk(50))\n",
    "    #denoised = exposure.equalize_hist(image/255)\n",
    "\n",
    "    # find continuous region (low gradient -\n",
    "    # where less than 10 for this image) --> markers\n",
    "    # disk(5) is used here to get a more smooth image\n",
    "    markers = filters.rank.gradient(denoised, disk(8)) < 40\n",
    "    markers = ndi.label(markers)[0]\n",
    "\n",
    "    # local gradient (disk(2) is used to keep edges thin)\n",
    "    gradient = filters.rank.gradient(denoised, disk(1))\n",
    "\n",
    "    # process the watershed\n",
    "    labels = seg.watershed(gradient, markers)\n",
    "\n",
    "    # display results\n",
    "    fig, axes = plt.subplots(nrows=2, ncols=2, figsize=(15, 15),\n",
    "                             sharex=True, sharey=True)\n",
    "    ax = axes.ravel()\n",
    "\n",
    "    ax[0].imshow(image, cmap=plt.cm.gray)\n",
    "    ax[0].set_title(\"Original\")\n",
    "\n",
    "    ax[1].imshow(gradient, cmap=plt.cm.nipy_spectral)\n",
    "    ax[1].set_title(\"Gradient\")\n",
    "\n",
    "    ax[2].imshow(markers, cmap=plt.cm.nipy_spectral)\n",
    "    ax[2].set_title(\"Markers\")\n",
    "\n",
    "    ax[3].imshow(image, cmap=plt.cm.gray)\n",
    "    ax[3].imshow(labels, cmap=plt.cm.nipy_spectral, alpha=.5)\n",
    "    ax[3].set_title(\"Segmented\")\n",
    "\n",
    "    for a in ax:\n",
    "        a.axis('off')\n",
    "\n",
    "    fig.tight_layout()\n",
    "    plt.show()"
   ]
  },
  {
   "cell_type": "code",
   "execution_count": null,
   "metadata": {
    "pycharm": {
     "name": "#%%\n"
    }
   },
   "outputs": [],
   "source": [
    "do_watershed_grad(grain3)"
   ]
  },
  {
   "cell_type": "markdown",
   "metadata": {},
   "source": [
    "## Rank filters\n",
    "https://scikit-image.org/docs/dev/auto_examples/applications/plot_rank_filters.html#sphx-glr-auto-examples-applications-plot-rank-filters-py"
   ]
  },
  {
   "cell_type": "code",
   "execution_count": null,
   "metadata": {
    "pycharm": {
     "name": "#%%\n"
    }
   },
   "outputs": [],
   "source": [
    "denoised4 = filters.rank.autolevel_percentile(grain1, selem=disk(5), p0=.2, p1=.9)\n",
    "N=20\n",
    "plt.figure(figsize=(N,N))\n",
    "io.imshow(denoised4, cmap=plt.cm.gray)"
   ]
  },
  {
   "cell_type": "code",
   "execution_count": null,
   "metadata": {
    "pycharm": {
     "name": "#%%\n"
    }
   },
   "outputs": [],
   "source": [
    "denoised4 = filters.rank.enhance_contrast(grain2, disk(2))\n",
    "N=20\n",
    "plt.figure(figsize=(N,N))\n",
    "io.imshow(denoised4, cmap=plt.cm.gray)"
   ]
  },
  {
   "cell_type": "code",
   "execution_count": null,
   "metadata": {
    "pycharm": {
     "name": "#%%\n"
    }
   },
   "outputs": [],
   "source": [
    "denoised4 = filters.rank.enhance_contrast(image, disk(2))\n",
    "denoised5 = filters.rank.gradient(grain1, disk(1))\n",
    "N=20\n",
    "plt.figure(figsize=(N,N))\n",
    "io.imshow(denoised5, cmap=plt.cm.gray)"
   ]
  },
  {
   "cell_type": "code",
   "execution_count": null,
   "metadata": {
    "pycharm": {
     "name": "#%%\n"
    }
   },
   "outputs": [],
   "source": [
    "#denoised5 = filters.rank.entropy(image, disk(2))\n",
    "denoised5 =  filters.rank.equalize(image, disk(100))\n",
    "N=20\n",
    "plt.figure(figsize=(N,N))\n",
    "io.imshow(denoised5, cmap=plt.cm.gray)"
   ]
  },
  {
   "cell_type": "code",
   "execution_count": null,
   "metadata": {
    "pycharm": {
     "name": "#%%\n"
    }
   },
   "outputs": [],
   "source": [
    "image =rgb2gray(grain2)\n",
    "# denoise image\n",
    "denoised1 = filters.rank.median(image, disk(3))\n",
    "denoised2 = exposure.equalize_hist(image/255)\n",
    "denoised3 =  filters.rank.equalize(image, disk(100))\n",
    "denoised4 = filters.rank.autolevel_percentile(image, selem=disk(20), p0=.2, p1=.7)\n",
    "\n",
    "N=30\n",
    "\n",
    "fig, axes = plt.subplots( nrows=5, figsize=(N, N),\n",
    "                         sharex=True, sharey=True)\n",
    "ax = axes.ravel()\n",
    "\n",
    "ax[0].imshow(image, cmap=plt.cm.gray)\n",
    "ax[1].imshow(denoised1, cmap=plt.cm.gray)\n",
    "ax[2].imshow(denoised2, cmap=plt.cm.gray)\n",
    "ax[3].imshow(denoised3, cmap=plt.cm.gray)\n",
    "ax[4].imshow(denoised4, cmap=plt.cm.gray)\n",
    "\n",
    "\n",
    "plt.show()"
   ]
  },
  {
   "cell_type": "markdown",
   "metadata": {},
   "source": [
    "# Floodfill\n"
   ]
  },
  {
   "cell_type": "code",
   "execution_count": null,
   "metadata": {
    "pycharm": {
     "name": "#%%\n"
    }
   },
   "outputs": [],
   "source": [
    "def do_floodfill(image,N=50):\n",
    "    \n",
    "    # Fill a square near the middle with value 127, starting at index (76, 76)\n",
    "    filled_checkers = flood_fill(image, (76, 76), 127)\n",
    "\n",
    "    fig, ax = plt.subplots(nrows=2, figsize=(N, N))\n",
    "\n",
    "    ax[0].imshow(image, cmap=plt.cm.gray)\n",
    "    ax[0].set_title('Original')\n",
    "\n",
    "    ax[1].imshow(filled_checkers, cmap=plt.cm.gray)\n",
    "    ax[1].plot(76, 76, 'wo')  # seed point\n",
    "    ax[1].set_title('After flood fill')\n",
    "\n",
    "    plt.show()"
   ]
  },
  {
   "cell_type": "code",
   "execution_count": null,
   "metadata": {
    "pycharm": {
     "name": "#%%\n"
    }
   },
   "outputs": [],
   "source": [
    "do_floodfill(grain2,N=20)"
   ]
  },
  {
   "cell_type": "markdown",
   "metadata": {},
   "source": [
    "# K-means"
   ]
  },
  {
   "cell_type": "code",
   "execution_count": null,
   "metadata": {
    "pycharm": {
     "name": "#%%\n"
    }
   },
   "outputs": [],
   "source": [
    "def do_kmeans(image,N=20,n_segments=100,compactness=10,cmap=plt.cm.gray):\n",
    "    \n",
    "    segments = seg.slic(image, n_segments, compactness)\n",
    "    fig, ax = plt.subplots(nrows=1, figsize=(N, N))\n",
    "\n",
    "\n",
    "\n",
    "    ax.imshow(segments, cmap=cmap)\n",
    "    ax.plot(76, 76, 'wo')  # seed point\n",
    "    ax.set_title('k-means')\n",
    "\n",
    "    plt.show()"
   ]
  },
  {
   "cell_type": "code",
   "execution_count": null,
   "metadata": {
    "pycharm": {
     "name": "#%%\n"
    }
   },
   "outputs": [],
   "source": [
    "do_kmeans(grain1,N=15,n_segments=300,compactness=5,cmap=plt.cm.nipy_spectral)"
   ]
  },
  {
   "cell_type": "code",
   "execution_count": null,
   "metadata": {
    "pycharm": {
     "name": "#%%\n"
    }
   },
   "outputs": [],
   "source": [
    "do_kmeans(grain2,15,500)"
   ]
  },
  {
   "cell_type": "markdown",
   "metadata": {},
   "source": [
    "# Felzenszwalb"
   ]
  },
  {
   "cell_type": "code",
   "execution_count": null,
   "metadata": {
    "pycharm": {
     "name": "#%%\n"
    }
   },
   "outputs": [],
   "source": [
    "def do_felzen(image,N=20):\n",
    "    img = img_as_float(image)\n",
    "    segments_fz = seg.felzenszwalb(img, scale=100, sigma=0.5, min_size=50)\n",
    " \n",
    "    print(f\"Felzenszwalb number of segments: {len(np.unique(segments_fz))}\")\n",
    "    \n",
    "\n",
    "    fig, ax = plt.subplots(nrows=1, figsize=(N, N), sharex=True, sharey=True)\n",
    "    felz=seg.mark_boundaries(img, segments_fz)\n",
    "    ax.imshow(felz)\n",
    "    ax.set_title(\"Felzenszwalbs's method\")\n",
    "    plt.tight_layout()\n",
    "    plt.show()\n",
    "    return felz "
   ]
  },
  {
   "cell_type": "code",
   "execution_count": null,
   "metadata": {
    "pycharm": {
     "name": "#%%\n"
    }
   },
   "outputs": [],
   "source": [
    "felz=do_felzen(grain2,20)"
   ]
  },
  {
   "cell_type": "code",
   "execution_count": null,
   "metadata": {
    "pycharm": {
     "name": "#%%\n"
    }
   },
   "outputs": [],
   "source": [
    "do_kmeans(felz,15,500)"
   ]
  }
 ],
 "metadata": {
  "kernelspec": {
   "display_name": "tf2",
   "language": "python",
   "name": "tf2"
  },
  "language_info": {
   "codemirror_mode": {
    "name": "ipython",
    "version": 3
   },
   "file_extension": ".py",
   "mimetype": "text/x-python",
   "name": "python",
   "nbconvert_exporter": "python",
   "pygments_lexer": "ipython3",
   "version": "3.8.11"
  }
 },
 "nbformat": 4,
 "nbformat_minor": 4
}
