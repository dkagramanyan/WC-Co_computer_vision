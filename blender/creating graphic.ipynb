{
 "cells": [
  {
   "cell_type": "code",
   "execution_count": null,
   "id": "2cfe13f6",
   "metadata": {},
   "outputs": [],
   "source": [
    "import plotly\n",
    "import plotly.graph_objs as go\n",
    "import plotly.express as px\n",
    "from plotly.subplots import make_subplots\n",
    "\n",
    "import numpy as np\n",
    "import pandas as pd\n",
    "\n",
    "import random\n",
    "import math"
   ]
  },
  {
   "cell_type": "code",
   "execution_count": null,
   "id": "5f571bc9",
   "metadata": {},
   "outputs": [],
   "source": [
    "def verticesLoc(loc, size):\n",
    "    coord_list = []\n",
    "    \n",
    "    coord_list.append([loc[0]+size/2, loc[1]+size/2])\n",
    "    coord_list.append([loc[0]+size/2, loc[1]-size/2])\n",
    "    coord_list.append([loc[0]-size/2, loc[1]-size/2])\n",
    "    coord_list.append([loc[0]-size/2, loc[1]+size/2])\n",
    "            \n",
    "    return coord_list"
   ]
  },
  {
   "cell_type": "code",
   "execution_count": null,
   "id": "32aef160",
   "metadata": {},
   "outputs": [],
   "source": [
    "def turn(coord, rot):\n",
    "    coord_list= []\n",
    "    x = coord[0]\n",
    "    y = coord[1]\n",
    "    coord_list.append(x*math.cos(rot) - x*math.sin(rot))\n",
    "    coord_list.append(y*math.sin(rot) + y*math.cos(rot))\n",
    "\n",
    "    return coord_list"
   ]
  },
  {
   "cell_type": "code",
   "execution_count": null,
   "id": "9421546c",
   "metadata": {},
   "outputs": [],
   "source": [
    "def generateLocation():\n",
    "    loc = []\n",
    "    x = 5*random.random()\n",
    "    y = 5*random.random()\n",
    "    loc.append(x)\n",
    "    loc.append(y)\n",
    "    return loc"
   ]
  },
  {
   "cell_type": "code",
   "execution_count": null,
   "id": "d9fb5fc6",
   "metadata": {},
   "outputs": [],
   "source": [
    "def generateRotation():\n",
    "    rot = []\n",
    "    x_rot = math.pi*random.random()\n",
    "    rot.append(x_rot)\n",
    "    return rot"
   ]
  },
  {
   "cell_type": "code",
   "execution_count": null,
   "id": "b217b2f8",
   "metadata": {},
   "outputs": [],
   "source": [
    "n_xy = 5\n",
    "div_number = (n_xy ** 2)\n",
    "latticeSize = 0.5\n",
    "cube_count = 25"
   ]
  },
  {
   "cell_type": "code",
   "execution_count": null,
   "id": "81c6494f",
   "metadata": {},
   "outputs": [],
   "source": [
    "locations = []\n",
    "rotations = []\n",
    "for i in range(24):\n",
    "    loc = generateLocation()\n",
    "    rot = generateRotation()\n",
    "    locations.append(loc)\n",
    "    rotations.append(rot)\n",
    "print(locations)\n",
    "print(rotations)"
   ]
  },
  {
   "cell_type": "code",
   "execution_count": null,
   "id": "51c442d7",
   "metadata": {},
   "outputs": [],
   "source": [
    "fig = go.Figure()\n",
    "for i in range(24):\n",
    "    x = []\n",
    "    y = []\n",
    "    coord = verticesLoc(locations[i], latticeSize)\n",
    "    for c in range(len(coord)):\n",
    "        coord[c] = turn(coord[c], rotations[i][0])\n",
    "    for j in range(4):\n",
    "        x.append(coord[j][0])\n",
    "        y.append(coord[j][1])\n",
    "    a= x[0]\n",
    "    b = y[0]\n",
    "    x.append(a)\n",
    "    y.append(b)\n",
    "    fig.add_trace(go.Scatter(x=x, y=y))\n",
    "fig.show()"
   ]
  },
  {
   "cell_type": "code",
   "execution_count": null,
   "id": "6ffe4521",
   "metadata": {},
   "outputs": [],
   "source": []
  }
 ],
 "metadata": {
  "kernelspec": {
   "display_name": "Python 3 (ipykernel)",
   "language": "python",
   "name": "python3"
  },
  "language_info": {
   "codemirror_mode": {
    "name": "ipython",
    "version": 3
   },
   "file_extension": ".py",
   "mimetype": "text/x-python",
   "name": "python",
   "nbconvert_exporter": "python",
   "pygments_lexer": "ipython3",
   "version": "3.9.7"
  }
 },
 "nbformat": 4,
 "nbformat_minor": 5
}
