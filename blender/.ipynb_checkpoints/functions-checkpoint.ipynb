{
 "cells": [
  {
   "cell_type": "code",
   "execution_count": null,
   "id": "78b8ec8d",
   "metadata": {},
   "outputs": [],
   "source": [
    "import plotly\n",
    "import plotly.graph_objs as go\n",
    "import plotly.express as px\n",
    "from plotly.subplots import make_subplots\n",
    "\n",
    "import numpy as np\n",
    "import pandas as pd\n",
    "\n",
    "import random\n",
    "import math"
   ]
  },
  {
   "cell_type": "code",
   "execution_count": null,
   "id": "a5a0998b",
   "metadata": {},
   "outputs": [],
   "source": [
    "# ищет по координатам центра и размеру квадрата координаты вершин\n",
    "# loc - координаты центра квадрата(список из 2 чисел float)\n",
    "# size - сторона квадрата в формате float\n",
    "\n",
    "def verticesLoc(loc, size):\n",
    "    coord_list = []\n",
    "    \n",
    "    # сделать функцию, которая будет чередовать знаки(в т.ч. для 3D)\n",
    "    coord_list.append([loc[0]+size/2, loc[1]+size/2])\n",
    "    coord_list.append([loc[0]+size/2, loc[1]-size/2])\n",
    "    coord_list.append([loc[0]-size/2, loc[1]+size/2])\n",
    "    coord_list.append([loc[0]-size/2, loc[1]-size/2])\n",
    "            \n",
    "    return coord_list # список, состоящий из списков координат вершин квадрата в формате float"
   ]
  },
  {
   "cell_type": "code",
   "execution_count": null,
   "id": "d0e27326",
   "metadata": {},
   "outputs": [],
   "source": [
    "# не забыть перевести тригонометрические функции в numPy\n",
    "# \"поворачивает\" вершины на угол поворота\n",
    "# coord_list из предыдущей функции (verticesLoc)\n",
    "# rot - угол поворота в радианах (float)\n",
    "\n",
    "def turn(coord, rot):\n",
    "    for c in coord:\n",
    "        x = c[0]\n",
    "        y = c[1]\n",
    "        c[0] = x*math.cos(rot) - x*math.sin(rot)\n",
    "        c[1] = y*math.sin(rot) + y*math.cos(rot)\n",
    "\n",
    "    return coord_list"
   ]
  },
  {
   "cell_type": "code",
   "execution_count": null,
   "id": "d0579990",
   "metadata": {},
   "outputs": [],
   "source": [
    "# проверяет, пересекаются лидва квадрата\n",
    "# loc1, loc2 - координаты центров квадратов(список из 2 чисел float)\n",
    "# rot1, rot2 - углы поворота в радианах (float)\n",
    "# size - сторона квадрата в формате float\n",
    "# возвращает True, если квадраты пересекаются, и False, если не пересекаются\n",
    "\n",
    "def ifIntersept(loc1, loc2, rot1, rot2, size):\n",
    "    \n",
    "    if ((loc1[0]-loc2[0])**2 + (loc1[0]-loc2[0])**2)**(1/2) > (size*(2**(1/2))):\n",
    "        return False\n",
    "    else:\n",
    "        coord_list1 = verticesLoc(loc1, size)\n",
    "        coord_list2 = verticesLoc(loc2, size)\n",
    "    \n",
    "        coord_list1 = turn(coord_list1, rot1)\n",
    "        coord_list2 = turn(coord_list2, rot2)\n",
    "\n",
    "        x1_list = []\n",
    "        y1_list = []\n",
    "\n",
    "        for c in coord_list_1:\n",
    "            x1_list.append(c[0])\n",
    "            y1_list.append(c[1])\n",
    "\n",
    "        x2_list = []\n",
    "        y2_list = []\n",
    "\n",
    "        for c in coord_list_2:\n",
    "            x2_list.append(c[0])\n",
    "            y2_list.append(c[1])\n",
    "       \n",
    "        if ( (max(x1_list) >= min(x2_list)) and (min(x1_list) <= max(x2_list))\n",
    "            and (max(y1_list) >= min(y2_list)) and (min(y1_list) <= max(y2_list)) ):\n",
    "                return False\n",
    "        else:\n",
    "            return True"
   ]
  },
  {
   "cell_type": "code",
   "execution_count": null,
   "id": "e5f6114c",
   "metadata": {},
   "outputs": [],
   "source": [
    "# ищет номер ячейки сетки в зависимости от координат центра\n",
    "# loc - координаты центра квадрата(список из 2 чисел float)\n",
    "# size - сторона квадрата в формате float\n",
    "# n_xy - количество ячеек по осям Ox и Oy (int)\n",
    "# возвращает номер ячейки в формате int\n",
    "\n",
    "def findGridLocation(loc, size, n_xy):\n",
    "    gridNum = int(loc[0] // (2*size)) + int(n_xy * (loc[1] // (2 * size)))\n",
    "    return (gridNum)"
   ]
  },
  {
   "cell_type": "code",
   "execution_count": null,
   "id": "508a1227",
   "metadata": {},
   "outputs": [],
   "source": [
    "# генерирует случайную локацию центра квадрата в диапазоне [0, 5] - список из двух float чисел(координаты по осям Ox и Oy)\n",
    "def generateLocation():\n",
    "    loc = []\n",
    "    x = 5*random.random()\n",
    "    y = 5*random.random()\n",
    "    loc.append(x)\n",
    "    loc.append(y)\n",
    "    return loc"
   ]
  },
  {
   "cell_type": "code",
   "execution_count": null,
   "id": "9fb2cc08",
   "metadata": {},
   "outputs": [],
   "source": [
    "# генерирует случайный угол поворота в радианах \n",
    "# рнаьше она была больше, вряд ли ещё пригодится, но решил пока оставить\n",
    "def generateRotation():\n",
    "    rot = math.pi*random.random()\n",
    "    return rot"
   ]
  }
 ],
 "metadata": {
  "kernelspec": {
   "display_name": "Python 3 (ipykernel)",
   "language": "python",
   "name": "python3"
  },
  "language_info": {
   "codemirror_mode": {
    "name": "ipython",
    "version": 3
   },
   "file_extension": ".py",
   "mimetype": "text/x-python",
   "name": "python",
   "nbconvert_exporter": "python",
   "pygments_lexer": "ipython3",
   "version": "3.9.7"
  }
 },
 "nbformat": 4,
 "nbformat_minor": 5
}
