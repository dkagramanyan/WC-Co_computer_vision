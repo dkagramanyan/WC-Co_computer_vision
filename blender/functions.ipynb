{
 "cells": [
  {
   "cell_type": "code",
   "execution_count": null,
   "id": "78b8ec8d",
   "metadata": {},
   "outputs": [],
   "source": [
    "import plotly\n",
    "import plotly.graph_objs as go\n",
    "import plotly.express as px\n",
    "from plotly.subplots import make_subplots\n",
    "\n",
    "import numpy as np\n",
    "import pandas as pd\n",
    "\n",
    "import random\n",
    "import math"
   ]
  },
  {
   "cell_type": "code",
   "execution_count": null,
   "id": "a5a0998b",
   "metadata": {},
   "outputs": [],
   "source": [
    "def verticesLoc(loc, rot, size):\n",
    "    coord_list = []\n",
    "    \n",
    "    # сделать функцию, которая будет чередовать знаки(в т.ч. для 3D)\n",
    "    coord_list.append([loc[0]+size/2, loc[1]+size/2])\n",
    "    coord_list.append([loc[0]+size/2, loc[1]-size/2])\n",
    "    coord_list.append([loc[0]-size/2, loc[1]+size/2])\n",
    "    coord_list.append([loc[0]-size/2, loc[1]-size/2])\n",
    "            \n",
    "    return coord_list"
   ]
  },
  {
   "cell_type": "code",
   "execution_count": null,
   "id": "d0e27326",
   "metadata": {},
   "outputs": [],
   "source": [
    "# перевести тригонометрические функции в numPy\n",
    "def Turn(coord_list, rot_list):\n",
    "    for c in coord_list:\n",
    "        x = coord[0]\n",
    "        y = coord[1]\n",
    "        coord[0] = x*math.cos(rot2[0]) - x*math.sin(rot2[0])\n",
    "        coord[1] = x*math.sin(rot2[0]) + y*math.cos(rot2[0])\n",
    "            \n",
    "    for c in coord_list:\n",
    "        x = coord_list[0]\n",
    "        y = coord[1]\n",
    "        coord[0] = x*math.cos(rot2[1]) - x*math.sin(rot2[1])\n",
    "        coord[1] = x*math.sin(rot2[1]) + y*math.cos(rot2[1])\n",
    "    \n",
    "    "
   ]
  },
  {
   "cell_type": "code",
   "execution_count": null,
   "id": "d0579990",
   "metadata": {},
   "outputs": [],
   "source": [
    "def ifIntersept(loc1, loc2, rot1, rot2, size):\n",
    "    \n",
    "    if ((loc1[0]-loc2[0])**2 + (loc1[0]-loc2[0])**2)**(1/2) > (size*(2**(1/2))):\n",
    "        return False\n",
    "    else:\n",
    "    \n",
    "        coord_list_1 = []\n",
    "        coord_list_2 = []\n",
    "    \n",
    "        coord_list_1.append([loc1[0]+size/2, loc1[1]+size/2])\n",
    "        coord_list_1.append([loc1[0]+size/2, loc1[1]-size/2])\n",
    "        coord_list_1.append([loc1[0]-size/2, loc1[1]+size/2])\n",
    "        coord_list_1.append([loc1[0]-size/2, loc1[1]-size/2])\n",
    "    \n",
    "        coord_list_2.append([loc2[0]+size/2, loc2[1]+size/2])\n",
    "        coord_list_2.append([loc2[0]+size/2, loc2[1]-size/2])\n",
    "        coord_list_2.append([loc2[0]-size/2, loc2[1]+size/2])\n",
    "        coord_list_2.append([loc2[0]-size/2, loc2[1]-size/2])\n",
    "    \n",
    "        for coord in coord_list_2:\n",
    "            x = coord[0]\n",
    "            y = coord[1]\n",
    "            coord[0] = x*math.cos(rot2[0]) - x*math.sin(rot2[0])\n",
    "            coord[1] = x*math.sin(rot2[0]) + y*math.cos(rot2[0])\n",
    "            \n",
    "        for coord in coord_list_2:\n",
    "            x = coord[0]\n",
    "            y = coord[1]\n",
    "            coord[0] = x*math.cos(rot2[1]) - x*math.sin(rot2[1])\n",
    "            coord[1] = x*math.sin(rot2[1]) + y*math.cos(rot2[1])\n",
    "            \n",
    "        for coord in coord_list_2:\n",
    "            x = coord[0]\n",
    "            y = coord[1]\n",
    "            coord[0] = x*math.cos(rot1[0]) - x*math.sin(rot1[0])\n",
    "            coord[1] = x*math.sin(rot1[0]) + y*math.cos(rot1[0])\n",
    "            \n",
    "            \n",
    "        for coord in coord_list_2:\n",
    "            x = coord[0]\n",
    "            y = coord[1]\n",
    "            coord[0] = x*math.cos(rot1[1]) - x*math.sin(rot1[1])\n",
    "            coord[1] = x*math.sin(rot1[1]) + y*math.cos(rot1[1])\n",
    "\n",
    "\n",
    "        x1_list = []\n",
    "        y1_list = []\n",
    "\n",
    "        for c in coord_list_1:\n",
    "            x1_list.append(c[0])\n",
    "            y1_list.append(c[1])\n",
    "\n",
    "        x2_list = []\n",
    "        y2_list = []\n",
    "\n",
    "        for c in coord_list_2:\n",
    "            x2_list.append(c[0])\n",
    "            y2_list.append(c[1])\n",
    "       \n",
    "        if ( (max(x1_list) >= min(x2_list)) and (min(x1_list) <= max(x2_list))\n",
    "            and (max(y1_list) >= min(y2_list)) and (min(y1_list) <= max(y2_list)) ):\n",
    "                return False\n",
    "        else:\n",
    "            return True"
   ]
  },
  {
   "cell_type": "code",
   "execution_count": null,
   "id": "e5f6114c",
   "metadata": {},
   "outputs": [],
   "source": [
    "def findGridLocation(loc, size, n_xy):\n",
    "    gridNum = int(loc[0] // (2*size)) + int(n_xy * (loc[1] // (2 * size)))\n",
    "    return (gridNum)"
   ]
  },
  {
   "cell_type": "code",
   "execution_count": null,
   "id": "508a1227",
   "metadata": {},
   "outputs": [],
   "source": [
    "def generateLocation():\n",
    "    loc = []\n",
    "    x = 5*random.random()\n",
    "    y = 5*random.random()\n",
    "    loc.append(x)\n",
    "    loc.append(y)\n",
    "    return loc"
   ]
  },
  {
   "cell_type": "code",
   "execution_count": null,
   "id": "9fb2cc08",
   "metadata": {},
   "outputs": [],
   "source": [
    "def generateRotation():\n",
    "    rot = []\n",
    "    x_rot = math.pi*random.random()\n",
    "    y_rot = math.pi*random.random()\n",
    "    rot.append(x_rot)\n",
    "    rot.append(y_rot)\n",
    "    return rot"
   ]
  }
 ],
 "metadata": {
  "kernelspec": {
   "display_name": "Python 3 (ipykernel)",
   "language": "python",
   "name": "python3"
  },
  "language_info": {
   "codemirror_mode": {
    "name": "ipython",
    "version": 3
   },
   "file_extension": ".py",
   "mimetype": "text/x-python",
   "name": "python",
   "nbconvert_exporter": "python",
   "pygments_lexer": "ipython3",
   "version": "3.9.7"
  }
 },
 "nbformat": 4,
 "nbformat_minor": 5
}
