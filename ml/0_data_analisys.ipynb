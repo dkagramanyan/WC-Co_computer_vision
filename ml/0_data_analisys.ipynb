{
 "cells": [
  {
   "cell_type": "code",
   "execution_count": null,
   "metadata": {
    "pycharm": {
     "name": "#%%\n"
    },
    "tags": []
   },
   "outputs": [],
   "source": [
    "import numpy as np\n",
    "from src.cfg import CfgDataset,CfgAnglesNames,CfgBeamsNames\n",
    "# from tabulate import tabulate\n",
    "\n",
    "import tensorflow as tf\n",
    "from tensorflow.keras.layers import Conv2D, Input, BatchNormalization, ReLU, MaxPool2D, UpSampling2D\n",
    "\n",
    "from tensorflow.keras import backend\n",
    "from tensorflow.keras.applications import imagenet_utils\n",
    "\n",
    "from tensorflow.keras import layers\n",
    "from tensorflow.python.util.tf_export import keras_export\n",
    "from tensorflow.python.keras.utils import data_utils\n",
    "import numpy as np\n",
    "from matplotlib import pyplot as plt\n",
    "import math\n",
    "import tensorflow_datasets as tfds\n",
    "\n",
    "from tqdm.notebook import tqdm"
   ]
  },
  {
   "cell_type": "code",
   "execution_count": null,
   "metadata": {
    "collapsed": false,
    "jupyter": {
     "outputs_hidden": false
    },
    "pycharm": {
     "name": "#%%\n"
    }
   },
   "outputs": [],
   "source": [
    "from datasets import load_dataset\n",
    "\n",
    "# load_dataset(\"wikipedia\", \"20221220.hy\", beam_runner='DirectRunner')\n",
    "load_dataset(\"wikipedia\", \"20220301.ar\", beam_runner='DirectRunner')"
   ]
  },
  {
   "cell_type": "code",
   "execution_count": null,
   "metadata": {
    "collapsed": false,
    "jupyter": {
     "outputs_hidden": false
    },
    "pycharm": {
     "name": "#%%\n"
    }
   },
   "outputs": [],
   "source": [
    "from datasets import load_dataset\n",
    "\n",
    "load_dataset(\"wikipedia\", \"20220301.hy\")"
   ]
  },
  {
   "cell_type": "code",
   "execution_count": null,
   "metadata": {
    "collapsed": false,
    "jupyter": {
     "outputs_hidden": false
    },
    "pycharm": {
     "name": "#%%\n"
    }
   },
   "outputs": [],
   "source": [
    "model=tf.keras.applications.vgg16.VGG16(include_top=False,weights='imagenet')"
   ]
  },
  {
   "cell_type": "code",
   "execution_count": null,
   "metadata": {
    "collapsed": false,
    "jupyter": {
     "outputs_hidden": false
    },
    "pycharm": {
     "name": "#%%\n"
    }
   },
   "outputs": [],
   "source": [
    "data=tfds.load('mnist',split='train[:1%]')\n",
    "\n",
    "images=[]\n",
    "for image in tqdm(data):\n",
    "    resized=tf.image.resize(image['image'],(224,224))\n",
    "    resized=tf.image.grayscale_to_rgb(resized)\n",
    "    features=model.predict(tf.expand_dims(resized,0))[0].flatten()\n",
    "    # images.append(resized)"
   ]
  },
  {
   "cell_type": "code",
   "execution_count": null,
   "metadata": {
    "collapsed": false,
    "jupyter": {
     "outputs_hidden": false
    },
    "pycharm": {
     "name": "#%%\n"
    }
   },
   "outputs": [],
   "source": []
  },
  {
   "cell_type": "code",
   "execution_count": null,
   "metadata": {
    "collapsed": false,
    "jupyter": {
     "outputs_hidden": false
    },
    "pycharm": {
     "name": "#%%\n"
    }
   },
   "outputs": [],
   "source": [
    "step=5\n",
    "folder = 'data/saved np'\n",
    "\n",
    "xy_gauss_data=np.load(f'{folder}/'+CfgAnglesNames.approx_data+f'{step}.npy', allow_pickle=True)\n",
    "xy_linear_data=np.load(f'{folder}/'+CfgBeamsNames.approx_data+f'{step}.npy', allow_pickle=True)"
   ]
  },
  {
   "cell_type": "code",
   "execution_count": null,
   "metadata": {
    "collapsed": false,
    "jupyter": {
     "outputs_hidden": false
    },
    "pycharm": {
     "name": "#%%\n"
    }
   },
   "outputs": [],
   "source": [
    "texts_angles=np.load(f'{folder}/'+CfgAnglesNames.legend+f'{step}.npy', allow_pickle=True)\n",
    "texts_beams=np.load(f'{folder}/'+CfgBeamsNames.legend+f'{step}.npy', allow_pickle=True)"
   ]
  },
  {
   "cell_type": "code",
   "execution_count": null,
   "metadata": {
    "collapsed": false,
    "jupyter": {
     "outputs_hidden": false
    },
    "pycharm": {
     "name": "#%%\n"
    }
   },
   "outputs": [],
   "source": [
    "image_shape = (1024, 1024, 3)\n",
    "model = tf.keras.applications.VGG19(include_top=False, weights='imagenet', input_shape=image_shape)\n",
    "model.summary()"
   ]
  },
  {
   "cell_type": "code",
   "execution_count": null,
   "metadata": {
    "collapsed": false,
    "jupyter": {
     "outputs_hidden": false
    },
    "pycharm": {
     "name": "#%%\n"
    }
   },
   "outputs": [],
   "source": [
    "for i, layer in enumerate(model.layers):\n",
    "    print(f'i={i} name {layer.name}')"
   ]
  },
  {
   "cell_type": "code",
   "execution_count": null,
   "metadata": {
    "collapsed": false,
    "jupyter": {
     "outputs_hidden": false
    },
    "pycharm": {
     "name": "#%%\n"
    }
   },
   "outputs": [],
   "source": [
    "all_images = np.load('data/saved np/all_images_no_preprocess.npy', allow_pickle=True)\n",
    "all_images_rgb = []\n",
    "for i, images_list in enumerate(all_images):\n",
    "    for image_gray in images_list:\n",
    "        tf_image = tf.expand_dims(image_gray / 255, 2)\n",
    "        tf_rgb = tf.image.grayscale_to_rgb(tf_image)\n",
    "        tf_preproc = tf.image.resize(tf_rgb, (1024, 1024))\n",
    "        all_images_rgb.append(tf_preproc)\n",
    "\n",
    "all_images_rgb = np.array(all_images_rgb)"
   ]
  },
  {
   "cell_type": "code",
   "execution_count": null,
   "metadata": {
    "collapsed": false,
    "jupyter": {
     "outputs_hidden": false
    },
    "pycharm": {
     "name": "#%%\n"
    }
   },
   "outputs": [],
   "source": [
    "image=all_images_rgb[0]\n",
    "\n",
    "layers_name = ['block1_pool', 'block2_pool', 'block3_pool', 'block4_pool', 'block5_pool']\n",
    "outputs = [model.get_layer(name).output for name in layers_name]\n",
    "\n",
    "intermediate_layer_model = tf.keras.Model(inputs=model.input,\n",
    "                                          outputs=outputs)\n",
    "intermediate_output = intermediate_layer_model.predict(tf.expand_dims(all_images_rgb[0], 0))\n",
    "\n",
    "for level in range(0,5):\n",
    "    filters=intermediate_output[level][0]\n",
    "\n",
    "    filters_num=filters.shape[-1]\n",
    "    n_rows=int(math.sqrt(filters_num))\n",
    "\n",
    "    fig,ax=plt.subplots(nrows=n_rows,ncols=n_rows,figsize=(50,50))\n",
    "    step=0\n",
    "    for i in range(n_rows):\n",
    "        for j in range(n_rows):\n",
    "            ax[i][j].imshow(filters[:,:,step],cmap='gray')\n",
    "            step+=1\n",
    "    # plt.savefig(f'vgg_cnn_filters_level_{1+level}.png')\n",
    "plt.show()"
   ]
  }
 ],
 "metadata": {
  "kernelspec": {
   "display_name": "torch",
   "language": "python",
   "name": "torch"
  },
  "language_info": {
   "codemirror_mode": {
    "name": "ipython",
    "version": 3
   },
   "file_extension": ".py",
   "mimetype": "text/x-python",
   "name": "python",
   "nbconvert_exporter": "python",
   "pygments_lexer": "ipython3",
   "version": "3.10.12"
  }
 },
 "nbformat": 4,
 "nbformat_minor": 4
}
