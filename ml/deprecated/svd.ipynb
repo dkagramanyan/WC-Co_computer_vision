{
 "cells": [
  {
   "cell_type": "code",
   "execution_count": null,
   "id": "040a9b77-a509-4174-8781-a95e1b6c29d2",
   "metadata": {},
   "outputs": [],
   "source": [
    "import argparse\n",
    "import sys\n",
    "import os\n",
    "from skimage import io\n",
    "\n",
    "import torch\n",
    "from torch import nn, optim\n",
    "from torch.utils.data import DataLoader\n",
    "\n",
    "from torchvision import datasets, transforms, utils\n",
    "import matplotlib.patches as mpatches\n",
    "\n",
    "from tqdm import tqdm\n",
    "\n",
    "# from scheduler import CycleScheduler\n",
    "from pt_utils import  Embeddings, Trainer, VQVAE, data_sampler, Vqvae2Adaptive\n",
    "from torch.utils import data\n",
    "from torch import distributed as dist\n",
    "\n",
    "from umap import UMAP\n",
    "from sklearn.model_selection import train_test_split\n",
    "from matplotlib import pyplot as plt\n",
    "from collections import Counter\n",
    "from skimage import transform, metrics\n",
    "import skimage\n",
    "import pandas as pd\n",
    "import numpy as np\n",
    "import glob\n",
    "\n",
    "from torchsummary import summary\n",
    "\n",
    "# from tqdm.notebook import trange, tqdm\n",
    "from tqdm import trange, tqdm\n",
    "import torchvision\n",
    "from PIL import Image\n",
    "\n",
    "import numpy as np\n",
    "from sklearn.decomposition import PCA\n",
    "from scipy.ndimage.filters import gaussian_filter\n",
    "import scipy as sp\n",
    "import matplotlib as mpl\n",
    "from mpl_toolkits.axes_grid1 import make_axes_locatable\n",
    "\n",
    "seed = 51\n",
    "np.random.seed(seed)\n",
    "torch.manual_seed(seed)"
   ]
  },
  {
   "cell_type": "code",
   "execution_count": null,
   "id": "dfc1a35c-b3d5-4942-9e5c-5e244e232885",
   "metadata": {},
   "outputs": [],
   "source": [
    "dim_l=''\n",
    "n_embedded_l=''\n",
    "\n",
    "embs_t=np.load(f'data/embs/embs_t_9x_512_360_emb_dim_1{dim_l}_n_embed_8192{n_embedded_l}_left_model_left.npy')\n",
    "embs_b=np.load(f'data/embs/embs_b_9x_512_360_emb_dim_1{dim_l}_n_embed_8192{n_embedded_l}_left_model_left.npy')"
   ]
  },
  {
   "cell_type": "code",
   "execution_count": null,
   "id": "6f6822c7-52a6-43cb-8f06-4db5b6c5d127",
   "metadata": {},
   "outputs": [],
   "source": [
    "U, S, Vh = np.linalg.svd(embs_t, full_matrices=True)\n",
    "# U, S, Vh = sp.linalg.svd(embs_t, full_matrices=True)"
   ]
  },
  {
   "cell_type": "code",
   "execution_count": null,
   "id": "83b3a014-836a-4c5f-9e72-39404133a0ea",
   "metadata": {},
   "outputs": [],
   "source": [
    "x = S\n",
    "\n",
    "fig = plt.figure()\n",
    "ax = fig.add_subplot(111)\n",
    "n, bins, rectangles = ax.hist(x,200, density=True)\n",
    "fig.canvas.draw()\n",
    "plt.xlim(0,50)\n",
    "plt.xlabel('Singular values')\n",
    "plt.ylabel('P(x)')\n",
    "plt.show()"
   ]
  }
 ],
 "metadata": {
  "kernelspec": {
   "display_name": "torch",
   "language": "python",
   "name": "torch"
  },
  "language_info": {
   "codemirror_mode": {
    "name": "ipython",
    "version": 3
   },
   "file_extension": ".py",
   "mimetype": "text/x-python",
   "name": "python",
   "nbconvert_exporter": "python",
   "pygments_lexer": "ipython3",
   "version": "3.10.12"
  }
 },
 "nbformat": 4,
 "nbformat_minor": 5
}
