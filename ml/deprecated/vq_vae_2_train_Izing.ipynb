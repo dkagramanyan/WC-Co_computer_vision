{
 "cells": [
  {
   "cell_type": "code",
   "execution_count": null,
   "metadata": {
    "ExecuteTime": {
     "end_time": "2023-10-10T20:47:35.874424600Z",
     "start_time": "2023-10-10T20:47:29.834572300Z"
    },
    "collapsed": false,
    "jupyter": {
     "outputs_hidden": false
    },
    "pycharm": {
     "name": "#%%\n"
    },
    "tags": []
   },
   "outputs": [],
   "source": [
    "import torch\n",
    "from torch import nn, optim\n",
    "from torch.utils.data import DataLoader\n",
    "\n",
    "from torchvision import datasets, transforms, utils\n",
    "import torchvision\n",
    "\n",
    "from pt_utils import  Embeddings, Trainer, VQVAE, data_sampler, TripletFolder\n",
    "from torchsummary import summary\n",
    "import os\n",
    "from torch import distributed as dist\n",
    "from tqdm.notebook import trange, tqdm\n",
    "from torchvision.datasets import ImageFolder\n",
    "import numpy as np\n",
    "from typing import Any, Callable, cast, Dict, List, Optional, Tuple\n",
    "from tqdm.notebook import tqdm\n",
    "\n",
    "from matplotlib import pyplot as plt"
   ]
  },
  {
   "cell_type": "code",
   "execution_count": null,
   "metadata": {
    "scrolled": true
   },
   "outputs": [],
   "source": [
    "grid=np.load('spins_16_1.9692_2.5692.npz')\n",
    "\n",
    "list(grid.keys())"
   ]
  },
  {
   "cell_type": "code",
   "execution_count": null,
   "metadata": {},
   "outputs": [],
   "source": [
    "\n",
    "\n",
    "T"
   ]
  },
  {
   "cell_type": "code",
   "execution_count": null,
   "metadata": {},
   "outputs": [],
   "source": [
    "def H_o(lattice, L, Jv=1.0, Jh=1.0):\n",
    "    \"\"\"\n",
    "    lattice (L, L): Ising lattice\n",
    "    \"\"\"\n",
    "    en = 0.\n",
    "    for i in range(L):\n",
    "        for j in range(L):\n",
    "            en += lattice[i, j] * (lattice[i, (j + 1) // L] * Jv + lattice[(i + 1) // L, j] * Jh)\n",
    "    return -en"
   ]
  },
  {
   "cell_type": "code",
   "execution_count": null,
   "metadata": {},
   "outputs": [],
   "source": []
  },
  {
   "cell_type": "code",
   "execution_count": null,
   "metadata": {},
   "outputs": [],
   "source": [
    "J=1\n",
    "N=16\n",
    "Fs=[]\n",
    "x=[]\n",
    "\n",
    "T_c = 2.2691853142129728 \n",
    "T = np.linspace(T_c - 0.3, T_c + 0.3, 100)\n",
    "\n",
    "for p, key in enumerate(tqdm(grid.keys())):\n",
    "    lattice=grid[key]\n",
    "    H=np.zeros(lattice.shape[0])\n",
    "    beta=1/T[p]\n",
    "    x.append(beta)\n",
    "    \n",
    "    \n",
    "    for k, lat in enumerate(lattice):\n",
    "        H[k]=H_o(lat, N)\n",
    "    \n",
    "    # F=b*log(exp(-b*H))\n",
    "    \n",
    "    F=-(1/beta)*np.log(np.sum(np.exp(-beta*H),axis=0))\n",
    "    Fs.append(F)\n"
   ]
  },
  {
   "cell_type": "code",
   "execution_count": null,
   "metadata": {
    "scrolled": true
   },
   "outputs": [],
   "source": [
    "J=1\n",
    "N=16\n",
    "Fs=[]\n",
    "x=[]\n",
    "\n",
    "T_c = 2.2691853142129728 \n",
    "T = np.linspace(T_c - 0.3, T_c + 0.3, 100)\n",
    "\n",
    "for p, key in enumerate(tqdm(grid.keys())):\n",
    "    lattice=grid[key]\n",
    "    H=np.zeros(lattice.shape)\n",
    "    beta=1/T[p]\n",
    "    x.append(beta)\n",
    "    \n",
    "    \n",
    "    for k, lat in enumerate(lattice):\n",
    "        for i in range(N):\n",
    "            for j in range (N):\n",
    "                h_temp=0\n",
    "                \n",
    "                h_temp+=lat[i,j]*lat[i-1,j]\n",
    "                h_temp+=lat[i,j]*lat[i,j-1]\n",
    "                \n",
    "                new_key=i+1\n",
    "                if new_key>=N:\n",
    "                    new_key=(i+1)//N-1\n",
    "                h_temp+=lat[i,j]*lat[new_key,j]\n",
    "                \n",
    "                new_key=j+1\n",
    "                if new_key>=N:\n",
    "                    new_key=(j+1)//N-1\n",
    "                h_temp+=lat[i,j]*lat[i,new_key]\n",
    "                \n",
    "                H[k,i,j]=-J*h_temp\n",
    "    \n",
    "    # F=b*log(exp(-b*H))\n",
    "    \n",
    "    F=np.mean(beta*np.log(np.sum(np.sum(np.exp(-beta*H),axis=1),axis=1)))/2\n",
    "    Fs.append(F)\n"
   ]
  },
  {
   "cell_type": "code",
   "execution_count": null,
   "metadata": {},
   "outputs": [],
   "source": [
    "plt.xlabel('B=1/T')\n",
    "plt.ylabel('log ( Free energy )')\n",
    "\n",
    "plt.scatter(x, Fs)\n"
   ]
  },
  {
   "cell_type": "code",
   "execution_count": null,
   "metadata": {},
   "outputs": [],
   "source": [
    "Fs"
   ]
  },
  {
   "cell_type": "code",
   "execution_count": null,
   "metadata": {},
   "outputs": [],
   "source": [
    "T=1\n",
    "\n",
    "F=np.mean(1/T*np.log(np.sum(np.sum(np.exp(-1/T*H),axis=1),axis=1)))\n",
    "\n",
    "F"
   ]
  },
  {
   "cell_type": "code",
   "execution_count": null,
   "metadata": {},
   "outputs": [],
   "source": [
    "plt."
   ]
  },
  {
   "cell_type": "code",
   "execution_count": null,
   "metadata": {
    "ExecuteTime": {
     "end_time": "2023-10-10T20:47:37.922469300Z",
     "start_time": "2023-10-10T20:47:37.876591500Z"
    },
    "collapsed": false,
    "jupyter": {
     "outputs_hidden": false
    },
    "tags": []
   },
   "outputs": [],
   "source": [
    "seed = 51\n",
    "np.random.seed(seed)\n",
    "torch.manual_seed(seed)"
   ]
  },
  {
   "cell_type": "code",
   "execution_count": null,
   "metadata": {
    "ExecuteTime": {
     "end_time": "2023-10-10T21:23:15.387589100Z",
     "start_time": "2023-10-10T21:23:15.308919300Z"
    },
    "collapsed": false,
    "jupyter": {
     "outputs_hidden": false
    },
    "pycharm": {
     "name": "#%%\n"
    },
    "tags": []
   },
   "outputs": [],
   "source": [
    "device = \"cuda\"\n",
    "# device = \"cpu\"\n",
    "\n",
    "model =    VQVAE(in_channel=3,\n",
    "# model =    Vqvae2Adaptive(in_channel=3,\n",
    "                   channel=128,\n",
    "                   n_res_block=6,\n",
    "                   n_res_channel=32,\n",
    "                   embed_dim=8,\n",
    "                   n_embed=8192,\n",
    "                   decay=0.99).to(device)\n",
    "\n",
    "# model =    Vqvae2Adaptive(in_channel=3,\n",
    "#                  channel=128,\n",
    "#                  n_res_block=6,\n",
    "#                  n_res_channel=32,\n",
    "#                  embed_dim=1,\n",
    "#                  n_embed=8192,\n",
    "#                  decay=0.99).to(device)"
   ]
  },
  {
   "cell_type": "code",
   "execution_count": null,
   "metadata": {
    "collapsed": false,
    "jupyter": {
     "outputs_hidden": false
    },
    "pycharm": {
     "name": "#%%\n"
    },
    "tags": []
   },
   "outputs": [],
   "source": [
    "summary(model, input_size=(3, 512, 512))"
   ]
  },
  {
   "cell_type": "markdown",
   "metadata": {},
   "source": [
    "# MSE loss"
   ]
  },
  {
   "cell_type": "code",
   "execution_count": null,
   "metadata": {
    "ExecuteTime": {
     "end_time": "2023-10-10T21:23:18.645361300Z",
     "start_time": "2023-10-10T21:23:18.554540700Z"
    },
    "collapsed": false,
    "jupyter": {
     "outputs_hidden": false
    },
    "pycharm": {
     "name": "#%%\n"
    },
    "tags": []
   },
   "outputs": [],
   "source": [
    "# dataset_path = '../data/dataset_512/'\n",
    "# dataset_path = '../datasets/bc_right_sub_left_minmax_4x_360'\n",
    "# dataset_path = '../datasets/bc_left_4x_360'\n",
    "# dataset_path = '../datasets/original/o_bc_left_9x_512_360'\n",
    "dataset_path = '../datasets/original/o_bc_left_4x_768'\n",
    "\n",
    "resize_shape = (512, 512)\n",
    "# resize_shape = (1024, 1024)\n",
    "\n",
    "n_gpu = 1\n",
    "batch_size = 4\n",
    "val_split = 0.15\n",
    "\n",
    "transform = transforms.Compose(\n",
    "    [\n",
    "        # transforms.Resize(resize_shape),\n",
    "        # transforms.CenterCrop(resize_shape),\n",
    "        transforms.ToTensor(),\n",
    "        transforms.Normalize([0.5, 0.5, 0.5], [0.5, 0.5, 0.5]),\n",
    "    ]\n",
    ")\n",
    "\n",
    "dataset = datasets.ImageFolder(dataset_path, transform=transform)\n",
    "\n",
    "train_dataset_len = int(len(dataset) * (1 - val_split))\n",
    "test_dataset_len = len(dataset) - train_dataset_len\n",
    "\n",
    "train_dataset, test_dataset = torch.utils.data.random_split(dataset, [train_dataset_len, test_dataset_len],\n",
    "                                                            generator=torch.Generator().manual_seed(seed))\n",
    "\n",
    "train_sampler = data_sampler(train_dataset, shuffle=True, distributed=False)\n",
    "test_sampler = data_sampler(test_dataset, shuffle=True, distributed=False)\n",
    "\n",
    "train_loader = DataLoader(\n",
    "    train_dataset, batch_size=batch_size // n_gpu, sampler=train_sampler, num_workers=2\n",
    ")\n",
    "test_loader = DataLoader(\n",
    "    test_dataset, batch_size=batch_size // n_gpu, sampler=test_sampler, num_workers=2\n",
    ")"
   ]
  },
  {
   "cell_type": "code",
   "execution_count": null,
   "metadata": {
    "collapsed": false,
    "jupyter": {
     "outputs_hidden": false
    },
    "pycharm": {
     "name": "#%%\n"
    }
   },
   "outputs": [],
   "source": [
    "# model_file = 'data/logs/emb_dim_1_n_embed_8192_bc_left_sub_right_minmax_4x_360/vqvae_001_train_0.04914_test_0.04206.pt'\n",
    "model_file = 'data/logs/emb_dim_1_n_embed_8192_bc_right_sub_left_minmax_4x_360/vqvae_003_train_0.04287_test_0.04129.pt'\n",
    "\n",
    "model.load_state_dict(torch.load(model_file, map_location=torch.device('cuda')))"
   ]
  },
  {
   "cell_type": "code",
   "execution_count": null,
   "metadata": {
    "ExecuteTime": {
     "end_time": "2023-10-10T21:39:43.538277400Z",
     "start_time": "2023-10-10T21:23:26.983667600Z"
    },
    "collapsed": false,
    "jupyter": {
     "outputs_hidden": false
    },
    "tags": []
   },
   "outputs": [],
   "source": [
    "epochs = 100\n",
    "lr = 1e-4\n",
    "\n",
    "latent_loss_weight = 0.25\n",
    "sample_size = 25\n",
    "\n",
    "optimizer = optim.Adam(model.parameters(), lr=lr, weight_decay=1e-7, amsgrad=True)\n",
    "# optimizer = optim.RMSprop(model.parameters(), lr=lr,weight_decay=1e-6,centered=True)\n",
    "\n",
    "# sample_path = '../data/logs/vq-vae-2/4x/samples'\n",
    "# model_path = '../data/logs/vq-vae-2/4x/weights'\n",
    "\n",
    "# model_path = 'data/logs/emb_dim_1_n_embed_8192_bc_right_sub_left_minmax_4x_360'\n",
    "model_path = 'data/logs/emb_dim_2_n_embed_8192_bc_left_9x_512_360'\n",
    "\n",
    "Trainer.train(model=model, optimizer=optimizer, train_loader=train_loader, test_loader=test_loader,\n",
    "              model_path=model_path, epochs=epochs)\n"
   ]
  },
  {
   "cell_type": "markdown",
   "metadata": {},
   "source": [
    "# Triplet loss"
   ]
  },
  {
   "cell_type": "code",
   "execution_count": null,
   "metadata": {
    "tags": []
   },
   "outputs": [],
   "source": [
    "# dataset_path = '../data/dataset_512/'\n",
    "# dataset_path = '../datasets/bc_right_sub_left_minmax_4x_360'\n",
    "# dataset_path = '../datasets/bc_left_4x_360'\n",
    "# dataset_path = '../datasets/original/o_bc_left_9x_512_360'\n",
    "dataset_path = '../datasets/original/o_bc_left_4x_768'\n",
    "\n",
    "resize_shape = (512, 512)\n",
    "# resize_shape = (1024, 1024)\n",
    "\n",
    "n_gpu = 1\n",
    "batch_size = 4\n",
    "val_split = 0.15\n",
    "\n",
    "transform = transforms.Compose(\n",
    "    [\n",
    "        transforms.Resize(resize_shape),\n",
    "        # transforms.CenterCrop(resize_shape),\n",
    "        transforms.ToTensor(),\n",
    "        # transforms.Grayscale(),\n",
    "        transforms.Normalize([0.5, 0.5, 0.5], [0.5, 0.5, 0.5]),\n",
    "    ]\n",
    ")\n",
    "\n",
    "dataset = TripletFolder(dataset_path, transform=transform)\n",
    "# dataset = datasets.ImageFolder(dataset_path, transform=transform)\n",
    "\n",
    "train_dataset_len = int(len(dataset) * (1 - val_split))\n",
    "test_dataset_len = len(dataset) - train_dataset_len\n",
    "\n",
    "train_dataset, test_dataset = torch.utils.data.random_split(dataset, [train_dataset_len, test_dataset_len],\n",
    "                                                            generator=torch.Generator().manual_seed(seed))\n",
    "\n",
    "train_sampler = data_sampler(train_dataset, shuffle=True, distributed=False)\n",
    "test_sampler = data_sampler(test_dataset, shuffle=True, distributed=False)\n",
    "\n",
    "train_loader = DataLoader(\n",
    "    train_dataset, batch_size=batch_size // n_gpu, sampler=train_sampler, num_workers=2\n",
    ")\n",
    "test_loader = DataLoader(\n",
    "    test_dataset, batch_size=batch_size // n_gpu, sampler=test_sampler, num_workers=2\n",
    ")"
   ]
  },
  {
   "cell_type": "code",
   "execution_count": null,
   "metadata": {
    "tags": []
   },
   "outputs": [],
   "source": [
    "class TripletLoss(nn.Module):\n",
    "    def __init__(self, margin = 1.0):\n",
    "        super(TripletLoss, self).__init__()\n",
    "        self.margin = margin\n",
    "\n",
    "    def calc_euclidean(self, x1, x2):\n",
    "        return(x1 - x2).pow(2).sum(1)\n",
    "\n",
    "    def forward(self, anchor: torch.Tensor, positive: torch.Tensor, negative: torch.Tensor) -> torch.Tensor:\n",
    "        distance_positive = self.calc_euclidean(anchor, positive)\n",
    "        distance_negative_a = self.calc_euclidean(anchor, negative)\n",
    "        distance_negative_b = self.calc_euclidean(positive, negative)\n",
    "\n",
    "        losses = torch.relu(distance_positive - (distance_negative_a + distance_negative_b)/2.0 + self.margin)\n",
    "\n",
    "        return losses.mean()"
   ]
  },
  {
   "cell_type": "code",
   "execution_count": null,
   "metadata": {
    "tags": []
   },
   "outputs": [],
   "source": [
    "def is_primary():\n",
    "    return get_rank() == 0\n",
    "\n",
    "def get_rank():\n",
    "    if not dist.is_available():\n",
    "        return 0\n",
    "\n",
    "    if not dist.is_initialized():\n",
    "        return 0\n",
    "\n",
    "    return dist.get_rank()\n",
    "\n",
    "def all_gather(data):\n",
    "    world_size = get_world_size()\n",
    "\n",
    "    if world_size == 1:\n",
    "        return [data]\n",
    "\n",
    "    buffer = pickle.dumps(data)\n",
    "    storage = torch.ByteStorage.from_buffer(buffer)\n",
    "    tensor = torch.ByteTensor(storage).to(\"cuda\")\n",
    "\n",
    "    local_size = torch.IntTensor([tensor.numel()]).to(\"cuda\")\n",
    "    size_list = [torch.IntTensor([1]).to(\"cuda\") for _ in range(world_size)]\n",
    "    dist.all_gather(size_list, local_size)\n",
    "    size_list = [int(size.item()) for size in size_list]\n",
    "    max_size = max(size_list)\n",
    "\n",
    "    tensor_list = []\n",
    "    for _ in size_list:\n",
    "        tensor_list.append(torch.ByteTensor(size=(max_size,)).to(\"cuda\"))\n",
    "\n",
    "    if local_size != max_size:\n",
    "        padding = torch.ByteTensor(size=(max_size - local_size,)).to(\"cuda\")\n",
    "        tensor = torch.cat((tensor, padding), 0)\n",
    "\n",
    "    dist.all_gather(tensor_list, tensor)\n",
    "\n",
    "    data_list = []\n",
    "\n",
    "    for size, tensor in zip(size_list, tensor_list):\n",
    "        buffer = tensor.cpu().numpy().tobytes()[:size]\n",
    "        data_list.append(pickle.loads(buffer))\n",
    "\n",
    "    return data_list\n",
    "\n",
    "def get_world_size():\n",
    "    if not dist.is_available():\n",
    "        return 1\n",
    "\n",
    "    if not dist.is_initialized():\n",
    "        return 1\n",
    "\n",
    "    return dist.get_world_size()\n",
    "\n",
    "def train_triplet(model, optimizer, train_loader, test_loader, model_path, epochs=100, device='cuda',\n",
    "          latent_loss_weight=0.25, sample_size=25):\n",
    "\n",
    "    if os.path.exists(model_path) is False:\n",
    "        os.mkdir(model_path)\n",
    "\n",
    "    for epoch in range(epochs):\n",
    "\n",
    "        if is_primary():\n",
    "            train_loader = tqdm(train_loader)\n",
    "\n",
    "        criterion = nn.TripletMarginLoss()\n",
    "\n",
    "        mse_sum = 0\n",
    "        mse_n = 0\n",
    "        test_mean_loss = []\n",
    "        train_mean_loss = []\n",
    "\n",
    "        for i, data in enumerate(train_loader):\n",
    "            model.zero_grad()\n",
    "            anchor_img, positive_img, negative_img = data\n",
    "            \n",
    "            anchor_img = anchor_img.to(device)\n",
    "            positive_img = positive_img.to(device)\n",
    "            negative_img = negative_img.to(device)\n",
    "\n",
    "            anchor_out, anchor_latent_out = model(anchor_img)\n",
    "            positive_out, positive_latent_out = model(positive_img)\n",
    "            negative_out, negative_latent_out = model(negative_img)\n",
    "\n",
    "            # triplet loss \n",
    "            recon_loss = criterion(anchor_out, positive_out, negative_out)\n",
    "            latent_loss=torch.mean(torch.stack([anchor_latent_out.mean(),\n",
    "                                                                 anchor_latent_out.mean(),\n",
    "                                                                 anchor_latent_out.mean() ]))\n",
    "            \n",
    "            loss = recon_loss + latent_loss_weight * latent_loss\n",
    "            loss.backward()\n",
    "            train_mean_loss.append(loss.item())\n",
    "            optimizer.step()\n",
    "\n",
    "            part_mse_sum = recon_loss.item() * anchor_img.shape[0]\n",
    "            part_mse_n = anchor_img.shape[0]\n",
    "            comm = {\"mse_sum\": part_mse_sum, \"mse_n\": part_mse_n}\n",
    "            comm = all_gather(comm)\n",
    "\n",
    "            for part in comm:\n",
    "                mse_sum += part[\"mse_sum\"]\n",
    "                mse_n += part[\"mse_n\"]\n",
    "\n",
    "            if is_primary():\n",
    "                lr = optimizer.param_groups[0][\"lr\"]\n",
    "\n",
    "                train_loader.set_description(\n",
    "                    (\n",
    "                        f\"epoch: {epoch + 1}; loss: {str(round(np.mean(train_mean_loss), 5))}; mse: {recon_loss.item():.5f}; \"\n",
    "                        f\"latent: {latent_loss.item():.3f}; avg mse: {mse_sum / mse_n:.5f}; \"\n",
    "                        f\"lr: {lr:.5f}\"\n",
    "                    )\n",
    "                )\n",
    "\n",
    "            model.train()\n",
    "\n",
    "        model.eval()\n",
    "\n",
    "        with torch.no_grad():\n",
    "\n",
    "            for j, data in enumerate(test_loader):\n",
    "                anchor_img, positive_img, negative_img = data\n",
    "\n",
    "                anchor_img = anchor_img.to(device)\n",
    "                positive_img = positive_img.to(device)\n",
    "                negative_img = negative_img.to(device)\n",
    "\n",
    "                anchor_out, anchor_latent_out = model(anchor_img)\n",
    "                positive_out, positive_latent_out = model(positive_img)\n",
    "                negative_out, negative_latent_out = model(negative_img)\n",
    "\n",
    "                # triplet loss \n",
    "                recon_loss = criterion(anchor_out, positive_out, negative_out)\n",
    "\n",
    "                test_loss = recon_loss + latent_loss_weight * torch.mean(torch.stack([anchor_latent_out.mean(),\n",
    "                                                                     anchor_latent_out.mean(),\n",
    "                                                                     anchor_latent_out.mean() ]))\n",
    "                test_mean_loss.append(round(test_loss.item(), 5))\n",
    "\n",
    "            sample = anchor_img[:sample_size]\n",
    "\n",
    "        utils.save_image(\n",
    "            torch.cat([sample, anchor_out], 0),\n",
    "            f\"{model_path}/{str(epoch + 1).zfill(5)}.png\",\n",
    "            nrow=sample_size,\n",
    "            normalize=True,\n",
    "            # range=(-1, 1),\n",
    "        )\n",
    "\n",
    "        print(f'test elbo: {str(round(np.mean(test_mean_loss), 5))}')\n",
    "        torch.save(model.state_dict(),\n",
    "                   f\"{model_path}/vqvae_{str(epoch + 1).zfill(3)}_train_{str(round(np.mean(train_mean_loss), 5))}_test_{str(round(np.mean(test_mean_loss), 5))}.pt\")"
   ]
  },
  {
   "cell_type": "code",
   "execution_count": null,
   "metadata": {},
   "outputs": [],
   "source": [
    "# model_file = 'data/logs/emb_dim_1_n_embed_8192_bc_left_sub_right_minmax_4x_360/vqvae_001_train_0.04914_test_0.04206.pt'\n",
    "model_file = 'data/logs/emb_dim_1_n_embed_8192_bc_right_sub_left_minmax_4x_360/vqvae_003_train_0.04287_test_0.04129.pt'\n",
    "\n",
    "model.load_state_dict(torch.load(model_file, map_location=torch.device('cuda')))"
   ]
  },
  {
   "cell_type": "code",
   "execution_count": null,
   "metadata": {
    "tags": []
   },
   "outputs": [],
   "source": [
    "epochs = 100\n",
    "lr = 1e-4\n",
    "\n",
    "latent_loss_weight = 0.25\n",
    "sample_size = 25\n",
    "\n",
    "optimizer = optim.Adam(model.parameters(), lr=lr, weight_decay=1e-7, amsgrad=True)\n",
    "# optimizer = optim.RMSprop(model.parameters(), lr=lr,weight_decay=1e-6,centered=True)\n",
    "\n",
    "# sample_path = '../data/logs/vq-vae-2/4x/samples'\n",
    "# model_path = '../data/logs/vq-vae-2/4x/weights'\n",
    "\n",
    "# model_path = 'data/logs/emb_dim_1_n_embed_8192_bc_right_sub_left_minmax_4x_360'\n",
    "# model_path = 'data/logs/emb_dim_2_n_embed_8192_bc_left_9x_512_360'\n",
    "model_path = 'data/logs/emb_dim_1_n_embed_8192o_o_bc_left_4x_512_triplet'\n",
    "\n",
    "train_triplet(model=model, optimizer=optimizer, train_loader=train_loader, test_loader=test_loader,\n",
    "              model_path=model_path, epochs=epochs)\n"
   ]
  }
 ],
 "metadata": {
  "kernelspec": {
   "display_name": "torch",
   "language": "python",
   "name": "torch"
  },
  "language_info": {
   "codemirror_mode": {
    "name": "ipython",
    "version": 3
   },
   "file_extension": ".py",
   "mimetype": "text/x-python",
   "name": "python",
   "nbconvert_exporter": "python",
   "pygments_lexer": "ipython3",
   "version": "3.11.7"
  }
 },
 "nbformat": 4,
 "nbformat_minor": 4
}
