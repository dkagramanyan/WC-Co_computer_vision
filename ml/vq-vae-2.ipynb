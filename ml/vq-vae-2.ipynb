{
 "cells": [
  {
   "cell_type": "code",
   "execution_count": null,
   "metadata": {
    "collapsed": false,
    "pycharm": {
     "name": "#%%\n"
    }
   },
   "outputs": [],
   "source": [
    "import argparse\n",
    "import sys\n",
    "import os\n",
    "from skimage import io\n",
    "\n",
    "import torch\n",
    "from torch import nn, optim\n",
    "from torch.utils.data import DataLoader\n",
    "\n",
    "from torchvision import datasets, transforms, utils\n",
    "import matplotlib.patches as mpatches\n",
    "\n",
    "from tqdm import tqdm\n",
    "\n",
    "# from scheduler import CycleScheduler\n",
    "from pt_utils import  Embeddings, Trainer, VQVAE, data_sampler\n",
    "from torch.utils import data\n",
    "from torch import distributed as dist\n",
    "\n",
    "from umap import UMAP\n",
    "from sklearn.model_selection import train_test_split\n",
    "from matplotlib import pyplot as plt\n",
    "from collections import Counter\n",
    "from skimage import transform, metrics\n",
    "import skimage\n",
    "import pandas as pd\n",
    "import numpy as np\n",
    "import glob\n",
    "\n",
    "from torchsummary import summary\n",
    "\n",
    "# from tqdm.notebook import trange, tqdm\n",
    "from tqdm import trange, tqdm\n",
    "import torchvision\n",
    "from PIL import Image\n",
    "\n",
    "import numpy as np\n",
    "from sklearn.decomposition import PCA\n",
    "from scipy.ndimage.filters import gaussian_filter\n",
    "import matplotlib as mpl\n",
    "from mpl_toolkits.axes_grid1 import make_axes_locatable"
   ]
  },
  {
   "cell_type": "code",
   "execution_count": null,
   "metadata": {
    "collapsed": false
   },
   "outputs": [],
   "source": [
    "seed = 51\n",
    "np.random.seed(seed)\n",
    "torch.manual_seed(seed)"
   ]
  },
  {
   "cell_type": "code",
   "execution_count": null,
   "metadata": {
    "collapsed": false,
    "pycharm": {
     "name": "#%%\n"
    }
   },
   "outputs": [],
   "source": [
    "device = \"cuda\"\n",
    "model =    VQVAE(in_channel=3,\n",
    "           channel=128,\n",
    "           n_res_block=6,\n",
    "           n_res_channel=32,\n",
    "           embed_dim=1,\n",
    "           n_embed=8192,\n",
    "           decay=0.99).to(device)\n"
   ]
  },
  {
   "cell_type": "code",
   "execution_count": null,
   "metadata": {
    "collapsed": false,
    "pycharm": {
     "name": "#%%\n"
    }
   },
   "outputs": [],
   "source": [
    "# summary(model, input_size=(3, 512, 512))"
   ]
  },
  {
   "cell_type": "code",
   "execution_count": null,
   "metadata": {
    "collapsed": false,
    "pycharm": {
     "name": "#%%\n"
    }
   },
   "outputs": [],
   "source": [
    "# dataset_path = '../data/dataset_512/'\n",
    "# dataset_path = '../datasets/bc_right_sub_left_minmax_4x_360'\n",
    "dataset_path = '../datasets/bc_left_4x_360'\n",
    "\n",
    "resize_shape = (512, 512)\n",
    "# resize_shape = (1024, 1024)\n",
    "\n",
    "n_gpu = 1\n",
    "batch_size = 8\n",
    "val_split = 0.15\n",
    "\n",
    "transform = transforms.Compose(\n",
    "    [\n",
    "        # transforms.Resize(resize_shape),\n",
    "        transforms.CenterCrop(resize_shape),\n",
    "        transforms.ToTensor(),\n",
    "        transforms.Normalize([0.5, 0.5, 0.5], [0.5, 0.5, 0.5]),\n",
    "    ]\n",
    ")\n",
    "\n",
    "dataset = datasets.ImageFolder(dataset_path, transform=transform)\n",
    "\n",
    "train_dataset_len = int(len(dataset) * (1 - val_split))\n",
    "test_dataset_len = len(dataset) - train_dataset_len\n",
    "\n",
    "train_dataset, test_dataset = torch.utils.data.random_split(dataset, [train_dataset_len, test_dataset_len],\n",
    "                                                            generator=torch.Generator().manual_seed(seed))\n",
    "\n",
    "train_sampler = data_sampler(train_dataset, shuffle=True, distributed=False)\n",
    "test_sampler = data_sampler(test_dataset, shuffle=True, distributed=False)\n",
    "\n",
    "train_loader = DataLoader(\n",
    "    train_dataset, batch_size=batch_size // n_gpu, sampler=train_sampler, num_workers=2\n",
    ")\n",
    "test_loader = DataLoader(\n",
    "    test_dataset, batch_size=batch_size // n_gpu, sampler=test_sampler, num_workers=2\n",
    ")"
   ]
  },
  {
   "cell_type": "code",
   "execution_count": null,
   "metadata": {
    "collapsed": false,
    "pycharm": {
     "name": "#%%\n"
    }
   },
   "outputs": [],
   "source": [
    "# model_file = 'data/logs/emb_dim_1_n_embed_8192_bc_left_sub_right_minmax_4x_360/vqvae_001_train_0.04914_test_0.04206.pt'\n",
    "model_file = 'data/logs/emb_dim_1_n_embed_8192_bc_right_sub_left_minmax_4x_360/vqvae_003_train_0.04287_test_0.04129.pt'\n",
    "\n",
    "model.load_state_dict(torch.load(model_file, map_location=torch.device('cuda')))"
   ]
  },
  {
   "cell_type": "code",
   "execution_count": null,
   "metadata": {
    "collapsed": false,
    "pycharm": {
     "name": "#%%\n"
    }
   },
   "outputs": [],
   "source": [
    "epochs = 100\n",
    "lr = 1e-4\n",
    "\n",
    "latent_loss_weight = 0.25\n",
    "sample_size = 25\n",
    "\n",
    "optimizer = optim.Adam(model.parameters(), lr=lr, weight_decay=1e-7, amsgrad=True)\n",
    "# optimizer = optim.RMSprop(model.parameters(), lr=lr,weight_decay=1e-6,centered=True)\n",
    "\n",
    "# sample_path = '../data/logs/vq-vae-2/4x/samples'\n",
    "# model_path = '../data/logs/vq-vae-2/4x/weights'\n",
    "\n",
    "# model_path = 'data/logs/emb_dim_1_n_embed_8192_bc_right_sub_left_minmax_4x_360'\n",
    "model_path = 'data/logs/emb_dim_1_n_embed_8192_bc_left_4x_360'\n",
    "\n",
    "Trainer.train(model=model, optimizer=optimizer, train_loader=train_loader, test_loader=test_loader,\n",
    "              model_path=model_path, epochs=epochs)\n"
   ]
  },
  {
   "cell_type": "code",
   "execution_count": null,
   "metadata": {
    "collapsed": false,
    "pycharm": {
     "name": "#%%\n"
    }
   },
   "outputs": [],
   "source": [
    "sample_path = '../data/logs/vq-vae-2/samples'\n",
    "\n",
    "with torch.no_grad():\n",
    "    for j, (img, label) in enumerate(test_loader):\n",
    "        img = img.to(device)\n",
    "        out, latent_loss = model(img)\n",
    "\n",
    "        sample_size = 25\n",
    "        sample = img[:sample_size]\n",
    "\n",
    "        utils.save_image(\n",
    "            torch.cat([sample, out], 0),\n",
    "            f\"{sample_path}/{j}_vq_vae_2_test.png\",\n",
    "            nrow=sample_size,\n",
    "            normalize=True,\n",
    "            range=(-1, 1),\n",
    "        )"
   ]
  },
  {
   "cell_type": "markdown",
   "metadata": {
    "collapsed": false,
    "pycharm": {
     "name": "#%% md\n"
    }
   },
   "source": [
    "## Визуализация"
   ]
  },
  {
   "cell_type": "code",
   "execution_count": null,
   "metadata": {
    "collapsed": false,
    "pycharm": {
     "name": "#%%\n"
    }
   },
   "outputs": [],
   "source": [
    "# model_file = 'data/logs/emb_dim_1_n_embed_8192_bc_left_4x_360/vqvae_004_train_0.02043_test_0.02022.pt'\n",
    "# model_file = 'data/logs/emb_dim_1_n_embed_8192_bc_left_sub_right_minmax_4x_360/vqvae_002_train_0.04045_test_0.03895.pt'\n",
    "# model_file = 'data/logs/emb_dim_1_n_embed_8192_bc_right_sub_left_minmax_4x_360/vqvae_003_train_0.04287_test_0.04129.pt'\n",
    "# model_file = '../data/logs/vq-vae-2/4x_emb_dim_32/weights/vqvae_011_train_0.00375_test_0.00375.pt'\n",
    "# model_file = '../data/logs/vq-vae-2/4x/weights/vqvae_013_train_0.0038_test_0.0038.pt'\n",
    "# model_file = '../data/logs/vq-vae-2/vqvae_100_train_0.00409_test_0.00401_512.pt'\n",
    "\n",
    "device = \"cuda\"\n",
    "model = VQVAE(in_channel=3,\n",
    "       channel=64,\n",
    "       n_res_block=8,\n",
    "       n_res_channel=32,\n",
    "       embed_dim=1,\n",
    "       n_embed=8192,\n",
    "       decay=0.99).to(device)\n",
    "\n",
    "# model.load_state_dict(torch.load(model_file, map_location=torch.device('cuda')))"
   ]
  },
  {
   "cell_type": "code",
   "execution_count": null,
   "metadata": {
    "collapsed": false,
    "pycharm": {
     "name": "#%%\n"
    }
   },
   "outputs": [],
   "source": [
    "# dataset_path = '../datasets/bc_right_sub_left_minmax_4x_360'\n",
    "# dataset_path = '../datasets/bc_left_sub_right_0.5_4x_360'\n",
    "# dataset_path = '../datasets/bc_right_sub_left_0.5_4x_360'\n",
    "# dataset_path = '../datasets/bc_left_sub_right_minmax_4x_360'\n",
    "dataset_path = '../datasets/bc_left_4x_360'\n",
    "\n",
    "resize_shape = (512, 512)\n",
    "\n",
    "transform = transforms.Compose(\n",
    "    [\n",
    "        # transforms.Resize(resize_shape),\n",
    "        transforms.CenterCrop(resize_shape),\n",
    "        transforms.ToTensor(),\n",
    "        transforms.Normalize([0.5, 0.5, 0.5], [0.5, 0.5, 0.5]),\n",
    "    ]\n",
    ")\n",
    "\n",
    "dataset = datasets.ImageFolder(dataset_path, transform=transform)"
   ]
  },
  {
   "cell_type": "code",
   "execution_count": null,
   "metadata": {
    "collapsed": false
   },
   "outputs": [],
   "source": [
    "embs_t[0]"
   ]
  },
  {
   "cell_type": "code",
   "execution_count": null,
   "metadata": {
    "collapsed": false
   },
   "outputs": [],
   "source": [
    "embs_b[0]"
   ]
  },
  {
   "cell_type": "code",
   "execution_count": null,
   "metadata": {
    "collapsed": false,
    "pycharm": {
     "name": "#%%\n"
    }
   },
   "outputs": [],
   "source": [
    "embs_t, embs_b = Embeddings.get_vqvae2_embs(model, dataset)"
   ]
  },
  {
   "cell_type": "code",
   "execution_count": null,
   "metadata": {
    "collapsed": false,
    "pycharm": {
     "name": "#%%\n"
    }
   },
   "outputs": [],
   "source": [
    "np.save('embs_t_512_4x_360_emb_dim_1_n_embed_8192_right_sub_left_0.5_trunc_model_left.npy', embs_t)\n",
    "np.save('embs_b_512_4x_360_emb_dim_1_n_embed_8192_right_sub_left_0.5_trunc_model_left.npy', embs_b)"
   ]
  },
  {
   "cell_type": "code",
   "execution_count": null,
   "metadata": {
    "collapsed": false
   },
   "outputs": [],
   "source": [
    "pca = PCA(n_components=2,svd_solver='full')\n",
    "pca.fit(embs_t)\n",
    "umaped_vct_2d_t=pca.transform(embs_t)\n",
    "\n",
    "pca = PCA(n_components=2,svd_solver='full')\n",
    "pca.fit(embs_b)\n",
    "umaped_vct_2d_b=pca.transform(embs_b)"
   ]
  },
  {
   "cell_type": "code",
   "execution_count": null,
   "metadata": {
    "collapsed": false
   },
   "outputs": [],
   "source": [
    "embs_t=np.load('data/embs/embs_t_512_4x_360_emb_dim_1_n_embed_8192_right_sub_left_0.5_trunc_model_left.npy')\n",
    "embs_b=np.load('data/embs/embs_b_512_4x_360_emb_dim_1_n_embed_8192_right_sub_left_0.5_trunc_model_left.npy')"
   ]
  },
  {
   "cell_type": "code",
   "execution_count": null,
   "metadata": {
    "collapsed": false
   },
   "outputs": [],
   "source": [
    "np.random.seed(51)\n",
    "umap_2d = UMAP(random_state=seed,n_components=2)\n",
    "\n",
    "embs_b=np.array(embs_b)\n",
    "embs_t=np.array(embs_t)\n",
    "\n",
    "umaped_vct_2d_t = umap_2d.fit_transform(embs_t)\n",
    "umaped_vct_2d_b = umap_2d.fit_transform(embs_b)"
   ]
  },
  {
   "cell_type": "code",
   "execution_count": null,
   "metadata": {
    "collapsed": false
   },
   "outputs": [],
   "source": [
    "embs_t"
   ]
  },
  {
   "cell_type": "code",
   "execution_count": null,
   "metadata": {
    "collapsed": false,
    "pycharm": {
     "name": "#%%\n"
    }
   },
   "outputs": [],
   "source": [
    "seed=51\n",
    "\n",
    "\n",
    "types_dict = {'Ultra_Co11': 'средние зерна',\n",
    "              'Ultra_Co25': 'мелкие зерна',\n",
    "              'Ultra_Co8': 'средне-мелкие зерна',\n",
    "              'Ultra_Co6_2': 'крупные зерна',\n",
    "              'Ultra_Co15': 'средне-мелкие зерна'}\n",
    "\n",
    "classes = dataset.__dict__['classes']\n",
    "\n",
    "legend = [cls + '\\n' + types_dict[cls] for cls in classes]\n",
    "\n",
    "# name_1 = f'embs_space_seed={seed}_t_512_4x_360_minmax_emb_dim_1_n_embed_8192_right_sub_left_unique_model'\n",
    "name_1 = f'embs_space_seed={seed}_t_512_4x_360_emb_dim_1_n_embed_8192_right_sub_left_0.5_trunc_model_left' \n",
    "# name_2 = f'embs_space_seed={seed}_b_512_4x_360_minmax_emb_dim_1_n_embed_8192_right_sub_left_unique_model'\n",
    "name_2 = f'embs_space_seed={seed}_b_512_4x_360_emb_dim_1_n_embed_8192_right_sub_left_0.5_trunc_model_left'\n",
    "r_shape = (len(classes), -1, 2)\n",
    "\n",
    "# save=True\n",
    "save=False\n",
    "\n",
    "Embeddings.plot_2d_scatter_embs(embs_scatter=umaped_vct_2d_t, legend=legend, r_shape=r_shape, save=save, name=name_1, N=10, M=10)\n",
    "Embeddings.plot_2d_scatter_embs(embs_scatter=umaped_vct_2d_b, legend=legend, r_shape=r_shape, save=save, name=name_2, N=10, M=10)"
   ]
  },
  {
   "cell_type": "code",
   "execution_count": null,
   "metadata": {
    "collapsed": false
   },
   "outputs": [],
   "source": [
    "embs_t=np.load('data/embs/embs_t_512_4x_360_emb_dim_1_n_embed_8192_right_sub_left_0.5_trunc_model_left.npy')\n",
    "embs_b=np.load('data/embs/embs_b_512_4x_360_emb_dim_1_n_embed_8192_right_sub_left_0.5_trunc_model_left.npy')"
   ]
  },
  {
   "cell_type": "code",
   "execution_count": null,
   "metadata": {
    "collapsed": false
   },
   "outputs": [],
   "source": [
    "embs_b.shape"
   ]
  },
  {
   "cell_type": "code",
   "execution_count": null,
   "metadata": {
    "collapsed": false
   },
   "outputs": [],
   "source": [
    "embs_t.shape"
   ]
  },
  {
   "cell_type": "code",
   "execution_count": null,
   "metadata": {
    "collapsed": false
   },
   "outputs": [],
   "source": [
    "seed = 80\n",
    "np.random.seed(seed)\n",
    "embs,_=train_test_split(embs_t,test_size=0.4311)"
   ]
  },
  {
   "cell_type": "code",
   "execution_count": null,
   "metadata": {
    "collapsed": false
   },
   "outputs": [],
   "source": [
    "embs.shape"
   ]
  },
  {
   "cell_type": "code",
   "execution_count": null,
   "metadata": {
    "collapsed": false
   },
   "outputs": [],
   "source": [
    "eigenvalues, eigenvectors=np.linalg.eig(embs)\n",
    "\n",
    "eigenvalues_tmp=[]\n",
    "eigenvectors_tmp=[]\n",
    "\n",
    "for i,value in tqdm(enumerate(eigenvalues)):\n",
    "    if value.real<5:\n",
    "        eigenvalues_tmp.append(value)\n",
    "        eigenvectors_tmp.append(eigenvectors[i])\n",
    "\n",
    "eigenvalues=np.array(eigenvalues_tmp)\n",
    "eigenvectors=np.array(eigenvectors_tmp)"
   ]
  },
  {
   "cell_type": "code",
   "execution_count": null,
   "metadata": {
    "collapsed": false
   },
   "outputs": [],
   "source": [
    "title='embs_t_512_4x_360_emb_dim_1_n_embed_8192_left_sub_right_0.5_trunc_model_left'\n",
    "bins=10\n",
    "x_value=eigenvalues.real\n",
    "y_value=eigenvalues.imag\n",
    "\n",
    "\n",
    "heatmap, xedges, yedges = np.histogram2d(x_value, y_value, bins=100)\n",
    "heatmap=heatmap.T\n",
    "extent = [xedges[0], xedges[-1], yedges[0], yedges[-1]]\n",
    "\n",
    "heatmap = gaussian_filter(heatmap, sigma=5)\n",
    "\n",
    "heatmap/=np.sum(heatmap)\n",
    "x_vector=eigenvectors.real\n",
    "y_vector=eigenvectors.imag\n",
    "\n",
    "np.random.seed(51)\n",
    "umap_2d = UMAP(random_state=seed,n_components=2)\n",
    "\n",
    "# umaped_vct_2d_t_x = umap_2d.fit_transform(x_vector)\n",
    "# umaped_vct_2d_t_y = umap_2d.fit_transform(y_vector)\n",
    "\n",
    "extent=[-3, 3, -3, 3]\n",
    "fig,axes=plt.subplots(2,2, figsize=(10,10))\n",
    "axes[0,0].scatter(eigenvalues.real,eigenvalues.imag)\n",
    "axes[0,0].set_title('Eigen values')\n",
    "axes[0,0].set_xlabel('Real')\n",
    "axes[0,0].set_ylabel('Imag')\n",
    "\n",
    "fig.subplots_adjust(wspace=0.1)\n",
    "# heatmap_ax=axes[0,1].imshow(heatmap, extent=extent, origin='lower', cmap=plt.cm.jet)\n",
    "heatmap_ax=axes[0,1].imshow(heatmap, extent=extent, origin='lower', cmap=plt.cm.jet, interpolation='nearest')\n",
    "axes[0,1].set_title('Eigen values heatmap')\n",
    "axes[0,1].set_xlabel('Real')\n",
    "axes[0,1].set_ylabel('Imag')\n",
    "\n",
    "cax = fig.add_axes([0.9, 0.53, 0.02, 0.35])\n",
    "cb=plt.colorbar(heatmap_ax,ax=axes[0,1], orientation='vertical',cax=cax)\n",
    "\n",
    "# axes[1,0].scatter(umaped_vct_2d_t_x[:, 0], umaped_vct_2d_t_x[:, 1],)\n",
    "# axes[1,0].set_title('Eigen vectors Real')\n",
    "\n",
    "# axes[1,1].scatter(umaped_vct_2d_t_y[:, 0], umaped_vct_2d_t_y[:, 1],)\n",
    "# axes[1,1].set_title('Eigen vectors Imag')\n",
    "\n",
    "# plt.savefig('img.png')\n",
    "plt.show()"
   ]
  },
  {
   "cell_type": "code",
   "execution_count": null,
   "metadata": {
    "collapsed": false
   },
   "outputs": [],
   "source": [
    "# https://stackoverflow.com/questions/2369492/generate-a-heatmap-using-a-scatter-data-set\n",
    "\n",
    "x=eigenvalues.real\n",
    "y=eigenvalues.imag\n",
    "\n",
    "heatmap, xedges, yedges = np.histogram2d(x, y, bins=100)\n",
    "heatmap=heatmap.T\n",
    "extent = [xedges[0], xedges[-1], yedges[0], yedges[-1]]\n",
    "\n",
    "heatmap = gaussian_filter(heatmap, sigma=5)\n",
    "\n",
    "plt.clf()\n",
    "plt.imshow(heatmap, extent=extent, origin='lower', interpolation='sinc',cmap=plt.cm.jet,)\n",
    "plt.show()"
   ]
  },
  {
   "cell_type": "code",
   "execution_count": null,
   "metadata": {
    "collapsed": false
   },
   "outputs": [],
   "source": []
  },
  {
   "cell_type": "markdown",
   "metadata": {
    "collapsed": false,
    "pycharm": {
     "name": "#%% md\n"
    }
   },
   "source": [
    "# Ошибки"
   ]
  },
  {
   "cell_type": "code",
   "execution_count": null,
   "metadata": {
    "collapsed": false,
    "pycharm": {
     "name": "#%%\n"
    }
   },
   "outputs": [],
   "source": [
    "mse_losses = []\n",
    "ssim_losses = []\n",
    "\n",
    "visual_loader = DataLoader(\n",
    "    dataset, batch_size=1, num_workers=2\n",
    ")\n",
    "\n",
    "for i, (img, label) in enumerate(visual_loader):\n",
    "    model.zero_grad()\n",
    "    img = img.to(device)\n",
    "\n",
    "    out, latent_loss = model(img)\n",
    "    predicted_image = np.transpose(out.cpu().detach().numpy()[0])\n",
    "    original_image = np.transpose(img.cpu().detach().numpy()[0])\n",
    "\n",
    "    mse_losses.append(metrics.mean_squared_error(original_image, predicted_image))\n",
    "    ssim_losses.append(metrics.structural_similarity(original_image, predicted_image, multichannel=True))\n",
    "\n",
    "mse_losses = np.array(mse_losses)\n",
    "ssim_losses = np.array(ssim_losses)"
   ]
  },
  {
   "cell_type": "code",
   "execution_count": null,
   "metadata": {
    "collapsed": false,
    "pycharm": {
     "name": "#%%\n"
    }
   },
   "outputs": [],
   "source": [
    "df_mse = pd.DataFrame()\n",
    "df_ssim = pd.DataFrame()\n"
   ]
  },
  {
   "cell_type": "code",
   "execution_count": null,
   "metadata": {
    "collapsed": false,
    "pycharm": {
     "name": "#%%\n"
    }
   },
   "outputs": [],
   "source": [
    "# fig, (ax1, ax2) = plt.subplots(1, 2, figsize=(30, 15))\n",
    "\n",
    "names = ['Ultra_Co8\\nсредние зерна', 'Ultra_Co11\\nмелкие зерна', 'Ultra_Co6_2\\nмелкие зерна',\n",
    "         'Ultra_Co15\\nкрупные зерна', 'Ultra_Co25\\nсредне-мелкие зерна']\n",
    "\n",
    "colors = ['b', 'g', 'y', 'm', 'c']\n",
    "markers = ['8', 'v', 's', 'd', '*', ]\n",
    "\n",
    "f_vects = []\n",
    "\n",
    "cnt = Counter(np.array(dataset.samples)[:, 1])\n",
    "\n",
    "for i in cnt.keys():\n",
    "    emb_number = cnt[i]\n",
    "    key = int(i)\n",
    "\n",
    "    start = 0\n",
    "    for val in range(int(i)):\n",
    "        start += cnt[str(val)]\n",
    "\n",
    "    end = start + emb_number\n",
    "\n",
    "    mse_y = mse_losses[start:end]\n",
    "    ssim_y = ssim_losses[start:end]\n",
    "\n",
    "    df_mse[names[key]] = pd.Series(mse_y)\n",
    "    df_ssim[names[key]] = pd.Series(ssim_y)\n",
    "\n",
    "plt.rcParams['font.size'] = '20'\n",
    "\n",
    "# plt.ylabel('MSE loss', fontsize=20)\n",
    "name = 'vq-vae-2'\n",
    "# plt.savefig(f'mse_ssim_losses_{name}_512.png')\n",
    "\n",
    "# plt.show()"
   ]
  },
  {
   "cell_type": "code",
   "execution_count": null,
   "metadata": {
    "collapsed": false,
    "pycharm": {
     "name": "#%%\n"
    }
   },
   "outputs": [],
   "source": [
    "plt.rcParams['font.size'] = '15'\n",
    "name = 'vq-vae-2'\n",
    "\n",
    "fig, (ax1, ax2) = plt.subplots(1, 2, figsize=(25, 12))\n",
    "# plt.figure(figsize=(10,10))\n",
    "df_ssim.boxplot(ax=ax2)\n",
    "df_mse.boxplot(ax=ax1)\n",
    "\n",
    "ax1.set_ylabel('MSE loss', fontsize=20)\n",
    "ax2.set_ylabel('SSIM similarity', fontsize=20)\n",
    "\n",
    "plt.savefig(f'mse_ssim_losses_{name}_512_boxplot.png')\n",
    "\n",
    "plt.show()"
   ]
  },
  {
   "cell_type": "code",
   "execution_count": null,
   "metadata": {
    "collapsed": false,
    "pycharm": {
     "name": "#%%\n"
    }
   },
   "outputs": [],
   "source": [
    "fig, (ax1, ax2) = plt.subplots(1, 2, figsize=(30, 15))\n",
    "\n",
    "names = ['Ultra_Co8\\nсредние зерна', 'Ultra_Co11\\nмелкие зерна', 'Ultra_Co6_2\\nмелкие зерна',\n",
    "         'Ultra_Co15\\nкрупные зерна', 'Ultra_Co25\\nсредне-мелкие зерна']\n",
    "\n",
    "colors = ['b', 'g', 'y', 'm', 'c']\n",
    "markers = ['8', 'v', 's', 'd', '*', ]\n",
    "\n",
    "f_vects = []\n",
    "\n",
    "cnt = Counter(np.array(dataset.samples)[:, 1])\n",
    "\n",
    "for i in cnt.keys():\n",
    "    emb_number = cnt[i]\n",
    "    key = int(i)\n",
    "\n",
    "    start = 0\n",
    "    for val in range(int(i)):\n",
    "        start += cnt[str(val)]\n",
    "\n",
    "    end = start + emb_number\n",
    "\n",
    "    x = np.arange(mse_losses.shape[0])[start:end]\n",
    "    mse_y = mse_losses[start:end]\n",
    "    ssim_y = ssim_losses[start:end]\n",
    "\n",
    "    # ax1.plot(x, mse_y)\n",
    "    ax1.scatter(x, mse_y)\n",
    "\n",
    "    # ax2.plot(x, ssim_y)\n",
    "    ax2.scatter(x, ssim_y)\n",
    "\n",
    "plt.rcParams['font.size'] = '20'\n",
    "\n",
    "ax1.legend(names, fontsize=15)\n",
    "ax1.set_title('MSE image losses', fontsize=20)\n",
    "ax1.set_xlabel('image number', fontsize=20)\n",
    "ax1.set_ylabel('MSE loss', fontsize=20)\n",
    "\n",
    "ax2.legend(names, fontsize=15)\n",
    "ax2.set_title('Structural image similarity', fontsize=20)\n",
    "ax2.set_xlabel('image number', fontsize=20)\n",
    "ax2.set_ylabel('SSIM similarity', fontsize=20)\n",
    "\n",
    "name = 'vq-vae-2'\n",
    "plt.savefig(f'mse_ssim_losses_{name}_512.png')\n",
    "\n",
    "plt.show()"
   ]
  },
  {
   "cell_type": "code",
   "execution_count": null,
   "metadata": {
    "collapsed": false,
    "pycharm": {
     "name": "#%%\n"
    }
   },
   "outputs": [],
   "source": [
    "def get_emb_distr(f_vects, projection_axis, step, eps):\n",
    "    \"\"\"\n",
    "    :param step:\n",
    "    :param f_vects: ndarray shape (classes_num,N,2)\n",
    "    :param projection_axis:\n",
    "    :param eps:\n",
    "    :return:\n",
    "    \"\"\"\n",
    "\n",
    "    axis_start = f_vects[0, :, projection_axis].min()\n",
    "    axis_end = f_vects[0, :, projection_axis].max()\n",
    "\n",
    "    for vects in f_vects:\n",
    "        min_val = vects[:, projection_axis].min()\n",
    "        max_val = vects[:, projection_axis].max()\n",
    "\n",
    "        if min_val < axis_start:\n",
    "            axis_start = min_val\n",
    "\n",
    "        if max_val > axis_end:\n",
    "            axis_end = max_val\n",
    "\n",
    "    axis_step = step * (axis_end - axis_start)\n",
    "    axis_eps = eps * (axis_end - axis_start)\n",
    "    axis_vals = np.arange(axis_start, axis_end, axis_step)\n",
    "\n",
    "    points_distr = []\n",
    "\n",
    "    for i, vects in enumerate(f_vects):\n",
    "        points_distr.append([])\n",
    "        for axis_val in axis_vals:\n",
    "            counter = 0\n",
    "            for point in vects[:, projection_axis]:\n",
    "                if abs(point - axis_val) <= axis_eps:\n",
    "                    counter += 1\n",
    "            points_distr[i].append(counter)\n",
    "\n",
    "    for i, distr in enumerate(points_distr):\n",
    "        points_distr[i] = np.array(points_distr[i]) / sum(distr)\n",
    "\n",
    "    return axis_vals, np.array(points_distr), axis_step, axis_eps"
   ]
  },
  {
   "cell_type": "code",
   "execution_count": null,
   "metadata": {
    "collapsed": false,
    "pycharm": {
     "name": "#%%\n"
    }
   },
   "outputs": [],
   "source": [
    "names = ['Ultra_Co8\\nсредние зерна', 'Ultra_Co11\\nмелкие зерна', 'Ultra_Co6_2\\nмелкие зерна',\n",
    "         'Ultra_Co15\\nкрупные зерна', 'Ultra_Co25\\nсредне-мелкие зерна']\n",
    "\n",
    "colors = ['b', 'g', 'y', 'm', 'c']\n",
    "markers = ['8', 'v', 's', 'd', '*', ]\n",
    "\n",
    "f, (ax1, ax2) = plt.subplots(2, 1, figsize=(20, 20))\n",
    "\n",
    "title = 'VQ-VAE-2 embs projections'\n",
    "\n",
    "ax1.set_title(f'{title}', fontsize=20)\n",
    "ax1.set_xlabel('y val', fontsize=20)\n",
    "ax1.set_ylabel('norm(count)', fontsize=20)\n",
    "\n",
    "ax2.set_title(f'{title}', fontsize=20)\n",
    "ax2.set_xlabel('x val', fontsize=20)\n",
    "ax2.set_ylabel('norm(count)', fontsize=20)\n",
    "\n",
    "step = 0.05\n",
    "size = 4\n",
    "# eps=step/2\n",
    "eps = 0.2\n",
    "projection_axis = 1\n",
    "\n",
    "f_vects = umaped_vct_2d_b.reshape((5, 360, 2))\n",
    "\n",
    "x_axis_vals, x_points_distr, x_step, x_eps = get_emb_distr(f_vects, projection_axis=0, step=step, eps=eps)\n",
    "y_axis_vals, y_points_distr, y_step, y_eps = get_emb_distr(f_vects, projection_axis=1, step=step, eps=eps)\n",
    "\n",
    "for i in range(len(x_points_distr)):\n",
    "    ax1.plot(y_axis_vals, y_points_distr[i], color=colors[i])\n",
    "    ax2.plot(x_axis_vals, x_points_distr[i], color=colors[i])\n",
    "\n",
    "for i in range(len(x_points_distr)):\n",
    "    # y projection\n",
    "    ax1.scatter(y_axis_vals, y_points_distr[i], edgecolor=colors[i], s=size, marker=markers[i])\n",
    "\n",
    "    # x prjection\n",
    "    ax2.scatter(x_axis_vals, x_points_distr[i], edgecolor=colors[i], s=size, marker=markers[i])\n",
    "\n",
    "ax1.legend(names + [\n",
    "    f'шаг={round(y_step, 2)}, доля от длины оси={int(step * 100)}%\\neps={round(y_eps, 2)}, доля от длины оси={int(eps * 100)}%'],\n",
    "           fontsize=15)\n",
    "ax2.legend(names + [\n",
    "    f'шаг={round(x_step, 2)}, доля от длины оси={int(step * 100)}%\\neps={round(x_eps, 2)}, доля от длины оси={int(eps * 100)}%'],\n",
    "           fontsize=15)\n",
    "\n",
    "plt.savefig(f'embs_projection_vq_vae_2_step={step}_eps={eps}.png')\n",
    "plt.show()"
   ]
  }
 ],
 "metadata": {
  "kernelspec": {
   "display_name": "torch",
   "language": "python",
   "name": "torch"
  },
  "language_info": {
   "codemirror_mode": {
    "name": "ipython",
    "version": 2
   },
   "file_extension": ".py",
   "mimetype": "text/x-python",
   "name": "python",
   "nbconvert_exporter": "python",
   "pygments_lexer": "ipython2",
   "version": "2.7.6"
  }
 },
 "nbformat": 4,
 "nbformat_minor": 0
}
