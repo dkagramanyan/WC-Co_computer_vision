{
 "cells": [
  {
   "cell_type": "code",
   "execution_count": null,
   "id": "46df884a-505b-47db-8def-ec8276042fdc",
   "metadata": {},
   "outputs": [],
   "source": [
    "\"\"\"\n",
    "Train an encoder/decoder on the MNIST dataset.\n",
    "\"\"\"\n",
    "\n",
    "import os\n",
    "\n",
    "from PIL import Image\n",
    "import numpy as np\n",
    "import torch\n",
    "import torch.optim as optim\n",
    "\n",
    "from examples.mnist.model import make_vq_vae\n",
    "from examples.mnist.train_generator import load_images\n",
    "\n",
    "from tqdm.notebook import tqdm\n",
    "\n",
    "DEVICE = torch.device('cuda')"
   ]
  },
  {
   "cell_type": "markdown",
   "id": "c0994ed1-0868-41fd-ab5d-0c86b92f2bf9",
   "metadata": {},
   "source": [
    "# Train vqvae2"
   ]
  },
  {
   "cell_type": "code",
   "execution_count": null,
   "id": "990bb47f-4bb4-4d31-8fb8-77ceea9d7f71",
   "metadata": {},
   "outputs": [],
   "source": [
    "def save_reconstructions(batch, decoded, i):\n",
    "    batch = batch.detach().permute(0, 2, 3, 1).contiguous()\n",
    "    decoded = decoded.detach().permute(0, 2, 3, 1).contiguous()\n",
    "    input_images = (np.concatenate(batch.cpu().numpy(), axis=0) * 255).astype(np.uint8)\n",
    "    output_images = np.concatenate(decoded.cpu().numpy(), axis=0)\n",
    "    output_images = (np.clip(output_images, 0, 1) * 255).astype(np.uint8)\n",
    "    joined = np.concatenate([input_images[..., 0], output_images[..., 0]], axis=1)\n",
    "    Image.fromarray(joined).save(f'{folder}/i={i}reconstructions.png')\n"
   ]
  },
  {
   "cell_type": "code",
   "execution_count": null,
   "id": "296b2f2e-0e48-49fe-9d90-6c6f6a66d9e6",
   "metadata": {},
   "outputs": [],
   "source": [
    "vae = make_vq_vae()\n",
    "\n",
    "if os.path.exists('vae.pt'):\n",
    "    vae.load_state_dict(torch.load('vae.pt', map_location='cuda'))\n",
    "    \n",
    "vae.to(DEVICE)\n",
    "optimizer = optim.Adam(vae.parameters())\n",
    "\n",
    "folder='test_run'\n",
    "\n",
    "for i, batch in tqdm(enumerate(load_images())):\n",
    "    batch = batch.to(DEVICE)\n",
    "    terms = vae(batch)\n",
    "    print('step %d: loss=%f ' % (i, terms['loss'].item()))\n",
    "    optimizer.zero_grad()\n",
    "    terms['loss'].backward()\n",
    "    optimizer.step()\n",
    "    vae.revive_dead_entries()\n",
    "    if not i % 100:\n",
    "        torch.save(vae.state_dict(), f'{folder}/i={i}_vae.pt')\n",
    "    if not i % 100:\n",
    "        save_reconstructions(batch, terms['reconstructions'][-1], i)"
   ]
  },
  {
   "cell_type": "code",
   "execution_count": null,
   "id": "60b19bd4-fcb4-4162-a341-1fd04c8abf41",
   "metadata": {},
   "outputs": [],
   "source": []
  }
 ],
 "metadata": {
  "kernelspec": {
   "display_name": "torch",
   "language": "python",
   "name": "torch"
  },
  "language_info": {
   "codemirror_mode": {
    "name": "ipython",
    "version": 3
   },
   "file_extension": ".py",
   "mimetype": "text/x-python",
   "name": "python",
   "nbconvert_exporter": "python",
   "pygments_lexer": "ipython3",
   "version": "3.11.5"
  }
 },
 "nbformat": 4,
 "nbformat_minor": 5
}
