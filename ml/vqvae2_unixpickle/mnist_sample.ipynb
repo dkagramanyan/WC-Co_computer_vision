{
 "cells": [
  {
   "cell_type": "code",
   "execution_count": 25,
   "id": "174096ee-ac4c-42e7-98ce-ebcb37d58029",
   "metadata": {
    "tags": []
   },
   "outputs": [],
   "source": [
    "\"\"\"\n",
    "Sample an image from a PixelCNN.\n",
    "\"\"\"\n",
    "\n",
    "import random\n",
    "\n",
    "from PIL import Image\n",
    "import numpy as np\n",
    "import torch\n",
    "\n",
    "from examples.mnist.model import Generator, make_vq_vae\n",
    "from matplotlib import pyplot as plt\n",
    "\n",
    "DEVICE = torch.device('cuda')"
   ]
  },
  {
   "cell_type": "code",
   "execution_count": 2,
   "id": "580fe851-d946-4d9d-a8d5-ae00fc6ad7d1",
   "metadata": {
    "tags": []
   },
   "outputs": [],
   "source": [
    "def sample_softmax(probs):\n",
    "    number = random.random()\n",
    "    for i, x in enumerate(probs):\n",
    "        number -= x\n",
    "        if number <= 0:\n",
    "            return i\n",
    "    return len(probs) - 1\n"
   ]
  },
  {
   "cell_type": "code",
   "execution_count": 27,
   "id": "e7ed92c2-0111-4b1c-b38e-cb4dd437bfd8",
   "metadata": {
    "tags": []
   },
   "outputs": [
    {
     "name": "stdout",
     "output_type": "stream",
     "text": [
      "done row 0\n",
      "done row 1\n",
      "done row 2\n",
      "done row 3\n",
      "done row 4\n",
      "done row 5\n",
      "done row 6\n"
     ]
    }
   ],
   "source": [
    "\n",
    "vae = make_vq_vae()\n",
    "vae.load_state_dict(torch.load('test_run_mnist/i=900_vae.pt', map_location='cuda'))\n",
    "vae.to(DEVICE)\n",
    "vae.eval()\n",
    "generator = Generator()\n",
    "generator.load_state_dict(torch.load('test_run_mnist/i=900_gen.pt', map_location='cuda'))\n",
    "generator.to(DEVICE)\n",
    "\n",
    "inputs = np.zeros([16, 7, 7], dtype=np.longlong)\n",
    "for row in range(7):\n",
    "    for col in range(7):\n",
    "        with torch.no_grad():\n",
    "            outputs = torch.softmax(generator(torch.from_numpy(inputs).to(DEVICE)), dim=1)\n",
    "            for i, out in enumerate(outputs.cpu().numpy()):\n",
    "                probs = out[:, row, col]\n",
    "                inputs[i, row, col] = sample_softmax(probs)\n",
    "    print('done row', row)\n",
    "embedded = vae.encoders[0].vq.embed(torch.from_numpy(inputs).to(DEVICE))\n",
    "decoded = torch.clamp(vae.decoders[0]([embedded]), 0, 1).detach().cpu().numpy()\n",
    "decoded = np.concatenate(decoded, axis=1)\n",
    "# decoded = decoded.reshape((4,4,32,32))\n",
    "decoded=(decoded * 255).astype(np.uint8)[0]\n",
    "# decoded=decoded.reshape((int(32*4),int(32*4)))\n",
    "Image.fromarray(decoded).save('samples_2.png')\n"
   ]
  },
  {
   "cell_type": "code",
   "execution_count": null,
   "id": "22bb2629-7971-4b64-9eae-15753e5ea271",
   "metadata": {},
   "outputs": [],
   "source": []
  }
 ],
 "metadata": {
  "kernelspec": {
   "display_name": "torch",
   "language": "python",
   "name": "torch"
  },
  "language_info": {
   "codemirror_mode": {
    "name": "ipython",
    "version": 3
   },
   "file_extension": ".py",
   "mimetype": "text/x-python",
   "name": "python",
   "nbconvert_exporter": "python",
   "pygments_lexer": "ipython3",
   "version": "3.11.5"
  }
 },
 "nbformat": 4,
 "nbformat_minor": 5
}
