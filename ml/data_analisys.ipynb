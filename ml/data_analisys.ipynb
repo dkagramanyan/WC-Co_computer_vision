{
 "cells": [
  {
   "cell_type": "code",
   "execution_count": 1,
   "metadata": {
    "collapsed": true,
    "pycharm": {
     "name": "#%%\n"
    }
   },
   "outputs": [],
   "source": [
    "import numpy as np\n",
    "from src.cfg import CfgDataset,CfgAnglesNames,CfgBeamsNames\n",
    "# from tabulate import tabulate\n",
    "\n",
    "import tensorflow as tf\n",
    "from tensorflow.keras.layers import Conv2D, Input, BatchNormalization, ReLU, MaxPool2D, UpSampling2D\n",
    "\n",
    "from tensorflow.keras import backend\n",
    "from tensorflow.keras.applications import imagenet_utils\n",
    "\n",
    "from tensorflow.keras import layers\n",
    "from tensorflow.python.util.tf_export import keras_export\n",
    "from tensorflow.python.keras.utils import data_utils\n",
    "import numpy as np\n",
    "from matplotlib import pyplot as plt\n",
    "import math"
   ]
  },
  {
   "cell_type": "code",
   "execution_count": null,
   "outputs": [],
   "source": [
    "step=5\n",
    "folder = 'data/saved np'\n",
    "\n",
    "xy_gauss_data=np.load(f'{folder}/'+CfgAnglesNames.approx_data+f'{step}.npy', allow_pickle=True)\n",
    "xy_linear_data=np.load(f'{folder}/'+CfgBeamsNames.approx_data+f'{step}.npy', allow_pickle=True)"
   ],
   "metadata": {
    "collapsed": false,
    "pycharm": {
     "name": "#%%\n"
    }
   }
  },
  {
   "cell_type": "code",
   "execution_count": null,
   "outputs": [],
   "source": [
    "texts_angles=np.load(f'{folder}/'+CfgAnglesNames.legend+f'{step}.npy', allow_pickle=True)\n",
    "texts_beams=np.load(f'{folder}/'+CfgBeamsNames.legend+f'{step}.npy', allow_pickle=True)"
   ],
   "metadata": {
    "collapsed": false,
    "pycharm": {
     "name": "#%%\n"
    }
   }
  },
  {
   "cell_type": "code",
   "execution_count": null,
   "outputs": [],
   "source": [
    "image_shape = (1024, 1024, 3)\n",
    "model = tf.keras.applications.VGG19(include_top=False, weights='imagenet', input_shape=image_shape)\n",
    "model.summary()"
   ],
   "metadata": {
    "collapsed": false,
    "pycharm": {
     "name": "#%%\n"
    }
   }
  },
  {
   "cell_type": "code",
   "execution_count": null,
   "outputs": [],
   "source": [
    "for i, layer in enumerate(model.layers):\n",
    "    print(f'i={i} name {layer.name}')"
   ],
   "metadata": {
    "collapsed": false,
    "pycharm": {
     "name": "#%%\n"
    }
   }
  },
  {
   "cell_type": "code",
   "execution_count": null,
   "outputs": [],
   "source": [
    "all_images = np.load('data/saved np/all_images_no_preprocess.npy', allow_pickle=True)\n",
    "all_images_rgb = []\n",
    "for i, images_list in enumerate(all_images):\n",
    "    for image_gray in images_list:\n",
    "        tf_image = tf.expand_dims(image_gray / 255, 2)\n",
    "        tf_rgb = tf.image.grayscale_to_rgb(tf_image)\n",
    "        tf_preproc = tf.image.resize(tf_rgb, (1024, 1024))\n",
    "        all_images_rgb.append(tf_preproc)\n",
    "\n",
    "all_images_rgb = np.array(all_images_rgb)"
   ],
   "metadata": {
    "collapsed": false,
    "pycharm": {
     "name": "#%%\n"
    }
   }
  },
  {
   "cell_type": "code",
   "execution_count": null,
   "outputs": [],
   "source": [
    "image=all_images_rgb[0]\n",
    "\n",
    "layers_name = ['block1_pool', 'block2_pool', 'block3_pool', 'block4_pool', 'block5_pool']\n",
    "outputs = [model.get_layer(name).output for name in layers_name]\n",
    "\n",
    "intermediate_layer_model = tf.keras.Model(inputs=model.input,\n",
    "                                          outputs=outputs)\n",
    "intermediate_output = intermediate_layer_model.predict(tf.expand_dims(all_images_rgb[0], 0))\n",
    "\n",
    "for level in range(0,5):\n",
    "    filters=intermediate_output[level][0]\n",
    "\n",
    "    filters_num=filters.shape[-1]\n",
    "    n_rows=int(math.sqrt(filters_num))\n",
    "\n",
    "    fig,ax=plt.subplots(nrows=n_rows,ncols=n_rows,figsize=(50,50))\n",
    "    step=0\n",
    "    for i in range(n_rows):\n",
    "        for j in range(n_rows):\n",
    "            ax[i][j].imshow(filters[:,:,step],cmap='gray')\n",
    "            step+=1\n",
    "    # plt.savefig(f'vgg_cnn_filters_level_{1+level}.png')\n",
    "plt.show()"
   ],
   "metadata": {
    "collapsed": false,
    "pycharm": {
     "name": "#%%\n"
    }
   }
  }
 ],
 "metadata": {
  "kernelspec": {
   "name": "tf2",
   "language": "python",
   "display_name": "tf2"
  },
  "language_info": {
   "codemirror_mode": {
    "name": "ipython",
    "version": 2
   },
   "file_extension": ".py",
   "mimetype": "text/x-python",
   "name": "python",
   "nbconvert_exporter": "python",
   "pygments_lexer": "ipython2",
   "version": "2.7.6"
  }
 },
 "nbformat": 4,
 "nbformat_minor": 0
}