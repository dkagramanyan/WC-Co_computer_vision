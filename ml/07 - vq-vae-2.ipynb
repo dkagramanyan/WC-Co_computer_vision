{
 "cells": [
  {
   "cell_type": "code",
   "execution_count": null,
   "outputs": [],
   "source": [
    "import argparse\n",
    "import sys\n",
    "import os\n",
    "from skimage import io\n",
    "\n",
    "import torch\n",
    "from torch import nn, optim\n",
    "from torch.utils.data import DataLoader\n",
    "\n",
    "from torchvision import datasets, transforms, utils\n",
    "import matplotlib.patches as mpatches\n",
    "\n",
    "from tqdm import tqdm\n",
    "\n",
    "# from scheduler import CycleScheduler\n",
    "import src.pt_utils as dist\n",
    "from umap import UMAP\n",
    "from sklearn.model_selection import train_test_split\n",
    "from matplotlib import pyplot as plt\n",
    "from collections import Counter\n",
    "from skimage import transform, metrics\n",
    "import skimage\n",
    "import pandas as pd\n",
    "import numpy as np\n",
    "import glob\n",
    "\n",
    "from src import pt_models\n",
    "from torchsummary import summary"
   ],
   "metadata": {
    "collapsed": false,
    "pycharm": {
     "name": "#%%\n"
    }
   }
  },
  {
   "cell_type": "code",
   "execution_count": null,
   "outputs": [],
   "source": [
    "device = \"cuda\"\n",
    "model = pt_models.VQVAE(in_channel=3,\n",
    "                        channel=128,\n",
    "                        n_res_block=5,\n",
    "                        n_res_channel=32,\n",
    "                        embed_dim=64,\n",
    "                        n_embed=512,\n",
    "                        decay=0.99).to(device)\n"
   ],
   "metadata": {
    "collapsed": false,
    "pycharm": {
     "name": "#%%\n"
    }
   }
  },
  {
   "cell_type": "code",
   "execution_count": null,
   "outputs": [],
   "source": [
    "# summary(model, input_size=(3, 512, 512))"
   ],
   "metadata": {
    "collapsed": false,
    "pycharm": {
     "name": "#%%\n"
    }
   }
  },
  {
   "cell_type": "code",
   "execution_count": null,
   "outputs": [],
   "source": [
    "dataset_path = 'data/dataset_t/'\n",
    "\n",
    "resize_shape = (512, 512)\n",
    "\n",
    "n_gpu = 1\n",
    "batch_size = 8\n",
    "val_split = 0.25\n",
    "\n",
    "transform = transforms.Compose(\n",
    "    [\n",
    "        transforms.Resize(resize_shape),\n",
    "        transforms.RandomHorizontalFlip(),\n",
    "        transforms.RandomVerticalFlip(),\n",
    "        transforms.CenterCrop(resize_shape),\n",
    "        transforms.ToTensor(),\n",
    "        transforms.Normalize([0.5, 0.5, 0.5], [0.5, 0.5, 0.5]),\n",
    "    ]\n",
    ")\n",
    "\n",
    "dataset = datasets.ImageFolder(dataset_path, transform=transform)\n",
    "\n",
    "train_dataset_len = int(len(dataset) * (1 - val_split))\n",
    "test_dataset_len = len(dataset) - train_dataset_len\n",
    "\n",
    "train_dataset, test_dataset = torch.utils.data.random_split(dataset, [train_dataset_len, test_dataset_len],\n",
    "                                                            generator=torch.Generator().manual_seed(42))\n",
    "\n",
    "train_sampler = dist.data_sampler(train_dataset, shuffle=True, distributed=False)\n",
    "test_sampler = dist.data_sampler(test_dataset, shuffle=True, distributed=False)\n",
    "\n",
    "train_loader = DataLoader(\n",
    "    train_dataset, batch_size=batch_size // n_gpu, sampler=train_sampler, num_workers=2\n",
    ")\n",
    "test_loader = DataLoader(\n",
    "    test_dataset, batch_size=batch_size // n_gpu, sampler=test_sampler, num_workers=2\n",
    ")"
   ],
   "metadata": {
    "collapsed": false,
    "pycharm": {
     "name": "#%%\n"
    }
   }
  },
  {
   "cell_type": "code",
   "execution_count": null,
   "outputs": [],
   "source": [
    "model_file = 'data/logs/vq-vae-2/weights/vqvae_002_train_0.00976_test_0.00967.pt'\n",
    "\n",
    "model.load_state_dict(torch.load(model_file, map_location=torch.device('cuda')))"
   ],
   "metadata": {
    "collapsed": false,
    "pycharm": {
     "name": "#%%\n"
    }
   }
  },
  {
   "cell_type": "code",
   "execution_count": null,
   "outputs": [],
   "source": [
    "epochs = 100\n",
    "lr = 1e-4\n",
    "sample_path = 'data/logs/vq-vae-2/samples'\n",
    "model_path = 'data/logs/vq-vae-2/weights'\n",
    "\n",
    "optimizer = optim.Adam(model.parameters(), lr=lr, weight_decay=1e-7, amsgrad=True)\n",
    "# optimizer = optim.RMSprop(model.parameters(), lr=lr,weight_decay=1e-6,centered=True)\n",
    "\n",
    "for epoch in range(epochs):\n",
    "\n",
    "    if dist.is_primary():\n",
    "        train_loader = tqdm(train_loader)\n",
    "\n",
    "    criterion = nn.MSELoss()\n",
    "\n",
    "    latent_loss_weight = 0.25\n",
    "    sample_size = 25\n",
    "\n",
    "    mse_sum = 0\n",
    "    mse_n = 0\n",
    "    test_mean_loss = []\n",
    "    train_mean_loss = []\n",
    "\n",
    "    for i, (img, label) in enumerate(train_loader):\n",
    "        model.zero_grad()\n",
    "\n",
    "        img = img.to(device)\n",
    "\n",
    "        out, latent_loss = model(img)\n",
    "        recon_loss = criterion(out, img)\n",
    "        latent_loss = latent_loss.mean()\n",
    "        loss = recon_loss + latent_loss_weight * latent_loss\n",
    "        loss.backward()\n",
    "        train_mean_loss.append(loss.item())\n",
    "        # if scheduler is not None:\n",
    "        #     scheduler.step()\n",
    "        optimizer.step()\n",
    "\n",
    "        part_mse_sum = recon_loss.item() * img.shape[0]\n",
    "        part_mse_n = img.shape[0]\n",
    "        comm = {\"mse_sum\": part_mse_sum, \"mse_n\": part_mse_n}\n",
    "        comm = dist.all_gather(comm)\n",
    "\n",
    "        for part in comm:\n",
    "            mse_sum += part[\"mse_sum\"]\n",
    "            mse_n += part[\"mse_n\"]\n",
    "\n",
    "        if dist.is_primary():\n",
    "            lr = optimizer.param_groups[0][\"lr\"]\n",
    "\n",
    "            train_loader.set_description(\n",
    "                (\n",
    "                    f\"epoch: {epoch + 1}; loss: {str(round(np.mean(train_mean_loss), 5))}; mse: {recon_loss.item():.5f}; \"\n",
    "                    f\"latent: {latent_loss.item():.3f}; avg mse: {mse_sum / mse_n:.5f}; \"\n",
    "                    f\"lr: {lr:.5f}\"\n",
    "                )\n",
    "            )\n",
    "\n",
    "        model.train()\n",
    "\n",
    "    model.eval()\n",
    "\n",
    "    with torch.no_grad():\n",
    "\n",
    "        for j, (img, label) in enumerate(test_loader):\n",
    "            img = img.to(device)\n",
    "            out, latent_loss = model(img)\n",
    "            test_recon_loss = criterion(out, img)\n",
    "            test_latent_loss = latent_loss.mean()\n",
    "            test_loss = test_recon_loss + latent_loss_weight * latent_loss\n",
    "            test_mean_loss.append(round(test_loss.item(), 5))\n",
    "\n",
    "        sample = img[:sample_size]\n",
    "\n",
    "    utils.save_image(\n",
    "        torch.cat([sample, out], 0),\n",
    "        f\"{sample_path}/{str(epoch + 1).zfill(5)}.png\",\n",
    "        nrow=sample_size,\n",
    "        normalize=True,\n",
    "        range=(-1, 1),\n",
    "    )\n",
    "\n",
    "    print(f'test elbo: {str(round(np.mean(test_mean_loss), 5))}')\n",
    "    torch.save(model.state_dict(),\n",
    "               f\"{model_path}/vqvae_{str(epoch + 1).zfill(3)}_train_{str(round(np.mean(train_mean_loss), 5))}_test_{str(round(np.mean(test_mean_loss), 5))}.pt\")"
   ],
   "metadata": {
    "collapsed": false,
    "pycharm": {
     "name": "#%%\n"
    }
   }
  },
  {
   "cell_type": "code",
   "execution_count": null,
   "outputs": [],
   "source": [
    "sample_path = 'data/logs/vq-vae-2/samples'\n",
    "model_path = 'data/logs/vq-vae-2/weights'\n",
    "\n",
    "with torch.no_grad():\n",
    "    for j, (img, label) in enumerate(test_loader):\n",
    "        img = img.to(device)\n",
    "        out, latent_loss = model(img)\n",
    "\n",
    "        sample_size = 25\n",
    "        sample = img[:sample_size]\n",
    "\n",
    "        utils.save_image(\n",
    "            torch.cat([sample, out], 0),\n",
    "            f\"{sample_path}/{j}_vq_vae_2_test.png\",\n",
    "            nrow=sample_size,\n",
    "            normalize=True,\n",
    "            range=(-1, 1),\n",
    "        )"
   ],
   "metadata": {
    "collapsed": false,
    "pycharm": {
     "name": "#%%\n"
    }
   }
  },
  {
   "cell_type": "code",
   "execution_count": null,
   "outputs": [],
   "source": [
    "model_file = 'data/logs/vq-vae-2/vqvae_100_train_0.00409_test_0.00401_512.pt'\n",
    "\n",
    "model.load_state_dict(torch.load(model_file, map_location=torch.device('cuda')))"
   ],
   "metadata": {
    "collapsed": false,
    "pycharm": {
     "name": "#%%\n"
    }
   }
  },
  {
   "cell_type": "code",
   "execution_count": null,
   "outputs": [],
   "source": [
    "\n",
    "latent_loss_weight = 0.25\n",
    "\n",
    "images_embs_b = []\n",
    "indxb_list = []\n",
    "\n",
    "visual_loader = DataLoader(\n",
    "    dataset, batch_size=1 // n_gpu, num_workers=2\n",
    ")\n",
    "\n",
    "for i, (img, label) in enumerate(visual_loader):\n",
    "    model.zero_grad()\n",
    "    img = img.to(device)\n",
    "\n",
    "    quant_t, quant_b, diff, _, indx_b = model.encode(img)\n",
    "    indxb_list.append(indx_b)\n",
    "    # images_embs_t.append(quant_t.cpu().detach().numpy().flatten())\n",
    "    swapped=np.swapaxes(quant_b.cpu().detach().numpy()[0],0,-1)\n",
    "    images_embs_b.append(swapped)\n",
    "\n",
    "images_embs_b=np.array(images_embs_b)"
   ],
   "metadata": {
    "collapsed": false,
    "pycharm": {
     "name": "#%%\n"
    }
   }
  },
  {
   "cell_type": "code",
   "execution_count": 1,
   "outputs": [
    {
     "ename": "NameError",
     "evalue": "name 'images_embs_b' is not defined",
     "output_type": "error",
     "traceback": [
      "\u001B[1;31m---------------------------------------------------------------------------\u001B[0m",
      "\u001B[1;31mNameError\u001B[0m                                 Traceback (most recent call last)",
      "\u001B[1;32m<ipython-input-1-b7003681f5db>\u001B[0m in \u001B[0;36m<module>\u001B[1;34m\u001B[0m\n\u001B[1;32m----> 1\u001B[1;33m \u001B[0mimages_embs_b\u001B[0m\u001B[1;33m.\u001B[0m\u001B[0mshape\u001B[0m\u001B[1;33m\u001B[0m\u001B[1;33m\u001B[0m\u001B[0m\n\u001B[0m",
      "\u001B[1;31mNameError\u001B[0m: name 'images_embs_b' is not defined"
     ]
    }
   ],
   "source": [
    "images_embs_b.shape"
   ],
   "metadata": {
    "collapsed": false,
    "pycharm": {
     "name": "#%%\n"
    }
   }
  },
  {
   "cell_type": "code",
   "execution_count": null,
   "outputs": [],
   "source": [
    "images_embs=images_embs_b.reshape((450,-1,64))"
   ],
   "metadata": {
    "collapsed": false,
    "pycharm": {
     "name": "#%%\n"
    }
   }
  },
  {
   "cell_type": "code",
   "execution_count": null,
   "outputs": [],
   "source": [
    "images_embs.shape"
   ],
   "metadata": {
    "collapsed": false,
    "pycharm": {
     "name": "#%%\n"
    }
   }
  },
  {
   "cell_type": "code",
   "execution_count": null,
   "outputs": [],
   "source": [
    "mean_embs=[image_emb.mean(axis=0) for image_emb in images_embs]\n",
    "mean_embs=np.array(mean_embs)"
   ],
   "metadata": {
    "collapsed": false,
    "pycharm": {
     "name": "#%%\n"
    }
   }
  },
  {
   "cell_type": "code",
   "execution_count": null,
   "outputs": [],
   "source": [
    "mean_embs.shape"
   ],
   "metadata": {
    "collapsed": false,
    "pycharm": {
     "name": "#%%\n"
    }
   }
  },
  {
   "cell_type": "code",
   "execution_count": null,
   "outputs": [],
   "source": [
    "np.save('vq-vae-2-embs_b.npy', images_embs_b)"
   ],
   "metadata": {
    "collapsed": false,
    "pycharm": {
     "name": "#%%\n"
    }
   }
  },
  {
   "cell_type": "code",
   "execution_count": null,
   "outputs": [],
   "source": [
    "images_embs_b = np.load('vq-vae-2-embs_b.npy')"
   ],
   "metadata": {
    "collapsed": false,
    "pycharm": {
     "name": "#%%\n"
    }
   }
  },
  {
   "cell_type": "code",
   "execution_count": null,
   "outputs": [],
   "source": [
    "sample = test_loader.dataset[45][0]\n",
    "img = torch.unsqueeze(sample, 0)\n",
    "img = img.to(device)\n",
    "model_out = model(img)[0]\n",
    "out = model_out.cpu().detach().numpy()[0]\n",
    "out = np.moveaxis(out, 0, -1)\n",
    "out = skimage.color.rgb2gray(out) * 255\n",
    "out = out.astype(np.uint8)\n",
    "\n",
    "utils.save_image(\n",
    "    model_out,\n",
    "    \"vq_vae_2_test.png\",\n",
    "    nrow=1,\n",
    "    normalize=True,\n",
    "    range=(-1, 1),\n",
    ")\n",
    "\n",
    "plt.figure(figsize=(10, 10))\n",
    "plt.imshow(out, cmap='gray')\n",
    "# io.imsave('vq_vae_2_test.png',out)"
   ],
   "metadata": {
    "collapsed": false,
    "pycharm": {
     "name": "#%%\n"
    }
   }
  },
  {
   "cell_type": "code",
   "execution_count": null,
   "outputs": [],
   "source": [
    "seed = 51\n",
    "umap_2d = UMAP(random_state=seed)\n",
    "# umaped_vct_2d_t = umap_2d.fit_transform(images_embs_t)\n",
    "umaped_vct_2d_b = umap_2d.fit_transform(mean_embs)"
   ],
   "metadata": {
    "collapsed": false,
    "pycharm": {
     "name": "#%%\n"
    }
   }
  },
  {
   "cell_type": "code",
   "execution_count": null,
   "outputs": [],
   "source": [
    "# def plot_2d_scatter(images, legend, dot_size=20, fontsize=15, save=False, plot=True, N=15, M=15):\n",
    "N = 12\n",
    "M = 12\n",
    "fontsize = 15\n",
    "dot_size = 60\n",
    "\n",
    "embs_scatter = umaped_vct_2d_b\n",
    "\n",
    "fig, ax = plt.subplots(figsize=(N, M))\n",
    "\n",
    "colors = ['b', 'g', 'y', 'm', 'c']\n",
    "markers = ['8', 'v', 's', 'd', '*', ]\n",
    "\n",
    "# legend = ['Ultra_Co8\\nсредние зерна', 'Ultra_Co11\\nмелкие зерна', 'Ultra_Co6_2\\nмелкие зерна',\n",
    "#           'Ultra_Co15\\nкрупные зерна', 'Ultra_Co25\\nсредне-мелкие зерна']\n",
    "\n",
    "legend = ['Ultra_Co8\\nmedium size', 'Ultra_Co11\\nsmall size', 'Ultra_Co6_2\\nsmall size',\n",
    "          'Ultra_Co15\\nlarge size', 'Ultra_Co25\\nmedium-small size']\n",
    "\n",
    "cnt = Counter(np.array(dataset.samples)[:, 1])\n",
    "\n",
    "for i in cnt.keys():\n",
    "    emb_number = cnt[i]\n",
    "    key = int(i)\n",
    "\n",
    "    start = 0\n",
    "    for val in range(int(i)):\n",
    "        start += cnt[str(val)]\n",
    "\n",
    "    stop = start + emb_number\n",
    "    ax.scatter(embs_scatter[start:stop, 0], embs_scatter[start:stop, 1], color=colors[key], s=dot_size,\n",
    "               marker=markers[key])\n",
    "\n",
    "ax.legend(legend, fontsize=fontsize)\n",
    "plt.savefig(f'embs_space_seed={seed}_b_512_mean.png')\n",
    "plt.show()"
   ],
   "metadata": {
    "collapsed": false,
    "pycharm": {
     "name": "#%%\n"
    }
   }
  },
  {
   "cell_type": "code",
   "execution_count": null,
   "outputs": [],
   "source": [
    "mse_losses = []\n",
    "ssim_losses = []\n",
    "\n",
    "visual_loader = DataLoader(\n",
    "    dataset, batch_size=1, num_workers=2\n",
    ")\n",
    "\n",
    "for i, (img, label) in enumerate(visual_loader):\n",
    "    model.zero_grad()\n",
    "    img = img.to(device)\n",
    "\n",
    "    out, latent_loss = model(img)\n",
    "    predicted_image = np.transpose(out.cpu().detach().numpy()[0])\n",
    "    original_image = np.transpose(img.cpu().detach().numpy()[0])\n",
    "\n",
    "    mse_losses.append(metrics.mean_squared_error(original_image, predicted_image))\n",
    "    ssim_losses.append(metrics.structural_similarity(original_image, predicted_image, multichannel=True))\n",
    "\n",
    "mse_losses = np.array(mse_losses)\n",
    "ssim_losses = np.array(ssim_losses)"
   ],
   "metadata": {
    "collapsed": false,
    "pycharm": {
     "name": "#%%\n"
    }
   }
  },
  {
   "cell_type": "code",
   "execution_count": null,
   "outputs": [],
   "source": [
    "fig, (ax1, ax2) = plt.subplots(1, 2, figsize=(30, 15))\n",
    "\n",
    "names = ['Ultra_Co8\\nсредние зерна', 'Ultra_Co11\\nмелкие зерна', 'Ultra_Co6_2\\nмелкие зерна',\n",
    "         'Ultra_Co15\\nкрупные зерна', 'Ultra_Co25\\nсредне-мелкие зерна']\n",
    "\n",
    "colors = ['b', 'g', 'y', 'm', 'c']\n",
    "markers = ['8', 'v', 's', 'd', '*', ]\n",
    "\n",
    "f_vects = []\n",
    "\n",
    "cnt = Counter(np.array(dataset.samples)[:, 1])\n",
    "\n",
    "for i in cnt.keys():\n",
    "    emb_number = cnt[i]\n",
    "    key = int(i)\n",
    "\n",
    "    start = 0\n",
    "    for val in range(int(i)):\n",
    "        start += cnt[str(val)]\n",
    "\n",
    "    end = start + emb_number\n",
    "\n",
    "    x = np.arange(mse_losses.shape[0])[start:end]\n",
    "    mse_y = mse_losses[start:end]\n",
    "    ssim_y = ssim_losses[start:end]\n",
    "\n",
    "    # ax1.plot(x, mse_y)\n",
    "    ax1.scatter(x, mse_y)\n",
    "\n",
    "    # ax2.plot(x, ssim_y)\n",
    "    ax2.scatter(x, ssim_y)\n",
    "\n",
    "plt.rcParams['font.size'] = '20'\n",
    "\n",
    "ax1.legend(names, fontsize=15)\n",
    "ax1.set_title('MSE image losses', fontsize=20)\n",
    "ax1.set_xlabel('image number', fontsize=20)\n",
    "ax1.set_ylabel('MSE loss', fontsize=20)\n",
    "\n",
    "ax2.legend(names, fontsize=15)\n",
    "ax2.set_title('Structural image similarity', fontsize=20)\n",
    "ax2.set_xlabel('image number', fontsize=20)\n",
    "ax2.set_ylabel('SSIM similarity', fontsize=20)\n",
    "\n",
    "name = 'vq-vae-2'\n",
    "plt.savefig(f'mse_ssim_losses_{name}_512.png')\n",
    "\n",
    "plt.show()"
   ],
   "metadata": {
    "collapsed": false,
    "pycharm": {
     "name": "#%%\n"
    }
   }
  },
  {
   "cell_type": "code",
   "execution_count": null,
   "outputs": [],
   "source": [
    "def get_emb_distr(f_vects, projection_axis, step, eps):\n",
    "    \"\"\"\n",
    "    :param step:\n",
    "    :param f_vects: ndarray shape (classes_num,N,2)\n",
    "    :param projection_axis:\n",
    "    :param eps:\n",
    "    :return:\n",
    "    \"\"\"\n",
    "\n",
    "    axis_start = f_vects[0, :, projection_axis].min()\n",
    "    axis_end = f_vects[0, :, projection_axis].max()\n",
    "\n",
    "    for vects in f_vects:\n",
    "        min_val = vects[:, projection_axis].min()\n",
    "        max_val = vects[:, projection_axis].max()\n",
    "\n",
    "        if min_val < axis_start:\n",
    "            axis_start = min_val\n",
    "\n",
    "        if max_val > axis_end:\n",
    "            axis_end = max_val\n",
    "\n",
    "    axis_step = step * (axis_end - axis_start)\n",
    "    axis_eps = eps * (axis_end - axis_start)\n",
    "    axis_vals = np.arange(axis_start, axis_end, axis_step)\n",
    "\n",
    "    points_distr = []\n",
    "\n",
    "    for i, vects in enumerate(f_vects):\n",
    "        points_distr.append([])\n",
    "        for axis_val in axis_vals:\n",
    "            counter = 0\n",
    "            for point in vects[:, projection_axis]:\n",
    "                if abs(point - axis_val) <= axis_eps:\n",
    "                    counter += 1\n",
    "            points_distr[i].append(counter)\n",
    "\n",
    "    for i, distr in enumerate(points_distr):\n",
    "        points_distr[i] = np.array(points_distr[i]) / sum(distr)\n",
    "\n",
    "    return axis_vals, np.array(points_distr), axis_step, axis_eps"
   ],
   "metadata": {
    "collapsed": false,
    "pycharm": {
     "name": "#%%\n"
    }
   }
  },
  {
   "cell_type": "code",
   "execution_count": null,
   "outputs": [],
   "source": [
    "names = ['Ultra_Co8\\nсредние зерна', 'Ultra_Co11\\nмелкие зерна', 'Ultra_Co6_2\\nмелкие зерна',\n",
    "         'Ultra_Co15\\nкрупные зерна', 'Ultra_Co25\\nсредне-мелкие зерна']\n",
    "\n",
    "colors = ['b', 'g', 'y', 'm', 'c']\n",
    "markers = ['8', 'v', 's', 'd', '*', ]\n",
    "\n",
    "f, (ax1, ax2) = plt.subplots(2, 1, figsize=(20, 20))\n",
    "\n",
    "title = 'VQ-VAE-2 embs projections'\n",
    "\n",
    "ax1.set_title(f'{title}', fontsize=20)\n",
    "ax1.set_xlabel('y val', fontsize=20)\n",
    "ax1.set_ylabel('norm(count)', fontsize=20)\n",
    "\n",
    "ax2.set_title(f'{title}', fontsize=20)\n",
    "ax2.set_xlabel('x val', fontsize=20)\n",
    "ax2.set_ylabel('norm(count)', fontsize=20)\n",
    "\n",
    "step = 0.05\n",
    "size = 4\n",
    "# eps=step/2\n",
    "eps = 0.25\n",
    "projection_axis = 1\n",
    "\n",
    "f_vects = umaped_vct_2d_b.reshape((5, 90, 2))\n",
    "\n",
    "x_axis_vals, x_points_distr, x_step, x_eps = get_emb_distr(f_vects, projection_axis=0, step=step, eps=eps)\n",
    "y_axis_vals, y_points_distr, y_step, y_eps = get_emb_distr(f_vects, projection_axis=1, step=step, eps=eps)\n",
    "\n",
    "for i in range(len(x_points_distr)):\n",
    "    ax1.plot(y_axis_vals, y_points_distr[i], color=colors[i])\n",
    "    ax2.plot(x_axis_vals, x_points_distr[i], color=colors[i])\n",
    "\n",
    "\n",
    "for i in range(len(x_points_distr)):\n",
    "    # y projection\n",
    "    ax1.scatter(y_axis_vals, y_points_distr[i], edgecolor=colors[i], s=size, marker=markers[i])\n",
    "\n",
    "    # x prjection\n",
    "    ax2.scatter(x_axis_vals, x_points_distr[i], edgecolor=colors[i], s=size, marker=markers[i])\n",
    "\n",
    "ax1.legend(names + [\n",
    "    f'шаг={round(y_step, 2)}, доля от длины оси={int(step * 100)}%\\neps={round(y_eps, 2)}, доля от длины оси={int(eps * 100)}%'],\n",
    "           fontsize=15)\n",
    "ax2.legend(names + [\n",
    "    f'шаг={round(x_step, 2)}, доля от длины оси={int(step * 100)}%\\neps={round(x_eps, 2)}, доля от длины оси={int(eps * 100)}%'],\n",
    "           fontsize=15)\n",
    "\n",
    "plt.savefig(f'embs_projection_vq_vae_2_step={step}_eps={eps}.png')\n",
    "plt.show()"
   ],
   "metadata": {
    "collapsed": false,
    "pycharm": {
     "name": "#%%\n"
    }
   }
  }
 ],
 "metadata": {
  "kernelspec": {
   "name": "torch",
   "language": "python",
   "display_name": "torch"
  },
  "language_info": {
   "codemirror_mode": {
    "name": "ipython",
    "version": 2
   },
   "file_extension": ".py",
   "mimetype": "text/x-python",
   "name": "python",
   "nbconvert_exporter": "python",
   "pygments_lexer": "ipython2",
   "version": "2.7.6"
  }
 },
 "nbformat": 4,
 "nbformat_minor": 0
}