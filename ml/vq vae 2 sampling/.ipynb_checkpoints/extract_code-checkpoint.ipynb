{
 "cells": [
  {
   "cell_type": "code",
   "execution_count": null,
   "id": "50989df7-6814-420d-bbd1-6cc29155a419",
   "metadata": {},
   "outputs": [],
   "source": [
    "import argparse\n",
    "import pickle\n",
    "\n",
    "import torch\n",
    "from torch.utils.data import DataLoader\n",
    "from torchvision import transforms\n",
    "import lmdb\n",
    "from tqdm import tqdm\n",
    "\n",
    "from dataset import ImageFileDataset, CodeRow\n",
    "from vqvae import VQVAE"
   ]
  },
  {
   "cell_type": "code",
   "execution_count": null,
   "id": "95b7b0c8-1030-4c0d-b991-ee89375692fc",
   "metadata": {},
   "outputs": [],
   "source": [
    "def extract(lmdb_env, loader, model, device):\n",
    "    index = 0\n",
    "\n",
    "    with lmdb_env.begin(write=True) as txn:\n",
    "        pbar = tqdm(loader)\n",
    "\n",
    "        for img, _, filename in pbar:\n",
    "            img = img.to(device)\n",
    "\n",
    "            _, _, _, id_t, id_b = model.encode(img)\n",
    "            id_t = id_t.detach().cpu().numpy()\n",
    "            id_b = id_b.detach().cpu().numpy()\n",
    "\n",
    "            for file, top, bottom in zip(filename, id_t, id_b):\n",
    "                row = CodeRow(top=top, bottom=bottom, filename=file)\n",
    "                txn.put(str(index).encode('utf-8'), pickle.dumps(row))\n",
    "                index += 1\n",
    "                pbar.set_description(f'inserted: {index}')\n",
    "\n",
    "        txn.put('length'.encode('utf-8'), str(index).encode('utf-8'))"
   ]
  },
  {
   "cell_type": "code",
   "execution_count": null,
   "id": "aa2da0d9-e0d1-413f-bbc7-f73055b38aa4",
   "metadata": {},
   "outputs": [],
   "source": [
    "parser = argparse.ArgumentParser()\n",
    "parser.add_argument('--size', type=int, default=256)\n",
    "parser.add_argument('--ckpt', type=str)\n",
    "parser.add_argument('--name', type=str)\n",
    "parser.add_argument('path', type=str)\n",
    "\n",
    "args = parser.parse_args()\n",
    "\n",
    "device = 'cuda'\n",
    "\n",
    "transform = transforms.Compose(\n",
    "    [\n",
    "        transforms.Resize(args.size),\n",
    "        transforms.CenterCrop(args.size),\n",
    "        transforms.ToTensor(),\n",
    "        transforms.Normalize([0.5, 0.5, 0.5], [0.5, 0.5, 0.5]),\n",
    "    ]\n",
    ")\n",
    "\n",
    "dataset = ImageFileDataset(args.path, transform=transform)\n",
    "loader = DataLoader(dataset, batch_size=128, shuffle=False, num_workers=4)\n",
    "\n",
    "model = VQVAE()\n",
    "model.load_state_dict(torch.load(args.ckpt))\n",
    "model = model.to(device)\n",
    "model.eval()\n",
    "\n",
    "map_size = 100 * 1024 * 1024 * 1024\n",
    "\n",
    "env = lmdb.open(args.name, map_size=map_size)\n",
    "\n",
    "extract(env, loader, model, device)"
   ]
  }
 ],
 "metadata": {
  "kernelspec": {
   "display_name": "Python 3 (ipykernel)",
   "language": "python",
   "name": "python3"
  },
  "language_info": {
   "codemirror_mode": {
    "name": "ipython",
    "version": 3
   },
   "file_extension": ".py",
   "mimetype": "text/x-python",
   "name": "python",
   "nbconvert_exporter": "python",
   "pygments_lexer": "ipython3",
   "version": "3.11.7"
  }
 },
 "nbformat": 4,
 "nbformat_minor": 5
}
