{
 "cells": [
  {
   "cell_type": "code",
   "execution_count": null,
   "id": "f5b2355b-5160-43e8-a847-673fc4266d93",
   "metadata": {},
   "outputs": [],
   "source": []
  },
  {
   "cell_type": "markdown",
   "id": "1310a1c4-1288-4d49-be0b-30b2d252cc21",
   "metadata": {},
   "source": [
    "## 1. Combining $C^1_{top}$ and $C^2_{bottom}$"
   ]
  },
  {
   "cell_type": "code",
   "execution_count": null,
   "id": "97331144-1b80-4182-bf85-043e1d256b05",
   "metadata": {},
   "outputs": [],
   "source": []
  },
  {
   "cell_type": "markdown",
   "id": "517fa99d-805b-4dea-8b6a-bf3ae85ac67e",
   "metadata": {},
   "source": [
    "## 2. $C^1_{top/bottom}$ + random"
   ]
  },
  {
   "cell_type": "code",
   "execution_count": null,
   "id": "029e166b-e32e-4da9-bfb9-807fff1d4010",
   "metadata": {},
   "outputs": [],
   "source": []
  },
  {
   "cell_type": "markdown",
   "id": "af3783c2-5891-4d88-a54d-2d0d5876b6b5",
   "metadata": {},
   "source": [
    "## 2. $C^1_{top/bottom}$ + sampling"
   ]
  }
 ],
 "metadata": {
  "kernelspec": {
   "display_name": "torch",
   "language": "python",
   "name": "torch"
  },
  "language_info": {
   "codemirror_mode": {
    "name": "ipython",
    "version": 3
   },
   "file_extension": ".py",
   "mimetype": "text/x-python",
   "name": "python",
   "nbconvert_exporter": "python",
   "pygments_lexer": "ipython3",
   "version": "3.11.5"
  }
 },
 "nbformat": 4,
 "nbformat_minor": 5
}
