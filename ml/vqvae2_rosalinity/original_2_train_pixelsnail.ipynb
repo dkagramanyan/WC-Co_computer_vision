{
 "cells": [
  {
   "cell_type": "code",
   "execution_count": 26,
   "id": "12089de5-f4a5-42fc-b42b-b9457c515e4d",
   "metadata": {},
   "outputs": [],
   "source": [
    "import argparse\n",
    "\n",
    "import numpy as np\n",
    "import torch\n",
    "from torch import nn, optim\n",
    "from torch.utils.data import DataLoader\n",
    "from tqdm import tqdm\n",
    "\n",
    "try:\n",
    "    from apex import amp\n",
    "\n",
    "except ImportError:\n",
    "    amp = None\n",
    "\n",
    "from dataset import LMDBDataset\n",
    "from pixelsnail import PixelSNAIL\n",
    "from scheduler import CycleScheduler\n",
    "from torch.utils import data"
   ]
  },
  {
   "cell_type": "code",
   "execution_count": 33,
   "id": "5ed96dc6-0c6c-4a70-80d4-476d1dbed895",
   "metadata": {},
   "outputs": [],
   "source": [
    "def train( epoch, loader, model, optimizer, scheduler, device):\n",
    "    loader = tqdm(loader)\n",
    "\n",
    "    criterion = nn.CrossEntropyLoss()\n",
    "\n",
    "    for i, (top, bottom, label) in enumerate(loader):\n",
    "        model.zero_grad()\n",
    "\n",
    "        top = top.to(device)\n",
    "\n",
    "        if hier == 'top':\n",
    "            target = top\n",
    "            out, _ = model(top)\n",
    "\n",
    "        elif hier == 'bottom':\n",
    "            bottom = bottom.to(device)\n",
    "            target = bottom\n",
    "            out, _ = model(bottom, condition=top)\n",
    "\n",
    "        loss = criterion(out, target)\n",
    "        loss.backward()\n",
    "\n",
    "        if scheduler is not None:\n",
    "            scheduler.step()\n",
    "        optimizer.step()\n",
    "\n",
    "        _, pred = out.max(1)\n",
    "        correct = (pred == target).float()\n",
    "        accuracy = correct.sum() / target.numel()\n",
    "\n",
    "        lr = optimizer.param_groups[0]['lr']\n",
    "\n",
    "        loader.set_description(\n",
    "            (\n",
    "                f'epoch: {epoch + 1}; loss: {loss.item():.5f}; '\n",
    "                f'acc: {accuracy:.5f}; lr: {lr:.5f}'\n",
    "            )\n",
    "        )\n",
    "        \n",
    "def evaluate( epoch, loader, model, optimizer, scheduler, device):\n",
    "    loader = tqdm(loader)\n",
    "\n",
    "    criterion = nn.CrossEntropyLoss()\n",
    "    with torch.no_grad():\n",
    "        for i, (top, bottom, label) in tqdm(enumerate(loader)):\n",
    "\n",
    "            top = top.to(device)\n",
    "            bottom = bottom.to(device)\n",
    "\n",
    "            top=torch.squeeze(top,[1])\n",
    "            bottom=torch.squeeze(bottom, [1])\n",
    "\n",
    "\n",
    "            if hier == 'top':\n",
    "                target = top\n",
    "                out, _ = model(top)\n",
    "\n",
    "            elif hier == 'bottom':\n",
    "                target = bottom\n",
    "                out, _ = model(bottom, condition=top)\n",
    "\n",
    "            loss = criterion(out, target)\n",
    "\n",
    "            _, pred = out.max(1)\n",
    "            correct = (pred == target).float()\n",
    "            accuracy = correct.sum() / target.numel()\n",
    "\n",
    "            lr = optimizer.param_groups[0]['lr']\n",
    "\n",
    "            print(f'Test epoch: {epoch + 1}; loss: {loss.item():.5f}; acc: {accuracy:.5f}; lr: {lr:.5f}')\n",
    "\n",
    "            return round(loss.item()), accuracy\n",
    "\n",
    "\n",
    "\n",
    "class PixelTransform:\n",
    "    def __init__(self):\n",
    "        pass\n",
    "\n",
    "    def __call__(self, input):\n",
    "        ar = np.array(input)\n",
    "\n",
    "        return torch.from_numpy(ar).long()\n",
    "    \n",
    "def data_sampler(dataset, shuffle, distributed):\n",
    "    if distributed:\n",
    "        return data.distributed.DistributedSampler(dataset, shuffle=shuffle)\n",
    "\n",
    "    if shuffle:\n",
    "        return data.RandomSampler(dataset)\n",
    "\n",
    "    else:\n",
    "        return data.SequentialSampler(dataset)"
   ]
  },
  {
   "cell_type": "code",
   "execution_count": 40,
   "id": "848f6e44-8939-4abe-8e45-236034a3ee09",
   "metadata": {},
   "outputs": [],
   "source": [
    "n_res_block=4\n",
    "n_res_channel=256\n",
    "n_out_res_block=0\n",
    "n_cond_res_block=3\n",
    "amp='O0'\n",
    "channel=256\n",
    "dropout=0.1\n",
    "\n",
    "device = 'cuda'\n",
    "\n",
    "lr=3e-4\n",
    "# hier='top'\n",
    "hier='bottom'\n",
    "epoch=420\n",
    "batch=32\n",
    "val_split=0.15\n",
    "n_gpu=1\n",
    "\n",
    "sched='cycle'\n",
    "\n",
    "dataset_path='runs/embs_emb_dim_64_n_embed_512_bc_left_4x_768'\n",
    "\n",
    "dataset = LMDBDataset(dataset_path)\n",
    "\n",
    "train_dataset_len = int(len(dataset) * (1 - val_split))\n",
    "test_dataset_len = len(dataset) - train_dataset_len\n",
    "\n",
    "train_dataset, test_dataset = torch.utils.data.random_split(dataset, [train_dataset_len, test_dataset_len],\n",
    "                                                            # generator=torch.Generator().manual_seed(seed)\n",
    "                                                           )\n",
    "\n",
    "train_sampler = data_sampler(train_dataset, shuffle=True, distributed=False)\n",
    "test_sampler = data_sampler(test_dataset, shuffle=True, distributed=False)\n",
    "\n",
    "# fails when numw_workers!=0\n",
    "train_loader = DataLoader(\n",
    "    train_dataset, batch_size=batch // n_gpu, sampler=train_sampler, num_workers=0,\n",
    ")\n",
    "test_loader = DataLoader(\n",
    "    test_dataset, batch_size=batch // n_gpu, sampler=test_sampler,num_workers=0,\n",
    ")\n",
    "\n",
    "\n",
    "if hier == 'top':\n",
    "    model = PixelSNAIL(\n",
    "        [32, 32],\n",
    "        512,\n",
    "        channel,\n",
    "        5,\n",
    "        4,\n",
    "        n_res_block,\n",
    "        n_res_channel,\n",
    "        dropout=dropout,\n",
    "        n_out_res_block=n_out_res_block,\n",
    "    )\n",
    "\n",
    "elif hier == 'bottom':\n",
    "    model = PixelSNAIL(\n",
    "        [64, 64],\n",
    "        512,\n",
    "        channel,\n",
    "        5,\n",
    "        4,\n",
    "        n_res_block,\n",
    "        n_res_channel,\n",
    "        attention=False,\n",
    "        dropout=dropout,\n",
    "        n_cond_res_block=n_cond_res_block,\n",
    "        cond_res_channel=n_res_channel,\n",
    "    )\n",
    "\n",
    "# if 'model' in ckpt:\n",
    "#     model.load_state_dict(torch.load(model_path))\n",
    "\n",
    "model = model.to(device)\n",
    "optimizer = optim.Adam(model.parameters(), lr=lr)\n",
    "\n",
    "# if amp is not None:\n",
    "#     model, optimizer = amp.initialize(model, optimizer, opt_level=amp)\n",
    "\n",
    "model = nn.DataParallel(model)\n",
    "model = model.to(device)\n",
    "\n",
    "scheduler = None\n",
    "if sched == 'cycle':\n",
    "    scheduler = CycleScheduler(\n",
    "        optimizer, lr, n_iter=len(loader) * epoch, momentum=None\n",
    "    )"
   ]
  },
  {
   "cell_type": "code",
   "execution_count": 49,
   "id": "48fad8d2-7dd7-4617-b42f-321d770c8165",
   "metadata": {},
   "outputs": [
    {
     "name": "stderr",
     "output_type": "stream",
     "text": [
      "epoch: 1; loss: 5.29447; acc: 0.02037; lr: 0.00002: 100%|██████████████████████████████| 56/56 [17:21<00:00, 18.60s/it]\n",
      "  0%|                                                                                            | 0/9 [00:00<?, ?it/s]\n",
      "0it [00:00, ?it/s]\u001b[A\n",
      "  0%|                                                                                            | 0/9 [00:00<?, ?it/s]"
     ]
    },
    {
     "name": "stdout",
     "output_type": "stream",
     "text": [
      "Test epoch: 1; loss: 5.17356; acc: 0.02817; lr: 0.00002\n"
     ]
    },
    {
     "name": "stderr",
     "output_type": "stream",
     "text": [
      "\n",
      "epoch: 2; loss: 5.14059; acc: 0.02016; lr: 0.00002: 100%|██████████████████████████████| 56/56 [18:40<00:00, 20.00s/it]\n",
      "  0%|                                                                                            | 0/9 [00:00<?, ?it/s]\n",
      "0it [00:00, ?it/s]\u001b[A\n",
      "  0%|                                                                                            | 0/9 [00:00<?, ?it/s]"
     ]
    },
    {
     "name": "stdout",
     "output_type": "stream",
     "text": [
      "Test epoch: 2; loss: 5.18215; acc: 0.01852; lr: 0.00002\n"
     ]
    },
    {
     "name": "stderr",
     "output_type": "stream",
     "text": [
      "\n",
      "epoch: 3; loss: 5.14536; acc: 0.01131; lr: 0.00002: 100%|██████████████████████████████| 56/56 [22:30<00:00, 24.12s/it]\n",
      "  0%|                                                                                            | 0/9 [00:00<?, ?it/s]\n",
      "0it [00:00, ?it/s]\u001b[A\n",
      "  0%|                                                                                            | 0/9 [00:00<?, ?it/s]"
     ]
    },
    {
     "name": "stdout",
     "output_type": "stream",
     "text": [
      "Test epoch: 3; loss: 5.08532; acc: 0.02492; lr: 0.00002\n"
     ]
    },
    {
     "name": "stderr",
     "output_type": "stream",
     "text": [
      "\n",
      "epoch: 4; loss: 5.03521; acc: 0.02023; lr: 0.00002: 100%|██████████████████████████████| 56/56 [17:57<00:00, 19.24s/it]\n",
      "  0%|                                                                                            | 0/9 [00:00<?, ?it/s]\n",
      "0it [00:00, ?it/s]\u001b[A\n",
      "  0%|                                                                                            | 0/9 [00:00<?, ?it/s]"
     ]
    },
    {
     "name": "stdout",
     "output_type": "stream",
     "text": [
      "Test epoch: 4; loss: 5.06220; acc: 0.02106; lr: 0.00002\n"
     ]
    },
    {
     "name": "stderr",
     "output_type": "stream",
     "text": [
      "\n",
      "epoch: 5; loss: 4.95820; acc: 0.03265; lr: 0.00003: 100%|██████████████████████████████| 56/56 [14:36<00:00, 15.65s/it]\n",
      "  0%|                                                                                            | 0/9 [00:00<?, ?it/s]\n",
      "0it [00:00, ?it/s]\u001b[A\n",
      "  0%|                                                                                            | 0/9 [00:00<?, ?it/s]"
     ]
    },
    {
     "name": "stdout",
     "output_type": "stream",
     "text": [
      "Test epoch: 5; loss: 4.86964; acc: 0.03857; lr: 0.00003\n"
     ]
    },
    {
     "name": "stderr",
     "output_type": "stream",
     "text": [
      "\n",
      "epoch: 6; loss: 4.83153; acc: 0.03409; lr: 0.00003: 100%|██████████████████████████████| 56/56 [12:58<00:00, 13.90s/it]\n",
      "  0%|                                                                                            | 0/9 [00:00<?, ?it/s]\n",
      "0it [00:00, ?it/s]\u001b[A\n",
      "  0%|                                                                                            | 0/9 [00:00<?, ?it/s]"
     ]
    },
    {
     "name": "stdout",
     "output_type": "stream",
     "text": [
      "Test epoch: 6; loss: 5.12244; acc: 0.01340; lr: 0.00003\n"
     ]
    },
    {
     "name": "stderr",
     "output_type": "stream",
     "text": [
      "\n",
      "epoch: 7; loss: 4.98272; acc: 0.02036; lr: 0.00003: 100%|██████████████████████████████| 56/56 [12:08<00:00, 13.00s/it]\n",
      "  0%|                                                                                            | 0/9 [00:00<?, ?it/s]\n",
      "0it [00:00, ?it/s]\u001b[A\n",
      "  0%|                                                                                            | 0/9 [00:00<?, ?it/s]"
     ]
    },
    {
     "name": "stdout",
     "output_type": "stream",
     "text": [
      "Test epoch: 7; loss: 4.93303; acc: 0.03484; lr: 0.00003\n"
     ]
    },
    {
     "name": "stderr",
     "output_type": "stream",
     "text": [
      "\n",
      "epoch: 8; loss: 5.14516; acc: 0.01282; lr: 0.00003: 100%|██████████████████████████████| 56/56 [15:42<00:00, 16.83s/it]\n",
      "  0%|                                                                                            | 0/9 [00:00<?, ?it/s]\n",
      "0it [00:00, ?it/s]\u001b[A\n",
      "  0%|                                                                                            | 0/9 [00:00<?, ?it/s]"
     ]
    },
    {
     "name": "stdout",
     "output_type": "stream",
     "text": [
      "Test epoch: 8; loss: 4.93926; acc: 0.02746; lr: 0.00003\n"
     ]
    },
    {
     "name": "stderr",
     "output_type": "stream",
     "text": [
      "\n",
      "epoch: 9; loss: 4.89757; acc: 0.03419; lr: 0.00003: 100%|██████████████████████████████| 56/56 [18:11<00:00, 19.49s/it]\n",
      "  0%|                                                                                            | 0/9 [00:00<?, ?it/s]\n",
      "0it [00:00, ?it/s]\u001b[A\n",
      "  0%|                                                                                            | 0/9 [00:00<?, ?it/s]"
     ]
    },
    {
     "name": "stdout",
     "output_type": "stream",
     "text": [
      "Test epoch: 9; loss: 4.91536; acc: 0.03450; lr: 0.00003\n"
     ]
    },
    {
     "name": "stderr",
     "output_type": "stream",
     "text": [
      "\n",
      "epoch: 10; loss: 4.88815; acc: 0.03467; lr: 0.00003:   4%|█                             | 2/56 [01:15<33:49, 37.58s/it]\n"
     ]
    },
    {
     "ename": "KeyboardInterrupt",
     "evalue": "",
     "output_type": "error",
     "traceback": [
      "\u001b[1;31m---------------------------------------------------------------------------\u001b[0m",
      "\u001b[1;31mKeyboardInterrupt\u001b[0m                         Traceback (most recent call last)",
      "Cell \u001b[1;32mIn[49], line 4\u001b[0m\n\u001b[0;32m      1\u001b[0m folder_name\u001b[38;5;241m=\u001b[39m\u001b[38;5;124mf\u001b[39m\u001b[38;5;124m'\u001b[39m\u001b[38;5;124mruns/pixelsnail_emb_dim_64_n_embed_512_bc_left_4x_768/\u001b[39m\u001b[38;5;132;01m{\u001b[39;00mhier\u001b[38;5;132;01m}\u001b[39;00m\u001b[38;5;124m/\u001b[39m\u001b[38;5;124m'\u001b[39m\n\u001b[0;32m      3\u001b[0m \u001b[38;5;28;01mfor\u001b[39;00m i \u001b[38;5;129;01min\u001b[39;00m \u001b[38;5;28mrange\u001b[39m(epoch):\n\u001b[1;32m----> 4\u001b[0m     \u001b[43mtrain\u001b[49m\u001b[43m(\u001b[49m\u001b[43mi\u001b[49m\u001b[43m,\u001b[49m\u001b[43m \u001b[49m\u001b[43mloader\u001b[49m\u001b[43m,\u001b[49m\u001b[43m \u001b[49m\u001b[43mmodel\u001b[49m\u001b[43m,\u001b[49m\u001b[43m \u001b[49m\u001b[43moptimizer\u001b[49m\u001b[43m,\u001b[49m\u001b[43m \u001b[49m\u001b[43mscheduler\u001b[49m\u001b[43m,\u001b[49m\u001b[43m \u001b[49m\u001b[43mdevice\u001b[49m\u001b[43m)\u001b[49m\n\u001b[0;32m      5\u001b[0m     loss, acc \u001b[38;5;241m=\u001b[39m evaluate( i, test_loader, model, optimizer, scheduler, device)\n\u001b[0;32m      6\u001b[0m     torch\u001b[38;5;241m.\u001b[39msave(model\u001b[38;5;241m.\u001b[39mstate_dict(), \u001b[38;5;124mf\u001b[39m\u001b[38;5;124m'\u001b[39m\u001b[38;5;132;01m{\u001b[39;00mfolder_name\u001b[38;5;132;01m}\u001b[39;00m\u001b[38;5;124m/\u001b[39m\u001b[38;5;132;01m{\u001b[39;00m\u001b[38;5;28mstr\u001b[39m(i\u001b[38;5;250m \u001b[39m\u001b[38;5;241m+\u001b[39m\u001b[38;5;250m \u001b[39m\u001b[38;5;241m1\u001b[39m)\u001b[38;5;132;01m}\u001b[39;00m\u001b[38;5;124m_pixelsnail_\u001b[39m\u001b[38;5;132;01m{\u001b[39;00mhier\u001b[38;5;132;01m}\u001b[39;00m\u001b[38;5;124m_loss_\u001b[39m\u001b[38;5;132;01m{\u001b[39;00mloss\u001b[38;5;132;01m}\u001b[39;00m\u001b[38;5;124m_test_acc_\u001b[39m\u001b[38;5;132;01m{\u001b[39;00macc\u001b[38;5;132;01m}\u001b[39;00m\u001b[38;5;124m.pt\u001b[39m\u001b[38;5;124m'\u001b[39m)\n",
      "Cell \u001b[1;32mIn[33], line 35\u001b[0m, in \u001b[0;36mtrain\u001b[1;34m(epoch, loader, model, optimizer, scheduler, device)\u001b[0m\n\u001b[0;32m     29\u001b[0m accuracy \u001b[38;5;241m=\u001b[39m correct\u001b[38;5;241m.\u001b[39msum() \u001b[38;5;241m/\u001b[39m target\u001b[38;5;241m.\u001b[39mnumel()\n\u001b[0;32m     31\u001b[0m lr \u001b[38;5;241m=\u001b[39m optimizer\u001b[38;5;241m.\u001b[39mparam_groups[\u001b[38;5;241m0\u001b[39m][\u001b[38;5;124m'\u001b[39m\u001b[38;5;124mlr\u001b[39m\u001b[38;5;124m'\u001b[39m]\n\u001b[0;32m     33\u001b[0m loader\u001b[38;5;241m.\u001b[39mset_description(\n\u001b[0;32m     34\u001b[0m     (\n\u001b[1;32m---> 35\u001b[0m         \u001b[38;5;124mf\u001b[39m\u001b[38;5;124m'\u001b[39m\u001b[38;5;124mepoch: \u001b[39m\u001b[38;5;132;01m{\u001b[39;00mepoch\u001b[38;5;250m \u001b[39m\u001b[38;5;241m+\u001b[39m\u001b[38;5;250m \u001b[39m\u001b[38;5;241m1\u001b[39m\u001b[38;5;132;01m}\u001b[39;00m\u001b[38;5;124m; loss: \u001b[39m\u001b[38;5;132;01m{\u001b[39;00m\u001b[43mloss\u001b[49m\u001b[38;5;241;43m.\u001b[39;49m\u001b[43mitem\u001b[49m\u001b[43m(\u001b[49m\u001b[43m)\u001b[49m\u001b[38;5;132;01m:\u001b[39;00m\u001b[38;5;124m.5f\u001b[39m\u001b[38;5;132;01m}\u001b[39;00m\u001b[38;5;124m; \u001b[39m\u001b[38;5;124m'\u001b[39m\n\u001b[0;32m     36\u001b[0m         \u001b[38;5;124mf\u001b[39m\u001b[38;5;124m'\u001b[39m\u001b[38;5;124macc: \u001b[39m\u001b[38;5;132;01m{\u001b[39;00maccuracy\u001b[38;5;132;01m:\u001b[39;00m\u001b[38;5;124m.5f\u001b[39m\u001b[38;5;132;01m}\u001b[39;00m\u001b[38;5;124m; lr: \u001b[39m\u001b[38;5;132;01m{\u001b[39;00mlr\u001b[38;5;132;01m:\u001b[39;00m\u001b[38;5;124m.5f\u001b[39m\u001b[38;5;132;01m}\u001b[39;00m\u001b[38;5;124m'\u001b[39m\n\u001b[0;32m     37\u001b[0m     )\n\u001b[0;32m     38\u001b[0m )\n",
      "\u001b[1;31mKeyboardInterrupt\u001b[0m: "
     ]
    }
   ],
   "source": [
    "folder_name=f'runs/pixelsnail_emb_dim_64_n_embed_512_bc_left_4x_768/{hier}/'\n",
    "\n",
    "for i in range(epoch):\n",
    "    train(i, loader, model, optimizer, scheduler, device)\n",
    "    loss, acc = evaluate( i, test_loader, model, optimizer, scheduler, device)\n",
    "    torch.save(model.state_dict(), f'{folder_name}/{str(i + 1)}_pixelsnail_{hier}_loss_{loss}_test_acc_{acc}.pt')"
   ]
  },
  {
   "cell_type": "markdown",
   "id": "91708a10-7b51-4a4c-9673-6a1c006314fe",
   "metadata": {},
   "source": [
    "# Mnist"
   ]
  },
  {
   "cell_type": "code",
   "execution_count": null,
   "id": "88023aff-3765-4bc5-a5b3-8f655d88f120",
   "metadata": {},
   "outputs": [],
   "source": [
    "import numpy as np\n",
    "import torch\n",
    "from torch import nn, optim\n",
    "from torch.utils.data import DataLoader\n",
    "from torchvision import datasets\n",
    "from tqdm import tqdm\n",
    "\n",
    "from pixelsnail import PixelSNAIL"
   ]
  },
  {
   "cell_type": "code",
   "execution_count": null,
   "id": "ff8a49c0-2a28-4743-9aab-7b75ae144335",
   "metadata": {},
   "outputs": [],
   "source": [
    "def train(epoch, loader, model, optimizer, device):\n",
    "    loader = tqdm(loader)\n",
    "\n",
    "    criterion = nn.CrossEntropyLoss()\n",
    "\n",
    "    for i, (img, label) in enumerate(loader):\n",
    "        model.zero_grad()\n",
    "\n",
    "        img = img.to(device)\n",
    "\n",
    "        out = model(img)\n",
    "        loss = criterion(out, img)\n",
    "        loss.backward()\n",
    "\n",
    "        optimizer.step()\n",
    "\n",
    "        _, pred = out.max(1)\n",
    "        correct = (pred == img).float()\n",
    "        accuracy = correct.sum() / img.numel()\n",
    "\n",
    "        loader.set_description(\n",
    "            (f'epoch: {epoch + 1}; loss: {loss.item():.5f}; ' f'acc: {accuracy:.5f}')\n",
    "        )\n",
    "\n",
    "\n",
    "class PixelTransform:\n",
    "    def __init__(self):\n",
    "        pass\n",
    "\n",
    "    def __call__(self, input):\n",
    "        ar = np.array(input)\n",
    "\n",
    "        return torch.from_numpy(ar).long()\n",
    "\n",
    "\n",
    "if __name__ == '__main__':\n",
    "    device = 'cuda'\n",
    "    epoch = 10\n",
    "\n",
    "    dataset = datasets.MNIST('.', transform=PixelTransform(), download=True)\n",
    "    loader = DataLoader(dataset, batch_size=32, shuffle=True, num_workers=4)\n",
    "\n",
    "    model = PixelSNAIL([28, 28], 256, 128, 5, 2, 4, 128)\n",
    "    model = model.to(device)\n",
    "\n",
    "    optimizer = optim.Adam(model.parameters(), lr=1e-3)\n",
    "\n",
    "    for i in range(10):\n",
    "        train(i, loader, model, optimizer, device)\n",
    "        torch.save(model.state_dict(), f'checkpoint/mnist_{str(i + 1).zfill(3)}.pt')"
   ]
  }
 ],
 "metadata": {
  "kernelspec": {
   "display_name": "torch",
   "language": "python",
   "name": "torch"
  },
  "language_info": {
   "codemirror_mode": {
    "name": "ipython",
    "version": 3
   },
   "file_extension": ".py",
   "mimetype": "text/x-python",
   "name": "python",
   "nbconvert_exporter": "python",
   "pygments_lexer": "ipython3",
   "version": "3.11.5"
  }
 },
 "nbformat": 4,
 "nbformat_minor": 5
}
