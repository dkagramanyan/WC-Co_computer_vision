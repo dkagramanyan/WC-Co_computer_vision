{
 "cells": [
  {
   "cell_type": "code",
   "execution_count": 1,
   "id": "7e5a431c-bd3d-4c17-a365-5d91a76ea53c",
   "metadata": {},
   "outputs": [],
   "source": [
    "import argparse\n",
    "import pickle\n",
    "\n",
    "import torch\n",
    "from torch.utils.data import DataLoader\n",
    "from torchvision import transforms\n",
    "import lmdb\n",
    "from tqdm import tqdm\n",
    "\n",
    "from dataset import ImageFileDataset, CodeRow\n",
    "from vqvae import VQVAE\n",
    "from skimage import io, color\n",
    "import numpy as np\n",
    "import copy\n",
    "\n",
    "from sklearn import preprocessing\n",
    "from matplotlib import pyplot as plt\n",
    "\n",
    "import time\n",
    "import os"
   ]
  },
  {
   "cell_type": "code",
   "execution_count": null,
   "id": "914e44bc-f8c4-4309-90a2-24ea8f866a9d",
   "metadata": {},
   "outputs": [],
   "source": [
    "def extract(lmdb_env, loader, model, device):\n",
    "    index = 0\n",
    "\n",
    "    with lmdb_env.begin(write=True) as txn:\n",
    "        pbar = tqdm(loader)\n",
    "\n",
    "        for img, _, filename in pbar:\n",
    "            img = img.to(device)\n",
    "\n",
    "            _, _, _, id_t, id_b = model.encode(img)\n",
    "            id_t = id_t.detach().cpu().numpy()\n",
    "            id_b = id_b.detach().cpu().numpy()\n",
    "\n",
    "            for file, top, bottom in zip(filename, id_t, id_b):\n",
    "                row = CodeRow(top=top, bottom=bottom, filename=file)\n",
    "                txn.put(str(index).encode('utf-8'), pickle.dumps(row))\n",
    "                index += 1\n",
    "                pbar.set_description(f'inserted: {index}')\n",
    "\n",
    "        txn.put('length'.encode('utf-8'), str(index).encode('utf-8'))"
   ]
  },
  {
   "cell_type": "code",
   "execution_count": 2,
   "id": "c437ae88-fda5-4a25-92e3-f293ad672343",
   "metadata": {},
   "outputs": [],
   "source": [
    "def extract2img(new_path, loader, model, device):\n",
    "    \n",
    "    if not os.path.exists(new_path):\n",
    "        os.mkdir(new_path)\n",
    "        \n",
    "    pbar = tqdm(loader)\n",
    "\n",
    "    for img, _, filename in pbar:\n",
    "        img = img.to(device)\n",
    "        \n",
    "        # quant_t, quant_b, diff_t + diff_b, id_t, id_b\n",
    "        _, quant_b, _, _, _ = model.encode(img)\n",
    "        # id_t = id_t.detach().cpu().numpy()\n",
    "        quant_b = quant_b.detach().cpu().numpy()\n",
    "        \n",
    "        for i, file in enumerate(quant_b):\n",
    "            old_shape=copy.copy(file.shape)\n",
    "            scaler=preprocessing.MinMaxScaler((0,255))\n",
    "            scaler.fit(file.reshape(-1, 1))\n",
    "            \n",
    "            file=scaler.transform(file.reshape(-1, 1)).reshape(old_shape)\n",
    "            file=file[0]\n",
    "            file=np.repeat(file[:, :, np.newaxis], 3, axis=2)\n",
    "            file=file.astype(np.uint8)\n",
    "            folder, name=filename[i].split('\\\\')\n",
    "            \n",
    "            if not os.path.exists(f'{new_path}/{folder}'):\n",
    "                os.mkdir(f'{new_path}/{folder}')\n",
    "            \n",
    "            io.imsave(f'{new_path}/{folder}/{name}', file)\n"
   ]
  },
  {
   "cell_type": "code",
   "execution_count": 5,
   "id": "3d3fadda-e8d9-4962-a64a-6d6fe6e2a506",
   "metadata": {},
   "outputs": [],
   "source": [
    "# resize_shape = (256, 256)\n",
    "\n",
    "names_new={'Ultra_Co11':'AB_Co11_medium',\n",
    "           'Ultra_Co15':'AB_Co15_medium_small',\n",
    "           'Ultra_Co25':'AB_Co25_small',\n",
    "           'Ultra_Co6_2':'AB_Co6_large',\n",
    "           'Ultra_Co8':'AB_Co_8_medium_small'}\n",
    "\n",
    "\n",
    "resize_shape = (512, 512)\n",
    "device = 'cuda'\n",
    "\n",
    "dataset_path = '../../datasets/original/o_bc_left_4x_768_360_median'\n",
    "model_path='runs_unique/emb_dim_1_n_embed_256_bc_left_4x_768_360_728/vqvae_004_train_0.00041_test_0.00039.pt'\n",
    "new_path='runs/embs_images_emb_dim_1_n_embed_256_o_bc_left_4x_768_360_768_median'\n",
    "\n",
    "transform = transforms.Compose(\n",
    "    [\n",
    "        # transforms.Resize(resize_shape),\n",
    "        transforms.CenterCrop(resize_shape),\n",
    "        transforms.ToTensor(),\n",
    "        transforms.Normalize([0.5, 0.5, 0.5], [0.5, 0.5, 0.5]),\n",
    "    ]\n",
    ")\n",
    "\n",
    "dataset = ImageFileDataset(dataset_path, transform=transform)\n",
    "loader = DataLoader(dataset, batch_size=32, shuffle=False, num_workers=4)\n",
    "\n",
    "model =    VQVAE(\n",
    "                in_channel=3,\n",
    "                channel=128,\n",
    "                n_res_block=6,\n",
    "                n_res_channel=32,\n",
    "                embed_dim=1,\n",
    "                n_embed=256,\n",
    "                decay=0.99\n",
    "                ).to(device)\n",
    "\n",
    "model.load_state_dict(torch.load(model_path))\n",
    "model = model.to(device)\n",
    "model.eval()\n",
    "\n",
    "map_size = 100 * 1024 * 1024 * 1024\n",
    "\n",
    "# env = lmdb.open(new_path, map_size=map_size)\n",
    "\n",
    "# extract(env, loader, model, device)"
   ]
  },
  {
   "cell_type": "code",
   "execution_count": null,
   "id": "2380d8fd-3c7e-45de-a19e-7500868668b7",
   "metadata": {},
   "outputs": [
    {
     "name": "stderr",
     "output_type": "stream",
     "text": [
      "100%|███████████████████████████████████████████████████████████████████████████████▋| 225/226 [00:59<00:00,  4.89it/s]"
     ]
    }
   ],
   "source": [
    "extract2img(new_path, loader, model, device)"
   ]
  },
  {
   "cell_type": "code",
   "execution_count": null,
   "id": "9bc3996e-3528-42d1-8b16-d036bb574b28",
   "metadata": {
    "tags": []
   },
   "outputs": [],
   "source": [
    "plt.imshow(file.swapaxes(0,-1),cmap='gray')\n",
    "plt.show()"
   ]
  }
 ],
 "metadata": {
  "kernelspec": {
   "display_name": "torch",
   "language": "python",
   "name": "torch"
  },
  "language_info": {
   "codemirror_mode": {
    "name": "ipython",
    "version": 3
   },
   "file_extension": ".py",
   "mimetype": "text/x-python",
   "name": "python",
   "nbconvert_exporter": "python",
   "pygments_lexer": "ipython3",
   "version": "3.11.5"
  }
 },
 "nbformat": 4,
 "nbformat_minor": 5
}
