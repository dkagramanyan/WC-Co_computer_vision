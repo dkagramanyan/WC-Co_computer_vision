{
 "cells": [
  {
   "cell_type": "code",
   "execution_count": null,
   "id": "6ed29671-0057-4ff5-b4bf-bd6b48ea9216",
   "metadata": {},
   "outputs": [],
   "source": [
    "import argparse\n",
    "import os\n",
    "\n",
    "import torch\n",
    "from torchvision.utils import save_image\n",
    "from tqdm import tqdm\n",
    "\n",
    "from vqvae import VQVAE\n",
    "from pixelsnail import PixelSNAIL\n",
    "import numpy as np\n",
    "from matplotlib import pyplot as plt"
   ]
  },
  {
   "cell_type": "code",
   "execution_count": null,
   "id": "1b04ba50-eadd-42da-a02e-3bb757ef4c13",
   "metadata": {},
   "outputs": [],
   "source": [
    "@torch.no_grad()\n",
    "def sample_model(model, device, batch, size, temperature, condition=None):\n",
    "    row = torch.zeros(batch, *size, dtype=torch.int64).to(device)\n",
    "    cache = {}\n",
    "\n",
    "    for i in tqdm(range(size[0])):\n",
    "        for j in range(size[1]):\n",
    "            out, cache = model(row[:, : i + 1, :], condition=condition, cache=cache)\n",
    "            prob = torch.softmax(out[:, :, i, j] / temperature, 1)\n",
    "            sample = torch.multinomial(prob, 1).squeeze(-1)\n",
    "            row[:, i, j] = sample\n",
    "\n",
    "    return row\n",
    "\n",
    "\n",
    "def load_model(model, checkpoint, device):\n",
    "\n",
    "    if model == 'vqvae':\n",
    "        model = VQVAE()\n",
    "\n",
    "    elif model == 'pixelsnail_top':\n",
    "        model = PixelSNAIL(\n",
    "            [32, 32],\n",
    "            512,\n",
    "            channel,\n",
    "            5,\n",
    "            4,\n",
    "            n_res_block,\n",
    "            n_res_channel,\n",
    "            dropout=dropout,\n",
    "            n_out_res_block=n_out_res_block,\n",
    "        )\n",
    "\n",
    "    elif model == 'pixelsnail_bottom':\n",
    "        model = PixelSNAIL(\n",
    "            [64, 64],\n",
    "            512,\n",
    "            channel,\n",
    "            5,\n",
    "            4,\n",
    "            n_res_block,\n",
    "            n_res_channel,\n",
    "            attention=False,\n",
    "            dropout=dropout,\n",
    "            n_cond_res_block=n_cond_res_block,\n",
    "            cond_res_channel=n_res_channel,\n",
    "        )\n",
    "        \n",
    "    model.load_state_dict(torch.load(checkpoint),strict=False)\n",
    "    model = model.to(device)\n",
    "    model.eval()\n",
    "\n",
    "    return model"
   ]
  },
  {
   "cell_type": "code",
   "execution_count": null,
   "id": "c77e262d-a9b8-4aad-9fc8-0681da55dbea",
   "metadata": {},
   "outputs": [],
   "source": [
    "device = 'cuda'\n",
    "n_res_block=4\n",
    "n_res_channel=256\n",
    "n_out_res_block=0\n",
    "n_cond_res_block=3\n",
    "channel=256\n",
    "dropout=0.1\n",
    "\n",
    "batch=1\n",
    "\n",
    "vqvae='runs/emb_dim_64_n_embed_512_bc_left_4x_768_360/vqvae_013_train_0.01824_test_0.0179.pt'\n",
    "top='runs/pixelsnail_emb_dim_64_n_embed_512_bc_left_4x_768/top/12_pixelsnail_top_loss_1_acc_0.522430419921875.pt'\n",
    "bottom='runs/pixelsnail_emb_dim_64_n_embed_512_bc_left_4x_768/bottom/9_pixelsnail_bottom_loss_5_test_acc_0.0345001220703125.pt'\n",
    "\n",
    "filename='test.png'\n",
    "temp=1\n",
    "\n",
    "model_vqvae = load_model('vqvae', vqvae, device)\n",
    "model_top = load_model('pixelsnail_top', top, device)\n",
    "model_bottom = load_model('pixelsnail_bottom', bottom, device)"
   ]
  },
  {
   "cell_type": "code",
   "execution_count": null,
   "id": "2a68d2e5-3424-42bb-bba0-54258a5fe30c",
   "metadata": {},
   "outputs": [],
   "source": [
    "top_sample = sample_model(model_top, device, batch, [32, 32], temp)\n",
    "bottom_sample = sample_model(\n",
    "    model_bottom, device, batch, [64, 64], temp, condition=top_sample\n",
    ")\n",
    "\n",
    "decoded_sample = model_vqvae.decode_code(top_sample, bottom_sample)\n",
    "decoded_sample = decoded_sample.clamp(-1, 1)\n",
    "\n",
    "# save_image(decoded_sample, filename, normalize=True, range=(-1, 1))"
   ]
  },
  {
   "cell_type": "code",
   "execution_count": null,
   "id": "28b15003-014b-41cb-b06e-f732fdea9994",
   "metadata": {
    "tags": []
   },
   "outputs": [],
   "source": [
    "img=decoded_sample[0].cpu().detach().numpy()\n",
    "\n",
    "img=np.swapaxes(img, 0,-1)"
   ]
  },
  {
   "cell_type": "code",
   "execution_count": null,
   "id": "0ee9e1e3-5f89-4d69-8d06-477125285d87",
   "metadata": {
    "tags": []
   },
   "outputs": [],
   "source": [
    "img=img+1\n",
    "img*=255\n",
    "\n",
    "img=img.astype(np.int32)"
   ]
  },
  {
   "cell_type": "code",
   "execution_count": null,
   "id": "58d2eb24-f7a4-47b6-b6a4-f8bb98c1bfd5",
   "metadata": {
    "tags": []
   },
   "outputs": [],
   "source": [
    "plt.imshow(img, cmap='gray')"
   ]
  }
 ],
 "metadata": {
  "kernelspec": {
   "display_name": "torch",
   "language": "python",
   "name": "torch"
  },
  "language_info": {
   "codemirror_mode": {
    "name": "ipython",
    "version": 3
   },
   "file_extension": ".py",
   "mimetype": "text/x-python",
   "name": "python",
   "nbconvert_exporter": "python",
   "pygments_lexer": "ipython3",
   "version": "3.11.5"
  }
 },
 "nbformat": 4,
 "nbformat_minor": 5
}
