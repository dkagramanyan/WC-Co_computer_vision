{
 "cells": [
  {
   "cell_type": "code",
   "execution_count": null,
   "metadata": {
    "ExecuteTime": {
     "end_time": "2023-10-11T14:07:27.287504Z",
     "start_time": "2023-10-11T14:07:19.529292Z"
    },
    "collapsed": false,
    "jupyter": {
     "outputs_hidden": false
    },
    "pycharm": {
     "name": "#%%\n"
    },
    "tags": []
   },
   "outputs": [],
   "source": [
    "import argparse\n",
    "import sys\n",
    "import os\n",
    "from skimage import io\n",
    "\n",
    "import torch\n",
    "from torch import nn, optim\n",
    "from torch.utils.data import DataLoader\n",
    "\n",
    "from torchvision import datasets, transforms, utils\n",
    "import matplotlib.patches as mpatches\n",
    "\n",
    "\n",
    "# from scheduler import CycleScheduler\n",
    "from pt_utils import  Embeddings, Trainer, VQVAE, data_sampler, Vqvae2Adaptive\n",
    "from torch.utils import data\n",
    "from torch import distributed as dist\n",
    "\n",
    "from umap import UMAP\n",
    "from sklearn.model_selection import train_test_split\n",
    "from matplotlib import pyplot as plt\n",
    "from collections import Counter\n",
    "from skimage import transform, metrics\n",
    "import skimage\n",
    "import pandas as pd\n",
    "import numpy as np\n",
    "import glob\n",
    "\n",
    "from torchsummary import summary\n",
    "\n",
    "from tqdm.notebook import trange, tqdm\n",
    "import torchvision\n",
    "from PIL import Image\n",
    "\n",
    "import numpy as np\n",
    "from sklearn.decomposition import PCA\n",
    "from scipy.ndimage.filters import gaussian_filter\n",
    "import scipy as sp\n",
    "import matplotlib as mpl\n",
    "from mpl_toolkits.axes_grid1 import make_axes_locatable\n",
    "\n",
    "import joblib\n",
    "import pickle\n",
    "\n",
    "seed = 51\n",
    "np.random.seed(seed)\n",
    "torch.manual_seed(seed)"
   ]
  },
  {
   "cell_type": "code",
   "execution_count": null,
   "metadata": {
    "ExecuteTime": {
     "end_time": "2023-10-11T13:00:01.856168Z",
     "start_time": "2023-10-11T13:00:01.758595Z"
    },
    "collapsed": false,
    "jupyter": {
     "outputs_hidden": false
    },
    "pycharm": {
     "name": "#%%\n"
    },
    "tags": []
   },
   "outputs": [],
   "source": [
    "# dataset_path = '../datasets/bc_right_sub_left_minmax_4x_360'\n",
    "# dataset_path = '../datasets/bc_left_sub_right_0.5_4x_360'\n",
    "# dataset_path = '../datasets/bc_right_sub_left_0.5_4x_360'\n",
    "# dataset_path = '../datasets/bc_left_sub_right_minmax_4x_360'\n",
    "# dataset_path = '../datasets/bc_left_4x_360'\n",
    "dataset_path = '../datasets/original/o_bc_left_9x_512_360'\n",
    "\n",
    "resize_shape = (512, 512)\n",
    "\n",
    "transform = transforms.Compose(\n",
    "    [   \n",
    "        # transforms.CenterCrop((256,256)),\n",
    "        # transforms.functional.invert,\n",
    "        transforms.ToTensor(),\n",
    "        # transforms.Grayscale(),\n",
    "        transforms.Normalize(0.5, 0.5),\n",
    "    ]\n",
    ")\n",
    "\n",
    "dataset = datasets.ImageFolder(dataset_path, transform=transform)"
   ]
  },
  {
   "cell_type": "code",
   "execution_count": null,
   "metadata": {
    "ExecuteTime": {
     "end_time": "2023-10-11T13:00:02.700158Z",
     "start_time": "2023-10-11T13:00:02.530518Z"
    },
    "collapsed": false,
    "jupyter": {
     "outputs_hidden": false
    },
    "tags": []
   },
   "outputs": [],
   "source": [
    "# model_file = 'data/logs/emb_dim_1_n_embed_8192_bc_left_4x_360/vqvae_004_train_0.02043_test_0.02022.pt'\n",
    "# model_file = 'data/logs/emb_dim_1_n_embed_8192_bc_left_sub_right_minmax_4x_360/vqvae_002_train_0.04045_test_0.03895.pt'\n",
    "# model_file = 'data/logs/emb_dim_1_n_embed_8192_bc_right_sub_left_minmax_4x_360/vqvae_003_train_0.04287_test_0.04129.pt'\n",
    "# model_file = '../data/logs/vq-vae-2/4x_emb_dim_32/weights/vqvae_011_train_0.00375_test_0.00375.pt'\n",
    "# model_file = '../data/logs/vq-vae-2/4x/weights/vqvae_013_train_0.0038_test_0.0038.pt'\n",
    "model_file = 'data/logs/emb_dim_8_n_embed_8192_bc_left_9x_512_360/vqvae_002_train_0.02079_test_0.02053.pt'\n",
    "# model_file = 'data/logs/emb_dim_1_n_embed_8192_bc_left_9x_512_360/vqvae_002_train_0.01976_test_0.01984.pt'\n",
    "# model_file = 'data/logs/emb_dim_2_n_embed_8192_bc_left_9x_512_360/vqvae_002_train_0.01791_test_0.01756.pt'\n",
    "\n",
    "# model_file = 'data/logs/emb_dim_1_n_embed_8192_o_bc_left_9x_256_360_1/vqvae_003_train_0.01975_test_0.01967.pt'\n",
    "# model_file = 'data/logs/emb_dim_1_n_embed_8192_o_bc_left_9x_512_360_1/vqvae_003_train_0.01967_test_0.01958.pt'\n",
    "\n",
    "\n",
    "\n",
    "device = \"cuda\"\n",
    "\n",
    "# model =    VQVAE(in_channel=1,\n",
    "model =    Vqvae2Adaptive(in_channel=3,\n",
    "                   channel=128,\n",
    "                   n_res_block=6,\n",
    "                   n_res_channel=32,\n",
    "                   embed_dim=8,\n",
    "                   n_embed=8192,\n",
    "                   decay=0.99).to(device)\n",
    "\n",
    "# model =    Vqvae2Adaptive(in_channel=3,\n",
    "#                  channel=128,\n",
    "#                  n_res_block=6,\n",
    "#                  n_res_channel=32,\n",
    "#                  embed_dim=1,\n",
    "#                  n_embed=8192,\n",
    "#                  decay=0.99).to(device)\n",
    "\n",
    "model.load_state_dict(torch.load(model_file, map_location=torch.device('cuda')))"
   ]
  },
  {
   "cell_type": "code",
   "execution_count": null,
   "metadata": {
    "collapsed": false,
    "jupyter": {
     "outputs_hidden": false
    },
    "tags": []
   },
   "outputs": [],
   "source": [
    "dataset_path = dataset.__dict__['root']\n",
    "classes_folders = os.listdir(dataset_path)\n",
    "classes_folders_images = [os.listdir(dataset_path + '/' + folder) for folder in classes_folders]\n",
    "classes_folders_images_num = [len(os.listdir(dataset_path + '/' + folder)) for folder in classes_folders]\n",
    "img_transform = dataset.__dict__['transform']\n",
    "\n",
    "i=0\n",
    "j=0\n",
    "\n",
    "image_path = dataset_path + '/' + classes_folders[i] + '/' + classes_folders_images[i][j]\n",
    "\n",
    "img = Image.open(image_path)\n",
    "image = transform(img)\n",
    "image = image.unsqueeze(0).to(device)\n",
    "\n",
    "# print(image.shape)\n",
    "\n",
    "quant_t, quant_b, diff, _, indx_b = model.encode(image)\n",
    "\n",
    "print(quant_t.shape)\n",
    "# print(quant_t.cpu().detach().numpy().flatten().shape)\n",
    "print(quant_b.shape)\n",
    "# print(quant_b.cpu().detach().numpy().flatten().shape)"
   ]
  },
  {
   "cell_type": "code",
   "execution_count": null,
   "metadata": {
    "tags": []
   },
   "outputs": [],
   "source": [
    "res=model.decode(quant_t, quant_b)\n",
    "\n",
    "res.shape"
   ]
  },
  {
   "cell_type": "code",
   "execution_count": null,
   "metadata": {
    "tags": []
   },
   "outputs": [],
   "source": [
    "plt.imshow(res.cpu().detach().numpy()[0][0],cmap='gray')"
   ]
  },
  {
   "cell_type": "code",
   "execution_count": null,
   "metadata": {
    "tags": []
   },
   "outputs": [],
   "source": [
    "plt.imshow(img,cmap='gray')"
   ]
  },
  {
   "cell_type": "code",
   "execution_count": null,
   "metadata": {
    "ExecuteTime": {
     "end_time": "2023-10-11T13:00:28.948999Z",
     "start_time": "2023-10-11T13:00:28.937167Z"
    },
    "collapsed": false,
    "jupyter": {
     "outputs_hidden": false
    },
    "pycharm": {
     "name": "#%%\n"
    },
    "tags": []
   },
   "outputs": [],
   "source": [
    "embs_t, embs_b = Embeddings.get_vqvae2_embs(model, dataset)\n"
   ]
  },
  {
   "cell_type": "code",
   "execution_count": null,
   "metadata": {
    "tags": []
   },
   "outputs": [],
   "source": [
    "np.save(f'data/embs/embs_t_9x_256_360_1_emb_dim_1_n_embed_8192_left_model_left.npy', embs_t)\n",
    "np.save('data/embs/embs_b_9x_256_360_1_emb_dim_1_n_embed_8192_left_model_left.npy', embs_b)"
   ]
  },
  {
   "cell_type": "code",
   "execution_count": null,
   "metadata": {
    "tags": []
   },
   "outputs": [],
   "source": [
    "dataset_path = dataset.__dict__['root']\n",
    "classes_folders = os.listdir(dataset_path)\n",
    "classes_folders_images = [os.listdir(dataset_path + '/' + folder) for folder in classes_folders]\n",
    "classes_folders_images_num = [len(os.listdir(dataset_path + '/' + folder)) for folder in classes_folders]\n",
    "img_transform = dataset.__dict__['transform']\n",
    "\n",
    "i=0\n",
    "j=0\n",
    "\n",
    "image_path = dataset_path + '/' + classes_folders[i] + '/' + classes_folders_images[i][j]\n",
    "\n",
    "image = Image.open(image_path).convert(\"RGB\")\n",
    "image = img_transform(image).unsqueeze(0).to(device)\n",
    "\n",
    "quant_t, quant_b, diff, id_t, id_b = model.encode(image,n_embedded_l=-2, dim_l=-2)"
   ]
  },
  {
   "cell_type": "code",
   "execution_count": null,
   "metadata": {
    "ExecuteTime": {
     "end_time": "2023-10-11T13:03:12.790695Z",
     "start_time": "2023-10-11T13:00:43.956735Z"
    },
    "collapsed": false,
    "jupyter": {
     "outputs_hidden": false
    },
    "tags": []
   },
   "outputs": [],
   "source": [
    "dim_l=-6\n",
    "# dim_l=None\n",
    "n_embedded_l=-2048\n",
    "# n_embedded_l=None\n",
    "\n",
    "embs_t, embs_b = Embeddings.get_vqvae2_embs_adaptive(model, dataset, n_embedded_l=n_embedded_l,dim_l=dim_l)\n",
    "\n",
    "\n",
    "# np.save(f'data/embs/embs_t_9x_512_360_emb_dim_8{dim_l}_n_embed_8192{n_embedded_l}_left_model_left.npy', embs_t)\n",
    "# np.save('data/embs/embs_b_9x_512_360_emb_dim_8-7_n_embed_8192_left_model_left.npy', embs_b)\n",
    "\n",
    "print(embs_t.shape)"
   ]
  },
  {
   "cell_type": "code",
   "execution_count": null,
   "metadata": {
    "tags": []
   },
   "outputs": [],
   "source": [
    "embs_b.shape"
   ]
  },
  {
   "cell_type": "markdown",
   "metadata": {},
   "source": [
    "## Features visualization"
   ]
  },
  {
   "cell_type": "code",
   "execution_count": null,
   "metadata": {
    "tags": []
   },
   "outputs": [],
   "source": [
    "embs_t=np.load('data/embs/embs_t_9x_512_360_1_emb_dim_1_n_embed_8192_left_model_left.npy')\n",
    "embs_b=np.load('data/embs/embs_b_9x_512_360_1_emb_dim_1_n_embed_8192_left_model_left.npy')"
   ]
  },
  {
   "cell_type": "code",
   "execution_count": null,
   "metadata": {
    "collapsed": false,
    "jupyter": {
     "outputs_hidden": false
    },
    "tags": []
   },
   "outputs": [],
   "source": [
    "seed = 52\n",
    "np.random.seed(seed)\n",
    "torch.manual_seed(seed)\n",
    "\n",
    "umap_2d = UMAP(random_state=seed,n_components=2)\n",
    "\n",
    "# embs_b=np.array(embs_b)\n",
    "# embs_t=np.array(embs_t)\n",
    "\n",
    "# umaped_vct_2d_t = umap_2d.fit_transform(embs_t)\n",
    "# umaped_vct_2d_b = umap_2d.fit_transform(embs_b)\n",
    "\n",
    "umaped_vct_tb=umap_2d.fit_transform(np.concatenate([embs_t,embs_b],axis=1))"
   ]
  },
  {
   "cell_type": "code",
   "execution_count": null,
   "metadata": {
    "tags": []
   },
   "outputs": [],
   "source": [
    "# reducer = umap.UMAP()\n",
    "\n",
    "# embedding = reducer.fit_transform(X, y)\n",
    "\n",
    "f_name = 'umap_tb_9x_256_360_1_emb_dim_1_n_embed_8192_left_model_left.sav'\n",
    "pickle.dump(umap_2d, open(f_name, 'wb'))"
   ]
  },
  {
   "cell_type": "code",
   "execution_count": null,
   "metadata": {
    "tags": []
   },
   "outputs": [],
   "source": [
    "f_name = 'umap_tb_9x_512_360_1_emb_dim_1_n_embed_8192_left_model_left.sav'\n",
    "umaped_vct_tb_loaded = pickle.load((open(f_name, 'rb')))"
   ]
  },
  {
   "cell_type": "code",
   "execution_count": null,
   "metadata": {
    "tags": []
   },
   "outputs": [],
   "source": [
    "umaped_vct_tb=umaped_vct_tb_loaded.transform(np.concatenate([embs_t,embs_b],axis=1))"
   ]
  },
  {
   "cell_type": "code",
   "execution_count": null,
   "metadata": {
    "tags": []
   },
   "outputs": [],
   "source": [
    "test_pts=np.array([[0,4.5]])\n",
    "\n",
    "quant_tb=umaped_vct_tb_loaded.inverse_transform(test_pts)\n",
    "\n",
    "res=model.decode_li(torch.from_numpy(quant_tb).to(device), N=4096, t_size=64, b_size=128)\n",
    "\n",
    "plt.imshow(np.swapaxes(res.cpu().detach().numpy()[0],0,-1),cmap='gray')\n",
    "plt.savefig('0_4.5_reconstruct_512.png',bbox_inches='tight')\n",
    "plt.show()"
   ]
  },
  {
   "cell_type": "code",
   "execution_count": null,
   "metadata": {
    "pycharm": {
     "name": "#%%\n"
    },
    "tags": []
   },
   "outputs": [],
   "source": [
    "seed=51\n",
    "\n",
    "\n",
    "types_dict = {'Ultra_Co11': 'средние зерна',\n",
    "              'Ultra_Co25': 'мелкие зерна',\n",
    "              'Ultra_Co8': 'средне-мелкие зерна',\n",
    "              'Ultra_Co6_2': 'крупные зерна',\n",
    "              'Ultra_Co15': 'средне-мелкие зерна'}\n",
    "\n",
    "classes = dataset.__dict__['classes']\n",
    "\n",
    "legend = [cls + '\\n' + types_dict[cls] for cls in classes]\n",
    "\n",
    "# name_1 = f'embs_space_seed={seed}_t_512_4x_360_minmax_emb_dim_1_n_embed_8192_right_sub_left_unique_model'\n",
    "# name_1 = f'embs_space_seed={seed}_t_512_4x_360_emb_dim_1_n_embed_8192_right_sub_left_0.5_trunc_model_left' \n",
    "name_1 = f'embs_space_seed={seed}_t_256_9x_360_emb_dim_1_n_embed_8192_left_model_left' \n",
    "\n",
    "# name_2 = f'embs_space_seed={seed}_b_512_4x_360_minmax_emb_dim_1_n_embed_8192_right_sub_left_unique_model'\n",
    "# name_2 = f'embs_space_seed={seed}_b_512_4x_360_emb_dim_1_n_embed_8192_right_sub_left_0.5_trunc_model_left'\n",
    "name_2 = f'embs_space_seed={seed}_b_512_4x_360_emb_dim_1_n_embed_8192_right_sub_left_0.5_trunc_model_left'\n",
    "\n",
    "\n",
    "r_shape = (len(classes), -1, 2)\n",
    "\n",
    "# save=True\n",
    "save=False\n",
    "\n",
    "# Embeddings.plot_2d_scatter_embs(embs_scatter=umaped_vct_2d_t, legend=legend, r_shape=r_shape, save=save, name=name_1, N=10, M=10)\n",
    "Embeddings.plot_2d_scatter_embs(embs_scatter=umaped_vct_tb, legend=legend, r_shape=r_shape, save=save, name=name_1, N=10, M=10)\n",
    "# Embeddings.plot_2d_scatter_embs(embs_scatter=umaped_vct_2d_b, legend=legend, r_shape=r_shape, save=save, name=name_2, N=10, M=10)"
   ]
  },
  {
   "cell_type": "code",
   "execution_count": null,
   "metadata": {
    "tags": []
   },
   "outputs": [],
   "source": [
    "embs_t.shape"
   ]
  },
  {
   "cell_type": "code",
   "execution_count": null,
   "metadata": {
    "tags": []
   },
   "outputs": [],
   "source": [
    "embs_b.shape"
   ]
  },
  {
   "cell_type": "code",
   "execution_count": null,
   "metadata": {
    "tags": []
   },
   "outputs": [],
   "source": [
    "umaped_vct_tb.reshape((5,3240,2)).shape"
   ]
  },
  {
   "cell_type": "code",
   "execution_count": null,
   "metadata": {
    "tags": []
   },
   "outputs": [],
   "source": [
    "types_dict = {'Ultra_Co11': 'средние зерна',\n",
    "              'Ultra_Co25': 'мелкие зерна',\n",
    "              'Ultra_Co8': 'средне-мелкие зерна',\n",
    "              'Ultra_Co6_2': 'крупные зерна',\n",
    "              'Ultra_Co15': 'средне-мелкие зерна'}\n",
    "\n",
    "classes = dataset.__dict__['classes']\n",
    "\n",
    "legend = [cls + '\\n' + types_dict[cls] for cls in classes]\n",
    "\n",
    "for n_embedded in tqdm([None, -4096, -6144,-7000, -8000, -8100]):\n",
    "    for dim in [None, -1, -2, -3, -4, -5, -6, -7]:\n",
    "\n",
    "        embs_t, embs_b = Embeddings.get_vqvae2_embs_adaptive(model, dataset, n_embedded_l=n_embedded, dim_l=dim)\n",
    "\n",
    "        seed = 52\n",
    "        np.random.seed(seed)\n",
    "        torch.manual_seed(seed)\n",
    "\n",
    "        umap_2d = UMAP(random_state=seed,n_components=2)\n",
    "\n",
    "        umaped_vct_tb=umap_2d.fit_transform(np.concatenate([embs_t,embs_b],axis=1))\n",
    "\n",
    "        colors = ['b', 'g', 'y', 'm', 'c']\n",
    "        markers = ['8', 'v', 's', 'd', '*', ]\n",
    "\n",
    "        embs_scatter=umaped_vct_tb\n",
    "        dot_size=20\n",
    "        fontsize=15\n",
    "        \n",
    "        r_shape=(5, 3240, 2)\n",
    "\n",
    "        scatter_xy = embs_scatter.reshape(r_shape)\n",
    "\n",
    "        fig, ax = plt.subplots(figsize=(10, 10))\n",
    "        for i in range(len(scatter_xy)):\n",
    "            ax.scatter(scatter_xy[i, :, 0], scatter_xy[i, :, 1], color=colors[i], s=dot_size,\n",
    "                       marker=markers[i])\n",
    "\n",
    "\n",
    "        ax.legend(legend, fontsize=fontsize)\n",
    "\n",
    "        plt.savefig(f'embs/t_adaptive_b_static_n_embedded={n_embedded}_dim={dim}_full.png', bbox_inches = 'tight')\n",
    "\n",
    "\n",
    "        plt.show()\n",
    "\n",
    "\n",
    "        fig, ax = plt.subplots(figsize=(10, 10))\n",
    "        for i in range(len(scatter_xy)):\n",
    "            ax.scatter(scatter_xy[i, :, 0], scatter_xy[i, :, 1], color=colors[i], s=dot_size,\n",
    "                       marker=markers[i])\n",
    "\n",
    "\n",
    "\n",
    "        ax.set_xticks([])\n",
    "        ax.set_yticks([])\n",
    "        plt.savefig(f'embs/t_adaptive_b_static_n_embedded={n_embedded}_dim={dim}.png', bbox_inches = 'tight')\n",
    "        plt.show()"
   ]
  },
  {
   "cell_type": "code",
   "execution_count": null,
   "metadata": {
    "tags": []
   },
   "outputs": [],
   "source": [
    "embs_scatter.shape"
   ]
  },
  {
   "cell_type": "markdown",
   "metadata": {},
   "source": [
    "## Features spectrum"
   ]
  },
  {
   "cell_type": "code",
   "execution_count": null,
   "metadata": {
    "collapsed": false,
    "jupyter": {
     "outputs_hidden": false
    }
   },
   "outputs": [],
   "source": [
    "embs_t=np.load('data/embs/embs_t_512_4x_360_emb_dim_1_n_embed_8192_right_sub_left_0.5_trunc_model_left.npy')\n",
    "embs_b=np.load('data/embs/embs_b_512_4x_360_emb_dim_1_n_embed_8192_right_sub_left_0.5_trunc_model_left.npy')"
   ]
  },
  {
   "cell_type": "code",
   "execution_count": null,
   "metadata": {
    "collapsed": false,
    "jupyter": {
     "outputs_hidden": false
    }
   },
   "outputs": [],
   "source": [
    "embs_b.shape"
   ]
  },
  {
   "cell_type": "code",
   "execution_count": null,
   "metadata": {
    "ExecuteTime": {
     "end_time": "2023-10-11T13:03:12.940586Z",
     "start_time": "2023-10-11T13:03:12.914442Z"
    },
    "collapsed": false,
    "jupyter": {
     "outputs_hidden": false
    },
    "tags": []
   },
   "outputs": [],
   "source": [
    "embs_tb=np.concatenate([embs_t,embs_b],axis=1)\n",
    "embs_tb.shape"
   ]
  },
  {
   "cell_type": "code",
   "execution_count": null,
   "metadata": {
    "tags": []
   },
   "outputs": [],
   "source": [
    "plt.hist(embs_b.flatten(), bins=80)\n",
    "plt.show()"
   ]
  },
  {
   "cell_type": "code",
   "execution_count": null,
   "metadata": {
    "tags": []
   },
   "outputs": [],
   "source": [
    "plt.hist(embs_t.flatten(), bins=80)\n",
    "plt.show()"
   ]
  },
  {
   "cell_type": "code",
   "execution_count": null,
   "metadata": {
    "tags": []
   },
   "outputs": [],
   "source": [
    "plt.hist(embs_tb.flatten(), bins=80)\n",
    "plt.show()"
   ]
  },
  {
   "cell_type": "code",
   "execution_count": null,
   "metadata": {
    "ExecuteTime": {
     "end_time": "2023-10-11T13:03:19.761755Z",
     "start_time": "2023-10-11T13:03:19.624717Z"
    },
    "collapsed": false,
    "jupyter": {
     "outputs_hidden": false
    }
   },
   "outputs": [],
   "source": [
    "seed = 51\n",
    "np.random.seed(seed)\n",
    "torch.manual_seed(seed)\n",
    "\n",
    "_,embs=train_test_split(embs_t,test_size=0.505679)"
   ]
  },
  {
   "cell_type": "code",
   "execution_count": null,
   "metadata": {
    "ExecuteTime": {
     "end_time": "2023-10-11T13:03:20.747128Z",
     "start_time": "2023-10-11T13:03:20.720252Z"
    },
    "collapsed": false,
    "jupyter": {
     "outputs_hidden": false
    }
   },
   "outputs": [],
   "source": [
    "embs.shape"
   ]
  },
  {
   "cell_type": "code",
   "execution_count": null,
   "metadata": {
    "ExecuteTime": {
     "end_time": "2023-10-11T13:05:17.920389Z",
     "start_time": "2023-10-11T13:03:22.831324Z"
    },
    "collapsed": false,
    "jupyter": {
     "outputs_hidden": false
    }
   },
   "outputs": [],
   "source": [
    "eigenvalues_o, eigenvectors_o=np.linalg.eig(embs)"
   ]
  },
  {
   "cell_type": "code",
   "execution_count": null,
   "metadata": {
    "ExecuteTime": {
     "end_time": "2023-10-11T13:05:40.002844Z",
     "start_time": "2023-10-11T13:05:39.816168Z"
    },
    "collapsed": false,
    "jupyter": {
     "outputs_hidden": false
    }
   },
   "outputs": [],
   "source": [
    "eigenvalues_tmp=[]\n",
    "eigenvectors_tmp=[]\n",
    "\n",
    "for i,value in tqdm(enumerate(eigenvalues_o)):\n",
    "    if  value.real>-50  and value.imag <2 and value.real >-2.5 and value.real<4 and value.imag>-3:\n",
    "        eigenvalues_tmp.append(value)\n",
    "        eigenvectors_tmp.append(eigenvectors_o[i])\n",
    "\n",
    "eigenvalues=np.array(eigenvalues_tmp)\n",
    "eigenvectors=np.array(eigenvectors_tmp)"
   ]
  },
  {
   "cell_type": "code",
   "execution_count": null,
   "metadata": {
    "ExecuteTime": {
     "end_time": "2023-10-11T13:05:41.195692Z",
     "start_time": "2023-10-11T13:05:41.057787Z"
    },
    "collapsed": false,
    "jupyter": {
     "outputs_hidden": false
    }
   },
   "outputs": [],
   "source": [
    "plt.scatter(eigenvalues.real, eigenvalues.imag)\n",
    "plt.show()"
   ]
  },
  {
   "cell_type": "code",
   "execution_count": null,
   "metadata": {
    "ExecuteTime": {
     "end_time": "2023-10-11T13:05:44.155878Z",
     "start_time": "2023-10-11T13:05:44.127607Z"
    },
    "collapsed": false,
    "jupyter": {
     "outputs_hidden": false
    }
   },
   "outputs": [],
   "source": [
    "eigenvalues_with_index=np.concatenate([eigenvalues.reshape((-1,1)), np.arange(len(eigenvalues)).reshape((-1,1))],axis=1)"
   ]
  },
  {
   "cell_type": "code",
   "execution_count": null,
   "metadata": {
    "ExecuteTime": {
     "end_time": "2023-10-11T13:05:50.079463Z",
     "start_time": "2023-10-11T13:05:44.899952Z"
    },
    "collapsed": false,
    "jupyter": {
     "outputs_hidden": false
    }
   },
   "outputs": [],
   "source": [
    "# points=[ [0,0], [0,-2.7], [0,2.7], [2.7,0], [-2.7,0] ]\n",
    "points=[ [-2, 0], [2,0], [0,2], [0,-2], [0,0] ]\n",
    "points_dict= {0:0,1:0,2:0, 3:0,4:0,5:0,6:0,7:0, 8:0}\n",
    "eps=0.3\n",
    "umap_2d = UMAP(random_state=seed,n_components=2)\n",
    "\n",
    "n_points=3\n",
    "\n",
    "np.random.shuffle(eigenvalues_with_index, )\n",
    "\n",
    "edge_values=[]\n",
    "\n",
    "for i, point in enumerate(points):\n",
    "    for value in eigenvalues_with_index:\n",
    "        dists=[]\n",
    "        if abs(value[0].real-point[0])<eps and abs(value[0].imag-point[1])<eps and points_dict[i]<n_points:\n",
    "            edge_values.append(value)\n",
    "            points_dict[i]+=1\n",
    "\n",
    "edge_values=np.array(edge_values)\n",
    "\n",
    "vectors=eigenvectors[edge_values[:,1].real.astype(np.int32)]\n",
    "vectors_2d_imag = umap_2d.fit_transform(vectors.imag)\n",
    "\n",
    "colors=[]\n",
    "c=['red', 'blue', 'green', 'yellow', 'cyan', 'peru', 'teal', 'greenyellow', 'purple', 'deeppink']\n",
    "\n",
    "for i,point in enumerate(points):\n",
    "    colors.extend([c[i]]*n_points)\n",
    "\n",
    "plt.scatter(edge_values[:,0].real,edge_values[:,0].imag, c=colors)"
   ]
  },
  {
   "cell_type": "code",
   "execution_count": null,
   "metadata": {
    "ExecuteTime": {
     "end_time": "2023-10-11T13:05:52.191490Z",
     "start_time": "2023-10-11T13:05:50.076039Z"
    },
    "collapsed": false,
    "jupyter": {
     "outputs_hidden": false
    }
   },
   "outputs": [],
   "source": [
    "x_value=eigenvalues.real\n",
    "y_value=eigenvalues.imag\n",
    "\n",
    "heatmap, xedges, yedges = np.histogram2d(x_value, y_value, bins=100)\n",
    "heatmap=heatmap.T\n",
    "extent = [xedges[0], xedges[-1], yedges[0], yedges[-1]]\n",
    "\n",
    "heatmap = gaussian_filter(heatmap, sigma=1)\n",
    "\n",
    "heatmap/=np.sum(heatmap)\n",
    "\n",
    "np.random.seed(51)\n",
    "umap_2d = UMAP(random_state=seed,n_components=2)\n",
    "\n",
    "vectors=eigenvectors[edge_values[:,1].real.astype(np.int32)]\n",
    "vectors_2d_real = umap_2d.fit_transform(vectors.real)\n",
    "vectors_2d_imag = umap_2d.fit_transform(vectors.imag)\n",
    "\n",
    "extent=[-2, 2, -2 ,2]\n",
    "fig,axes=plt.subplots(2,2, figsize=(10,10))\n",
    "axes[0,0].scatter(x_value,y_value,alpha=0.2)\n",
    "axes[0,0].scatter(edge_values[:,0].real,edge_values[:,0].imag, c=colors)\n",
    "axes[0,0].set_title('Eigen values')\n",
    "axes[0,0].set_xlabel('Real')\n",
    "axes[0,0].set_ylabel('Imag')\n",
    "\n",
    "fig.subplots_adjust(wspace=0.1)\n",
    "# heatmap_ax=axes[0,1].imshow(heatmap, extent=extent, origin='lower', cmap=plt.cm.jet)\n",
    "heatmap_ax=axes[0,1].imshow(heatmap, extent=extent, origin='lower', cmap=plt.cm.jet, interpolation='nearest', norm=mpl.colors.LogNorm())\n",
    "axes[0,1].set_title('Eigen values heatmap')\n",
    "axes[0,1].set_xlabel('Real')\n",
    "axes[0,1].set_ylabel('Imag')\n",
    "\n",
    "cax = fig.add_axes([0.9, 0.53, 0.02, 0.35])\n",
    "cb=plt.colorbar(heatmap_ax,ax=axes[0,1], orientation='vertical',cax=cax)\n",
    "\n",
    "axes[1,0].scatter(vectors_2d_real[:, 0], vectors_2d_real[:, 1],c=colors)\n",
    "axes[1,0].set_title('Eigen vectors Real')\n",
    "\n",
    "axes[1,1].scatter(vectors_2d_imag[:, 0], vectors_2d_imag[:, 1],c=colors)\n",
    "axes[1,1].set_title('Eigen vectors Imag')\n",
    "\n",
    "\n",
    "# plt.savefig('eig_5.png')\n",
    "plt.show()"
   ]
  },
  {
   "cell_type": "code",
   "execution_count": null,
   "metadata": {
    "collapsed": false,
    "jupyter": {
     "outputs_hidden": false
    }
   },
   "outputs": [],
   "source": [
    "# https://stackoverflow.com/questions/2369492/generate-a-heatmap-using-a-scatter-data-set\n",
    "\n",
    "x=eigenvalues.real\n",
    "y=eigenvalues.imag\n",
    "\n",
    "heatmap, xedges, yedges = np.histogram2d(x, y, bins=100)\n",
    "heatmap=heatmap.T\n",
    "extent = [xedges[0], xedges[-1], yedges[0], yedges[-1]]\n",
    "\n",
    "heatmap = gaussian_filter(heatmap, sigma=5)\n",
    "\n",
    "plt.clf()\n",
    "plt.imshow(heatmap, extent=extent, origin='lower', interpolation='sinc',cmap=plt.cm.jet,)\n",
    "plt.show()"
   ]
  }
 ],
 "metadata": {
  "kernelspec": {
   "display_name": "torch",
   "language": "python",
   "name": "torch"
  },
  "language_info": {
   "codemirror_mode": {
    "name": "ipython",
    "version": 3
   },
   "file_extension": ".py",
   "mimetype": "text/x-python",
   "name": "python",
   "nbconvert_exporter": "python",
   "pygments_lexer": "ipython3",
   "version": "3.11.5"
  }
 },
 "nbformat": 4,
 "nbformat_minor": 4
}
