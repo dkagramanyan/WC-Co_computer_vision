{
 "cells": [
  {
   "cell_type": "code",
   "execution_count": null,
   "metadata": {
    "collapsed": false,
    "pycharm": {
     "name": "#%%\n"
    }
   },
   "outputs": [],
   "source": [
    "import argparse\n",
    "import sys\n",
    "import os\n",
    "from skimage import io\n",
    "\n",
    "import torch\n",
    "from torch import nn, optim\n",
    "from torch.utils.data import DataLoader\n",
    "\n",
    "from torchvision import datasets, transforms, utils\n",
    "import matplotlib.patches as mpatches\n",
    "\n",
    "from tqdm import tqdm\n",
    "\n",
    "# from scheduler import CycleScheduler\n",
    "from pt_utils import  Embeddings, Trainer, VQVAE, data_sampler\n",
    "from torch.utils import data\n",
    "from torch import distributed as dist\n",
    "\n",
    "from umap import UMAP\n",
    "from sklearn.model_selection import train_test_split\n",
    "from matplotlib import pyplot as plt\n",
    "from collections import Counter\n",
    "from skimage import transform, metrics\n",
    "import skimage\n",
    "import pandas as pd\n",
    "import numpy as np\n",
    "import glob\n",
    "\n",
    "from torchsummary import summary\n",
    "\n",
    "# from tqdm.notebook import trange, tqdm\n",
    "from tqdm import trange, tqdm\n",
    "import torchvision\n",
    "from PIL import Image\n",
    "\n",
    "import numpy as np\n",
    "from sklearn.decomposition import PCA\n",
    "from scipy.ndimage.filters import gaussian_filter\n",
    "import scipy as sp\n",
    "import matplotlib as mpl\n",
    "from mpl_toolkits.axes_grid1 import make_axes_locatable"
   ]
  },
  {
   "cell_type": "code",
   "execution_count": null,
   "metadata": {
    "collapsed": false
   },
   "outputs": [],
   "source": [
    "seed = 51\n",
    "np.random.seed(seed)\n",
    "torch.manual_seed(seed)"
   ]
  },
  {
   "cell_type": "code",
   "execution_count": null,
   "metadata": {
    "collapsed": false,
    "pycharm": {
     "name": "#%%\n"
    }
   },
   "outputs": [],
   "source": [
    "# dataset_path = '../datasets/bc_right_sub_left_minmax_4x_360'\n",
    "# dataset_path = '../datasets/bc_left_sub_right_0.5_4x_360'\n",
    "# dataset_path = '../datasets/bc_right_sub_left_0.5_4x_360'\n",
    "# dataset_path = '../datasets/bc_left_sub_right_minmax_4x_360'\n",
    "# dataset_path = '../datasets/bc_left_4x_360'\n",
    "dataset_path = '../datasets/original/o_bc_left_9x_512_360'\n",
    "\n",
    "resize_shape = (512, 512)\n",
    "\n",
    "transform = transforms.Compose(\n",
    "    [\n",
    "        # transforms.Resize(resize_shape),\n",
    "        # transforms.CenterCrop(resize_shape),\n",
    "        transforms.ToTensor(),\n",
    "        transforms.Normalize([0.5, 0.5, 0.5], [0.5, 0.5, 0.5]),\n",
    "    ]\n",
    ")\n",
    "\n",
    "dataset = datasets.ImageFolder(dataset_path, transform=transform)"
   ]
  },
  {
   "cell_type": "code",
   "execution_count": null,
   "metadata": {
    "collapsed": false
   },
   "outputs": [],
   "source": [
    "# model_file = 'data/logs/emb_dim_1_n_embed_8192_bc_left_4x_360/vqvae_004_train_0.02043_test_0.02022.pt'\n",
    "# model_file = 'data/logs/emb_dim_1_n_embed_8192_bc_left_sub_right_minmax_4x_360/vqvae_002_train_0.04045_test_0.03895.pt'\n",
    "# model_file = 'data/logs/emb_dim_1_n_embed_8192_bc_right_sub_left_minmax_4x_360/vqvae_003_train_0.04287_test_0.04129.pt'\n",
    "# model_file = '../data/logs/vq-vae-2/4x_emb_dim_32/weights/vqvae_011_train_0.00375_test_0.00375.pt'\n",
    "# model_file = '../data/logs/vq-vae-2/4x/weights/vqvae_013_train_0.0038_test_0.0038.pt'\n",
    "# model_file = 'data/logs/emb_dim_8_n_embed_8192_bc_left_9x_512_360/vqvae_002_train_0.02079_test_0.02053.pt'\n",
    "# model_file = 'data/logs/emb_dim_1_n_embed_8192_bc_left_9x_512_360/vqvae_002_train_0.01976_test_0.01984.pt'\n",
    "model_file = 'data/logs/emb_dim_2_n_embed_8192_bc_left_9x_512_360/vqvae_002_train_0.01791_test_0.01756.pt'\n",
    "\n",
    "device = \"cuda\"\n",
    "\n",
    "model =    VQVAE(in_channel=3,\n",
    "                 channel=128,\n",
    "                 n_res_block=6,\n",
    "                 n_res_channel=32,\n",
    "                 embed_dim=2,\n",
    "                 n_embed=8192,\n",
    "                 decay=0.99).to(device)\n",
    "\n",
    "model.load_state_dict(torch.load(model_file, map_location=torch.device('cuda')))"
   ]
  },
  {
   "cell_type": "code",
   "execution_count": null,
   "metadata": {
    "collapsed": false
   },
   "outputs": [],
   "source": [
    "dataset_path = dataset.__dict__['root']\n",
    "classes_folders = os.listdir(dataset_path)\n",
    "classes_folders_images = [os.listdir(dataset_path + '/' + folder) for folder in classes_folders]\n",
    "classes_folders_images_num = [len(os.listdir(dataset_path + '/' + folder)) for folder in classes_folders]\n",
    "img_transform = dataset.__dict__['transform']\n",
    "\n",
    "i=0\n",
    "j=0\n",
    "\n",
    "image_path = dataset_path + '/' + classes_folders[i] + '/' + classes_folders_images[i][j]\n",
    "\n",
    "image = Image.open(image_path)\n",
    "image = image.convert(\"RGB\")\n",
    "image = img_transform(image)\n",
    "image = image.unsqueeze(0).to(device)\n",
    "\n",
    "print(image.shape)\n",
    "\n",
    "quant_t, quant_b, diff, _, indx_b = model.encode(image)\n",
    "\n",
    "print(quant_t.shape)\n",
    "print(quant_t.cpu().detach().numpy().flatten().shape)\n",
    "print(quant_b.shape)\n",
    "print(quant_b.cpu().detach().numpy().flatten().shape)"
   ]
  },
  {
   "cell_type": "code",
   "execution_count": null,
   "metadata": {
    "collapsed": false,
    "pycharm": {
     "name": "#%%\n"
    }
   },
   "outputs": [],
   "source": [
    "embs_t, embs_b = Embeddings.get_vqvae2_embs(model, dataset)"
   ]
  },
  {
   "cell_type": "code",
   "execution_count": null,
   "metadata": {
    "collapsed": false,
    "pycharm": {
     "name": "#%%\n"
    }
   },
   "outputs": [],
   "source": [
    "np.save('data/embs/embs_t_9x_512_360_emb_dim_2_n_embed_8192_left_model_left.npy', embs_t)\n",
    "np.save('data/embs/embs_b_9x_512_360_emb_dim_2_n_embed_8192_left_model_left.npy', embs_b)"
   ]
  },
  {
   "cell_type": "code",
   "execution_count": null,
   "metadata": {
    "collapsed": false
   },
   "outputs": [],
   "source": [
    "embs_t=np.load('data/embs/embs_t_9x_512_360_emb_dim_8_n_embed_8192_left_model_left.npy')\n",
    "embs_b=np.load('data/embs/embs_b_9x_512_360_emb_dim_8_n_embed_8192_left_model_left.npy')"
   ]
  },
  {
   "cell_type": "code",
   "execution_count": null,
   "metadata": {
    "collapsed": false
   },
   "outputs": [],
   "source": [
    "print(embs_t.shape)\n",
    "print(embs_b.shape)"
   ]
  },
  {
   "cell_type": "code",
   "execution_count": null,
   "metadata": {
    "collapsed": false
   },
   "outputs": [],
   "source": [
    "U, S, Vh = np.linalg.svd(embs_t, full_matrices=True)\n",
    "# U, S, Vh = sp.linalg.svd(embs_t, full_matrices=True)"
   ]
  },
  {
   "cell_type": "code",
   "execution_count": null,
   "metadata": {
    "collapsed": false
   },
   "outputs": [],
   "source": [
    "U[0,:]"
   ]
  },
  {
   "cell_type": "code",
   "execution_count": null,
   "metadata": {
    "collapsed": false
   },
   "outputs": [],
   "source": [
    "plt.hist(S,bins=1000, log=False)\n",
    "plt.xlim(-10,200)\n",
    "plt.show()"
   ]
  },
  {
   "cell_type": "code",
   "execution_count": null,
   "metadata": {
    "collapsed": false,
    "is_executing": true
   },
   "outputs": [],
   "source": [
    "a=S[np.where(S!=0)]\n",
    "# a=np.log(a)\n",
    "# plt.hist(a, bins=20)\n",
    "plt.plot(a)\n",
    "plt.show()"
   ]
  },
  {
   "cell_type": "code",
   "execution_count": null,
   "metadata": {
    "collapsed": false
   },
   "outputs": [],
   "source": [
    "np.random.seed(51)\n",
    "umap_2d = UMAP(random_state=seed,n_components=2)\n",
    "\n",
    "embs_b=np.array(embs_b)\n",
    "embs_t=np.array(embs_t)\n",
    "\n",
    "umaped_vct_2d_t = umap_2d.fit_transform(embs_t)\n",
    "umaped_vct_2d_b = umap_2d.fit_transform(embs_b)"
   ]
  },
  {
   "cell_type": "code",
   "execution_count": null,
   "metadata": {
    "collapsed": false
   },
   "outputs": [],
   "source": [
    "embs_t"
   ]
  },
  {
   "cell_type": "code",
   "execution_count": null,
   "metadata": {
    "collapsed": false,
    "pycharm": {
     "name": "#%%\n"
    }
   },
   "outputs": [],
   "source": [
    "seed=51\n",
    "\n",
    "\n",
    "types_dict = {'Ultra_Co11': 'средние зерна',\n",
    "              'Ultra_Co25': 'мелкие зерна',\n",
    "              'Ultra_Co8': 'средне-мелкие зерна',\n",
    "              'Ultra_Co6_2': 'крупные зерна',\n",
    "              'Ultra_Co15': 'средне-мелкие зерна'}\n",
    "\n",
    "classes = dataset.__dict__['classes']\n",
    "\n",
    "legend = [cls + '\\n' + types_dict[cls] for cls in classes]\n",
    "\n",
    "# name_1 = f'embs_space_seed={seed}_t_512_4x_360_minmax_emb_dim_1_n_embed_8192_right_sub_left_unique_model'\n",
    "name_1 = f'embs_space_seed={seed}_t_512_4x_360_emb_dim_1_n_embed_8192_right_sub_left_0.5_trunc_model_left' \n",
    "# name_2 = f'embs_space_seed={seed}_b_512_4x_360_minmax_emb_dim_1_n_embed_8192_right_sub_left_unique_model'\n",
    "name_2 = f'embs_space_seed={seed}_b_512_4x_360_emb_dim_1_n_embed_8192_right_sub_left_0.5_trunc_model_left'\n",
    "r_shape = (len(classes), -1, 2)\n",
    "\n",
    "# save=True\n",
    "save=False\n",
    "\n",
    "Embeddings.plot_2d_scatter_embs(embs_scatter=umaped_vct_2d_t, legend=legend, r_shape=r_shape, save=save, name=name_1, N=10, M=10)\n",
    "Embeddings.plot_2d_scatter_embs(embs_scatter=umaped_vct_2d_b, legend=legend, r_shape=r_shape, save=save, name=name_2, N=10, M=10)"
   ]
  },
  {
   "cell_type": "code",
   "execution_count": null,
   "metadata": {
    "collapsed": false
   },
   "outputs": [],
   "source": [
    "embs_t=np.load('data/embs/embs_t_512_4x_360_emb_dim_1_n_embed_8192_right_sub_left_0.5_trunc_model_left.npy')\n",
    "embs_b=np.load('data/embs/embs_b_512_4x_360_emb_dim_1_n_embed_8192_right_sub_left_0.5_trunc_model_left.npy')"
   ]
  },
  {
   "cell_type": "code",
   "execution_count": null,
   "metadata": {
    "collapsed": false
   },
   "outputs": [],
   "source": [
    "embs_b.shape"
   ]
  },
  {
   "cell_type": "code",
   "execution_count": null,
   "metadata": {
    "collapsed": false
   },
   "outputs": [],
   "source": [
    "embs_t.shape"
   ]
  },
  {
   "cell_type": "code",
   "execution_count": null,
   "metadata": {
    "collapsed": false
   },
   "outputs": [],
   "source": [
    "seed = 80\n",
    "np.random.seed(seed)\n",
    "embs,_=train_test_split(embs_t,test_size=0.4311)"
   ]
  },
  {
   "cell_type": "code",
   "execution_count": null,
   "metadata": {
    "collapsed": false
   },
   "outputs": [],
   "source": [
    "embs.shape"
   ]
  },
  {
   "cell_type": "code",
   "execution_count": null,
   "metadata": {
    "collapsed": false
   },
   "outputs": [],
   "source": [
    "eigenvalues, eigenvectors=np.linalg.eig(embs)\n",
    "\n",
    "eigenvalues_tmp=[]\n",
    "eigenvectors_tmp=[]\n",
    "\n",
    "for i,value in tqdm(enumerate(eigenvalues)):\n",
    "    if value.real<5:\n",
    "        eigenvalues_tmp.append(value)\n",
    "        eigenvectors_tmp.append(eigenvectors[i])\n",
    "\n",
    "eigenvalues=np.array(eigenvalues_tmp)\n",
    "eigenvectors=np.array(eigenvectors_tmp)"
   ]
  },
  {
   "cell_type": "code",
   "execution_count": null,
   "metadata": {
    "collapsed": false
   },
   "outputs": [],
   "source": [
    "eigenvalues_with_index=np.concatenate([eigenvalues.reshape((-1,1)), np.arange(len(eigenvalues)).reshape((-1,1))],axis=1)"
   ]
  },
  {
   "cell_type": "code",
   "execution_count": null,
   "metadata": {
    "collapsed": false
   },
   "outputs": [],
   "source": [
    "# points=[ [0,0], [0,-2.7], [0,2.7], [2.7,0], [-2.7,0], [1.8,1.8],[-1.8,-1.8],[-1.8,1.8], [1.8,-1.8] ]\n",
    "points=[ [0,0], [0,-2.7], [0,2.7], [2.7,0], [-2.7,0] ]\n",
    "points_dict= {0:0,1:0,2:0, 3:0,4:0,5:0,6:0,7:0, 8:0}\n",
    "eps=0.2\n",
    "umap_2d = UMAP(random_state=seed,n_components=2)\n",
    "\n",
    "n_points=10\n",
    "# color = list(np.random.choice(range(256), size=len()))\n",
    "\n",
    "np.random.shuffle(eigenvalues_with_index, )\n",
    "\n",
    "edge_values=[]\n",
    "\n",
    "for i, point in enumerate(points):\n",
    "    for value in eigenvalues_with_index:\n",
    "        dists=[]\n",
    "        if abs(value[0].real-point[0])<eps and abs(value[0].imag-point[1])<eps and points_dict[i]<n_points:\n",
    "            edge_values.append(value)\n",
    "            points_dict[i]+=1\n",
    "\n",
    "edge_values=np.array(edge_values)\n",
    "\n",
    "vectors=eigenvectors[edge_values[:,1].real.astype(np.int32)]\n",
    "vectors_2d_imag = umap_2d.fit_transform(vectors.imag)\n",
    "\n",
    "colors=[]\n",
    "c=['red', 'blue', 'green', 'yellow', 'cyan', 'peru', 'teal', 'greenyellow', 'purple', 'deeppink']\n",
    "\n",
    "for i,point in enumerate(points):\n",
    "    colors.extend([c[i]]*n_points)\n",
    "\n",
    "plt.scatter(edge_values[:,0].real,edge_values[:,0].imag, c=colors)"
   ]
  },
  {
   "cell_type": "code",
   "execution_count": null,
   "metadata": {
    "collapsed": false
   },
   "outputs": [],
   "source": [
    "title='embs_t_512_4x_360_emb_dim_1_n_embed_8192_left_sub_right_0.5_trunc_model_left'\n",
    "x_value=eigenvalues.real\n",
    "y_value=eigenvalues.imag\n",
    "\n",
    "heatmap, xedges, yedges = np.histogram2d(x_value, y_value, bins=100)\n",
    "heatmap=heatmap.T\n",
    "extent = [xedges[0], xedges[-1], yedges[0], yedges[-1]]\n",
    "\n",
    "heatmap = gaussian_filter(heatmap, sigma=1)\n",
    "\n",
    "heatmap/=np.sum(heatmap)\n",
    "\n",
    "np.random.seed(51)\n",
    "umap_2d = UMAP(random_state=seed,n_components=2)\n",
    "\n",
    "vectors=eigenvectors[edge_values[:,1].real.astype(np.int32)]\n",
    "vectors_2d_real = umap_2d.fit_transform(vectors.real)\n",
    "vectors_2d_imag = umap_2d.fit_transform(vectors.imag)\n",
    "\n",
    "extent=[-3, 3, -3, 3]\n",
    "fig,axes=plt.subplots(2,2, figsize=(10,10))\n",
    "axes[0,0].scatter(x_value,y_value,alpha=0.2)\n",
    "axes[0,0].scatter(edge_values[:,0].real,edge_values[:,0].imag, c=colors)\n",
    "axes[0,0].set_title('Eigen values')\n",
    "axes[0,0].set_xlabel('Real')\n",
    "axes[0,0].set_ylabel('Imag')\n",
    "\n",
    "fig.subplots_adjust(wspace=0.1)\n",
    "# heatmap_ax=axes[0,1].imshow(heatmap, extent=extent, origin='lower', cmap=plt.cm.jet)\n",
    "heatmap_ax=axes[0,1].imshow(heatmap, extent=extent, origin='lower', cmap=plt.cm.jet, interpolation='nearest')\n",
    "axes[0,1].set_title('Eigen values heatmap')\n",
    "axes[0,1].set_xlabel('Real')\n",
    "axes[0,1].set_ylabel('Imag')\n",
    "\n",
    "cax = fig.add_axes([0.9, 0.53, 0.02, 0.35])\n",
    "cb=plt.colorbar(heatmap_ax,ax=axes[0,1], orientation='vertical',cax=cax)\n",
    "\n",
    "axes[1,0].scatter(vectors_2d_real[:, 0], vectors_2d_real[:, 1],c=colors)\n",
    "axes[1,0].set_title('Eigen vectors Real')\n",
    "\n",
    "axes[1,1].scatter(vectors_2d_imag[:, 0], vectors_2d_imag[:, 1],c=colors)\n",
    "axes[1,1].set_title('Eigen vectors Imag')\n",
    "\n",
    "plt.savefig('eig_5.png')\n",
    "plt.show()"
   ]
  },
  {
   "cell_type": "code",
   "execution_count": null,
   "metadata": {
    "collapsed": false
   },
   "outputs": [],
   "source": [
    "# https://stackoverflow.com/questions/2369492/generate-a-heatmap-using-a-scatter-data-set\n",
    "\n",
    "x=eigenvalues.real\n",
    "y=eigenvalues.imag\n",
    "\n",
    "heatmap, xedges, yedges = np.histogram2d(x, y, bins=100)\n",
    "heatmap=heatmap.T\n",
    "extent = [xedges[0], xedges[-1], yedges[0], yedges[-1]]\n",
    "\n",
    "heatmap = gaussian_filter(heatmap, sigma=5)\n",
    "\n",
    "plt.clf()\n",
    "plt.imshow(heatmap, extent=extent, origin='lower', interpolation='sinc',cmap=plt.cm.jet,)\n",
    "plt.show()"
   ]
  },
  {
   "cell_type": "markdown",
   "metadata": {
    "collapsed": false,
    "pycharm": {
     "name": "#%% md\n"
    }
   },
   "source": [
    "# Ошибки"
   ]
  },
  {
   "cell_type": "code",
   "execution_count": null,
   "metadata": {
    "collapsed": false,
    "pycharm": {
     "name": "#%%\n"
    }
   },
   "outputs": [],
   "source": [
    "mse_losses = []\n",
    "ssim_losses = []\n",
    "\n",
    "visual_loader = DataLoader(\n",
    "    dataset, batch_size=1, num_workers=2\n",
    ")\n",
    "\n",
    "for i, (img, label) in enumerate(visual_loader):\n",
    "    model.zero_grad()\n",
    "    img = img.to(device)\n",
    "\n",
    "    out, latent_loss = model(img)\n",
    "    predicted_image = np.transpose(out.cpu().detach().numpy()[0])\n",
    "    original_image = np.transpose(img.cpu().detach().numpy()[0])\n",
    "\n",
    "    mse_losses.append(metrics.mean_squared_error(original_image, predicted_image))\n",
    "    ssim_losses.append(metrics.structural_similarity(original_image, predicted_image, multichannel=True))\n",
    "\n",
    "mse_losses = np.array(mse_losses)\n",
    "ssim_losses = np.array(ssim_losses)"
   ]
  },
  {
   "cell_type": "code",
   "execution_count": null,
   "metadata": {
    "collapsed": false,
    "pycharm": {
     "name": "#%%\n"
    }
   },
   "outputs": [],
   "source": [
    "df_mse = pd.DataFrame()\n",
    "df_ssim = pd.DataFrame()\n"
   ]
  },
  {
   "cell_type": "code",
   "execution_count": null,
   "metadata": {
    "collapsed": false,
    "pycharm": {
     "name": "#%%\n"
    }
   },
   "outputs": [],
   "source": [
    "# fig, (ax1, ax2) = plt.subplots(1, 2, figsize=(30, 15))\n",
    "\n",
    "names = ['Ultra_Co8\\nсредние зерна', 'Ultra_Co11\\nмелкие зерна', 'Ultra_Co6_2\\nмелкие зерна',\n",
    "         'Ultra_Co15\\nкрупные зерна', 'Ultra_Co25\\nсредне-мелкие зерна']\n",
    "\n",
    "colors = ['b', 'g', 'y', 'm', 'c']\n",
    "markers = ['8', 'v', 's', 'd', '*', ]\n",
    "\n",
    "f_vects = []\n",
    "\n",
    "cnt = Counter(np.array(dataset.samples)[:, 1])\n",
    "\n",
    "for i in cnt.keys():\n",
    "    emb_number = cnt[i]\n",
    "    key = int(i)\n",
    "\n",
    "    start = 0\n",
    "    for val in range(int(i)):\n",
    "        start += cnt[str(val)]\n",
    "\n",
    "    end = start + emb_number\n",
    "\n",
    "    mse_y = mse_losses[start:end]\n",
    "    ssim_y = ssim_losses[start:end]\n",
    "\n",
    "    df_mse[names[key]] = pd.Series(mse_y)\n",
    "    df_ssim[names[key]] = pd.Series(ssim_y)\n",
    "\n",
    "plt.rcParams['font.size'] = '20'\n",
    "\n",
    "# plt.ylabel('MSE loss', fontsize=20)\n",
    "name = 'vq-vae-2'\n",
    "# plt.savefig(f'mse_ssim_losses_{name}_512.png')\n",
    "\n",
    "# plt.show()"
   ]
  },
  {
   "cell_type": "code",
   "execution_count": null,
   "metadata": {
    "collapsed": false,
    "pycharm": {
     "name": "#%%\n"
    }
   },
   "outputs": [],
   "source": [
    "plt.rcParams['font.size'] = '15'\n",
    "name = 'vq-vae-2'\n",
    "\n",
    "fig, (ax1, ax2) = plt.subplots(1, 2, figsize=(25, 12))\n",
    "# plt.figure(figsize=(10,10))\n",
    "df_ssim.boxplot(ax=ax2)\n",
    "df_mse.boxplot(ax=ax1)\n",
    "\n",
    "ax1.set_ylabel('MSE loss', fontsize=20)\n",
    "ax2.set_ylabel('SSIM similarity', fontsize=20)\n",
    "\n",
    "plt.savefig(f'mse_ssim_losses_{name}_512_boxplot.png')\n",
    "\n",
    "plt.show()"
   ]
  },
  {
   "cell_type": "code",
   "execution_count": null,
   "metadata": {
    "collapsed": false,
    "pycharm": {
     "name": "#%%\n"
    }
   },
   "outputs": [],
   "source": [
    "fig, (ax1, ax2) = plt.subplots(1, 2, figsize=(30, 15))\n",
    "\n",
    "names = ['Ultra_Co8\\nсредние зерна', 'Ultra_Co11\\nмелкие зерна', 'Ultra_Co6_2\\nмелкие зерна',\n",
    "         'Ultra_Co15\\nкрупные зерна', 'Ultra_Co25\\nсредне-мелкие зерна']\n",
    "\n",
    "colors = ['b', 'g', 'y', 'm', 'c']\n",
    "markers = ['8', 'v', 's', 'd', '*', ]\n",
    "\n",
    "f_vects = []\n",
    "\n",
    "cnt = Counter(np.array(dataset.samples)[:, 1])\n",
    "\n",
    "for i in cnt.keys():\n",
    "    emb_number = cnt[i]\n",
    "    key = int(i)\n",
    "\n",
    "    start = 0\n",
    "    for val in range(int(i)):\n",
    "        start += cnt[str(val)]\n",
    "\n",
    "    end = start + emb_number\n",
    "\n",
    "    x = np.arange(mse_losses.shape[0])[start:end]\n",
    "    mse_y = mse_losses[start:end]\n",
    "    ssim_y = ssim_losses[start:end]\n",
    "\n",
    "    # ax1.plot(x, mse_y)\n",
    "    ax1.scatter(x, mse_y)\n",
    "\n",
    "    # ax2.plot(x, ssim_y)\n",
    "    ax2.scatter(x, ssim_y)\n",
    "\n",
    "plt.rcParams['font.size'] = '20'\n",
    "\n",
    "ax1.legend(names, fontsize=15)\n",
    "ax1.set_title('MSE image losses', fontsize=20)\n",
    "ax1.set_xlabel('image number', fontsize=20)\n",
    "ax1.set_ylabel('MSE loss', fontsize=20)\n",
    "\n",
    "ax2.legend(names, fontsize=15)\n",
    "ax2.set_title('Structural image similarity', fontsize=20)\n",
    "ax2.set_xlabel('image number', fontsize=20)\n",
    "ax2.set_ylabel('SSIM similarity', fontsize=20)\n",
    "\n",
    "name = 'vq-vae-2'\n",
    "plt.savefig(f'mse_ssim_losses_{name}_512.png')\n",
    "\n",
    "plt.show()"
   ]
  },
  {
   "cell_type": "code",
   "execution_count": null,
   "metadata": {
    "collapsed": false,
    "pycharm": {
     "name": "#%%\n"
    }
   },
   "outputs": [],
   "source": [
    "def get_emb_distr(f_vects, projection_axis, step, eps):\n",
    "    \"\"\"\n",
    "    :param step:\n",
    "    :param f_vects: ndarray shape (classes_num,N,2)\n",
    "    :param projection_axis:\n",
    "    :param eps:\n",
    "    :return:\n",
    "    \"\"\"\n",
    "\n",
    "    axis_start = f_vects[0, :, projection_axis].min()\n",
    "    axis_end = f_vects[0, :, projection_axis].max()\n",
    "\n",
    "    for vects in f_vects:\n",
    "        min_val = vects[:, projection_axis].min()\n",
    "        max_val = vects[:, projection_axis].max()\n",
    "\n",
    "        if min_val < axis_start:\n",
    "            axis_start = min_val\n",
    "\n",
    "        if max_val > axis_end:\n",
    "            axis_end = max_val\n",
    "\n",
    "    axis_step = step * (axis_end - axis_start)\n",
    "    axis_eps = eps * (axis_end - axis_start)\n",
    "    axis_vals = np.arange(axis_start, axis_end, axis_step)\n",
    "\n",
    "    points_distr = []\n",
    "\n",
    "    for i, vects in enumerate(f_vects):\n",
    "        points_distr.append([])\n",
    "        for axis_val in axis_vals:\n",
    "            counter = 0\n",
    "            for point in vects[:, projection_axis]:\n",
    "                if abs(point - axis_val) <= axis_eps:\n",
    "                    counter += 1\n",
    "            points_distr[i].append(counter)\n",
    "\n",
    "    for i, distr in enumerate(points_distr):\n",
    "        points_distr[i] = np.array(points_distr[i]) / sum(distr)\n",
    "\n",
    "    return axis_vals, np.array(points_distr), axis_step, axis_eps"
   ]
  },
  {
   "cell_type": "code",
   "execution_count": null,
   "metadata": {
    "collapsed": false,
    "pycharm": {
     "name": "#%%\n"
    }
   },
   "outputs": [],
   "source": [
    "names = ['Ultra_Co8\\nсредние зерна', 'Ultra_Co11\\nмелкие зерна', 'Ultra_Co6_2\\nмелкие зерна',\n",
    "         'Ultra_Co15\\nкрупные зерна', 'Ultra_Co25\\nсредне-мелкие зерна']\n",
    "\n",
    "colors = ['b', 'g', 'y', 'm', 'c']\n",
    "markers = ['8', 'v', 's', 'd', '*', ]\n",
    "\n",
    "f, (ax1, ax2) = plt.subplots(2, 1, figsize=(20, 20))\n",
    "\n",
    "title = 'VQ-VAE-2 embs projections'\n",
    "\n",
    "ax1.set_title(f'{title}', fontsize=20)\n",
    "ax1.set_xlabel('y val', fontsize=20)\n",
    "ax1.set_ylabel('norm(count)', fontsize=20)\n",
    "\n",
    "ax2.set_title(f'{title}', fontsize=20)\n",
    "ax2.set_xlabel('x val', fontsize=20)\n",
    "ax2.set_ylabel('norm(count)', fontsize=20)\n",
    "\n",
    "step = 0.05\n",
    "size = 4\n",
    "# eps=step/2\n",
    "eps = 0.2\n",
    "projection_axis = 1\n",
    "\n",
    "f_vects = umaped_vct_2d_b.reshape((5, 360, 2))\n",
    "\n",
    "x_axis_vals, x_points_distr, x_step, x_eps = get_emb_distr(f_vects, projection_axis=0, step=step, eps=eps)\n",
    "y_axis_vals, y_points_distr, y_step, y_eps = get_emb_distr(f_vects, projection_axis=1, step=step, eps=eps)\n",
    "\n",
    "for i in range(len(x_points_distr)):\n",
    "    ax1.plot(y_axis_vals, y_points_distr[i], color=colors[i])\n",
    "    ax2.plot(x_axis_vals, x_points_distr[i], color=colors[i])\n",
    "\n",
    "for i in range(len(x_points_distr)):\n",
    "    # y projection\n",
    "    ax1.scatter(y_axis_vals, y_points_distr[i], edgecolor=colors[i], s=size, marker=markers[i])\n",
    "\n",
    "    # x prjection\n",
    "    ax2.scatter(x_axis_vals, x_points_distr[i], edgecolor=colors[i], s=size, marker=markers[i])\n",
    "\n",
    "ax1.legend(names + [\n",
    "    f'шаг={round(y_step, 2)}, доля от длины оси={int(step * 100)}%\\neps={round(y_eps, 2)}, доля от длины оси={int(eps * 100)}%'],\n",
    "           fontsize=15)\n",
    "ax2.legend(names + [\n",
    "    f'шаг={round(x_step, 2)}, доля от длины оси={int(step * 100)}%\\neps={round(x_eps, 2)}, доля от длины оси={int(eps * 100)}%'],\n",
    "           fontsize=15)\n",
    "\n",
    "plt.savefig(f'embs_projection_vq_vae_2_step={step}_eps={eps}.png')\n",
    "plt.show()"
   ]
  }
 ],
 "metadata": {
  "kernelspec": {
   "display_name": "torch",
   "language": "python",
   "name": "torch"
  },
  "language_info": {
   "codemirror_mode": {
    "name": "ipython",
    "version": 3
   },
   "file_extension": ".py",
   "mimetype": "text/x-python",
   "name": "python",
   "nbconvert_exporter": "python",
   "pygments_lexer": "ipython3",
   "version": "3.10.12"
  }
 },
 "nbformat": 4,
 "nbformat_minor": 4
}
